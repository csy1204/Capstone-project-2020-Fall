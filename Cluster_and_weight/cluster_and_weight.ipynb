{
 "cells": [
  {
   "cell_type": "code",
   "execution_count": 13,
   "metadata": {},
   "outputs": [],
   "source": [
    "from queue import PriorityQueue\n",
    "import math\n",
    "import pickle\n",
    "import numpy as np"
   ]
  },
  {
   "cell_type": "code",
   "execution_count": 14,
   "metadata": {},
   "outputs": [],
   "source": [
    "import pickle\n",
    "def get_data_from_pickle(x):\n",
    "    with open(x, 'rb') as f:\n",
    "        result = pickle.load(f)\n",
    "    return result"
   ]
  },
  {
   "cell_type": "code",
   "execution_count": 15,
   "metadata": {},
   "outputs": [],
   "source": [
    "centroid_vectors = get_data_from_pickle(\"kmeans15.cluster_centers_.pickle\")\n",
    "tag_dict = get_data_from_pickle(\"tag_dict.pickle\")\n",
    "tag_numbering = get_data_from_pickle(\"tag_numbering.pickle\")\n",
    "tag_vectors = get_data_from_pickle(\"tag_vectors\")\n",
    "unique_tag_list = get_data_from_pickle(\"unique_tag_list.pickle\")"
   ]
  },
  {
   "cell_type": "code",
   "execution_count": 16,
   "metadata": {},
   "outputs": [],
   "source": [
    "from queue import PriorityQueue\n",
    "\n",
    "def distance_tag_to_centroid(tag_idx,cluster_idx): # tag와 cluster의 중심까지의 거리\n",
    "    return np.sum((tag_vectors[tag_idx]-centroid_vectors[cluster_idx])**2)\n",
    "\n",
    "def nearest_clusters(tag_idx):    # tag와 가장 가까운 클러스터 1개 또는 2개 출력하는 함수\n",
    "    que = PriorityQueue(maxsize=15)\n",
    "    near_list_idx = []\n",
    "    near_clusters_dict = dict()\n",
    "    for i in range(15):    # 가장 거리가 짧은 클러스터 순서대로 정렬\n",
    "        que.put([distance_tag_to_centroid(tag_idx,i),i])\n",
    "    for i in range(2):     # 거리가 짧은 2개만 추출\n",
    "        near_list_idx.append(que.get())\n",
    "    \n",
    "    if(2*near_list_idx[0][0]<near_list_idx[1][0]):    # a(첫번째 클러스터와 태그의 거리), b(두번째 클러스터와 태그의 거리)라고 할 때, a*2 < b 이면 두번째 클러스터 제거(즉 거리차이가 많이나면 제거)\n",
    "        del near_list_idx[1]\n",
    "        \n",
    "    if(len(near_list_idx)==1):\n",
    "        near_clusters_dict[near_list_idx[0][1]] = near_list_idx[0][0]    \n",
    "    else:\n",
    "        for i in range(2):\n",
    "            near_clusters_dict[near_list_idx[i][1]] = near_list_idx[i][0]        \n",
    "    \n",
    "    return near_clusters_dict"
   ]
  },
  {
   "cell_type": "code",
   "execution_count": 17,
   "metadata": {},
   "outputs": [],
   "source": [
    "import math\n",
    "\n",
    "def clusters_and_weight(tag_idx):     # 태그의 인덱스를 넣으면 원하는 결과가 출력 --> dict{cluster_index : weight}\n",
    "    ans_dict = dict()\n",
    "    near_cluster = nearest_clusters(tag_idx)\n",
    "    dict_keys = list(near_cluster.keys())\n",
    "    \n",
    "    if(len(dict_keys)==1):\n",
    "        ans_dict[dict_keys[0]] = 1.0\n",
    "    else:\n",
    "        a = 2/near_cluster[dict_keys[0]]\n",
    "        b = 1/near_cluster[dict_keys[1]]\n",
    "        \n",
    "        a_percentage = round(a/(a+b),2)\n",
    "        b_percentage = round(1-a_percentage,2)\n",
    "        \n",
    "        ans_dict[dict_keys[0]] = a_percentage\n",
    "        ans_dict[dict_keys[1]] = b_percentage     \n",
    "    return ans_dict"
   ]
  },
  {
   "cell_type": "code",
   "execution_count": 22,
   "metadata": {},
   "outputs": [
    {
     "data": {
      "text/plain": [
       "{7: 1.0}"
      ]
     },
     "execution_count": 22,
     "metadata": {},
     "output_type": "execute_result"
    }
   ],
   "source": [
    "clusters_and_weight(3)"
   ]
  },
  {
   "cell_type": "code",
   "execution_count": null,
   "metadata": {},
   "outputs": [],
   "source": []
  }
 ],
 "metadata": {
  "kernelspec": {
   "display_name": "Python 3",
   "language": "python",
   "name": "python3"
  },
  "language_info": {
   "codemirror_mode": {
    "name": "ipython",
    "version": 3
   },
   "file_extension": ".py",
   "mimetype": "text/x-python",
   "name": "python",
   "nbconvert_exporter": "python",
   "pygments_lexer": "ipython3",
   "version": "3.7.6"
  }
 },
 "nbformat": 4,
 "nbformat_minor": 4
}

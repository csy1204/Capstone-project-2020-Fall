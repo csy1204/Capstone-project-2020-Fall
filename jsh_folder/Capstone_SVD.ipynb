{
  "nbformat": 4,
  "nbformat_minor": 0,
  "metadata": {
    "colab": {
      "name": "Capstone_SVD.ipynb",
      "provenance": [],
      "collapsed_sections": [
        "B1sBEK15sqfe",
        "8r1Vt7RWKn0n",
        "1xrC94znZpvC",
        "R0gxmddjn86J"
      ]
    },
    "kernelspec": {
      "display_name": "Python 3",
      "name": "python3"
    }
  },
  "cells": [
    {
      "cell_type": "markdown",
      "metadata": {
        "id": "-i7zR7DQXT0q"
      },
      "source": [
        "# Tensorflow"
      ]
    },
    {
      "cell_type": "code",
      "metadata": {
        "id": "Lpv2r86HSwrn",
        "colab": {
          "base_uri": "https://localhost:8080/",
          "height": 89
        },
        "outputId": "2dafbca2-ce9e-4461-e0c5-bfbdad696b85"
      },
      "source": [
        "!pip install -q tensorflow-gpu==2.0.0-rc1\n",
        "import tensorflow as tf"
      ],
      "execution_count": null,
      "outputs": [
        {
          "output_type": "stream",
          "text": [
            "\u001b[K     |████████████████████████████████| 380.5MB 43kB/s \n",
            "\u001b[K     |████████████████████████████████| 51kB 6.2MB/s \n",
            "\u001b[K     |████████████████████████████████| 501kB 49.6MB/s \n",
            "\u001b[K     |████████████████████████████████| 4.3MB 47.5MB/s \n",
            "\u001b[?25h"
          ],
          "name": "stdout"
        }
      ]
    },
    {
      "cell_type": "markdown",
      "metadata": {
        "id": "xc3HTDYV9bsb"
      },
      "source": [
        "# 9주차 데이터 학습 모델 설계"
      ]
    },
    {
      "cell_type": "code",
      "metadata": {
        "id": "jTM104cV-ACA",
        "colab": {
          "base_uri": "https://localhost:8080/"
        },
        "outputId": "30eb8fd6-5d85-4607-942f-e06fbb13b613"
      },
      "source": [
        "from google.colab import drive\n",
        "drive.mount('/content/gdrive')"
      ],
      "execution_count": null,
      "outputs": [
        {
          "output_type": "stream",
          "text": [
            "Mounted at /content/gdrive\n"
          ],
          "name": "stdout"
        }
      ]
    },
    {
      "cell_type": "code",
      "metadata": {
        "id": "T1nS9D-79j3P"
      },
      "source": [
        "# import \n",
        "import os\n",
        "import pandas as pd \n",
        "import glob"
      ],
      "execution_count": null,
      "outputs": []
    },
    {
      "cell_type": "code",
      "metadata": {
        "id": "Ve4fBqc29xuc",
        "colab": {
          "base_uri": "https://localhost:8080/"
        },
        "outputId": "257f7bca-17aa-44bd-cbf6-ddcaf71ba54c"
      },
      "source": [
        "os.chdir('/content/gdrive/My Drive/Colab Notebooks/') # DataPath 설정 \n",
        "current_path = os.getcwd() # 현재 폴더 위치 \n",
        "train_path = current_path+ '/capstone_data/train' # 데이터 패스 설정 \n",
        "print(train_path)"
      ],
      "execution_count": null,
      "outputs": [
        {
          "output_type": "stream",
          "text": [
            "/content/gdrive/My Drive/Colab Notebooks/capstone_data/train\n"
          ],
          "name": "stdout"
        }
      ]
    },
    {
      "cell_type": "code",
      "metadata": {
        "id": "mbA2pTdH-Nuj"
      },
      "source": [
        "df = pd.read_json('./capstone_data/data_version_2.json')"
      ],
      "execution_count": null,
      "outputs": []
    },
    {
      "cell_type": "code",
      "metadata": {
        "id": "DaME5mav-Phz",
        "colab": {
          "base_uri": "https://localhost:8080/",
          "height": 589
        },
        "outputId": "510280df-0f0f-4094-a1c1-e8256e9faca8"
      },
      "source": [
        "df"
      ],
      "execution_count": null,
      "outputs": [
        {
          "output_type": "execute_result",
          "data": {
            "text/html": [
              "<div>\n",
              "<style scoped>\n",
              "    .dataframe tbody tr th:only-of-type {\n",
              "        vertical-align: middle;\n",
              "    }\n",
              "\n",
              "    .dataframe tbody tr th {\n",
              "        vertical-align: top;\n",
              "    }\n",
              "\n",
              "    .dataframe thead th {\n",
              "        text-align: right;\n",
              "    }\n",
              "</style>\n",
              "<table border=\"1\" class=\"dataframe\">\n",
              "  <thead>\n",
              "    <tr style=\"text-align: right;\">\n",
              "      <th></th>\n",
              "      <th>tags</th>\n",
              "      <th>id</th>\n",
              "      <th>plylst_title</th>\n",
              "      <th>songs</th>\n",
              "      <th>like_cnt</th>\n",
              "      <th>updt_date</th>\n",
              "      <th>len</th>\n",
              "      <th>tag_len</th>\n",
              "      <th>songs2</th>\n",
              "      <th>song2_len</th>\n",
              "    </tr>\n",
              "  </thead>\n",
              "  <tbody>\n",
              "    <tr>\n",
              "      <th>1</th>\n",
              "      <td>[까페, 잔잔한]</td>\n",
              "      <td>76951</td>\n",
              "      <td>편하게, 잔잔하게 들을 수 있는 곡.-</td>\n",
              "      <td>[83116, 276692, 166267, 186301, 354465, 256598...</td>\n",
              "      <td>17</td>\n",
              "      <td>2017-08-28 07:09:34.000</td>\n",
              "      <td>28</td>\n",
              "      <td>2</td>\n",
              "      <td>[83116, 276692, 166267, 354465, 256598, 666852...</td>\n",
              "      <td>25</td>\n",
              "    </tr>\n",
              "    <tr>\n",
              "      <th>2</th>\n",
              "      <td>[운동, 드라이브, Pop, 트로피컬하우스, 힐링, 기분전환, 2017, 팝, 트렌...</td>\n",
              "      <td>69252</td>\n",
              "      <td>2017 Pop Trend</td>\n",
              "      <td>[418694, 222305, 96545, 135950, 304687, 457451...</td>\n",
              "      <td>435</td>\n",
              "      <td>2017-09-15 15:59:26.000</td>\n",
              "      <td>30</td>\n",
              "      <td>10</td>\n",
              "      <td>[418694, 222305, 96545, 135950, 304687, 457451...</td>\n",
              "      <td>22</td>\n",
              "    </tr>\n",
              "    <tr>\n",
              "      <th>3</th>\n",
              "      <td>[잔잔한, 추억, 회상]</td>\n",
              "      <td>36557</td>\n",
              "      <td>멍청이.. 내맘도 몰라.</td>\n",
              "      <td>[496913, 632529, 501426, 515574, 411161, 10341...</td>\n",
              "      <td>5</td>\n",
              "      <td>2008-09-23 22:32:02.000</td>\n",
              "      <td>20</td>\n",
              "      <td>3</td>\n",
              "      <td>[632529, 501426, 515574, 411161, 103411, 17813...</td>\n",
              "      <td>17</td>\n",
              "    </tr>\n",
              "    <tr>\n",
              "      <th>5</th>\n",
              "      <td>[우울, 힐링, 힘내]</td>\n",
              "      <td>112060</td>\n",
              "      <td>지친 너를 위로해줄 제목편지 준비해봤어</td>\n",
              "      <td>[449808, 691770, 640657, 313395, 697100, 34090...</td>\n",
              "      <td>1</td>\n",
              "      <td>2018-01-04 22:49:29.000</td>\n",
              "      <td>21</td>\n",
              "      <td>3</td>\n",
              "      <td>[691770, 640657, 313395, 697100, 340905, 22169...</td>\n",
              "      <td>15</td>\n",
              "    </tr>\n",
              "    <tr>\n",
              "      <th>6</th>\n",
              "      <td>[비오는날]</td>\n",
              "      <td>75342</td>\n",
              "      <td>이렇게 비 내리는 날이면, 너도 내 생각 할까..</td>\n",
              "      <td>[379674, 164522, 33196, 281228, 640012, 117969...</td>\n",
              "      <td>17</td>\n",
              "      <td>2016-10-12 16:22:17.000</td>\n",
              "      <td>18</td>\n",
              "      <td>1</td>\n",
              "      <td>[164522, 33196, 640012, 117969, 75425, 627363,...</td>\n",
              "      <td>15</td>\n",
              "    </tr>\n",
              "    <tr>\n",
              "      <th>...</th>\n",
              "      <td>...</td>\n",
              "      <td>...</td>\n",
              "      <td>...</td>\n",
              "      <td>...</td>\n",
              "      <td>...</td>\n",
              "      <td>...</td>\n",
              "      <td>...</td>\n",
              "      <td>...</td>\n",
              "      <td>...</td>\n",
              "      <td>...</td>\n",
              "    </tr>\n",
              "    <tr>\n",
              "      <th>45430</th>\n",
              "      <td>[겨울, 설렘, 사랑]</td>\n",
              "      <td>133185</td>\n",
              "      <td>첫눈처럼 설레였던 그날♥</td>\n",
              "      <td>[334564, 221618, 504089, 321512, 476845, 11368...</td>\n",
              "      <td>154</td>\n",
              "      <td>2014-12-24 14:25:23.000</td>\n",
              "      <td>25</td>\n",
              "      <td>3</td>\n",
              "      <td>[334564, 221618, 476845, 113687, 211159, 51275...</td>\n",
              "      <td>21</td>\n",
              "    </tr>\n",
              "    <tr>\n",
              "      <th>45434</th>\n",
              "      <td>[팝]</td>\n",
              "      <td>33486</td>\n",
              "      <td>들을수록 걸크러쉬 물씬 느껴지는 음악리스트</td>\n",
              "      <td>[619719, 374517, 323561, 79157, 170970, 241952...</td>\n",
              "      <td>4</td>\n",
              "      <td>2017-03-18 00:07:08.000</td>\n",
              "      <td>29</td>\n",
              "      <td>1</td>\n",
              "      <td>[619719, 374517, 323561, 79157, 241952, 587512...</td>\n",
              "      <td>17</td>\n",
              "    </tr>\n",
              "    <tr>\n",
              "      <th>45435</th>\n",
              "      <td>[인디]</td>\n",
              "      <td>153220</td>\n",
              "      <td>오후의 어쿠스틱 vol.2</td>\n",
              "      <td>[627005, 253230, 643932, 22659, 316149, 247137...</td>\n",
              "      <td>39</td>\n",
              "      <td>2013-04-19 01:36:45.000</td>\n",
              "      <td>21</td>\n",
              "      <td>1</td>\n",
              "      <td>[627005, 253230, 643932, 22659, 316149, 247137...</td>\n",
              "      <td>20</td>\n",
              "    </tr>\n",
              "    <tr>\n",
              "      <th>45436</th>\n",
              "      <td>[여친]</td>\n",
              "      <td>79538</td>\n",
              "      <td>여자친구 명곡</td>\n",
              "      <td>[65053, 389127, 443914, 498028, 375431, 312296...</td>\n",
              "      <td>6</td>\n",
              "      <td>2018-03-09 14:24:37.000</td>\n",
              "      <td>23</td>\n",
              "      <td>1</td>\n",
              "      <td>[65053, 389127, 443914, 498028, 375431, 312296...</td>\n",
              "      <td>23</td>\n",
              "    </tr>\n",
              "    <tr>\n",
              "      <th>45437</th>\n",
              "      <td>[설렘, 사랑]</td>\n",
              "      <td>135687</td>\n",
              "      <td>남자고백노래</td>\n",
              "      <td>[287003, 408232, 625933, 152186, 543298, 22271...</td>\n",
              "      <td>14</td>\n",
              "      <td>2016-06-23 13:24:27.000</td>\n",
              "      <td>19</td>\n",
              "      <td>2</td>\n",
              "      <td>[287003, 408232, 625933, 543298, 222713, 10445...</td>\n",
              "      <td>15</td>\n",
              "    </tr>\n",
              "  </tbody>\n",
              "</table>\n",
              "<p>29354 rows × 10 columns</p>\n",
              "</div>"
            ],
            "text/plain": [
              "                                                    tags  ...  song2_len\n",
              "1                                              [까페, 잔잔한]  ...         25\n",
              "2      [운동, 드라이브, Pop, 트로피컬하우스, 힐링, 기분전환, 2017, 팝, 트렌...  ...         22\n",
              "3                                          [잔잔한, 추억, 회상]  ...         17\n",
              "5                                           [우울, 힐링, 힘내]  ...         15\n",
              "6                                                 [비오는날]  ...         15\n",
              "...                                                  ...  ...        ...\n",
              "45430                                       [겨울, 설렘, 사랑]  ...         21\n",
              "45434                                                [팝]  ...         17\n",
              "45435                                               [인디]  ...         20\n",
              "45436                                               [여친]  ...         23\n",
              "45437                                           [설렘, 사랑]  ...         15\n",
              "\n",
              "[29354 rows x 10 columns]"
            ]
          },
          "metadata": {
            "tags": []
          },
          "execution_count": 7
        }
      ]
    },
    {
      "cell_type": "code",
      "metadata": {
        "id": "kjuVT8ezBwkP",
        "colab": {
          "base_uri": "https://localhost:8080/"
        },
        "outputId": "4e7bc838-1c01-4f8b-967f-24e591b80d06"
      },
      "source": [
        "df.shape"
      ],
      "execution_count": null,
      "outputs": [
        {
          "output_type": "execute_result",
          "data": {
            "text/plain": [
              "(29354, 10)"
            ]
          },
          "metadata": {
            "tags": []
          },
          "execution_count": 5
        }
      ]
    },
    {
      "cell_type": "code",
      "metadata": {
        "id": "SgrUZBNKB1kG",
        "colab": {
          "base_uri": "https://localhost:8080/"
        },
        "outputId": "0aeb32e8-fb63-44dc-92db-23f5befed8a9"
      },
      "source": [
        "df.info()"
      ],
      "execution_count": null,
      "outputs": [
        {
          "output_type": "stream",
          "text": [
            "<class 'pandas.core.frame.DataFrame'>\n",
            "Int64Index: 29354 entries, 1 to 45437\n",
            "Data columns (total 10 columns):\n",
            " #   Column        Non-Null Count  Dtype \n",
            "---  ------        --------------  ----- \n",
            " 0   tags          29354 non-null  object\n",
            " 1   id            29354 non-null  int64 \n",
            " 2   plylst_title  29354 non-null  object\n",
            " 3   songs         29354 non-null  object\n",
            " 4   like_cnt      29354 non-null  int64 \n",
            " 5   updt_date     29354 non-null  object\n",
            " 6   len           29354 non-null  int64 \n",
            " 7   tag_len       29354 non-null  int64 \n",
            " 8   songs2        29354 non-null  object\n",
            " 9   song2_len     29354 non-null  int64 \n",
            "dtypes: int64(5), object(5)\n",
            "memory usage: 2.5+ MB\n"
          ],
          "name": "stdout"
        }
      ]
    },
    {
      "cell_type": "code",
      "metadata": {
        "id": "5_TXOXoQAKan",
        "colab": {
          "base_uri": "https://localhost:8080/",
          "height": 287
        },
        "outputId": "51e5429c-0ecc-44c8-bfb1-369161ae247e"
      },
      "source": [
        "df.tags.map(lambda x: len(x)).value_counts().plot.bar()"
      ],
      "execution_count": null,
      "outputs": [
        {
          "output_type": "execute_result",
          "data": {
            "text/plain": [
              "<matplotlib.axes._subplots.AxesSubplot at 0x7f29591a54a8>"
            ]
          },
          "metadata": {
            "tags": []
          },
          "execution_count": 7
        },
        {
          "output_type": "display_data",
          "data": {
            "image/png": "[encoded data removed]",
            "text/plain": [
              "<Figure size 432x288 with 1 Axes>"
            ]
          },
          "metadata": {
            "tags": [],
            "needs_background": "light"
          }
        }
      ]
    },
    {
      "cell_type": "code",
      "metadata": {
        "id": "hQd-EoBUG0tI",
        "colab": {
          "base_uri": "https://localhost:8080/"
        },
        "outputId": "b90dd253-7e12-434b-aac1-5049dcfbb75e"
      },
      "source": [
        "df['songs2'].unique"
      ],
      "execution_count": null,
      "outputs": [
        {
          "output_type": "execute_result",
          "data": {
            "text/plain": [
              "<bound method Series.unique of 1        [83116, 276692, 166267, 354465, 256598, 666852...\n",
              "2        [418694, 222305, 96545, 135950, 304687, 457451...\n",
              "3        [632529, 501426, 515574, 411161, 103411, 17813...\n",
              "5        [691770, 640657, 313395, 697100, 340905, 22169...\n",
              "6        [164522, 33196, 640012, 117969, 75425, 627363,...\n",
              "                               ...                        \n",
              "45430    [334564, 221618, 476845, 113687, 211159, 51275...\n",
              "45434    [619719, 374517, 323561, 79157, 241952, 587512...\n",
              "45435    [627005, 253230, 643932, 22659, 316149, 247137...\n",
              "45436    [65053, 389127, 443914, 498028, 375431, 312296...\n",
              "45437    [287003, 408232, 625933, 543298, 222713, 10445...\n",
              "Name: songs2, Length: 29354, dtype: object>"
            ]
          },
          "metadata": {
            "tags": []
          },
          "execution_count": 35
        }
      ]
    },
    {
      "cell_type": "code",
      "metadata": {
        "id": "_pmIfIGIBW8J"
      },
      "source": [
        "# 태그 개수 세기\n",
        "\n",
        "tag_cnt=set()\n",
        "for i in df['tags']:\n",
        "    for j in i:\n",
        "        tag_cnt.add(j)"
      ],
      "execution_count": null,
      "outputs": []
    },
    {
      "cell_type": "code",
      "metadata": {
        "id": "G5y6enJqE8nc",
        "colab": {
          "base_uri": "https://localhost:8080/"
        },
        "outputId": "6be28978-c429-4ed0-a62f-d9c239d0a912"
      },
      "source": [
        "type(tag_cnt)"
      ],
      "execution_count": null,
      "outputs": [
        {
          "output_type": "execute_result",
          "data": {
            "text/plain": [
              "set"
            ]
          },
          "metadata": {
            "tags": []
          },
          "execution_count": 13
        }
      ]
    },
    {
      "cell_type": "code",
      "metadata": {
        "id": "tkOJ8UrKFIoq"
      },
      "source": [
        "tag_cnt # 전체 태그"
      ],
      "execution_count": null,
      "outputs": []
    },
    {
      "cell_type": "code",
      "metadata": {
        "id": "5oCwJer7FkQl",
        "colab": {
          "base_uri": "https://localhost:8080/"
        },
        "outputId": "fa525e69-20f7-433b-8a66-7cdfd153e863"
      },
      "source": [
        "len(tag_cnt) # 전체 태그 개수"
      ],
      "execution_count": null,
      "outputs": [
        {
          "output_type": "execute_result",
          "data": {
            "text/plain": [
              "1382"
            ]
          },
          "metadata": {
            "tags": []
          },
          "execution_count": 17
        }
      ]
    },
    {
      "cell_type": "code",
      "metadata": {
        "id": "xzEpC9e2F9Za"
      },
      "source": [
        "# 음원 개수 세기\n",
        "\n",
        "song_cnt=set()\n",
        "for i in df['songs2']:\n",
        "    for j in i:\n",
        "        song_cnt.add(j)"
      ],
      "execution_count": null,
      "outputs": []
    },
    {
      "cell_type": "code",
      "metadata": {
        "id": "q8772MrCJSTt"
      },
      "source": [
        "song_cnt"
      ],
      "execution_count": null,
      "outputs": []
    },
    {
      "cell_type": "code",
      "metadata": {
        "id": "gXzJEtBtJcAj",
        "colab": {
          "base_uri": "https://localhost:8080/"
        },
        "outputId": "17c69abc-dc2e-42b0-9718-7a9e85268659"
      },
      "source": [
        "len(song_cnt)"
      ],
      "execution_count": null,
      "outputs": [
        {
          "output_type": "execute_result",
          "data": {
            "text/plain": [
              "69888"
            ]
          },
          "metadata": {
            "tags": []
          },
          "execution_count": 22
        }
      ]
    },
    {
      "cell_type": "markdown",
      "metadata": {
        "id": "vtqmqS6jVPDX"
      },
      "source": [
        "# SVD CF 다시 3"
      ]
    },
    {
      "cell_type": "code",
      "metadata": {
        "id": "Vgs0jllDZqu5"
      },
      "source": [
        "import os\n",
        "import pandas as pd \n",
        "import glob\n",
        "import numpy as np\n",
        "import matplotlib.pyplot as plt\n",
        "import math\n",
        "import scipy\n",
        "from sklearn.decomposition import TruncatedSVD\n",
        "from scipy.sparse.linalg import svds\n",
        "from sklearn.model_selection import train_test_split\n",
        "%matplotlib inline"
      ],
      "execution_count": null,
      "outputs": []
    },
    {
      "cell_type": "code",
      "metadata": {
        "id": "MxPQfJ_IVUW1"
      },
      "source": [
        "# pivot table 불러오기\n",
        "df_pivot = pd.read_pickle('./capstone_data/pivot_songs_tags.pickle')"
      ],
      "execution_count": null,
      "outputs": []
    },
    {
      "cell_type": "code",
      "metadata": {
        "id": "KKBSBOcTVsUp",
        "colab": {
          "base_uri": "https://localhost:8080/",
          "height": 300
        },
        "outputId": "da252359-70ea-4682-919a-e505925bb7c1"
      },
      "source": [
        "df_pivot.index.name = 'tags'\n",
        "df_pivot.columns.name = 'songs'\n",
        "df_pivot.head()"
      ],
      "execution_count": null,
      "outputs": [
        {
          "output_type": "execute_result",
          "data": {
            "text/html": [
              "<div>\n",
              "<style scoped>\n",
              "    .dataframe tbody tr th:only-of-type {\n",
              "        vertical-align: middle;\n",
              "    }\n",
              "\n",
              "    .dataframe tbody tr th {\n",
              "        vertical-align: top;\n",
              "    }\n",
              "\n",
              "    .dataframe thead th {\n",
              "        text-align: right;\n",
              "    }\n",
              "</style>\n",
              "<table border=\"1\" class=\"dataframe\">\n",
              "  <thead>\n",
              "    <tr style=\"text-align: right;\">\n",
              "      <th>songs</th>\n",
              "      <th>262145</th>\n",
              "      <th>393217</th>\n",
              "      <th>393222</th>\n",
              "      <th>10</th>\n",
              "      <th>524300</th>\n",
              "      <th>393232</th>\n",
              "      <th>524305</th>\n",
              "      <th>262164</th>\n",
              "      <th>262170</th>\n",
              "      <th>655386</th>\n",
              "      <th>262171</th>\n",
              "      <th>28</th>\n",
              "      <th>262174</th>\n",
              "      <th>30</th>\n",
              "      <th>32</th>\n",
              "      <th>655402</th>\n",
              "      <th>524331</th>\n",
              "      <th>393260</th>\n",
              "      <th>131117</th>\n",
              "      <th>262189</th>\n",
              "      <th>47</th>\n",
              "      <th>262192</th>\n",
              "      <th>655409</th>\n",
              "      <th>393266</th>\n",
              "      <th>131119</th>\n",
              "      <th>524340</th>\n",
              "      <th>54</th>\n",
              "      <th>655414</th>\n",
              "      <th>393273</th>\n",
              "      <th>262202</th>\n",
              "      <th>131131</th>\n",
              "      <th>393276</th>\n",
              "      <th>393277</th>\n",
              "      <th>62</th>\n",
              "      <th>262206</th>\n",
              "      <th>393280</th>\n",
              "      <th>524349</th>\n",
              "      <th>655426</th>\n",
              "      <th>67</th>\n",
              "      <th>524356</th>\n",
              "      <th>...</th>\n",
              "      <th>393139</th>\n",
              "      <th>524213</th>\n",
              "      <th>130998</th>\n",
              "      <th>524215</th>\n",
              "      <th>130997</th>\n",
              "      <th>131001</th>\n",
              "      <th>524217</th>\n",
              "      <th>262074</th>\n",
              "      <th>655292</th>\n",
              "      <th>524221</th>\n",
              "      <th>262081</th>\n",
              "      <th>524229</th>\n",
              "      <th>393158</th>\n",
              "      <th>131015</th>\n",
              "      <th>655305</th>\n",
              "      <th>524234</th>\n",
              "      <th>131019</th>\n",
              "      <th>393164</th>\n",
              "      <th>655308</th>\n",
              "      <th>262094</th>\n",
              "      <th>655309</th>\n",
              "      <th>262090</th>\n",
              "      <th>524245</th>\n",
              "      <th>655317</th>\n",
              "      <th>131030</th>\n",
              "      <th>393177</th>\n",
              "      <th>524251</th>\n",
              "      <th>393184</th>\n",
              "      <th>262114</th>\n",
              "      <th>262119</th>\n",
              "      <th>524265</th>\n",
              "      <th>131049</th>\n",
              "      <th>262125</th>\n",
              "      <th>262126</th>\n",
              "      <th>131057</th>\n",
              "      <th>262130</th>\n",
              "      <th>262138</th>\n",
              "      <th>262140</th>\n",
              "      <th>262142</th>\n",
              "      <th>131071</th>\n",
              "    </tr>\n",
              "    <tr>\n",
              "      <th>tags</th>\n",
              "      <th></th>\n",
              "      <th></th>\n",
              "      <th></th>\n",
              "      <th></th>\n",
              "      <th></th>\n",
              "      <th></th>\n",
              "      <th></th>\n",
              "      <th></th>\n",
              "      <th></th>\n",
              "      <th></th>\n",
              "      <th></th>\n",
              "      <th></th>\n",
              "      <th></th>\n",
              "      <th></th>\n",
              "      <th></th>\n",
              "      <th></th>\n",
              "      <th></th>\n",
              "      <th></th>\n",
              "      <th></th>\n",
              "      <th></th>\n",
              "      <th></th>\n",
              "      <th></th>\n",
              "      <th></th>\n",
              "      <th></th>\n",
              "      <th></th>\n",
              "      <th></th>\n",
              "      <th></th>\n",
              "      <th></th>\n",
              "      <th></th>\n",
              "      <th></th>\n",
              "      <th></th>\n",
              "      <th></th>\n",
              "      <th></th>\n",
              "      <th></th>\n",
              "      <th></th>\n",
              "      <th></th>\n",
              "      <th></th>\n",
              "      <th></th>\n",
              "      <th></th>\n",
              "      <th></th>\n",
              "      <th></th>\n",
              "      <th></th>\n",
              "      <th></th>\n",
              "      <th></th>\n",
              "      <th></th>\n",
              "      <th></th>\n",
              "      <th></th>\n",
              "      <th></th>\n",
              "      <th></th>\n",
              "      <th></th>\n",
              "      <th></th>\n",
              "      <th></th>\n",
              "      <th></th>\n",
              "      <th></th>\n",
              "      <th></th>\n",
              "      <th></th>\n",
              "      <th></th>\n",
              "      <th></th>\n",
              "      <th></th>\n",
              "      <th></th>\n",
              "      <th></th>\n",
              "      <th></th>\n",
              "      <th></th>\n",
              "      <th></th>\n",
              "      <th></th>\n",
              "      <th></th>\n",
              "      <th></th>\n",
              "      <th></th>\n",
              "      <th></th>\n",
              "      <th></th>\n",
              "      <th></th>\n",
              "      <th></th>\n",
              "      <th></th>\n",
              "      <th></th>\n",
              "      <th></th>\n",
              "      <th></th>\n",
              "      <th></th>\n",
              "      <th></th>\n",
              "      <th></th>\n",
              "      <th></th>\n",
              "      <th></th>\n",
              "    </tr>\n",
              "  </thead>\n",
              "  <tbody>\n",
              "    <tr>\n",
              "      <th>침대</th>\n",
              "      <td>0</td>\n",
              "      <td>0</td>\n",
              "      <td>0</td>\n",
              "      <td>0</td>\n",
              "      <td>0</td>\n",
              "      <td>0</td>\n",
              "      <td>0</td>\n",
              "      <td>0</td>\n",
              "      <td>0</td>\n",
              "      <td>0</td>\n",
              "      <td>0</td>\n",
              "      <td>0</td>\n",
              "      <td>0</td>\n",
              "      <td>0</td>\n",
              "      <td>0</td>\n",
              "      <td>0</td>\n",
              "      <td>0</td>\n",
              "      <td>0</td>\n",
              "      <td>0</td>\n",
              "      <td>0</td>\n",
              "      <td>0</td>\n",
              "      <td>0</td>\n",
              "      <td>0</td>\n",
              "      <td>0</td>\n",
              "      <td>0</td>\n",
              "      <td>0</td>\n",
              "      <td>0</td>\n",
              "      <td>0</td>\n",
              "      <td>0</td>\n",
              "      <td>0</td>\n",
              "      <td>0</td>\n",
              "      <td>0</td>\n",
              "      <td>0</td>\n",
              "      <td>0</td>\n",
              "      <td>0</td>\n",
              "      <td>0</td>\n",
              "      <td>0</td>\n",
              "      <td>0</td>\n",
              "      <td>0</td>\n",
              "      <td>0</td>\n",
              "      <td>...</td>\n",
              "      <td>0</td>\n",
              "      <td>0</td>\n",
              "      <td>0</td>\n",
              "      <td>0</td>\n",
              "      <td>0</td>\n",
              "      <td>0</td>\n",
              "      <td>0</td>\n",
              "      <td>0</td>\n",
              "      <td>1</td>\n",
              "      <td>0</td>\n",
              "      <td>0</td>\n",
              "      <td>0</td>\n",
              "      <td>0</td>\n",
              "      <td>0</td>\n",
              "      <td>0</td>\n",
              "      <td>0</td>\n",
              "      <td>0</td>\n",
              "      <td>0</td>\n",
              "      <td>0</td>\n",
              "      <td>0</td>\n",
              "      <td>0</td>\n",
              "      <td>0</td>\n",
              "      <td>0</td>\n",
              "      <td>0</td>\n",
              "      <td>0</td>\n",
              "      <td>0</td>\n",
              "      <td>0</td>\n",
              "      <td>0</td>\n",
              "      <td>0</td>\n",
              "      <td>0</td>\n",
              "      <td>0</td>\n",
              "      <td>0</td>\n",
              "      <td>0</td>\n",
              "      <td>0</td>\n",
              "      <td>0</td>\n",
              "      <td>0</td>\n",
              "      <td>0</td>\n",
              "      <td>0</td>\n",
              "      <td>0</td>\n",
              "      <td>0</td>\n",
              "    </tr>\n",
              "    <tr>\n",
              "      <th>로우파이</th>\n",
              "      <td>0</td>\n",
              "      <td>0</td>\n",
              "      <td>0</td>\n",
              "      <td>1</td>\n",
              "      <td>0</td>\n",
              "      <td>0</td>\n",
              "      <td>0</td>\n",
              "      <td>0</td>\n",
              "      <td>0</td>\n",
              "      <td>0</td>\n",
              "      <td>0</td>\n",
              "      <td>0</td>\n",
              "      <td>0</td>\n",
              "      <td>0</td>\n",
              "      <td>0</td>\n",
              "      <td>0</td>\n",
              "      <td>0</td>\n",
              "      <td>0</td>\n",
              "      <td>0</td>\n",
              "      <td>0</td>\n",
              "      <td>0</td>\n",
              "      <td>0</td>\n",
              "      <td>0</td>\n",
              "      <td>0</td>\n",
              "      <td>0</td>\n",
              "      <td>0</td>\n",
              "      <td>0</td>\n",
              "      <td>0</td>\n",
              "      <td>0</td>\n",
              "      <td>0</td>\n",
              "      <td>0</td>\n",
              "      <td>0</td>\n",
              "      <td>0</td>\n",
              "      <td>0</td>\n",
              "      <td>0</td>\n",
              "      <td>0</td>\n",
              "      <td>0</td>\n",
              "      <td>0</td>\n",
              "      <td>0</td>\n",
              "      <td>0</td>\n",
              "      <td>...</td>\n",
              "      <td>0</td>\n",
              "      <td>0</td>\n",
              "      <td>0</td>\n",
              "      <td>0</td>\n",
              "      <td>0</td>\n",
              "      <td>0</td>\n",
              "      <td>0</td>\n",
              "      <td>0</td>\n",
              "      <td>0</td>\n",
              "      <td>0</td>\n",
              "      <td>0</td>\n",
              "      <td>0</td>\n",
              "      <td>0</td>\n",
              "      <td>0</td>\n",
              "      <td>0</td>\n",
              "      <td>0</td>\n",
              "      <td>0</td>\n",
              "      <td>0</td>\n",
              "      <td>0</td>\n",
              "      <td>0</td>\n",
              "      <td>0</td>\n",
              "      <td>0</td>\n",
              "      <td>0</td>\n",
              "      <td>0</td>\n",
              "      <td>0</td>\n",
              "      <td>0</td>\n",
              "      <td>0</td>\n",
              "      <td>0</td>\n",
              "      <td>0</td>\n",
              "      <td>0</td>\n",
              "      <td>0</td>\n",
              "      <td>0</td>\n",
              "      <td>0</td>\n",
              "      <td>0</td>\n",
              "      <td>0</td>\n",
              "      <td>0</td>\n",
              "      <td>0</td>\n",
              "      <td>0</td>\n",
              "      <td>0</td>\n",
              "      <td>0</td>\n",
              "    </tr>\n",
              "    <tr>\n",
              "      <th>해외힙합</th>\n",
              "      <td>0</td>\n",
              "      <td>0</td>\n",
              "      <td>0</td>\n",
              "      <td>0</td>\n",
              "      <td>0</td>\n",
              "      <td>0</td>\n",
              "      <td>0</td>\n",
              "      <td>0</td>\n",
              "      <td>0</td>\n",
              "      <td>0</td>\n",
              "      <td>0</td>\n",
              "      <td>0</td>\n",
              "      <td>0</td>\n",
              "      <td>0</td>\n",
              "      <td>0</td>\n",
              "      <td>0</td>\n",
              "      <td>0</td>\n",
              "      <td>0</td>\n",
              "      <td>0</td>\n",
              "      <td>0</td>\n",
              "      <td>0</td>\n",
              "      <td>0</td>\n",
              "      <td>0</td>\n",
              "      <td>0</td>\n",
              "      <td>0</td>\n",
              "      <td>0</td>\n",
              "      <td>0</td>\n",
              "      <td>0</td>\n",
              "      <td>0</td>\n",
              "      <td>0</td>\n",
              "      <td>0</td>\n",
              "      <td>0</td>\n",
              "      <td>0</td>\n",
              "      <td>0</td>\n",
              "      <td>0</td>\n",
              "      <td>0</td>\n",
              "      <td>0</td>\n",
              "      <td>0</td>\n",
              "      <td>0</td>\n",
              "      <td>0</td>\n",
              "      <td>...</td>\n",
              "      <td>0</td>\n",
              "      <td>0</td>\n",
              "      <td>0</td>\n",
              "      <td>0</td>\n",
              "      <td>0</td>\n",
              "      <td>0</td>\n",
              "      <td>0</td>\n",
              "      <td>0</td>\n",
              "      <td>0</td>\n",
              "      <td>0</td>\n",
              "      <td>0</td>\n",
              "      <td>0</td>\n",
              "      <td>0</td>\n",
              "      <td>0</td>\n",
              "      <td>0</td>\n",
              "      <td>0</td>\n",
              "      <td>0</td>\n",
              "      <td>0</td>\n",
              "      <td>0</td>\n",
              "      <td>0</td>\n",
              "      <td>0</td>\n",
              "      <td>0</td>\n",
              "      <td>0</td>\n",
              "      <td>0</td>\n",
              "      <td>0</td>\n",
              "      <td>0</td>\n",
              "      <td>0</td>\n",
              "      <td>0</td>\n",
              "      <td>0</td>\n",
              "      <td>0</td>\n",
              "      <td>0</td>\n",
              "      <td>0</td>\n",
              "      <td>0</td>\n",
              "      <td>0</td>\n",
              "      <td>0</td>\n",
              "      <td>0</td>\n",
              "      <td>0</td>\n",
              "      <td>0</td>\n",
              "      <td>0</td>\n",
              "      <td>0</td>\n",
              "    </tr>\n",
              "    <tr>\n",
              "      <th>눈</th>\n",
              "      <td>0</td>\n",
              "      <td>0</td>\n",
              "      <td>0</td>\n",
              "      <td>0</td>\n",
              "      <td>0</td>\n",
              "      <td>0</td>\n",
              "      <td>0</td>\n",
              "      <td>1</td>\n",
              "      <td>0</td>\n",
              "      <td>0</td>\n",
              "      <td>0</td>\n",
              "      <td>0</td>\n",
              "      <td>0</td>\n",
              "      <td>0</td>\n",
              "      <td>0</td>\n",
              "      <td>0</td>\n",
              "      <td>0</td>\n",
              "      <td>0</td>\n",
              "      <td>0</td>\n",
              "      <td>0</td>\n",
              "      <td>0</td>\n",
              "      <td>0</td>\n",
              "      <td>0</td>\n",
              "      <td>0</td>\n",
              "      <td>0</td>\n",
              "      <td>0</td>\n",
              "      <td>0</td>\n",
              "      <td>0</td>\n",
              "      <td>0</td>\n",
              "      <td>4</td>\n",
              "      <td>0</td>\n",
              "      <td>0</td>\n",
              "      <td>0</td>\n",
              "      <td>0</td>\n",
              "      <td>0</td>\n",
              "      <td>0</td>\n",
              "      <td>0</td>\n",
              "      <td>0</td>\n",
              "      <td>0</td>\n",
              "      <td>0</td>\n",
              "      <td>...</td>\n",
              "      <td>0</td>\n",
              "      <td>0</td>\n",
              "      <td>0</td>\n",
              "      <td>0</td>\n",
              "      <td>0</td>\n",
              "      <td>0</td>\n",
              "      <td>0</td>\n",
              "      <td>0</td>\n",
              "      <td>0</td>\n",
              "      <td>0</td>\n",
              "      <td>0</td>\n",
              "      <td>0</td>\n",
              "      <td>1</td>\n",
              "      <td>0</td>\n",
              "      <td>0</td>\n",
              "      <td>1</td>\n",
              "      <td>0</td>\n",
              "      <td>0</td>\n",
              "      <td>0</td>\n",
              "      <td>0</td>\n",
              "      <td>0</td>\n",
              "      <td>0</td>\n",
              "      <td>0</td>\n",
              "      <td>0</td>\n",
              "      <td>0</td>\n",
              "      <td>0</td>\n",
              "      <td>0</td>\n",
              "      <td>0</td>\n",
              "      <td>0</td>\n",
              "      <td>0</td>\n",
              "      <td>0</td>\n",
              "      <td>0</td>\n",
              "      <td>0</td>\n",
              "      <td>0</td>\n",
              "      <td>0</td>\n",
              "      <td>0</td>\n",
              "      <td>0</td>\n",
              "      <td>0</td>\n",
              "      <td>0</td>\n",
              "      <td>0</td>\n",
              "    </tr>\n",
              "    <tr>\n",
              "      <th>감성적</th>\n",
              "      <td>0</td>\n",
              "      <td>0</td>\n",
              "      <td>0</td>\n",
              "      <td>0</td>\n",
              "      <td>0</td>\n",
              "      <td>0</td>\n",
              "      <td>0</td>\n",
              "      <td>0</td>\n",
              "      <td>0</td>\n",
              "      <td>0</td>\n",
              "      <td>0</td>\n",
              "      <td>0</td>\n",
              "      <td>0</td>\n",
              "      <td>0</td>\n",
              "      <td>0</td>\n",
              "      <td>0</td>\n",
              "      <td>0</td>\n",
              "      <td>0</td>\n",
              "      <td>0</td>\n",
              "      <td>0</td>\n",
              "      <td>0</td>\n",
              "      <td>0</td>\n",
              "      <td>0</td>\n",
              "      <td>0</td>\n",
              "      <td>0</td>\n",
              "      <td>0</td>\n",
              "      <td>0</td>\n",
              "      <td>0</td>\n",
              "      <td>0</td>\n",
              "      <td>0</td>\n",
              "      <td>0</td>\n",
              "      <td>0</td>\n",
              "      <td>0</td>\n",
              "      <td>0</td>\n",
              "      <td>0</td>\n",
              "      <td>0</td>\n",
              "      <td>0</td>\n",
              "      <td>0</td>\n",
              "      <td>0</td>\n",
              "      <td>0</td>\n",
              "      <td>...</td>\n",
              "      <td>0</td>\n",
              "      <td>0</td>\n",
              "      <td>0</td>\n",
              "      <td>0</td>\n",
              "      <td>0</td>\n",
              "      <td>0</td>\n",
              "      <td>0</td>\n",
              "      <td>0</td>\n",
              "      <td>0</td>\n",
              "      <td>0</td>\n",
              "      <td>0</td>\n",
              "      <td>0</td>\n",
              "      <td>0</td>\n",
              "      <td>0</td>\n",
              "      <td>0</td>\n",
              "      <td>0</td>\n",
              "      <td>0</td>\n",
              "      <td>0</td>\n",
              "      <td>0</td>\n",
              "      <td>0</td>\n",
              "      <td>0</td>\n",
              "      <td>0</td>\n",
              "      <td>0</td>\n",
              "      <td>0</td>\n",
              "      <td>0</td>\n",
              "      <td>0</td>\n",
              "      <td>0</td>\n",
              "      <td>0</td>\n",
              "      <td>0</td>\n",
              "      <td>0</td>\n",
              "      <td>0</td>\n",
              "      <td>0</td>\n",
              "      <td>0</td>\n",
              "      <td>0</td>\n",
              "      <td>0</td>\n",
              "      <td>0</td>\n",
              "      <td>0</td>\n",
              "      <td>0</td>\n",
              "      <td>0</td>\n",
              "      <td>0</td>\n",
              "    </tr>\n",
              "  </tbody>\n",
              "</table>\n",
              "<p>5 rows × 69888 columns</p>\n",
              "</div>"
            ],
            "text/plain": [
              "songs  262145  393217  393222  10      ...  262138  262140  262142  131071\n",
              "tags                                   ...                                \n",
              "침대          0       0       0       0  ...       0       0       0       0\n",
              "로우파이        0       0       0       1  ...       0       0       0       0\n",
              "해외힙합        0       0       0       0  ...       0       0       0       0\n",
              "눈           0       0       0       0  ...       0       0       0       0\n",
              "감성적         0       0       0       0  ...       0       0       0       0\n",
              "\n",
              "[5 rows x 69888 columns]"
            ]
          },
          "metadata": {
            "tags": []
          },
          "execution_count": 7
        }
      ]
    },
    {
      "cell_type": "code",
      "metadata": {
        "id": "LCSIsb7he1jU"
      },
      "source": [
        "df_song_meta = pd.read_json('./capstone_data/song_meta.json')"
      ],
      "execution_count": null,
      "outputs": []
    },
    {
      "cell_type": "code",
      "metadata": {
        "id": "bLDPVBbAs448",
        "colab": {
          "base_uri": "https://localhost:8080/",
          "height": 191
        },
        "outputId": "7837a513-c677-4bd2-ec62-61c890af5dde"
      },
      "source": [
        "df_song_meta.head()"
      ],
      "execution_count": null,
      "outputs": [
        {
          "output_type": "execute_result",
          "data": {
            "text/html": [
              "<div>\n",
              "<style scoped>\n",
              "    .dataframe tbody tr th:only-of-type {\n",
              "        vertical-align: middle;\n",
              "    }\n",
              "\n",
              "    .dataframe tbody tr th {\n",
              "        vertical-align: top;\n",
              "    }\n",
              "\n",
              "    .dataframe thead th {\n",
              "        text-align: right;\n",
              "    }\n",
              "</style>\n",
              "<table border=\"1\" class=\"dataframe\">\n",
              "  <thead>\n",
              "    <tr style=\"text-align: right;\">\n",
              "      <th></th>\n",
              "      <th>song_gn_dtl_gnr_basket</th>\n",
              "      <th>issue_date</th>\n",
              "      <th>album_name</th>\n",
              "      <th>album_id</th>\n",
              "      <th>artist_id_basket</th>\n",
              "      <th>song_name</th>\n",
              "      <th>song_gn_gnr_basket</th>\n",
              "      <th>artist_name_basket</th>\n",
              "      <th>id</th>\n",
              "    </tr>\n",
              "  </thead>\n",
              "  <tbody>\n",
              "    <tr>\n",
              "      <th>0</th>\n",
              "      <td>[GN0901]</td>\n",
              "      <td>20140512</td>\n",
              "      <td>불후의 명곡 - 7080 추억의 얄개시대 팝송베스트</td>\n",
              "      <td>2255639</td>\n",
              "      <td>[2727]</td>\n",
              "      <td>Feelings</td>\n",
              "      <td>[GN0900]</td>\n",
              "      <td>[Various Artists]</td>\n",
              "      <td>0</td>\n",
              "    </tr>\n",
              "    <tr>\n",
              "      <th>1</th>\n",
              "      <td>[GN1601, GN1606]</td>\n",
              "      <td>20080421</td>\n",
              "      <td>Bach : Partitas Nos. 2, 3 &amp; 4</td>\n",
              "      <td>376431</td>\n",
              "      <td>[29966]</td>\n",
              "      <td>Bach : Partita No. 4 In D Major, BWV 828 - II....</td>\n",
              "      <td>[GN1600]</td>\n",
              "      <td>[Murray Perahia]</td>\n",
              "      <td>1</td>\n",
              "    </tr>\n",
              "    <tr>\n",
              "      <th>2</th>\n",
              "      <td>[GN0901]</td>\n",
              "      <td>20180518</td>\n",
              "      <td>Hit</td>\n",
              "      <td>4698747</td>\n",
              "      <td>[3361]</td>\n",
              "      <td>Solsbury Hill (Remastered 2002)</td>\n",
              "      <td>[GN0900]</td>\n",
              "      <td>[Peter Gabriel]</td>\n",
              "      <td>2</td>\n",
              "    </tr>\n",
              "    <tr>\n",
              "      <th>3</th>\n",
              "      <td>[GN1102, GN1101]</td>\n",
              "      <td>20151016</td>\n",
              "      <td>Feeling Right (Everything Is Nice) (Feat. Popc...</td>\n",
              "      <td>2644882</td>\n",
              "      <td>[838543]</td>\n",
              "      <td>Feeling Right (Everything Is Nice) (Feat. Popc...</td>\n",
              "      <td>[GN1100]</td>\n",
              "      <td>[Matoma]</td>\n",
              "      <td>3</td>\n",
              "    </tr>\n",
              "    <tr>\n",
              "      <th>4</th>\n",
              "      <td>[GN1802, GN1801]</td>\n",
              "      <td>20110824</td>\n",
              "      <td>그남자 그여자</td>\n",
              "      <td>2008470</td>\n",
              "      <td>[560160]</td>\n",
              "      <td>그남자 그여자</td>\n",
              "      <td>[GN1800]</td>\n",
              "      <td>[Jude Law]</td>\n",
              "      <td>4</td>\n",
              "    </tr>\n",
              "  </tbody>\n",
              "</table>\n",
              "</div>"
            ],
            "text/plain": [
              "  song_gn_dtl_gnr_basket  issue_date  ... artist_name_basket  id\n",
              "0               [GN0901]    20140512  ...  [Various Artists]   0\n",
              "1       [GN1601, GN1606]    20080421  ...   [Murray Perahia]   1\n",
              "2               [GN0901]    20180518  ...    [Peter Gabriel]   2\n",
              "3       [GN1102, GN1101]    20151016  ...           [Matoma]   3\n",
              "4       [GN1802, GN1801]    20110824  ...         [Jude Law]   4\n",
              "\n",
              "[5 rows x 9 columns]"
            ]
          },
          "metadata": {
            "tags": []
          },
          "execution_count": 9
        }
      ]
    },
    {
      "cell_type": "code",
      "metadata": {
        "id": "sjhIqHx02OFB"
      },
      "source": [
        "tag_name_erase = \"로우파이\""
      ],
      "execution_count": null,
      "outputs": []
    },
    {
      "cell_type": "code",
      "metadata": {
        "id": "J4S7fOt-xIh2",
        "colab": {
          "base_uri": "https://localhost:8080/"
        },
        "outputId": "88adf6af-d387-421f-bf4b-1d3edf272453"
      },
      "source": [
        "df_pivot.index.tolist().index(tag_name_erase)"
      ],
      "execution_count": null,
      "outputs": [
        {
          "output_type": "execute_result",
          "data": {
            "text/plain": [
              "1"
            ]
          },
          "metadata": {
            "tags": []
          },
          "execution_count": 11
        }
      ]
    },
    {
      "cell_type": "code",
      "metadata": {
        "id": "llkv4ltlYt_5",
        "colab": {
          "base_uri": "https://localhost:8080/"
        },
        "outputId": "788a06d2-2d1e-4bfc-a5e1-c8a8640618ea"
      },
      "source": [
        "# matrix는 pivot_table 값을 numpy matrix로 만든 것 \n",
        "%time matrix = df_pivot.values"
      ],
      "execution_count": null,
      "outputs": [
        {
          "output_type": "stream",
          "text": [
            "CPU times: user 72 µs, sys: 0 ns, total: 72 µs\n",
            "Wall time: 76.5 µs\n"
          ],
          "name": "stdout"
        }
      ]
    },
    {
      "cell_type": "code",
      "metadata": {
        "colab": {
          "base_uri": "https://localhost:8080/"
        },
        "id": "GCruUAp2Qh91",
        "outputId": "1488f25b-22c7-4970-f528-e2ec9a72b714"
      },
      "source": [
        "# tag_ratings_mean은 tag의 평균 song 개수 \n",
        "%time tag_ratings_mean = np.mean(matrix, axis = 1)"
      ],
      "execution_count": null,
      "outputs": [
        {
          "output_type": "stream",
          "text": [
            "CPU times: user 213 ms, sys: 0 ns, total: 213 ms\n",
            "Wall time: 218 ms\n"
          ],
          "name": "stdout"
        }
      ]
    },
    {
      "cell_type": "code",
      "metadata": {
        "colab": {
          "base_uri": "https://localhost:8080/"
        },
        "id": "CE6eGlQZQmKn",
        "outputId": "69024373-2629-4f67-a391-bd692df2d002"
      },
      "source": [
        "# R_user_mean : 사용자-영화에 대해 사용자 평균 평점을 뺀 것.\n",
        "%time matrix_tag_mean = matrix - tag_ratings_mean.reshape(-1, 1)"
      ],
      "execution_count": null,
      "outputs": [
        {
          "output_type": "stream",
          "text": [
            "CPU times: user 343 ms, sys: 0 ns, total: 343 ms\n",
            "Wall time: 344 ms\n"
          ],
          "name": "stdout"
        }
      ]
    },
    {
      "cell_type": "code",
      "metadata": {
        "id": "j_mKi7VLaAYc",
        "colab": {
          "base_uri": "https://localhost:8080/"
        },
        "outputId": "a556d2c8-7171-44f7-a1a3-b381e8afcd47"
      },
      "source": [
        "matrix"
      ],
      "execution_count": null,
      "outputs": [
        {
          "output_type": "execute_result",
          "data": {
            "text/plain": [
              "array([[0, 0, 0, ..., 0, 0, 0],\n",
              "       [0, 0, 0, ..., 0, 0, 0],\n",
              "       [0, 0, 0, ..., 0, 0, 0],\n",
              "       ...,\n",
              "       [0, 0, 0, ..., 0, 0, 0],\n",
              "       [0, 0, 0, ..., 0, 0, 0],\n",
              "       [0, 0, 0, ..., 0, 0, 0]])"
            ]
          },
          "metadata": {
            "tags": []
          },
          "execution_count": 16
        }
      ]
    },
    {
      "cell_type": "code",
      "metadata": {
        "id": "qxNRKwhraEvK",
        "colab": {
          "base_uri": "https://localhost:8080/"
        },
        "outputId": "157a1f87-07e5-4bf7-af12-e2c7d1f2fdf7"
      },
      "source": [
        "matrix.shape"
      ],
      "execution_count": null,
      "outputs": [
        {
          "output_type": "execute_result",
          "data": {
            "text/plain": [
              "(1382, 69888)"
            ]
          },
          "metadata": {
            "tags": []
          },
          "execution_count": 59
        }
      ]
    },
    {
      "cell_type": "code",
      "metadata": {
        "id": "RCXV1T9ZaJtK",
        "colab": {
          "base_uri": "https://localhost:8080/"
        },
        "outputId": "b63fc8fe-f59e-4ec3-ef23-238687138307"
      },
      "source": [
        "tag_ratings_mean.shape"
      ],
      "execution_count": null,
      "outputs": [
        {
          "output_type": "execute_result",
          "data": {
            "text/plain": [
              "(1382,)"
            ]
          },
          "metadata": {
            "tags": []
          },
          "execution_count": 15
        }
      ]
    },
    {
      "cell_type": "code",
      "metadata": {
        "id": "qk3uxXcmaNFT",
        "colab": {
          "base_uri": "https://localhost:8080/"
        },
        "outputId": "4b85073f-ad91-41ab-a877-e587e6fc7ff1"
      },
      "source": [
        "matrix_tag_mean.shape"
      ],
      "execution_count": null,
      "outputs": [
        {
          "output_type": "execute_result",
          "data": {
            "text/plain": [
              "(1382, 69888)"
            ]
          },
          "metadata": {
            "tags": []
          },
          "execution_count": 16
        }
      ]
    },
    {
      "cell_type": "code",
      "metadata": {
        "id": "CfSrse2oaRna",
        "colab": {
          "base_uri": "https://localhost:8080/",
          "height": 238
        },
        "outputId": "78c0d72f-be10-4439-8698-5db5a0f93c5c"
      },
      "source": [
        "pd.DataFrame(matrix_tag_mean, columns=df_pivot.columns).head()"
      ],
      "execution_count": null,
      "outputs": [
        {
          "output_type": "execute_result",
          "data": {
            "text/html": [
              "<div>\n",
              "<style scoped>\n",
              "    .dataframe tbody tr th:only-of-type {\n",
              "        vertical-align: middle;\n",
              "    }\n",
              "\n",
              "    .dataframe tbody tr th {\n",
              "        vertical-align: top;\n",
              "    }\n",
              "\n",
              "    .dataframe thead th {\n",
              "        text-align: right;\n",
              "    }\n",
              "</style>\n",
              "<table border=\"1\" class=\"dataframe\">\n",
              "  <thead>\n",
              "    <tr style=\"text-align: right;\">\n",
              "      <th>songs</th>\n",
              "      <th>262145</th>\n",
              "      <th>393217</th>\n",
              "      <th>393222</th>\n",
              "      <th>10</th>\n",
              "      <th>524300</th>\n",
              "      <th>393232</th>\n",
              "      <th>524305</th>\n",
              "      <th>262164</th>\n",
              "      <th>262170</th>\n",
              "      <th>655386</th>\n",
              "      <th>262171</th>\n",
              "      <th>28</th>\n",
              "      <th>262174</th>\n",
              "      <th>30</th>\n",
              "      <th>32</th>\n",
              "      <th>655402</th>\n",
              "      <th>524331</th>\n",
              "      <th>393260</th>\n",
              "      <th>131117</th>\n",
              "      <th>262189</th>\n",
              "      <th>47</th>\n",
              "      <th>262192</th>\n",
              "      <th>655409</th>\n",
              "      <th>393266</th>\n",
              "      <th>131119</th>\n",
              "      <th>524340</th>\n",
              "      <th>54</th>\n",
              "      <th>655414</th>\n",
              "      <th>393273</th>\n",
              "      <th>262202</th>\n",
              "      <th>131131</th>\n",
              "      <th>393276</th>\n",
              "      <th>393277</th>\n",
              "      <th>62</th>\n",
              "      <th>262206</th>\n",
              "      <th>393280</th>\n",
              "      <th>524349</th>\n",
              "      <th>655426</th>\n",
              "      <th>67</th>\n",
              "      <th>524356</th>\n",
              "      <th>...</th>\n",
              "      <th>393139</th>\n",
              "      <th>524213</th>\n",
              "      <th>130998</th>\n",
              "      <th>524215</th>\n",
              "      <th>130997</th>\n",
              "      <th>131001</th>\n",
              "      <th>524217</th>\n",
              "      <th>262074</th>\n",
              "      <th>655292</th>\n",
              "      <th>524221</th>\n",
              "      <th>262081</th>\n",
              "      <th>524229</th>\n",
              "      <th>393158</th>\n",
              "      <th>131015</th>\n",
              "      <th>655305</th>\n",
              "      <th>524234</th>\n",
              "      <th>131019</th>\n",
              "      <th>393164</th>\n",
              "      <th>655308</th>\n",
              "      <th>262094</th>\n",
              "      <th>655309</th>\n",
              "      <th>262090</th>\n",
              "      <th>524245</th>\n",
              "      <th>655317</th>\n",
              "      <th>131030</th>\n",
              "      <th>393177</th>\n",
              "      <th>524251</th>\n",
              "      <th>393184</th>\n",
              "      <th>262114</th>\n",
              "      <th>262119</th>\n",
              "      <th>524265</th>\n",
              "      <th>131049</th>\n",
              "      <th>262125</th>\n",
              "      <th>262126</th>\n",
              "      <th>131057</th>\n",
              "      <th>262130</th>\n",
              "      <th>262138</th>\n",
              "      <th>262140</th>\n",
              "      <th>262142</th>\n",
              "      <th>131071</th>\n",
              "    </tr>\n",
              "  </thead>\n",
              "  <tbody>\n",
              "    <tr>\n",
              "      <th>0</th>\n",
              "      <td>-0.015038</td>\n",
              "      <td>-0.015038</td>\n",
              "      <td>-0.015038</td>\n",
              "      <td>-0.015038</td>\n",
              "      <td>-0.015038</td>\n",
              "      <td>-0.015038</td>\n",
              "      <td>-0.015038</td>\n",
              "      <td>-0.015038</td>\n",
              "      <td>-0.015038</td>\n",
              "      <td>-0.015038</td>\n",
              "      <td>-0.015038</td>\n",
              "      <td>-0.015038</td>\n",
              "      <td>-0.015038</td>\n",
              "      <td>-0.015038</td>\n",
              "      <td>-0.015038</td>\n",
              "      <td>-0.015038</td>\n",
              "      <td>-0.015038</td>\n",
              "      <td>-0.015038</td>\n",
              "      <td>-0.015038</td>\n",
              "      <td>-0.015038</td>\n",
              "      <td>-0.015038</td>\n",
              "      <td>-0.015038</td>\n",
              "      <td>-0.015038</td>\n",
              "      <td>-0.015038</td>\n",
              "      <td>-0.015038</td>\n",
              "      <td>-0.015038</td>\n",
              "      <td>-0.015038</td>\n",
              "      <td>-0.015038</td>\n",
              "      <td>-0.015038</td>\n",
              "      <td>-0.015038</td>\n",
              "      <td>-0.015038</td>\n",
              "      <td>-0.015038</td>\n",
              "      <td>-0.015038</td>\n",
              "      <td>-0.015038</td>\n",
              "      <td>-0.015038</td>\n",
              "      <td>-0.015038</td>\n",
              "      <td>-0.015038</td>\n",
              "      <td>-0.015038</td>\n",
              "      <td>-0.015038</td>\n",
              "      <td>-0.015038</td>\n",
              "      <td>...</td>\n",
              "      <td>-0.015038</td>\n",
              "      <td>-0.015038</td>\n",
              "      <td>-0.015038</td>\n",
              "      <td>-0.015038</td>\n",
              "      <td>-0.015038</td>\n",
              "      <td>-0.015038</td>\n",
              "      <td>-0.015038</td>\n",
              "      <td>-0.015038</td>\n",
              "      <td>0.984962</td>\n",
              "      <td>-0.015038</td>\n",
              "      <td>-0.015038</td>\n",
              "      <td>-0.015038</td>\n",
              "      <td>-0.015038</td>\n",
              "      <td>-0.015038</td>\n",
              "      <td>-0.015038</td>\n",
              "      <td>-0.015038</td>\n",
              "      <td>-0.015038</td>\n",
              "      <td>-0.015038</td>\n",
              "      <td>-0.015038</td>\n",
              "      <td>-0.015038</td>\n",
              "      <td>-0.015038</td>\n",
              "      <td>-0.015038</td>\n",
              "      <td>-0.015038</td>\n",
              "      <td>-0.015038</td>\n",
              "      <td>-0.015038</td>\n",
              "      <td>-0.015038</td>\n",
              "      <td>-0.015038</td>\n",
              "      <td>-0.015038</td>\n",
              "      <td>-0.015038</td>\n",
              "      <td>-0.015038</td>\n",
              "      <td>-0.015038</td>\n",
              "      <td>-0.015038</td>\n",
              "      <td>-0.015038</td>\n",
              "      <td>-0.015038</td>\n",
              "      <td>-0.015038</td>\n",
              "      <td>-0.015038</td>\n",
              "      <td>-0.015038</td>\n",
              "      <td>-0.015038</td>\n",
              "      <td>-0.015038</td>\n",
              "      <td>-0.015038</td>\n",
              "    </tr>\n",
              "    <tr>\n",
              "      <th>1</th>\n",
              "      <td>-0.002461</td>\n",
              "      <td>-0.002461</td>\n",
              "      <td>-0.002461</td>\n",
              "      <td>0.997539</td>\n",
              "      <td>-0.002461</td>\n",
              "      <td>-0.002461</td>\n",
              "      <td>-0.002461</td>\n",
              "      <td>-0.002461</td>\n",
              "      <td>-0.002461</td>\n",
              "      <td>-0.002461</td>\n",
              "      <td>-0.002461</td>\n",
              "      <td>-0.002461</td>\n",
              "      <td>-0.002461</td>\n",
              "      <td>-0.002461</td>\n",
              "      <td>-0.002461</td>\n",
              "      <td>-0.002461</td>\n",
              "      <td>-0.002461</td>\n",
              "      <td>-0.002461</td>\n",
              "      <td>-0.002461</td>\n",
              "      <td>-0.002461</td>\n",
              "      <td>-0.002461</td>\n",
              "      <td>-0.002461</td>\n",
              "      <td>-0.002461</td>\n",
              "      <td>-0.002461</td>\n",
              "      <td>-0.002461</td>\n",
              "      <td>-0.002461</td>\n",
              "      <td>-0.002461</td>\n",
              "      <td>-0.002461</td>\n",
              "      <td>-0.002461</td>\n",
              "      <td>-0.002461</td>\n",
              "      <td>-0.002461</td>\n",
              "      <td>-0.002461</td>\n",
              "      <td>-0.002461</td>\n",
              "      <td>-0.002461</td>\n",
              "      <td>-0.002461</td>\n",
              "      <td>-0.002461</td>\n",
              "      <td>-0.002461</td>\n",
              "      <td>-0.002461</td>\n",
              "      <td>-0.002461</td>\n",
              "      <td>-0.002461</td>\n",
              "      <td>...</td>\n",
              "      <td>-0.002461</td>\n",
              "      <td>-0.002461</td>\n",
              "      <td>-0.002461</td>\n",
              "      <td>-0.002461</td>\n",
              "      <td>-0.002461</td>\n",
              "      <td>-0.002461</td>\n",
              "      <td>-0.002461</td>\n",
              "      <td>-0.002461</td>\n",
              "      <td>-0.002461</td>\n",
              "      <td>-0.002461</td>\n",
              "      <td>-0.002461</td>\n",
              "      <td>-0.002461</td>\n",
              "      <td>-0.002461</td>\n",
              "      <td>-0.002461</td>\n",
              "      <td>-0.002461</td>\n",
              "      <td>-0.002461</td>\n",
              "      <td>-0.002461</td>\n",
              "      <td>-0.002461</td>\n",
              "      <td>-0.002461</td>\n",
              "      <td>-0.002461</td>\n",
              "      <td>-0.002461</td>\n",
              "      <td>-0.002461</td>\n",
              "      <td>-0.002461</td>\n",
              "      <td>-0.002461</td>\n",
              "      <td>-0.002461</td>\n",
              "      <td>-0.002461</td>\n",
              "      <td>-0.002461</td>\n",
              "      <td>-0.002461</td>\n",
              "      <td>-0.002461</td>\n",
              "      <td>-0.002461</td>\n",
              "      <td>-0.002461</td>\n",
              "      <td>-0.002461</td>\n",
              "      <td>-0.002461</td>\n",
              "      <td>-0.002461</td>\n",
              "      <td>-0.002461</td>\n",
              "      <td>-0.002461</td>\n",
              "      <td>-0.002461</td>\n",
              "      <td>-0.002461</td>\n",
              "      <td>-0.002461</td>\n",
              "      <td>-0.002461</td>\n",
              "    </tr>\n",
              "    <tr>\n",
              "      <th>2</th>\n",
              "      <td>-0.003806</td>\n",
              "      <td>-0.003806</td>\n",
              "      <td>-0.003806</td>\n",
              "      <td>-0.003806</td>\n",
              "      <td>-0.003806</td>\n",
              "      <td>-0.003806</td>\n",
              "      <td>-0.003806</td>\n",
              "      <td>-0.003806</td>\n",
              "      <td>-0.003806</td>\n",
              "      <td>-0.003806</td>\n",
              "      <td>-0.003806</td>\n",
              "      <td>-0.003806</td>\n",
              "      <td>-0.003806</td>\n",
              "      <td>-0.003806</td>\n",
              "      <td>-0.003806</td>\n",
              "      <td>-0.003806</td>\n",
              "      <td>-0.003806</td>\n",
              "      <td>-0.003806</td>\n",
              "      <td>-0.003806</td>\n",
              "      <td>-0.003806</td>\n",
              "      <td>-0.003806</td>\n",
              "      <td>-0.003806</td>\n",
              "      <td>-0.003806</td>\n",
              "      <td>-0.003806</td>\n",
              "      <td>-0.003806</td>\n",
              "      <td>-0.003806</td>\n",
              "      <td>-0.003806</td>\n",
              "      <td>-0.003806</td>\n",
              "      <td>-0.003806</td>\n",
              "      <td>-0.003806</td>\n",
              "      <td>-0.003806</td>\n",
              "      <td>-0.003806</td>\n",
              "      <td>-0.003806</td>\n",
              "      <td>-0.003806</td>\n",
              "      <td>-0.003806</td>\n",
              "      <td>-0.003806</td>\n",
              "      <td>-0.003806</td>\n",
              "      <td>-0.003806</td>\n",
              "      <td>-0.003806</td>\n",
              "      <td>-0.003806</td>\n",
              "      <td>...</td>\n",
              "      <td>-0.003806</td>\n",
              "      <td>-0.003806</td>\n",
              "      <td>-0.003806</td>\n",
              "      <td>-0.003806</td>\n",
              "      <td>-0.003806</td>\n",
              "      <td>-0.003806</td>\n",
              "      <td>-0.003806</td>\n",
              "      <td>-0.003806</td>\n",
              "      <td>-0.003806</td>\n",
              "      <td>-0.003806</td>\n",
              "      <td>-0.003806</td>\n",
              "      <td>-0.003806</td>\n",
              "      <td>-0.003806</td>\n",
              "      <td>-0.003806</td>\n",
              "      <td>-0.003806</td>\n",
              "      <td>-0.003806</td>\n",
              "      <td>-0.003806</td>\n",
              "      <td>-0.003806</td>\n",
              "      <td>-0.003806</td>\n",
              "      <td>-0.003806</td>\n",
              "      <td>-0.003806</td>\n",
              "      <td>-0.003806</td>\n",
              "      <td>-0.003806</td>\n",
              "      <td>-0.003806</td>\n",
              "      <td>-0.003806</td>\n",
              "      <td>-0.003806</td>\n",
              "      <td>-0.003806</td>\n",
              "      <td>-0.003806</td>\n",
              "      <td>-0.003806</td>\n",
              "      <td>-0.003806</td>\n",
              "      <td>-0.003806</td>\n",
              "      <td>-0.003806</td>\n",
              "      <td>-0.003806</td>\n",
              "      <td>-0.003806</td>\n",
              "      <td>-0.003806</td>\n",
              "      <td>-0.003806</td>\n",
              "      <td>-0.003806</td>\n",
              "      <td>-0.003806</td>\n",
              "      <td>-0.003806</td>\n",
              "      <td>-0.003806</td>\n",
              "    </tr>\n",
              "    <tr>\n",
              "      <th>3</th>\n",
              "      <td>-0.042339</td>\n",
              "      <td>-0.042339</td>\n",
              "      <td>-0.042339</td>\n",
              "      <td>-0.042339</td>\n",
              "      <td>-0.042339</td>\n",
              "      <td>-0.042339</td>\n",
              "      <td>-0.042339</td>\n",
              "      <td>0.957661</td>\n",
              "      <td>-0.042339</td>\n",
              "      <td>-0.042339</td>\n",
              "      <td>-0.042339</td>\n",
              "      <td>-0.042339</td>\n",
              "      <td>-0.042339</td>\n",
              "      <td>-0.042339</td>\n",
              "      <td>-0.042339</td>\n",
              "      <td>-0.042339</td>\n",
              "      <td>-0.042339</td>\n",
              "      <td>-0.042339</td>\n",
              "      <td>-0.042339</td>\n",
              "      <td>-0.042339</td>\n",
              "      <td>-0.042339</td>\n",
              "      <td>-0.042339</td>\n",
              "      <td>-0.042339</td>\n",
              "      <td>-0.042339</td>\n",
              "      <td>-0.042339</td>\n",
              "      <td>-0.042339</td>\n",
              "      <td>-0.042339</td>\n",
              "      <td>-0.042339</td>\n",
              "      <td>-0.042339</td>\n",
              "      <td>3.957661</td>\n",
              "      <td>-0.042339</td>\n",
              "      <td>-0.042339</td>\n",
              "      <td>-0.042339</td>\n",
              "      <td>-0.042339</td>\n",
              "      <td>-0.042339</td>\n",
              "      <td>-0.042339</td>\n",
              "      <td>-0.042339</td>\n",
              "      <td>-0.042339</td>\n",
              "      <td>-0.042339</td>\n",
              "      <td>-0.042339</td>\n",
              "      <td>...</td>\n",
              "      <td>-0.042339</td>\n",
              "      <td>-0.042339</td>\n",
              "      <td>-0.042339</td>\n",
              "      <td>-0.042339</td>\n",
              "      <td>-0.042339</td>\n",
              "      <td>-0.042339</td>\n",
              "      <td>-0.042339</td>\n",
              "      <td>-0.042339</td>\n",
              "      <td>-0.042339</td>\n",
              "      <td>-0.042339</td>\n",
              "      <td>-0.042339</td>\n",
              "      <td>-0.042339</td>\n",
              "      <td>0.957661</td>\n",
              "      <td>-0.042339</td>\n",
              "      <td>-0.042339</td>\n",
              "      <td>0.957661</td>\n",
              "      <td>-0.042339</td>\n",
              "      <td>-0.042339</td>\n",
              "      <td>-0.042339</td>\n",
              "      <td>-0.042339</td>\n",
              "      <td>-0.042339</td>\n",
              "      <td>-0.042339</td>\n",
              "      <td>-0.042339</td>\n",
              "      <td>-0.042339</td>\n",
              "      <td>-0.042339</td>\n",
              "      <td>-0.042339</td>\n",
              "      <td>-0.042339</td>\n",
              "      <td>-0.042339</td>\n",
              "      <td>-0.042339</td>\n",
              "      <td>-0.042339</td>\n",
              "      <td>-0.042339</td>\n",
              "      <td>-0.042339</td>\n",
              "      <td>-0.042339</td>\n",
              "      <td>-0.042339</td>\n",
              "      <td>-0.042339</td>\n",
              "      <td>-0.042339</td>\n",
              "      <td>-0.042339</td>\n",
              "      <td>-0.042339</td>\n",
              "      <td>-0.042339</td>\n",
              "      <td>-0.042339</td>\n",
              "    </tr>\n",
              "    <tr>\n",
              "      <th>4</th>\n",
              "      <td>-0.003277</td>\n",
              "      <td>-0.003277</td>\n",
              "      <td>-0.003277</td>\n",
              "      <td>-0.003277</td>\n",
              "      <td>-0.003277</td>\n",
              "      <td>-0.003277</td>\n",
              "      <td>-0.003277</td>\n",
              "      <td>-0.003277</td>\n",
              "      <td>-0.003277</td>\n",
              "      <td>-0.003277</td>\n",
              "      <td>-0.003277</td>\n",
              "      <td>-0.003277</td>\n",
              "      <td>-0.003277</td>\n",
              "      <td>-0.003277</td>\n",
              "      <td>-0.003277</td>\n",
              "      <td>-0.003277</td>\n",
              "      <td>-0.003277</td>\n",
              "      <td>-0.003277</td>\n",
              "      <td>-0.003277</td>\n",
              "      <td>-0.003277</td>\n",
              "      <td>-0.003277</td>\n",
              "      <td>-0.003277</td>\n",
              "      <td>-0.003277</td>\n",
              "      <td>-0.003277</td>\n",
              "      <td>-0.003277</td>\n",
              "      <td>-0.003277</td>\n",
              "      <td>-0.003277</td>\n",
              "      <td>-0.003277</td>\n",
              "      <td>-0.003277</td>\n",
              "      <td>-0.003277</td>\n",
              "      <td>-0.003277</td>\n",
              "      <td>-0.003277</td>\n",
              "      <td>-0.003277</td>\n",
              "      <td>-0.003277</td>\n",
              "      <td>-0.003277</td>\n",
              "      <td>-0.003277</td>\n",
              "      <td>-0.003277</td>\n",
              "      <td>-0.003277</td>\n",
              "      <td>-0.003277</td>\n",
              "      <td>-0.003277</td>\n",
              "      <td>...</td>\n",
              "      <td>-0.003277</td>\n",
              "      <td>-0.003277</td>\n",
              "      <td>-0.003277</td>\n",
              "      <td>-0.003277</td>\n",
              "      <td>-0.003277</td>\n",
              "      <td>-0.003277</td>\n",
              "      <td>-0.003277</td>\n",
              "      <td>-0.003277</td>\n",
              "      <td>-0.003277</td>\n",
              "      <td>-0.003277</td>\n",
              "      <td>-0.003277</td>\n",
              "      <td>-0.003277</td>\n",
              "      <td>-0.003277</td>\n",
              "      <td>-0.003277</td>\n",
              "      <td>-0.003277</td>\n",
              "      <td>-0.003277</td>\n",
              "      <td>-0.003277</td>\n",
              "      <td>-0.003277</td>\n",
              "      <td>-0.003277</td>\n",
              "      <td>-0.003277</td>\n",
              "      <td>-0.003277</td>\n",
              "      <td>-0.003277</td>\n",
              "      <td>-0.003277</td>\n",
              "      <td>-0.003277</td>\n",
              "      <td>-0.003277</td>\n",
              "      <td>-0.003277</td>\n",
              "      <td>-0.003277</td>\n",
              "      <td>-0.003277</td>\n",
              "      <td>-0.003277</td>\n",
              "      <td>-0.003277</td>\n",
              "      <td>-0.003277</td>\n",
              "      <td>-0.003277</td>\n",
              "      <td>-0.003277</td>\n",
              "      <td>-0.003277</td>\n",
              "      <td>-0.003277</td>\n",
              "      <td>-0.003277</td>\n",
              "      <td>-0.003277</td>\n",
              "      <td>-0.003277</td>\n",
              "      <td>-0.003277</td>\n",
              "      <td>-0.003277</td>\n",
              "    </tr>\n",
              "  </tbody>\n",
              "</table>\n",
              "<p>5 rows × 69888 columns</p>\n",
              "</div>"
            ],
            "text/plain": [
              "songs    262145    393217    393222  ...    262140    262142    131071\n",
              "0     -0.015038 -0.015038 -0.015038  ... -0.015038 -0.015038 -0.015038\n",
              "1     -0.002461 -0.002461 -0.002461  ... -0.002461 -0.002461 -0.002461\n",
              "2     -0.003806 -0.003806 -0.003806  ... -0.003806 -0.003806 -0.003806\n",
              "3     -0.042339 -0.042339 -0.042339  ... -0.042339 -0.042339 -0.042339\n",
              "4     -0.003277 -0.003277 -0.003277  ... -0.003277 -0.003277 -0.003277\n",
              "\n",
              "[5 rows x 69888 columns]"
            ]
          },
          "metadata": {
            "tags": []
          },
          "execution_count": 15
        }
      ]
    },
    {
      "cell_type": "code",
      "metadata": {
        "id": "d7v0xhtCarZF",
        "colab": {
          "base_uri": "https://localhost:8080/"
        },
        "outputId": "7c9a1876-26fa-416d-dfc4-4010dd39532a"
      },
      "source": [
        "# scipy에서 제공해주는 svd.  \n",
        "# U 행렬, sigma 행렬, V 전치 행렬을 반환.\n",
        "\n",
        "%time U, sigma, Vt = svds(matrix_tag_mean, k = 12)"
      ],
      "execution_count": null,
      "outputs": [
        {
          "output_type": "stream",
          "text": [
            "CPU times: user 12.8 s, sys: 116 ms, total: 13 s\n",
            "Wall time: 6.65 s\n"
          ],
          "name": "stdout"
        }
      ]
    },
    {
      "cell_type": "code",
      "metadata": {
        "id": "0lvOC4KQayTb",
        "colab": {
          "base_uri": "https://localhost:8080/"
        },
        "outputId": "27722317-4b50-489e-b5b9-a61e1f849374"
      },
      "source": [
        "print(U.shape)\n",
        "print(sigma.shape)\n",
        "print(Vt.shape)"
      ],
      "execution_count": null,
      "outputs": [
        {
          "output_type": "stream",
          "text": [
            "(1382, 12)\n",
            "(12,)\n",
            "(12, 69888)\n"
          ],
          "name": "stdout"
        }
      ]
    },
    {
      "cell_type": "markdown",
      "metadata": {
        "id": "TEm7xeZGa9KL"
      },
      "source": [
        "현재 이 Sigma 행렬은 0이 아닌 값만 1차원 행렬로 표현된 상태\n",
        "\n",
        "즉, 0이 포함된 대칭행렬로 변환할 때는 numpy의 diag를 이용해야 함"
      ]
    },
    {
      "cell_type": "code",
      "metadata": {
        "id": "zq2MNwI4bDOK",
        "colab": {
          "base_uri": "https://localhost:8080/"
        },
        "outputId": "a2089bcb-c17e-4662-b8ed-31ab00277396"
      },
      "source": [
        "%time sigma = np.diag(sigma)"
      ],
      "execution_count": null,
      "outputs": [
        {
          "output_type": "stream",
          "text": [
            "CPU times: user 0 ns, sys: 660 µs, total: 660 µs\n",
            "Wall time: 667 µs\n"
          ],
          "name": "stdout"
        }
      ]
    },
    {
      "cell_type": "code",
      "metadata": {
        "id": "gW-JduBnbL0T",
        "colab": {
          "base_uri": "https://localhost:8080/"
        },
        "outputId": "dcbb7d2e-a58f-466d-edea-a8471ee5c19e"
      },
      "source": [
        "sigma.shape"
      ],
      "execution_count": null,
      "outputs": [
        {
          "output_type": "execute_result",
          "data": {
            "text/plain": [
              "(12, 12)"
            ]
          },
          "metadata": {
            "tags": []
          },
          "execution_count": 21
        }
      ]
    },
    {
      "cell_type": "code",
      "metadata": {
        "id": "GIqx46GhbPOb",
        "colab": {
          "base_uri": "https://localhost:8080/"
        },
        "outputId": "f73e32f8-3708-4b20-a322-60bd36336e23"
      },
      "source": [
        "sigma[2]"
      ],
      "execution_count": null,
      "outputs": [
        {
          "output_type": "execute_result",
          "data": {
            "text/plain": [
              "array([  0.       ,   0.       , 431.0575676,   0.       ,   0.       ,\n",
              "         0.       ,   0.       ,   0.       ,   0.       ,   0.       ,\n",
              "         0.       ,   0.       ])"
            ]
          },
          "metadata": {
            "tags": []
          },
          "execution_count": 22
        }
      ]
    },
    {
      "cell_type": "code",
      "metadata": {
        "id": "IlA2916kbY0U",
        "colab": {
          "base_uri": "https://localhost:8080/"
        },
        "outputId": "ce1da5bb-7d83-4bc3-a840-21d776eb07fe"
      },
      "source": [
        "# U, Sigma, Vt의 내적을 수행하면, 다시 원본 행렬로 복원이 된다. \n",
        "# 거기에 + 사용자 평균 rating을 적용한다. \n",
        "%time svd_tag_predicted_ratings = np.dot(np.dot(U, sigma), Vt) + tag_ratings_mean.reshape(-1, 1)"
      ],
      "execution_count": null,
      "outputs": [
        {
          "output_type": "stream",
          "text": [
            "CPU times: user 627 ms, sys: 294 ms, total: 921 ms\n",
            "Wall time: 635 ms\n"
          ],
          "name": "stdout"
        }
      ]
    },
    {
      "cell_type": "code",
      "metadata": {
        "id": "zx4vybXMbof3",
        "colab": {
          "base_uri": "https://localhost:8080/",
          "height": 273
        },
        "outputId": "1e8cfe2e-d98b-4e49-df6f-b0daa6337974"
      },
      "source": [
        "%time df_svd_preds = pd.DataFrame(svd_tag_predicted_ratings, columns = df_pivot.columns)\n",
        "df_svd_preds.head()"
      ],
      "execution_count": null,
      "outputs": [
        {
          "output_type": "stream",
          "text": [
            "CPU times: user 284 µs, sys: 0 ns, total: 284 µs\n",
            "Wall time: 288 µs\n"
          ],
          "name": "stdout"
        },
        {
          "output_type": "execute_result",
          "data": {
            "text/html": [
              "<div>\n",
              "<style scoped>\n",
              "    .dataframe tbody tr th:only-of-type {\n",
              "        vertical-align: middle;\n",
              "    }\n",
              "\n",
              "    .dataframe tbody tr th {\n",
              "        vertical-align: top;\n",
              "    }\n",
              "\n",
              "    .dataframe thead th {\n",
              "        text-align: right;\n",
              "    }\n",
              "</style>\n",
              "<table border=\"1\" class=\"dataframe\">\n",
              "  <thead>\n",
              "    <tr style=\"text-align: right;\">\n",
              "      <th>songs</th>\n",
              "      <th>262145</th>\n",
              "      <th>393217</th>\n",
              "      <th>393222</th>\n",
              "      <th>10</th>\n",
              "      <th>524300</th>\n",
              "      <th>393232</th>\n",
              "      <th>524305</th>\n",
              "      <th>262164</th>\n",
              "      <th>262170</th>\n",
              "      <th>655386</th>\n",
              "      <th>262171</th>\n",
              "      <th>28</th>\n",
              "      <th>262174</th>\n",
              "      <th>30</th>\n",
              "      <th>32</th>\n",
              "      <th>655402</th>\n",
              "      <th>524331</th>\n",
              "      <th>393260</th>\n",
              "      <th>131117</th>\n",
              "      <th>262189</th>\n",
              "      <th>47</th>\n",
              "      <th>262192</th>\n",
              "      <th>655409</th>\n",
              "      <th>393266</th>\n",
              "      <th>131119</th>\n",
              "      <th>524340</th>\n",
              "      <th>54</th>\n",
              "      <th>655414</th>\n",
              "      <th>393273</th>\n",
              "      <th>262202</th>\n",
              "      <th>131131</th>\n",
              "      <th>393276</th>\n",
              "      <th>393277</th>\n",
              "      <th>62</th>\n",
              "      <th>262206</th>\n",
              "      <th>393280</th>\n",
              "      <th>524349</th>\n",
              "      <th>655426</th>\n",
              "      <th>67</th>\n",
              "      <th>524356</th>\n",
              "      <th>...</th>\n",
              "      <th>393139</th>\n",
              "      <th>524213</th>\n",
              "      <th>130998</th>\n",
              "      <th>524215</th>\n",
              "      <th>130997</th>\n",
              "      <th>131001</th>\n",
              "      <th>524217</th>\n",
              "      <th>262074</th>\n",
              "      <th>655292</th>\n",
              "      <th>524221</th>\n",
              "      <th>262081</th>\n",
              "      <th>524229</th>\n",
              "      <th>393158</th>\n",
              "      <th>131015</th>\n",
              "      <th>655305</th>\n",
              "      <th>524234</th>\n",
              "      <th>131019</th>\n",
              "      <th>393164</th>\n",
              "      <th>655308</th>\n",
              "      <th>262094</th>\n",
              "      <th>655309</th>\n",
              "      <th>262090</th>\n",
              "      <th>524245</th>\n",
              "      <th>655317</th>\n",
              "      <th>131030</th>\n",
              "      <th>393177</th>\n",
              "      <th>524251</th>\n",
              "      <th>393184</th>\n",
              "      <th>262114</th>\n",
              "      <th>262119</th>\n",
              "      <th>524265</th>\n",
              "      <th>131049</th>\n",
              "      <th>262125</th>\n",
              "      <th>262126</th>\n",
              "      <th>131057</th>\n",
              "      <th>262130</th>\n",
              "      <th>262138</th>\n",
              "      <th>262140</th>\n",
              "      <th>262142</th>\n",
              "      <th>131071</th>\n",
              "    </tr>\n",
              "  </thead>\n",
              "  <tbody>\n",
              "    <tr>\n",
              "      <th>0</th>\n",
              "      <td>0.009627</td>\n",
              "      <td>-0.003137</td>\n",
              "      <td>0.055012</td>\n",
              "      <td>0.028587</td>\n",
              "      <td>0.029738</td>\n",
              "      <td>0.004280</td>\n",
              "      <td>0.004204</td>\n",
              "      <td>0.010074</td>\n",
              "      <td>0.012362</td>\n",
              "      <td>0.003476</td>\n",
              "      <td>0.002878</td>\n",
              "      <td>0.010296</td>\n",
              "      <td>0.003658</td>\n",
              "      <td>0.022544</td>\n",
              "      <td>0.015373</td>\n",
              "      <td>0.002603</td>\n",
              "      <td>0.005208</td>\n",
              "      <td>0.013804</td>\n",
              "      <td>0.053384</td>\n",
              "      <td>0.033662</td>\n",
              "      <td>0.003658</td>\n",
              "      <td>-0.003414</td>\n",
              "      <td>0.003323</td>\n",
              "      <td>0.015592</td>\n",
              "      <td>0.024807</td>\n",
              "      <td>0.022042</td>\n",
              "      <td>0.007276</td>\n",
              "      <td>0.010515</td>\n",
              "      <td>0.003306</td>\n",
              "      <td>-0.020085</td>\n",
              "      <td>0.004007</td>\n",
              "      <td>0.010177</td>\n",
              "      <td>-0.002783</td>\n",
              "      <td>0.033398</td>\n",
              "      <td>0.006380</td>\n",
              "      <td>0.000805</td>\n",
              "      <td>0.003845</td>\n",
              "      <td>-0.003347</td>\n",
              "      <td>0.019609</td>\n",
              "      <td>0.101648</td>\n",
              "      <td>...</td>\n",
              "      <td>0.005626</td>\n",
              "      <td>-0.012169</td>\n",
              "      <td>0.017445</td>\n",
              "      <td>0.001413</td>\n",
              "      <td>0.010570</td>\n",
              "      <td>-0.036531</td>\n",
              "      <td>0.011432</td>\n",
              "      <td>0.004455</td>\n",
              "      <td>0.024303</td>\n",
              "      <td>-0.005754</td>\n",
              "      <td>-0.005397</td>\n",
              "      <td>-0.003541</td>\n",
              "      <td>0.009260</td>\n",
              "      <td>0.049861</td>\n",
              "      <td>0.007447</td>\n",
              "      <td>0.002857</td>\n",
              "      <td>0.017139</td>\n",
              "      <td>0.001518</td>\n",
              "      <td>0.014334</td>\n",
              "      <td>0.005576</td>\n",
              "      <td>0.002213</td>\n",
              "      <td>0.004846</td>\n",
              "      <td>-0.010040</td>\n",
              "      <td>0.011751</td>\n",
              "      <td>0.001208</td>\n",
              "      <td>-0.002708</td>\n",
              "      <td>0.013452</td>\n",
              "      <td>0.004667</td>\n",
              "      <td>0.014959</td>\n",
              "      <td>0.004271</td>\n",
              "      <td>-0.001773</td>\n",
              "      <td>0.003062</td>\n",
              "      <td>0.003470</td>\n",
              "      <td>0.009870</td>\n",
              "      <td>0.005038</td>\n",
              "      <td>0.009196</td>\n",
              "      <td>0.001538</td>\n",
              "      <td>0.011078</td>\n",
              "      <td>-0.001777</td>\n",
              "      <td>0.010460</td>\n",
              "    </tr>\n",
              "    <tr>\n",
              "      <th>1</th>\n",
              "      <td>0.004792</td>\n",
              "      <td>0.001572</td>\n",
              "      <td>0.001774</td>\n",
              "      <td>0.004668</td>\n",
              "      <td>0.001286</td>\n",
              "      <td>0.002210</td>\n",
              "      <td>0.002268</td>\n",
              "      <td>0.002525</td>\n",
              "      <td>0.000934</td>\n",
              "      <td>0.002170</td>\n",
              "      <td>0.002551</td>\n",
              "      <td>0.004296</td>\n",
              "      <td>0.001957</td>\n",
              "      <td>0.008329</td>\n",
              "      <td>0.003034</td>\n",
              "      <td>0.002977</td>\n",
              "      <td>0.003171</td>\n",
              "      <td>0.010332</td>\n",
              "      <td>0.005904</td>\n",
              "      <td>0.007461</td>\n",
              "      <td>0.003890</td>\n",
              "      <td>0.000342</td>\n",
              "      <td>0.003844</td>\n",
              "      <td>0.004173</td>\n",
              "      <td>0.002351</td>\n",
              "      <td>0.008369</td>\n",
              "      <td>0.000136</td>\n",
              "      <td>0.004519</td>\n",
              "      <td>0.001507</td>\n",
              "      <td>-0.010399</td>\n",
              "      <td>0.003396</td>\n",
              "      <td>0.005248</td>\n",
              "      <td>-0.002497</td>\n",
              "      <td>0.000880</td>\n",
              "      <td>0.002732</td>\n",
              "      <td>0.002043</td>\n",
              "      <td>0.002052</td>\n",
              "      <td>0.000308</td>\n",
              "      <td>0.001474</td>\n",
              "      <td>-0.003513</td>\n",
              "      <td>...</td>\n",
              "      <td>0.002771</td>\n",
              "      <td>-0.003721</td>\n",
              "      <td>0.003461</td>\n",
              "      <td>0.001897</td>\n",
              "      <td>0.000954</td>\n",
              "      <td>-0.008466</td>\n",
              "      <td>0.003806</td>\n",
              "      <td>0.002678</td>\n",
              "      <td>0.005616</td>\n",
              "      <td>0.001689</td>\n",
              "      <td>-0.001453</td>\n",
              "      <td>0.000666</td>\n",
              "      <td>0.002027</td>\n",
              "      <td>0.007126</td>\n",
              "      <td>0.002243</td>\n",
              "      <td>0.001492</td>\n",
              "      <td>0.001645</td>\n",
              "      <td>0.001639</td>\n",
              "      <td>0.002997</td>\n",
              "      <td>0.004592</td>\n",
              "      <td>0.002428</td>\n",
              "      <td>0.001891</td>\n",
              "      <td>0.000102</td>\n",
              "      <td>-0.000343</td>\n",
              "      <td>0.001669</td>\n",
              "      <td>-0.000188</td>\n",
              "      <td>0.003660</td>\n",
              "      <td>0.001663</td>\n",
              "      <td>0.003351</td>\n",
              "      <td>-0.000482</td>\n",
              "      <td>0.002444</td>\n",
              "      <td>0.001799</td>\n",
              "      <td>0.002170</td>\n",
              "      <td>0.004248</td>\n",
              "      <td>0.000457</td>\n",
              "      <td>0.002500</td>\n",
              "      <td>0.001429</td>\n",
              "      <td>0.002717</td>\n",
              "      <td>0.001612</td>\n",
              "      <td>0.002906</td>\n",
              "    </tr>\n",
              "    <tr>\n",
              "      <th>2</th>\n",
              "      <td>0.041468</td>\n",
              "      <td>0.006025</td>\n",
              "      <td>0.000979</td>\n",
              "      <td>-0.000185</td>\n",
              "      <td>0.000113</td>\n",
              "      <td>-0.000584</td>\n",
              "      <td>-0.001301</td>\n",
              "      <td>0.002064</td>\n",
              "      <td>0.006898</td>\n",
              "      <td>-0.000452</td>\n",
              "      <td>0.003383</td>\n",
              "      <td>-0.000500</td>\n",
              "      <td>-0.000279</td>\n",
              "      <td>0.026816</td>\n",
              "      <td>0.000063</td>\n",
              "      <td>0.013138</td>\n",
              "      <td>-0.002104</td>\n",
              "      <td>0.007929</td>\n",
              "      <td>0.028563</td>\n",
              "      <td>0.006753</td>\n",
              "      <td>0.009353</td>\n",
              "      <td>-0.000730</td>\n",
              "      <td>-0.002415</td>\n",
              "      <td>-0.003341</td>\n",
              "      <td>0.000609</td>\n",
              "      <td>0.103181</td>\n",
              "      <td>-0.002751</td>\n",
              "      <td>0.012737</td>\n",
              "      <td>-0.001593</td>\n",
              "      <td>-0.006495</td>\n",
              "      <td>0.014361</td>\n",
              "      <td>-0.003431</td>\n",
              "      <td>-0.004600</td>\n",
              "      <td>0.010785</td>\n",
              "      <td>-0.002245</td>\n",
              "      <td>0.006107</td>\n",
              "      <td>-0.000415</td>\n",
              "      <td>0.000069</td>\n",
              "      <td>-0.000089</td>\n",
              "      <td>-0.007940</td>\n",
              "      <td>...</td>\n",
              "      <td>-0.001501</td>\n",
              "      <td>0.000702</td>\n",
              "      <td>0.015631</td>\n",
              "      <td>-0.001208</td>\n",
              "      <td>-0.002985</td>\n",
              "      <td>0.002088</td>\n",
              "      <td>-0.000643</td>\n",
              "      <td>-0.001286</td>\n",
              "      <td>0.016248</td>\n",
              "      <td>-0.002960</td>\n",
              "      <td>0.007363</td>\n",
              "      <td>-0.001365</td>\n",
              "      <td>-0.000500</td>\n",
              "      <td>-0.001094</td>\n",
              "      <td>-0.001979</td>\n",
              "      <td>-0.001050</td>\n",
              "      <td>0.000406</td>\n",
              "      <td>-0.000570</td>\n",
              "      <td>0.000654</td>\n",
              "      <td>-0.002445</td>\n",
              "      <td>0.002131</td>\n",
              "      <td>-0.000550</td>\n",
              "      <td>-0.000860</td>\n",
              "      <td>-0.000832</td>\n",
              "      <td>-0.000357</td>\n",
              "      <td>-0.003322</td>\n",
              "      <td>0.001470</td>\n",
              "      <td>0.000643</td>\n",
              "      <td>-0.000149</td>\n",
              "      <td>0.020426</td>\n",
              "      <td>0.013245</td>\n",
              "      <td>-0.000471</td>\n",
              "      <td>-0.000450</td>\n",
              "      <td>-0.001288</td>\n",
              "      <td>-0.001100</td>\n",
              "      <td>-0.000304</td>\n",
              "      <td>0.000740</td>\n",
              "      <td>-0.000970</td>\n",
              "      <td>0.005458</td>\n",
              "      <td>0.003071</td>\n",
              "    </tr>\n",
              "    <tr>\n",
              "      <th>3</th>\n",
              "      <td>0.012526</td>\n",
              "      <td>-0.007294</td>\n",
              "      <td>-0.049152</td>\n",
              "      <td>0.016791</td>\n",
              "      <td>0.007652</td>\n",
              "      <td>0.008474</td>\n",
              "      <td>-0.000561</td>\n",
              "      <td>0.216952</td>\n",
              "      <td>-0.007989</td>\n",
              "      <td>-0.000448</td>\n",
              "      <td>-0.010792</td>\n",
              "      <td>0.018214</td>\n",
              "      <td>-0.015798</td>\n",
              "      <td>-0.019342</td>\n",
              "      <td>-0.019923</td>\n",
              "      <td>-0.000327</td>\n",
              "      <td>-0.018256</td>\n",
              "      <td>0.093414</td>\n",
              "      <td>-0.005454</td>\n",
              "      <td>0.057494</td>\n",
              "      <td>0.006188</td>\n",
              "      <td>-0.016744</td>\n",
              "      <td>-0.052922</td>\n",
              "      <td>-0.056000</td>\n",
              "      <td>-0.012182</td>\n",
              "      <td>0.029848</td>\n",
              "      <td>0.066373</td>\n",
              "      <td>0.022706</td>\n",
              "      <td>-0.009206</td>\n",
              "      <td>5.136776</td>\n",
              "      <td>-0.006904</td>\n",
              "      <td>0.053609</td>\n",
              "      <td>0.125857</td>\n",
              "      <td>0.087784</td>\n",
              "      <td>-0.010716</td>\n",
              "      <td>-0.000943</td>\n",
              "      <td>0.068117</td>\n",
              "      <td>0.006889</td>\n",
              "      <td>0.075727</td>\n",
              "      <td>0.059781</td>\n",
              "      <td>...</td>\n",
              "      <td>0.107686</td>\n",
              "      <td>0.001396</td>\n",
              "      <td>-0.004747</td>\n",
              "      <td>0.007985</td>\n",
              "      <td>0.009224</td>\n",
              "      <td>-0.050409</td>\n",
              "      <td>-0.007999</td>\n",
              "      <td>-0.007204</td>\n",
              "      <td>-0.029613</td>\n",
              "      <td>-0.025877</td>\n",
              "      <td>0.139842</td>\n",
              "      <td>-0.009576</td>\n",
              "      <td>0.194051</td>\n",
              "      <td>0.010774</td>\n",
              "      <td>0.051396</td>\n",
              "      <td>0.150119</td>\n",
              "      <td>-0.004026</td>\n",
              "      <td>-0.019015</td>\n",
              "      <td>-0.003711</td>\n",
              "      <td>0.366904</td>\n",
              "      <td>-0.025602</td>\n",
              "      <td>0.012382</td>\n",
              "      <td>0.056145</td>\n",
              "      <td>0.112055</td>\n",
              "      <td>-0.001039</td>\n",
              "      <td>0.042679</td>\n",
              "      <td>-0.019832</td>\n",
              "      <td>-0.005309</td>\n",
              "      <td>0.020243</td>\n",
              "      <td>0.017145</td>\n",
              "      <td>-0.018081</td>\n",
              "      <td>0.272350</td>\n",
              "      <td>-0.000349</td>\n",
              "      <td>-0.086364</td>\n",
              "      <td>0.098438</td>\n",
              "      <td>-0.016312</td>\n",
              "      <td>0.005481</td>\n",
              "      <td>-0.000619</td>\n",
              "      <td>-0.011822</td>\n",
              "      <td>-0.029171</td>\n",
              "    </tr>\n",
              "    <tr>\n",
              "      <th>4</th>\n",
              "      <td>0.011637</td>\n",
              "      <td>0.001626</td>\n",
              "      <td>0.005995</td>\n",
              "      <td>0.003591</td>\n",
              "      <td>0.000791</td>\n",
              "      <td>0.000307</td>\n",
              "      <td>0.001230</td>\n",
              "      <td>0.000140</td>\n",
              "      <td>0.003197</td>\n",
              "      <td>0.000181</td>\n",
              "      <td>0.000660</td>\n",
              "      <td>0.000032</td>\n",
              "      <td>-0.000067</td>\n",
              "      <td>0.005010</td>\n",
              "      <td>0.004412</td>\n",
              "      <td>0.002946</td>\n",
              "      <td>0.000415</td>\n",
              "      <td>0.001938</td>\n",
              "      <td>0.007347</td>\n",
              "      <td>0.003517</td>\n",
              "      <td>0.001499</td>\n",
              "      <td>0.000029</td>\n",
              "      <td>0.000205</td>\n",
              "      <td>0.002677</td>\n",
              "      <td>0.001818</td>\n",
              "      <td>0.025723</td>\n",
              "      <td>0.002496</td>\n",
              "      <td>0.003864</td>\n",
              "      <td>0.001086</td>\n",
              "      <td>0.007377</td>\n",
              "      <td>0.003004</td>\n",
              "      <td>0.001935</td>\n",
              "      <td>0.001060</td>\n",
              "      <td>0.016859</td>\n",
              "      <td>-0.000036</td>\n",
              "      <td>0.001137</td>\n",
              "      <td>0.000311</td>\n",
              "      <td>-0.000326</td>\n",
              "      <td>0.009025</td>\n",
              "      <td>0.010817</td>\n",
              "      <td>...</td>\n",
              "      <td>0.000379</td>\n",
              "      <td>-0.001280</td>\n",
              "      <td>0.001176</td>\n",
              "      <td>-0.000350</td>\n",
              "      <td>0.002699</td>\n",
              "      <td>-0.003741</td>\n",
              "      <td>0.001855</td>\n",
              "      <td>0.000277</td>\n",
              "      <td>0.007407</td>\n",
              "      <td>-0.000385</td>\n",
              "      <td>-0.001477</td>\n",
              "      <td>0.000297</td>\n",
              "      <td>0.004108</td>\n",
              "      <td>0.007063</td>\n",
              "      <td>0.001283</td>\n",
              "      <td>0.000462</td>\n",
              "      <td>-0.000613</td>\n",
              "      <td>0.000445</td>\n",
              "      <td>0.002179</td>\n",
              "      <td>-0.000062</td>\n",
              "      <td>-0.000526</td>\n",
              "      <td>0.000142</td>\n",
              "      <td>0.000298</td>\n",
              "      <td>0.004597</td>\n",
              "      <td>-0.000213</td>\n",
              "      <td>0.003119</td>\n",
              "      <td>0.001562</td>\n",
              "      <td>0.000036</td>\n",
              "      <td>0.001779</td>\n",
              "      <td>0.003283</td>\n",
              "      <td>0.002919</td>\n",
              "      <td>0.000316</td>\n",
              "      <td>0.000178</td>\n",
              "      <td>0.002557</td>\n",
              "      <td>0.000067</td>\n",
              "      <td>0.002419</td>\n",
              "      <td>0.000473</td>\n",
              "      <td>0.001171</td>\n",
              "      <td>0.002004</td>\n",
              "      <td>0.000211</td>\n",
              "    </tr>\n",
              "  </tbody>\n",
              "</table>\n",
              "<p>5 rows × 69888 columns</p>\n",
              "</div>"
            ],
            "text/plain": [
              "songs    262145    393217    393222  ...    262140    262142    131071\n",
              "0      0.009627 -0.003137  0.055012  ...  0.011078 -0.001777  0.010460\n",
              "1      0.004792  0.001572  0.001774  ...  0.002717  0.001612  0.002906\n",
              "2      0.041468  0.006025  0.000979  ... -0.000970  0.005458  0.003071\n",
              "3      0.012526 -0.007294 -0.049152  ... -0.000619 -0.011822 -0.029171\n",
              "4      0.011637  0.001626  0.005995  ...  0.001171  0.002004  0.000211\n",
              "\n",
              "[5 rows x 69888 columns]"
            ]
          },
          "metadata": {
            "tags": []
          },
          "execution_count": 19
        }
      ]
    },
    {
      "cell_type": "code",
      "metadata": {
        "id": "iqZ3E2vvb4PE",
        "colab": {
          "base_uri": "https://localhost:8080/"
        },
        "outputId": "3ee50015-7e22-4f91-f16d-e481269cb360"
      },
      "source": [
        "df_svd_preds.shape"
      ],
      "execution_count": null,
      "outputs": [
        {
          "output_type": "execute_result",
          "data": {
            "text/plain": [
              "(1382, 69888)"
            ]
          },
          "metadata": {
            "tags": []
          },
          "execution_count": 20
        }
      ]
    },
    {
      "cell_type": "code",
      "metadata": {
        "id": "his9qEj85lch"
      },
      "source": [
        "#creating function to get recommendations, 코드 원상태\n",
        "def svd_recommender(df_svd_preds, tag, ori_pivot, number_recomm):\n",
        "    tag_row_number = df_pivot.index.tolist().index(tag)\n",
        "    tag_predicted_songs = df_svd_preds.loc[tag_row_number, :].sort_values(ascending = False)\n",
        "    recommend_song = tag_predicted_songs.head(number_recomm)\n",
        "    top_song_names = df_song_meta[df_song_meta.id.isin(recommend_song.index)][['artist_name_basket','song_name']].values\n",
        "    return recommend_song, top_song_names"
      ],
      "execution_count": null,
      "outputs": []
    },
    {
      "cell_type": "code",
      "metadata": {
        "id": "wbevLyek6JVY",
        "colab": {
          "base_uri": "https://localhost:8080/"
        },
        "outputId": "35589f0f-7198-47ae-86f5-56d752747c15"
      },
      "source": [
        "%time tag_song_recommendation = svd_recommender(df_svd_preds, '성탄절' , df_pivot, 10)"
      ],
      "execution_count": null,
      "outputs": [
        {
          "output_type": "stream",
          "text": [
            "CPU times: user 20 ms, sys: 732 µs, total: 20.7 ms\n",
            "Wall time: 22.5 ms\n"
          ],
          "name": "stdout"
        }
      ]
    },
    {
      "cell_type": "code",
      "metadata": {
        "id": "SvGG5ZJWSLbO",
        "colab": {
          "base_uri": "https://localhost:8080/",
          "height": 80
        },
        "outputId": "2979067f-dded-41f7-f5e1-4f7e8a082da6"
      },
      "source": [
        "df_song_meta[df_song_meta.id == 695032]"
      ],
      "execution_count": null,
      "outputs": [
        {
          "output_type": "execute_result",
          "data": {
            "text/html": [
              "<div>\n",
              "<style scoped>\n",
              "    .dataframe tbody tr th:only-of-type {\n",
              "        vertical-align: middle;\n",
              "    }\n",
              "\n",
              "    .dataframe tbody tr th {\n",
              "        vertical-align: top;\n",
              "    }\n",
              "\n",
              "    .dataframe thead th {\n",
              "        text-align: right;\n",
              "    }\n",
              "</style>\n",
              "<table border=\"1\" class=\"dataframe\">\n",
              "  <thead>\n",
              "    <tr style=\"text-align: right;\">\n",
              "      <th></th>\n",
              "      <th>song_gn_dtl_gnr_basket</th>\n",
              "      <th>issue_date</th>\n",
              "      <th>album_name</th>\n",
              "      <th>album_id</th>\n",
              "      <th>artist_id_basket</th>\n",
              "      <th>song_name</th>\n",
              "      <th>song_gn_gnr_basket</th>\n",
              "      <th>artist_name_basket</th>\n",
              "      <th>id</th>\n",
              "    </tr>\n",
              "  </thead>\n",
              "  <tbody>\n",
              "    <tr>\n",
              "      <th>695032</th>\n",
              "      <td>[GN0101]</td>\n",
              "      <td>20121206</td>\n",
              "      <td>Jelly Christmas 2012 HEART PROJECT</td>\n",
              "      <td>2168409</td>\n",
              "      <td>[3305, 1191, 205858, 436700, 672560]</td>\n",
              "      <td>크리스마스니까</td>\n",
              "      <td>[GN0100]</td>\n",
              "      <td>[성시경, 박효신, 이석훈, 서인국, VIXX (빅스)]</td>\n",
              "      <td>695032</td>\n",
              "    </tr>\n",
              "  </tbody>\n",
              "</table>\n",
              "</div>"
            ],
            "text/plain": [
              "       song_gn_dtl_gnr_basket  ...      id\n",
              "695032               [GN0101]  ...  695032\n",
              "\n",
              "[1 rows x 9 columns]"
            ]
          },
          "metadata": {
            "tags": []
          },
          "execution_count": 23
        }
      ]
    },
    {
      "cell_type": "code",
      "metadata": {
        "id": "BLmrcpIJ6TfH"
      },
      "source": [
        "a,b=tag_song_recommendation"
      ],
      "execution_count": null,
      "outputs": []
    },
    {
      "cell_type": "code",
      "metadata": {
        "id": "3XQB6cbFSulN",
        "colab": {
          "base_uri": "https://localhost:8080/"
        },
        "outputId": "63481ec3-af80-4e77-b2df-8af9ace3ca0d"
      },
      "source": [
        "a.index"
      ],
      "execution_count": null,
      "outputs": [
        {
          "output_type": "execute_result",
          "data": {
            "text/plain": [
              "Int64Index([326204, 695032, 387859, 358186, 112399, 468494, 422176, 5049,\n",
              "            55791, 61771],\n",
              "           dtype='int64', name='songs')"
            ]
          },
          "metadata": {
            "tags": []
          },
          "execution_count": 25
        }
      ]
    },
    {
      "cell_type": "code",
      "metadata": {
        "id": "t53wQ_-bSyV5",
        "colab": {
          "base_uri": "https://localhost:8080/"
        },
        "outputId": "ef1b1d5e-fd95-4afe-a6f0-e83eca80955e"
      },
      "source": [
        "b"
      ],
      "execution_count": null,
      "outputs": [
        {
          "output_type": "execute_result",
          "data": {
            "text/plain": [
              "array([[list(['성시경', '박효신', '서인국', 'VIXX (빅스)', '여동생']), '겨울 고백'],\n",
              "       [list(['EXO']), '12월의 기적 (Miracles In December)'],\n",
              "       [list(['Sia']), 'Snowman'],\n",
              "       [list(['SG 워너비', '브라운아이드걸스']), 'Must Have Love'],\n",
              "       [list(['아이유']), '미리 메리 크리스마스 (Feat. 천둥 Of MBLAQ)'],\n",
              "       [list(['Ariana Grande']), 'Santa Tell Me'],\n",
              "       [list(['Mariah Carey']), 'All I Want For Christmas Is You'],\n",
              "       [list(['소녀시대-태티서 (Girls` Generation-TTS)']), 'Dear Santa'],\n",
              "       [list(['EXO']), '첫 눈'],\n",
              "       [list(['성시경', '박효신', '이석훈', '서인국', 'VIXX (빅스)']), '크리스마스니까']],\n",
              "      dtype=object)"
            ]
          },
          "metadata": {
            "tags": []
          },
          "execution_count": 26
        }
      ]
    },
    {
      "cell_type": "code",
      "metadata": {
        "id": "OUBQSByc8bOF"
      },
      "source": [
        ""
      ],
      "execution_count": null,
      "outputs": []
    },
    {
      "cell_type": "markdown",
      "metadata": {
        "id": "0_ysPpn08cn-"
      },
      "source": [
        "# For React js"
      ]
    },
    {
      "cell_type": "code",
      "metadata": {
        "id": "G8W_ywGw9WyS"
      },
      "source": [
        "import json"
      ],
      "execution_count": null,
      "outputs": []
    },
    {
      "cell_type": "code",
      "metadata": {
        "id": "2Ukw3Ahp8nvL"
      },
      "source": [
        "# pivot table 불러오기\n",
        "df_pivot = pd.read_pickle('./capstone_data/pivot_songs_tags.pickle')"
      ],
      "execution_count": null,
      "outputs": []
    },
    {
      "cell_type": "code",
      "metadata": {
        "id": "4azKVP3v84k7"
      },
      "source": [
        "unique_tags = list(set([tag for tags in df.tags for tag in tags]))"
      ],
      "execution_count": null,
      "outputs": []
    },
    {
      "cell_type": "code",
      "metadata": {
        "colab": {
          "base_uri": "https://localhost:8080/"
        },
        "id": "CkepUB6ILzpy",
        "outputId": "4d6e6145-8428-4153-b11a-a3d32c6ec368"
      },
      "source": [
        "len(unique_tags)"
      ],
      "execution_count": null,
      "outputs": [
        {
          "output_type": "execute_result",
          "data": {
            "text/plain": [
              "1382"
            ]
          },
          "metadata": {
            "tags": []
          },
          "execution_count": 34
        }
      ]
    },
    {
      "cell_type": "code",
      "metadata": {
        "colab": {
          "base_uri": "https://localhost:8080/",
          "height": 168
        },
        "id": "vd2hun82LX_6",
        "outputId": "506b96ca-3a70-4af9-c85a-68dbadd4f55f"
      },
      "source": [
        "unique_tags[1382]"
      ],
      "execution_count": null,
      "outputs": [
        {
          "output_type": "error",
          "ename": "IndexError",
          "evalue": "ignored",
          "traceback": [
            "\u001b[0;31m---------------------------------------------------------------------------\u001b[0m",
            "\u001b[0;31mIndexError\u001b[0m                                Traceback (most recent call last)",
            "\u001b[0;32m<ipython-input-169-a6dac71be1e8>\u001b[0m in \u001b[0;36m<module>\u001b[0;34m()\u001b[0m\n\u001b[0;32m----> 1\u001b[0;31m \u001b[0munique_tags\u001b[0m\u001b[0;34m[\u001b[0m\u001b[0;36m1382\u001b[0m\u001b[0;34m]\u001b[0m\u001b[0;34m\u001b[0m\u001b[0;34m\u001b[0m\u001b[0m\n\u001b[0m",
            "\u001b[0;31mIndexError\u001b[0m: list index out of range"
          ]
        }
      ]
    },
    {
      "cell_type": "code",
      "metadata": {
        "colab": {
          "base_uri": "https://localhost:8080/"
        },
        "id": "Eo6rSlIsQMZ8",
        "outputId": "942f3e13-6971-4aeb-f370-d39a04e19f8b"
      },
      "source": [
        "for i in range(1300,1376,5):\n",
        "  print(\"{ title: '\",unique_tags[i],\"'}, \",\"{ title: '\",unique_tags[i+1],\"'}, \",\"{ title: '\",unique_tags[i+2],\"'}, \",\"{ title: '\",unique_tags[i+3],\"'}, \",\"{ title: '\",unique_tags[i+4],\"'}, \" )"
      ],
      "execution_count": null,
      "outputs": [
        {
          "output_type": "stream",
          "text": [
            "{ title: ' 출퇴근길 '},  { title: ' 스타일리쉬 '},  { title: ' 해외알앤비소울 '},  { title: ' 빅뱅 '},  { title: ' 수록곡 '}, \n",
            "{ title: ' 오디션 '},  { title: ' 새벽감성 '},  { title: ' 감성적인 '},  { title: ' 트로피칼 '},  { title: ' 힘내요 '}, \n",
            "{ title: ' 댄스 '},  { title: ' 성인가요 '},  { title: ' 장르불문 '},  { title: ' 그냥 '},  { title: ' 얼터너티브록 '}, \n",
            "{ title: ' 매장노래 '},  { title: ' bonOBono '},  { title: ' dance '},  { title: ' 빈지노 '},  { title: ' 어쿠스틱 '}, \n",
            "{ title: ' 신스팝 '},  { title: ' 힐링송 '},  { title: ' 끈적한 '},  { title: ' 이어폰 '},  { title: ' 로큰롤 '}, \n",
            "{ title: ' 여름향기 '},  { title: ' 미디어 '},  { title: ' 이디엠 '},  { title: ' 드림팝 '},  { title: ' 슬플때 '}, \n",
            "{ title: ' 시험기간 '},  { title: ' 뉴트로 '},  { title: ' 재즈피아노 '},  { title: ' 러브 '},  { title: ' 일렉트로닉 '}, \n",
            "{ title: ' 하드록 '},  { title: ' 이불 '},  { title: ' 여자 '},  { title: ' 오케스트라 '},  { title: ' 무기력 '}, \n",
            "{ title: ' 팝랩 '},  { title: ' 가을노래 '},  { title: ' 석양 '},  { title: ' 출근 '},  { title: ' 리믹스 '}, \n",
            "{ title: ' 일렉팝 '},  { title: ' 신나는노래 '},  { title: ' 여자보컬 '},  { title: ' 스윙 '},  { title: ' 남자아이돌 '}, \n",
            "{ title: ' 뮤지컬 '},  { title: ' 밝은 '},  { title: ' 신난_흥겨운 '},  { title: ' 헬스 '},  { title: ' 사색 '}, \n",
            "{ title: ' 노래추천 '},  { title: ' 비오는날듣기좋은노래 '},  { title: ' 오마이걸 '},  { title: ' 축제 '},  { title: ' 커피한잔 '}, \n",
            "{ title: ' 심야 '},  { title: ' 빅밴드 '},  { title: ' 남자가수 '},  { title: ' Pop '},  { title: ' electronica '}, \n",
            "{ title: ' 낮 '},  { title: ' 팝뮤직 '},  { title: ' 헤어짐 '},  { title: ' 광고 '},  { title: ' 햇살 '}, \n",
            "{ title: ' 혼술 '},  { title: ' 비행기 '},  { title: ' 살랑살랑 '},  { title: ' 바캉스 '},  { title: ' 루프탑 '}, \n",
            "{ title: ' 청량한 '},  { title: ' 포근한 '},  { title: ' 로우파이 '},  { title: ' 기분전환 '},  { title: ' 밤공기 '}, \n"
          ],
          "name": "stdout"
        }
      ]
    }
  ]
}
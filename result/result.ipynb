{
 "cells": [
  {
   "cell_type": "code",
   "execution_count": 2,
   "metadata": {},
   "outputs": [],
   "source": [
    "import pandas as pd\n",
    "import glob"
   ]
  },
  {
   "cell_type": "code",
   "execution_count": 11,
   "metadata": {},
   "outputs": [
    {
     "data": {
      "text/plain": [
       "['cluster_v2_final_result.json',\n",
       " 'Untitled.ipynb',\n",
       " 'cluster_v1_final_result.json',\n",
       " 'result.ipynb',\n",
       " 'final_result_all.json',\n",
       " 'svd_final_result.json']"
      ]
     },
     "execution_count": 11,
     "metadata": {},
     "output_type": "execute_result"
    }
   ],
   "source": [
    "glob.glob('*')"
   ]
  },
  {
   "cell_type": "code",
   "execution_count": 12,
   "metadata": {},
   "outputs": [],
   "source": [
    "df_result_svd = pd.read_json('svd_final_result.json')\n",
    "df_result_v1 = pd.read_json('cluster_v1_final_result.json')\n",
    "df_result_v2 = pd.read_json('cluster_v2_final_result.json')\n",
    "df_result_all = pd.read_json('final_result_all.json')"
   ]
  },
  {
   "cell_type": "code",
   "execution_count": 47,
   "metadata": {},
   "outputs": [
    {
     "data": {
      "text/html": [
       "<div>\n",
       "<style scoped>\n",
       "    .dataframe tbody tr th:only-of-type {\n",
       "        vertical-align: middle;\n",
       "    }\n",
       "\n",
       "    .dataframe tbody tr th {\n",
       "        vertical-align: top;\n",
       "    }\n",
       "\n",
       "    .dataframe thead th {\n",
       "        text-align: right;\n",
       "    }\n",
       "</style>\n",
       "<table border=\"1\" class=\"dataframe\">\n",
       "  <thead>\n",
       "    <tr style=\"text-align: right;\">\n",
       "      <th></th>\n",
       "      <th>tag</th>\n",
       "      <th>true</th>\n",
       "      <th>result</th>\n",
       "      <th>k50</th>\n",
       "      <th>k25</th>\n",
       "      <th>k10</th>\n",
       "      <th>recall@50</th>\n",
       "      <th>recall@25</th>\n",
       "      <th>recall@10</th>\n",
       "      <th>precision@50</th>\n",
       "      <th>precision@25</th>\n",
       "      <th>precision@10</th>\n",
       "    </tr>\n",
       "  </thead>\n",
       "  <tbody>\n",
       "    <tr>\n",
       "      <th>43</th>\n",
       "      <td>눈</td>\n",
       "      <td>[582252, 631042, 199262, 500031, 374743, 23260...</td>\n",
       "      <td>[326204, 695032, 519391, 358186, 640657, 38785...</td>\n",
       "      <td>15</td>\n",
       "      <td>10</td>\n",
       "      <td>3</td>\n",
       "      <td>0.172414</td>\n",
       "      <td>0.114943</td>\n",
       "      <td>0.034483</td>\n",
       "      <td>0.30</td>\n",
       "      <td>0.40</td>\n",
       "      <td>0.3</td>\n",
       "    </tr>\n",
       "    <tr>\n",
       "      <th>341</th>\n",
       "      <td>매장음악</td>\n",
       "      <td>[170317, 162551, 633618, 671154, 199390, 61890...</td>\n",
       "      <td>[519391, 205179, 144663, 493762, 273170, 58179...</td>\n",
       "      <td>15</td>\n",
       "      <td>7</td>\n",
       "      <td>3</td>\n",
       "      <td>0.017084</td>\n",
       "      <td>0.007973</td>\n",
       "      <td>0.003417</td>\n",
       "      <td>0.30</td>\n",
       "      <td>0.28</td>\n",
       "      <td>0.3</td>\n",
       "    </tr>\n",
       "    <tr>\n",
       "      <th>297</th>\n",
       "      <td>회상</td>\n",
       "      <td>[198592, 107916, 414221, 622548, 55531, 106990...</td>\n",
       "      <td>[116573, 38261, 509998, 367963, 366786, 582252...</td>\n",
       "      <td>14</td>\n",
       "      <td>10</td>\n",
       "      <td>3</td>\n",
       "      <td>0.016413</td>\n",
       "      <td>0.011723</td>\n",
       "      <td>0.003517</td>\n",
       "      <td>0.28</td>\n",
       "      <td>0.40</td>\n",
       "      <td>0.3</td>\n",
       "    </tr>\n",
       "    <tr>\n",
       "      <th>198</th>\n",
       "      <td>새벽감성</td>\n",
       "      <td>[613497, 8980, 280349, 325363, 573294, 543371,...</td>\n",
       "      <td>[144663, 357367, 543371, 174749, 368069, 35134...</td>\n",
       "      <td>13</td>\n",
       "      <td>7</td>\n",
       "      <td>2</td>\n",
       "      <td>0.087838</td>\n",
       "      <td>0.047297</td>\n",
       "      <td>0.013514</td>\n",
       "      <td>0.26</td>\n",
       "      <td>0.28</td>\n",
       "      <td>0.2</td>\n",
       "    </tr>\n",
       "    <tr>\n",
       "      <th>354</th>\n",
       "      <td>편안한</td>\n",
       "      <td>[176125, 516653, 360221, 64052, 160291, 254577...</td>\n",
       "      <td>[696494, 273170, 126656, 571790, 599022, 52192...</td>\n",
       "      <td>13</td>\n",
       "      <td>6</td>\n",
       "      <td>2</td>\n",
       "      <td>0.069892</td>\n",
       "      <td>0.032258</td>\n",
       "      <td>0.010753</td>\n",
       "      <td>0.26</td>\n",
       "      <td>0.24</td>\n",
       "      <td>0.2</td>\n",
       "    </tr>\n",
       "  </tbody>\n",
       "</table>\n",
       "</div>"
      ],
      "text/plain": [
       "      tag                                               true  \\\n",
       "43      눈  [582252, 631042, 199262, 500031, 374743, 23260...   \n",
       "341  매장음악  [170317, 162551, 633618, 671154, 199390, 61890...   \n",
       "297    회상  [198592, 107916, 414221, 622548, 55531, 106990...   \n",
       "198  새벽감성  [613497, 8980, 280349, 325363, 573294, 543371,...   \n",
       "354   편안한  [176125, 516653, 360221, 64052, 160291, 254577...   \n",
       "\n",
       "                                                result  k50  k25  k10  \\\n",
       "43   [326204, 695032, 519391, 358186, 640657, 38785...   15   10    3   \n",
       "341  [519391, 205179, 144663, 493762, 273170, 58179...   15    7    3   \n",
       "297  [116573, 38261, 509998, 367963, 366786, 582252...   14   10    3   \n",
       "198  [144663, 357367, 543371, 174749, 368069, 35134...   13    7    2   \n",
       "354  [696494, 273170, 126656, 571790, 599022, 52192...   13    6    2   \n",
       "\n",
       "     recall@50  recall@25  recall@10  precision@50  precision@25  precision@10  \n",
       "43    0.172414   0.114943   0.034483          0.30          0.40           0.3  \n",
       "341   0.017084   0.007973   0.003417          0.30          0.28           0.3  \n",
       "297   0.016413   0.011723   0.003517          0.28          0.40           0.3  \n",
       "198   0.087838   0.047297   0.013514          0.26          0.28           0.2  \n",
       "354   0.069892   0.032258   0.010753          0.26          0.24           0.2  "
      ]
     },
     "execution_count": 47,
     "metadata": {},
     "output_type": "execute_result"
    }
   ],
   "source": [
    "df_result_svd.sort_values('k50',ascending=False).head(5)"
   ]
  },
  {
   "cell_type": "code",
   "execution_count": 51,
   "metadata": {},
   "outputs": [],
   "source": [
    "# df_result_v1.sort_values('k50',ascending=False).head(5)"
   ]
  },
  {
   "cell_type": "code",
   "execution_count": 49,
   "metadata": {},
   "outputs": [
    {
     "data": {
      "text/html": [
       "<div>\n",
       "<style scoped>\n",
       "    .dataframe tbody tr th:only-of-type {\n",
       "        vertical-align: middle;\n",
       "    }\n",
       "\n",
       "    .dataframe tbody tr th {\n",
       "        vertical-align: top;\n",
       "    }\n",
       "\n",
       "    .dataframe thead th {\n",
       "        text-align: right;\n",
       "    }\n",
       "</style>\n",
       "<table border=\"1\" class=\"dataframe\">\n",
       "  <thead>\n",
       "    <tr style=\"text-align: right;\">\n",
       "      <th></th>\n",
       "      <th>tag</th>\n",
       "      <th>recall</th>\n",
       "      <th>precision</th>\n",
       "      <th>prediction</th>\n",
       "      <th>true</th>\n",
       "      <th>correct</th>\n",
       "      <th>spent</th>\n",
       "      <th>k50</th>\n",
       "      <th>k25</th>\n",
       "      <th>k10</th>\n",
       "      <th>recall@50</th>\n",
       "      <th>recall@25</th>\n",
       "      <th>recall@10</th>\n",
       "      <th>precision@50</th>\n",
       "      <th>precision@25</th>\n",
       "      <th>precision@10</th>\n",
       "      <th>k25_prediction</th>\n",
       "      <th>k10_prediction</th>\n",
       "    </tr>\n",
       "  </thead>\n",
       "  <tbody>\n",
       "    <tr>\n",
       "      <th>251</th>\n",
       "      <td>잔잔한</td>\n",
       "      <td>0.0</td>\n",
       "      <td>0.0</td>\n",
       "      <td>[23997, 194344, 107916, 177460, 508805, 24322,...</td>\n",
       "      <td>[523, 810, 865, 1209, 1233, 1521, 1601, 2230, ...</td>\n",
       "      <td>0</td>\n",
       "      <td>1.526481</td>\n",
       "      <td>17</td>\n",
       "      <td>8</td>\n",
       "      <td>3</td>\n",
       "      <td>0.007724</td>\n",
       "      <td>0.003635</td>\n",
       "      <td>0.001363</td>\n",
       "      <td>0.34</td>\n",
       "      <td>0.32</td>\n",
       "      <td>0.3</td>\n",
       "      <td>[23997, 194344, 107916, 177460, 508805, 24322,...</td>\n",
       "      <td>[23997, 194344, 107916, 177460, 508805, 24322,...</td>\n",
       "    </tr>\n",
       "    <tr>\n",
       "      <th>8</th>\n",
       "      <td>EDM</td>\n",
       "      <td>0.0</td>\n",
       "      <td>0.0</td>\n",
       "      <td>[637149, 46468, 69113, 658227, 102237, 29308, ...</td>\n",
       "      <td>[1885, 2178, 7605, 12992, 14599, 16737, 21195,...</td>\n",
       "      <td>0</td>\n",
       "      <td>0.303762</td>\n",
       "      <td>12</td>\n",
       "      <td>6</td>\n",
       "      <td>2</td>\n",
       "      <td>0.052863</td>\n",
       "      <td>0.026432</td>\n",
       "      <td>0.008811</td>\n",
       "      <td>0.24</td>\n",
       "      <td>0.24</td>\n",
       "      <td>0.2</td>\n",
       "      <td>[637149, 46468, 69113, 658227, 102237, 29308, ...</td>\n",
       "      <td>[637149, 46468, 69113, 658227, 102237, 29308, ...</td>\n",
       "    </tr>\n",
       "    <tr>\n",
       "      <th>117</th>\n",
       "      <td>발라드</td>\n",
       "      <td>0.0</td>\n",
       "      <td>0.0</td>\n",
       "      <td>[116573, 357367, 367963, 152475, 174749, 59459...</td>\n",
       "      <td>[224, 250, 642, 768, 2063, 2230, 2512, 2874, 2...</td>\n",
       "      <td>0</td>\n",
       "      <td>1.002171</td>\n",
       "      <td>12</td>\n",
       "      <td>8</td>\n",
       "      <td>3</td>\n",
       "      <td>0.006511</td>\n",
       "      <td>0.004341</td>\n",
       "      <td>0.001628</td>\n",
       "      <td>0.24</td>\n",
       "      <td>0.32</td>\n",
       "      <td>0.3</td>\n",
       "      <td>[116573, 357367, 367963, 152475, 174749, 59459...</td>\n",
       "      <td>[116573, 357367, 367963, 152475, 174749, 59459...</td>\n",
       "    </tr>\n",
       "    <tr>\n",
       "      <th>155</th>\n",
       "      <td>새벽</td>\n",
       "      <td>0.0</td>\n",
       "      <td>0.0</td>\n",
       "      <td>[332646, 508805, 548005, 707621, 659416, 47351...</td>\n",
       "      <td>[224, 289, 311, 523, 579, 699, 865, 1761, 2095...</td>\n",
       "      <td>0</td>\n",
       "      <td>0.996936</td>\n",
       "      <td>11</td>\n",
       "      <td>7</td>\n",
       "      <td>3</td>\n",
       "      <td>0.006044</td>\n",
       "      <td>0.003846</td>\n",
       "      <td>0.001648</td>\n",
       "      <td>0.22</td>\n",
       "      <td>0.28</td>\n",
       "      <td>0.3</td>\n",
       "      <td>[332646, 508805, 548005, 707621, 659416, 47351...</td>\n",
       "      <td>[332646, 508805, 548005, 707621, 659416, 47351...</td>\n",
       "    </tr>\n",
       "    <tr>\n",
       "      <th>30</th>\n",
       "      <td>감성</td>\n",
       "      <td>0.0</td>\n",
       "      <td>0.0</td>\n",
       "      <td>[664036, 247121, 508805, 613722, 283780, 20593...</td>\n",
       "      <td>[30, 224, 289, 579, 1236, 1508, 1521, 1697, 21...</td>\n",
       "      <td>0</td>\n",
       "      <td>1.004033</td>\n",
       "      <td>11</td>\n",
       "      <td>8</td>\n",
       "      <td>4</td>\n",
       "      <td>0.005011</td>\n",
       "      <td>0.003645</td>\n",
       "      <td>0.001822</td>\n",
       "      <td>0.22</td>\n",
       "      <td>0.32</td>\n",
       "      <td>0.4</td>\n",
       "      <td>[664036, 247121, 508805, 613722, 283780, 20593...</td>\n",
       "      <td>[664036, 247121, 508805, 613722, 283780, 20593...</td>\n",
       "    </tr>\n",
       "  </tbody>\n",
       "</table>\n",
       "</div>"
      ],
      "text/plain": [
       "     tag  recall  precision  \\\n",
       "251  잔잔한     0.0        0.0   \n",
       "8    EDM     0.0        0.0   \n",
       "117  발라드     0.0        0.0   \n",
       "155   새벽     0.0        0.0   \n",
       "30    감성     0.0        0.0   \n",
       "\n",
       "                                            prediction  \\\n",
       "251  [23997, 194344, 107916, 177460, 508805, 24322,...   \n",
       "8    [637149, 46468, 69113, 658227, 102237, 29308, ...   \n",
       "117  [116573, 357367, 367963, 152475, 174749, 59459...   \n",
       "155  [332646, 508805, 548005, 707621, 659416, 47351...   \n",
       "30   [664036, 247121, 508805, 613722, 283780, 20593...   \n",
       "\n",
       "                                                  true  correct     spent  \\\n",
       "251  [523, 810, 865, 1209, 1233, 1521, 1601, 2230, ...        0  1.526481   \n",
       "8    [1885, 2178, 7605, 12992, 14599, 16737, 21195,...        0  0.303762   \n",
       "117  [224, 250, 642, 768, 2063, 2230, 2512, 2874, 2...        0  1.002171   \n",
       "155  [224, 289, 311, 523, 579, 699, 865, 1761, 2095...        0  0.996936   \n",
       "30   [30, 224, 289, 579, 1236, 1508, 1521, 1697, 21...        0  1.004033   \n",
       "\n",
       "     k50  k25  k10  recall@50  recall@25  recall@10  precision@50  \\\n",
       "251   17    8    3   0.007724   0.003635   0.001363          0.34   \n",
       "8     12    6    2   0.052863   0.026432   0.008811          0.24   \n",
       "117   12    8    3   0.006511   0.004341   0.001628          0.24   \n",
       "155   11    7    3   0.006044   0.003846   0.001648          0.22   \n",
       "30    11    8    4   0.005011   0.003645   0.001822          0.22   \n",
       "\n",
       "     precision@25  precision@10  \\\n",
       "251          0.32           0.3   \n",
       "8            0.24           0.2   \n",
       "117          0.32           0.3   \n",
       "155          0.28           0.3   \n",
       "30           0.32           0.4   \n",
       "\n",
       "                                        k25_prediction  \\\n",
       "251  [23997, 194344, 107916, 177460, 508805, 24322,...   \n",
       "8    [637149, 46468, 69113, 658227, 102237, 29308, ...   \n",
       "117  [116573, 357367, 367963, 152475, 174749, 59459...   \n",
       "155  [332646, 508805, 548005, 707621, 659416, 47351...   \n",
       "30   [664036, 247121, 508805, 613722, 283780, 20593...   \n",
       "\n",
       "                                        k10_prediction  \n",
       "251  [23997, 194344, 107916, 177460, 508805, 24322,...  \n",
       "8    [637149, 46468, 69113, 658227, 102237, 29308, ...  \n",
       "117  [116573, 357367, 367963, 152475, 174749, 59459...  \n",
       "155  [332646, 508805, 548005, 707621, 659416, 47351...  \n",
       "30   [664036, 247121, 508805, 613722, 283780, 20593...  "
      ]
     },
     "execution_count": 49,
     "metadata": {},
     "output_type": "execute_result"
    }
   ],
   "source": [
    "df_result_v2.sort_values('k50',ascending=False).head(5)"
   ]
  },
  {
   "cell_type": "code",
   "execution_count": 50,
   "metadata": {},
   "outputs": [
    {
     "data": {
      "text/html": [
       "<div>\n",
       "<style scoped>\n",
       "    .dataframe tbody tr th:only-of-type {\n",
       "        vertical-align: middle;\n",
       "    }\n",
       "\n",
       "    .dataframe tbody tr th {\n",
       "        vertical-align: top;\n",
       "    }\n",
       "\n",
       "    .dataframe thead th {\n",
       "        text-align: right;\n",
       "    }\n",
       "</style>\n",
       "<table border=\"1\" class=\"dataframe\">\n",
       "  <thead>\n",
       "    <tr style=\"text-align: right;\">\n",
       "      <th></th>\n",
       "      <th>tag</th>\n",
       "      <th>recall</th>\n",
       "      <th>precision</th>\n",
       "      <th>prediction</th>\n",
       "      <th>true</th>\n",
       "      <th>correct</th>\n",
       "      <th>spent</th>\n",
       "      <th>k50</th>\n",
       "      <th>k25</th>\n",
       "      <th>k10</th>\n",
       "      <th>recall@50</th>\n",
       "      <th>recall@25</th>\n",
       "      <th>recall@10</th>\n",
       "      <th>precision@50</th>\n",
       "      <th>precision@25</th>\n",
       "      <th>precision@10</th>\n",
       "    </tr>\n",
       "  </thead>\n",
       "  <tbody>\n",
       "    <tr>\n",
       "      <th>179</th>\n",
       "      <td>밤</td>\n",
       "      <td>0.010071</td>\n",
       "      <td>0.34</td>\n",
       "      <td>[121837, 169984, 641996, 629217, 95928, 347872...</td>\n",
       "      <td>[83116, 606686, 323484, 683582, 383303, 334969...</td>\n",
       "      <td>17</td>\n",
       "      <td>2.382714</td>\n",
       "      <td>17</td>\n",
       "      <td>10</td>\n",
       "      <td>3</td>\n",
       "      <td>0.010071</td>\n",
       "      <td>0.005924</td>\n",
       "      <td>0.001777</td>\n",
       "      <td>0.34</td>\n",
       "      <td>0.40</td>\n",
       "      <td>0.3</td>\n",
       "    </tr>\n",
       "    <tr>\n",
       "      <th>103</th>\n",
       "      <td>기분전환</td>\n",
       "      <td>0.003990</td>\n",
       "      <td>0.26</td>\n",
       "      <td>[15124, 704707, 355939, 680366, 261084, 487905...</td>\n",
       "      <td>[618335, 691198, 650093, 618962, 91272, 514673...</td>\n",
       "      <td>13</td>\n",
       "      <td>2.600042</td>\n",
       "      <td>13</td>\n",
       "      <td>5</td>\n",
       "      <td>1</td>\n",
       "      <td>0.003990</td>\n",
       "      <td>0.001535</td>\n",
       "      <td>0.000307</td>\n",
       "      <td>0.26</td>\n",
       "      <td>0.20</td>\n",
       "      <td>0.1</td>\n",
       "    </tr>\n",
       "    <tr>\n",
       "      <th>215</th>\n",
       "      <td>잔잔한</td>\n",
       "      <td>0.005452</td>\n",
       "      <td>0.24</td>\n",
       "      <td>[99265, 298103, 131736, 273170, 448116, 408606...</td>\n",
       "      <td>[301382, 225602, 473142, 447012, 535483, 43917...</td>\n",
       "      <td>12</td>\n",
       "      <td>2.505313</td>\n",
       "      <td>12</td>\n",
       "      <td>5</td>\n",
       "      <td>2</td>\n",
       "      <td>0.005452</td>\n",
       "      <td>0.002272</td>\n",
       "      <td>0.000909</td>\n",
       "      <td>0.24</td>\n",
       "      <td>0.20</td>\n",
       "      <td>0.2</td>\n",
       "    </tr>\n",
       "    <tr>\n",
       "      <th>70</th>\n",
       "      <td>새벽</td>\n",
       "      <td>0.006593</td>\n",
       "      <td>0.24</td>\n",
       "      <td>[169984, 629217, 121837, 368069, 61230, 144663...</td>\n",
       "      <td>[648414, 57323, 688264, 623821, 477060, 320043...</td>\n",
       "      <td>12</td>\n",
       "      <td>2.464732</td>\n",
       "      <td>12</td>\n",
       "      <td>3</td>\n",
       "      <td>1</td>\n",
       "      <td>0.006593</td>\n",
       "      <td>0.001648</td>\n",
       "      <td>0.000549</td>\n",
       "      <td>0.24</td>\n",
       "      <td>0.12</td>\n",
       "      <td>0.1</td>\n",
       "    </tr>\n",
       "    <tr>\n",
       "      <th>25</th>\n",
       "      <td>여행</td>\n",
       "      <td>0.011156</td>\n",
       "      <td>0.22</td>\n",
       "      <td>[487905, 250, 701557, 610933, 86534, 365895, 1...</td>\n",
       "      <td>[513347, 628780, 599660, 382880, 535399, 19463...</td>\n",
       "      <td>11</td>\n",
       "      <td>2.593547</td>\n",
       "      <td>11</td>\n",
       "      <td>7</td>\n",
       "      <td>1</td>\n",
       "      <td>0.011156</td>\n",
       "      <td>0.007099</td>\n",
       "      <td>0.001014</td>\n",
       "      <td>0.22</td>\n",
       "      <td>0.28</td>\n",
       "      <td>0.1</td>\n",
       "    </tr>\n",
       "  </tbody>\n",
       "</table>\n",
       "</div>"
      ],
      "text/plain": [
       "      tag    recall  precision  \\\n",
       "179     밤  0.010071       0.34   \n",
       "103  기분전환  0.003990       0.26   \n",
       "215   잔잔한  0.005452       0.24   \n",
       "70     새벽  0.006593       0.24   \n",
       "25     여행  0.011156       0.22   \n",
       "\n",
       "                                            prediction  \\\n",
       "179  [121837, 169984, 641996, 629217, 95928, 347872...   \n",
       "103  [15124, 704707, 355939, 680366, 261084, 487905...   \n",
       "215  [99265, 298103, 131736, 273170, 448116, 408606...   \n",
       "70   [169984, 629217, 121837, 368069, 61230, 144663...   \n",
       "25   [487905, 250, 701557, 610933, 86534, 365895, 1...   \n",
       "\n",
       "                                                  true  correct     spent  \\\n",
       "179  [83116, 606686, 323484, 683582, 383303, 334969...       17  2.382714   \n",
       "103  [618335, 691198, 650093, 618962, 91272, 514673...       13  2.600042   \n",
       "215  [301382, 225602, 473142, 447012, 535483, 43917...       12  2.505313   \n",
       "70   [648414, 57323, 688264, 623821, 477060, 320043...       12  2.464732   \n",
       "25   [513347, 628780, 599660, 382880, 535399, 19463...       11  2.593547   \n",
       "\n",
       "     k50  k25  k10  recall@50  recall@25  recall@10  precision@50  \\\n",
       "179   17   10    3   0.010071   0.005924   0.001777          0.34   \n",
       "103   13    5    1   0.003990   0.001535   0.000307          0.26   \n",
       "215   12    5    2   0.005452   0.002272   0.000909          0.24   \n",
       "70    12    3    1   0.006593   0.001648   0.000549          0.24   \n",
       "25    11    7    1   0.011156   0.007099   0.001014          0.22   \n",
       "\n",
       "     precision@25  precision@10  \n",
       "179          0.40           0.3  \n",
       "103          0.20           0.1  \n",
       "215          0.20           0.2  \n",
       "70           0.12           0.1  \n",
       "25           0.28           0.1  "
      ]
     },
     "execution_count": 50,
     "metadata": {},
     "output_type": "execute_result"
    }
   ],
   "source": [
    "df_result_all.sort_values('k50',ascending=False).head(5)"
   ]
  },
  {
   "cell_type": "code",
   "execution_count": null,
   "metadata": {},
   "outputs": [],
   "source": []
  },
  {
   "cell_type": "code",
   "execution_count": 29,
   "metadata": {},
   "outputs": [
    {
     "data": {
      "text/html": [
       "<div>\n",
       "<style scoped>\n",
       "    .dataframe tbody tr th:only-of-type {\n",
       "        vertical-align: middle;\n",
       "    }\n",
       "\n",
       "    .dataframe tbody tr th {\n",
       "        vertical-align: top;\n",
       "    }\n",
       "\n",
       "    .dataframe thead th {\n",
       "        text-align: right;\n",
       "    }\n",
       "</style>\n",
       "<table border=\"1\" class=\"dataframe\">\n",
       "  <thead>\n",
       "    <tr style=\"text-align: right;\">\n",
       "      <th></th>\n",
       "      <th>tag</th>\n",
       "      <th>true</th>\n",
       "      <th>result</th>\n",
       "      <th>k50</th>\n",
       "      <th>k25</th>\n",
       "      <th>k10</th>\n",
       "      <th>recall@50</th>\n",
       "      <th>recall@25</th>\n",
       "      <th>recall@10</th>\n",
       "      <th>precision@50</th>\n",
       "      <th>precision@25</th>\n",
       "      <th>precision@10</th>\n",
       "    </tr>\n",
       "  </thead>\n",
       "  <tbody>\n",
       "    <tr>\n",
       "      <th>0</th>\n",
       "      <td>디즈니</td>\n",
       "      <td>[262430, 157900, 278849, 638488, 320447, 27133...</td>\n",
       "      <td>[326204, 695032, 358186, 387859, 112399, 51939...</td>\n",
       "      <td>0</td>\n",
       "      <td>0</td>\n",
       "      <td>0</td>\n",
       "      <td>0.000000</td>\n",
       "      <td>0.000000</td>\n",
       "      <td>0.000000</td>\n",
       "      <td>0.00</td>\n",
       "      <td>0.00</td>\n",
       "      <td>0.0</td>\n",
       "    </tr>\n",
       "    <tr>\n",
       "      <th>1</th>\n",
       "      <td>연애</td>\n",
       "      <td>[565629, 26083, 506798, 701557, 284180, 471691...</td>\n",
       "      <td>[132994, 133143, 650494, 293236, 348200, 61093...</td>\n",
       "      <td>7</td>\n",
       "      <td>3</td>\n",
       "      <td>1</td>\n",
       "      <td>0.067961</td>\n",
       "      <td>0.029126</td>\n",
       "      <td>0.009709</td>\n",
       "      <td>0.14</td>\n",
       "      <td>0.12</td>\n",
       "      <td>0.1</td>\n",
       "    </tr>\n",
       "    <tr>\n",
       "      <th>2</th>\n",
       "      <td>유재석</td>\n",
       "      <td>[318781, 23443, 299831, 183563, 543264]</td>\n",
       "      <td>[205179, 650494, 704707, 518420, 93143, 130199...</td>\n",
       "      <td>0</td>\n",
       "      <td>0</td>\n",
       "      <td>0</td>\n",
       "      <td>0.000000</td>\n",
       "      <td>0.000000</td>\n",
       "      <td>0.000000</td>\n",
       "      <td>0.00</td>\n",
       "      <td>0.00</td>\n",
       "      <td>0.0</td>\n",
       "    </tr>\n",
       "    <tr>\n",
       "      <th>3</th>\n",
       "      <td>고막남친</td>\n",
       "      <td>[10961, 144663, 318871, 616212, 635425, 23605,...</td>\n",
       "      <td>[144663, 640657, 205179, 650494, 543371, 35736...</td>\n",
       "      <td>2</td>\n",
       "      <td>2</td>\n",
       "      <td>2</td>\n",
       "      <td>0.125000</td>\n",
       "      <td>0.125000</td>\n",
       "      <td>0.125000</td>\n",
       "      <td>0.04</td>\n",
       "      <td>0.08</td>\n",
       "      <td>0.2</td>\n",
       "    </tr>\n",
       "    <tr>\n",
       "      <th>4</th>\n",
       "      <td>포근한</td>\n",
       "      <td>[273170, 705853, 96310, 651331, 207232, 605317...</td>\n",
       "      <td>[696494, 144663, 650494, 205179, 132994, 35736...</td>\n",
       "      <td>5</td>\n",
       "      <td>2</td>\n",
       "      <td>1</td>\n",
       "      <td>0.064935</td>\n",
       "      <td>0.025974</td>\n",
       "      <td>0.012987</td>\n",
       "      <td>0.10</td>\n",
       "      <td>0.08</td>\n",
       "      <td>0.1</td>\n",
       "    </tr>\n",
       "    <tr>\n",
       "      <th>...</th>\n",
       "      <td>...</td>\n",
       "      <td>...</td>\n",
       "      <td>...</td>\n",
       "      <td>...</td>\n",
       "      <td>...</td>\n",
       "      <td>...</td>\n",
       "      <td>...</td>\n",
       "      <td>...</td>\n",
       "      <td>...</td>\n",
       "      <td>...</td>\n",
       "      <td>...</td>\n",
       "      <td>...</td>\n",
       "    </tr>\n",
       "    <tr>\n",
       "      <th>353</th>\n",
       "      <td>나들이</td>\n",
       "      <td>[475142, 383040, 416950, 622923, 173798, 30632...</td>\n",
       "      <td>[650494, 132994, 205179, 293236, 457124, 13314...</td>\n",
       "      <td>3</td>\n",
       "      <td>0</td>\n",
       "      <td>0</td>\n",
       "      <td>0.157895</td>\n",
       "      <td>0.000000</td>\n",
       "      <td>0.000000</td>\n",
       "      <td>0.06</td>\n",
       "      <td>0.00</td>\n",
       "      <td>0.0</td>\n",
       "    </tr>\n",
       "    <tr>\n",
       "      <th>354</th>\n",
       "      <td>편안한</td>\n",
       "      <td>[176125, 516653, 360221, 64052, 160291, 254577...</td>\n",
       "      <td>[696494, 273170, 126656, 571790, 599022, 52192...</td>\n",
       "      <td>13</td>\n",
       "      <td>6</td>\n",
       "      <td>2</td>\n",
       "      <td>0.069892</td>\n",
       "      <td>0.032258</td>\n",
       "      <td>0.010753</td>\n",
       "      <td>0.26</td>\n",
       "      <td>0.24</td>\n",
       "      <td>0.2</td>\n",
       "    </tr>\n",
       "    <tr>\n",
       "      <th>355</th>\n",
       "      <td>휘트니스</td>\n",
       "      <td>[315611, 231154, 117385, 701606, 256791, 36013...</td>\n",
       "      <td>[205179, 704707, 518420, 130199, 699874, 93143...</td>\n",
       "      <td>0</td>\n",
       "      <td>0</td>\n",
       "      <td>0</td>\n",
       "      <td>0.000000</td>\n",
       "      <td>0.000000</td>\n",
       "      <td>0.000000</td>\n",
       "      <td>0.00</td>\n",
       "      <td>0.00</td>\n",
       "      <td>0.0</td>\n",
       "    </tr>\n",
       "    <tr>\n",
       "      <th>356</th>\n",
       "      <td>영국</td>\n",
       "      <td>[489432, 654511, 347872, 239108, 260400, 34383...</td>\n",
       "      <td>[493762, 581799, 360825, 24087, 195174, 217365...</td>\n",
       "      <td>3</td>\n",
       "      <td>1</td>\n",
       "      <td>0</td>\n",
       "      <td>0.088235</td>\n",
       "      <td>0.029412</td>\n",
       "      <td>0.000000</td>\n",
       "      <td>0.06</td>\n",
       "      <td>0.04</td>\n",
       "      <td>0.0</td>\n",
       "    </tr>\n",
       "    <tr>\n",
       "      <th>357</th>\n",
       "      <td>일상</td>\n",
       "      <td>[226156, 79173, 368069, 171798, 486724, 452185...</td>\n",
       "      <td>[205179, 144663, 357367, 696494, 650494, 51939...</td>\n",
       "      <td>6</td>\n",
       "      <td>3</td>\n",
       "      <td>0</td>\n",
       "      <td>0.038710</td>\n",
       "      <td>0.019355</td>\n",
       "      <td>0.000000</td>\n",
       "      <td>0.12</td>\n",
       "      <td>0.12</td>\n",
       "      <td>0.0</td>\n",
       "    </tr>\n",
       "  </tbody>\n",
       "</table>\n",
       "<p>358 rows × 12 columns</p>\n",
       "</div>"
      ],
      "text/plain": [
       "      tag                                               true  \\\n",
       "0     디즈니  [262430, 157900, 278849, 638488, 320447, 27133...   \n",
       "1      연애  [565629, 26083, 506798, 701557, 284180, 471691...   \n",
       "2     유재석            [318781, 23443, 299831, 183563, 543264]   \n",
       "3    고막남친  [10961, 144663, 318871, 616212, 635425, 23605,...   \n",
       "4     포근한  [273170, 705853, 96310, 651331, 207232, 605317...   \n",
       "..    ...                                                ...   \n",
       "353   나들이  [475142, 383040, 416950, 622923, 173798, 30632...   \n",
       "354   편안한  [176125, 516653, 360221, 64052, 160291, 254577...   \n",
       "355  휘트니스  [315611, 231154, 117385, 701606, 256791, 36013...   \n",
       "356    영국  [489432, 654511, 347872, 239108, 260400, 34383...   \n",
       "357    일상  [226156, 79173, 368069, 171798, 486724, 452185...   \n",
       "\n",
       "                                                result  k50  k25  k10  \\\n",
       "0    [326204, 695032, 358186, 387859, 112399, 51939...    0    0    0   \n",
       "1    [132994, 133143, 650494, 293236, 348200, 61093...    7    3    1   \n",
       "2    [205179, 650494, 704707, 518420, 93143, 130199...    0    0    0   \n",
       "3    [144663, 640657, 205179, 650494, 543371, 35736...    2    2    2   \n",
       "4    [696494, 144663, 650494, 205179, 132994, 35736...    5    2    1   \n",
       "..                                                 ...  ...  ...  ...   \n",
       "353  [650494, 132994, 205179, 293236, 457124, 13314...    3    0    0   \n",
       "354  [696494, 273170, 126656, 571790, 599022, 52192...   13    6    2   \n",
       "355  [205179, 704707, 518420, 130199, 699874, 93143...    0    0    0   \n",
       "356  [493762, 581799, 360825, 24087, 195174, 217365...    3    1    0   \n",
       "357  [205179, 144663, 357367, 696494, 650494, 51939...    6    3    0   \n",
       "\n",
       "     recall@50  recall@25  recall@10  precision@50  precision@25  precision@10  \n",
       "0     0.000000   0.000000   0.000000          0.00          0.00           0.0  \n",
       "1     0.067961   0.029126   0.009709          0.14          0.12           0.1  \n",
       "2     0.000000   0.000000   0.000000          0.00          0.00           0.0  \n",
       "3     0.125000   0.125000   0.125000          0.04          0.08           0.2  \n",
       "4     0.064935   0.025974   0.012987          0.10          0.08           0.1  \n",
       "..         ...        ...        ...           ...           ...           ...  \n",
       "353   0.157895   0.000000   0.000000          0.06          0.00           0.0  \n",
       "354   0.069892   0.032258   0.010753          0.26          0.24           0.2  \n",
       "355   0.000000   0.000000   0.000000          0.00          0.00           0.0  \n",
       "356   0.088235   0.029412   0.000000          0.06          0.04           0.0  \n",
       "357   0.038710   0.019355   0.000000          0.12          0.12           0.0  \n",
       "\n",
       "[358 rows x 12 columns]"
      ]
     },
     "execution_count": 29,
     "metadata": {},
     "output_type": "execute_result"
    }
   ],
   "source": []
  },
  {
   "cell_type": "code",
   "execution_count": 40,
   "metadata": {},
   "outputs": [
    {
     "data": {
      "text/plain": [
       "precision@50    0.073017\n",
       "precision@25    0.082235\n",
       "precision@10    0.098045\n",
       "dtype: float64"
      ]
     },
     "execution_count": 40,
     "metadata": {},
     "output_type": "execute_result"
    }
   ],
   "source": [
    "df_result_svd.mean()[precision_col]"
   ]
  },
  {
   "cell_type": "code",
   "execution_count": 41,
   "metadata": {},
   "outputs": [
    {
     "data": {
      "text/plain": [
       "precision@50    0.058045\n",
       "precision@25    0.062682\n",
       "precision@10    0.071508\n",
       "dtype: float64"
      ]
     },
     "execution_count": 41,
     "metadata": {},
     "output_type": "execute_result"
    }
   ],
   "source": [
    "df_result_v1.mean()[precision_col]"
   ]
  },
  {
   "cell_type": "code",
   "execution_count": 42,
   "metadata": {},
   "outputs": [
    {
     "data": {
      "text/plain": [
       "precision@50    0.057709\n",
       "precision@25    0.063017\n",
       "precision@10    0.067877\n",
       "dtype: float64"
      ]
     },
     "execution_count": 42,
     "metadata": {},
     "output_type": "execute_result"
    }
   ],
   "source": [
    "df_result_v2.mean()[precision_col]"
   ]
  },
  {
   "cell_type": "code",
   "execution_count": 44,
   "metadata": {},
   "outputs": [
    {
     "data": {
      "text/plain": [
       "recall          0.122663\n",
       "precision       0.055587\n",
       "correct         2.779330\n",
       "spent           2.482691\n",
       "k50             2.779330\n",
       "k25             1.382682\n",
       "k10             0.530726\n",
       "recall@50       0.122663\n",
       "recall@25       0.062337\n",
       "recall@10       0.025926\n",
       "precision@50    0.055587\n",
       "precision@25    0.055307\n",
       "precision@10    0.053073\n",
       "dtype: float64"
      ]
     },
     "execution_count": 44,
     "metadata": {},
     "output_type": "execute_result"
    }
   ],
   "source": [
    "df_result_all.mean()"
   ]
  },
  {
   "cell_type": "code",
   "execution_count": 35,
   "metadata": {},
   "outputs": [
    {
     "data": {
      "text/plain": [
       "<matplotlib.axes._subplots.AxesSubplot at 0x1425a8310>"
      ]
     },
     "execution_count": 35,
     "metadata": {},
     "output_type": "execute_result"
    },
    {
     "data": {
      "image/png": "[encoded data removed]",
      "text/plain": [
       "<Figure size 1152x648 with 1 Axes>"
      ]
     },
     "metadata": {
      "needs_background": "light"
     },
     "output_type": "display_data"
    }
   ],
   "source": [
    "df_result_v1.groupby(['cluster'])[recall_col].mean().plot.bar(figsize=(16,9))"
   ]
  },
  {
   "cell_type": "code",
   "execution_count": 36,
   "metadata": {},
   "outputs": [
    {
     "data": {
      "text/plain": [
       "<matplotlib.axes._subplots.AxesSubplot at 0x15a4daed0>"
      ]
     },
     "execution_count": 36,
     "metadata": {},
     "output_type": "execute_result"
    },
    {
     "data": {
      "image/png": "[encoded data removed]",
      "text/plain": [
       "<Figure size 1152x648 with 1 Axes>"
      ]
     },
     "metadata": {
      "needs_background": "light"
     },
     "output_type": "display_data"
    }
   ],
   "source": [
    "df_result_v1.groupby(['cluster'])[precision_col].mean().plot.bar(figsize=(16,9))"
   ]
  },
  {
   "cell_type": "code",
   "execution_count": null,
   "metadata": {},
   "outputs": [],
   "source": []
  },
  {
   "cell_type": "code",
   "execution_count": null,
   "metadata": {},
   "outputs": [],
   "source": []
  },
  {
   "cell_type": "code",
   "execution_count": 33,
   "metadata": {},
   "outputs": [],
   "source": [
    "recall_col = ['recall@50', 'recall@25', 'recall@10']"
   ]
  },
  {
   "cell_type": "code",
   "execution_count": 34,
   "metadata": {},
   "outputs": [],
   "source": [
    "precision_col = ['precision@50', 'precision@25', 'precision@10']"
   ]
  },
  {
   "cell_type": "code",
   "execution_count": 29,
   "metadata": {},
   "outputs": [
    {
     "data": {
      "text/plain": [
       "<matplotlib.axes._subplots.AxesSubplot at 0x123070310>"
      ]
     },
     "execution_count": 29,
     "metadata": {},
     "output_type": "execute_result"
    },
    {
     "data": {
      "image/png": "[encoded data removed]",
      "text/plain": [
       "<Figure size 648x432 with 1 Axes>"
      ]
     },
     "metadata": {
      "needs_background": "light"
     },
     "output_type": "display_data"
    }
   ],
   "source": [
    "df_result_v1[recall_col+precision_col].mean().plot.bar(figsize=(9,6))"
   ]
  },
  {
   "cell_type": "code",
   "execution_count": 30,
   "metadata": {},
   "outputs": [
    {
     "data": {
      "text/plain": [
       "<matplotlib.axes._subplots.AxesSubplot at 0x1230e8ad0>"
      ]
     },
     "execution_count": 30,
     "metadata": {},
     "output_type": "execute_result"
    },
    {
     "data": {
      "image/png": "[encoded data removed]",
      "text/plain": [
       "<Figure size 648x432 with 1 Axes>"
      ]
     },
     "metadata": {
      "needs_background": "light"
     },
     "output_type": "display_data"
    }
   ],
   "source": [
    "df_result_v2[recall_col+precision_col].mean().plot.bar(figsize=(9,6))"
   ]
  },
  {
   "cell_type": "code",
   "execution_count": 31,
   "metadata": {},
   "outputs": [
    {
     "data": {
      "text/plain": [
       "<matplotlib.axes._subplots.AxesSubplot at 0x12315ee50>"
      ]
     },
     "execution_count": 31,
     "metadata": {},
     "output_type": "execute_result"
    },
    {
     "data": {
      "image/png": "[encoded data removed]",
      "text/plain": [
       "<Figure size 648x432 with 1 Axes>"
      ]
     },
     "metadata": {
      "needs_background": "light"
     },
     "output_type": "display_data"
    }
   ],
   "source": [
    "df_result_all[recall_col+precision_col].mean().plot.bar(figsize=(9,6))"
   ]
  },
  {
   "cell_type": "code",
   "execution_count": null,
   "metadata": {},
   "outputs": [],
   "source": [
    "[\n",
    "    songId2meta.get(pred)\n",
    "    for pred in df_result_all.set_index('tag').loc['숙면','prediction']\n",
    "]"
   ]
  },
  {
   "cell_type": "code",
   "execution_count": 49,
   "metadata": {},
   "outputs": [
    {
     "data": {
      "text/plain": [
       "array(['디즈니', '연애', '유재석', '고막남친', '포근한', '연말', '짝사랑', '운전', '봄바람',\n",
       "       '잠들기전', '힘', '흥겨운', '신곡', '산책', '듣기좋은', '걸그룹', '파티', '비오는날', '추위',\n",
       "       '비오는', '불토', '재즈', '이브', 'UK', '연애세포', '여행', '가을밤', '센치한', '록',\n",
       "       '행복', '배경음악', '감성힙합', '추석', '추억', '지친', '집', '어쿠스틱', '감성곡', '드라이브',\n",
       "       '고속도로', '신나는', '가을비', '트로트', '눈', '불금', '피아노', '발랄', '성인가요', '댄스',\n",
       "       '주말', '패션', '우울한', '벚꽃', '날씨', '커피', '노동요', '수록곡', '힘내', '경쾌한',\n",
       "       '정미애', '따뜻함', '노래', 'OfficialCharts', '헤어짐', '남자아이돌', '팝', '댄스곡',\n",
       "       '정다경', '여유', '휴식', '새벽', '잔잔함', '2000년대', '나른', '우울', '12월',\n",
       "       '뉴에이지', '우울할때', '명절', '2019년', '중독성', '엄마아리랑', '인디', '비', '자장가',\n",
       "       '버스', '스타일', '축하', '까페', '퇴근', '2016', '상큼한', '노래방', '찾아오는DJ',\n",
       "       'RNBSOUL', '상큼', '청량한', 'EDM', 'deep', '한국힙합', '아픔', '밝은', '혼자',\n",
       "       '기분전환', '찬양', '아이돌', '부드러운', '눈오는날', '귀르가즘', '여름노래', '댄스댄스', 'bar',\n",
       "       '크리스마스캐롤', '테라스', 'electronica', '연휴', '봄비', '가을', '북카페', '알앤비',\n",
       "       '토닥토닥', '장마', '트렌디', '꿀잠', '잔잔', '하우스', '와인', '생일', '국외', '고백',\n",
       "       '신남', '봄노래', '쓸쓸', '얼터너티브', '느낌있는', '성탄절', '브금', '불면증', '귀성길',\n",
       "       '에이핑크', '디스코', '인기', '달달', '소울', '책읽을때', '슬픔', '운동', '사랑노래', '락',\n",
       "       '잔잔한노래', '여름밤', '쌀쌀한', '시원한', '저녁', '낮잠', '일렉', '캐롤', '방콕',\n",
       "       '메리크리스마스', '기분좋은', '따뜻하게', '빌로우', '아무로나미에', '장르구분없이', '월요병', '분위기',\n",
       "       '청량', '페스티벌', '추천곡', '내적댄스', '국힙', '외로움', '클럽', '즐거운', '맑은', '스포츠',\n",
       "       '열대야', '오르골', '감성발라드', '밤', '시작', '브릿팝', '산뜻한', 'EDMFloor', '빗소리',\n",
       "       '쓸쓸함', '조용한', '낙엽', '겨울밤', '좋아요', '2019', '몽환', '블랙뮤직', '겨울노래',\n",
       "       '겨울', '휴일', '태교', '팝송', '새벽감성', '바캉스', '그리움', '추천', 'Lounge',\n",
       "       '플레이리스트', 'dance', '달달한', '신나는노래', '하늘', 'Instrumental', '그루브',\n",
       "       '치유', '봄', '퓨전재즈', '회식', '일렉트로니카', '잔잔한', '힙합엘이', '힙한', '힘들때',\n",
       "       '설렘', '취향저격', '독서', '썸', '차분', '목소리', '마음', '내한', '랩', '더위', '따듯한',\n",
       "       '띵곡들', '베스트', '봄나들이', '인디팝', '연주곡', '셋리스트', '감성', '장윤정', '후회',\n",
       "       '바람', '헬스', '지칠때', '흐린날', '감성적인', '유산슬', '임영웅', '집콕', '에너지',\n",
       "       '몽환적인', 'Christmas', '해외일렉트로니카', '크리스마스', '바다', '케이팝', '기분업',\n",
       "       '흥폭발', '겨울감성', '어린이집', '숨은명곡', 'OST', '2000', '고막여친', '춤', '휴가',\n",
       "       'bgm', '트랩', '연인', '비오는날듣기좋은노래', '하루', '가족', '슬픈', 'Pop', '집중',\n",
       "       '눈물', '아침', '카페뮤직', '두근두근', 'Rock', '차분한', '출근길', '이별', 'house',\n",
       "       '기분', '스트레스', '봄날', '잠', 'ballad', '음색', '달콤', '인디음악', '기타',\n",
       "       '다이어트', '띵곡', '떼창', '오후', '시험', '숙면', '회상', '대세', '캐럴', '취저',\n",
       "       '달달한노래', '꿀성대', '희망', '팝송모음', '흥', '설레임', '힙합', '애창곡', '카페', '매장',\n",
       "       '음색깡패', '크리스마스노래', '스웩', '오늘', '음악', '1990', '신나는음악', '유니크', '퇴근길',\n",
       "       '신나', '잠잘때', '공부', '설날', '힘이_나는', '달콤한', '주제곡', '사랑', '발라드', '생각',\n",
       "       '여름', '힐링', '여자아이돌', '방탄', '센치', '고백송', '커플', '첫사랑', '조깅', '지하철',\n",
       "       '위로', '매장음악', '좋은노래', '가사', '데이트', '유산소', '트로피컬', '리드미컬', '솔로',\n",
       "       '세련된', '비트', '스타일리시', '야경', '나들이', '편안한', '휘트니스', '영국', '일상'],\n",
       "      dtype=object)"
      ]
     },
     "execution_count": 49,
     "metadata": {},
     "output_type": "execute_result"
    }
   ],
   "source": [
    "df_result_all.tag.unique()"
   ]
  },
  {
   "cell_type": "code",
   "execution_count": null,
   "metadata": {},
   "outputs": [],
   "source": []
  },
  {
   "cell_type": "code",
   "execution_count": 32,
   "metadata": {},
   "outputs": [],
   "source": [
    "df_meta = pd.read_csv('../__const__/Meta_v1.csv')"
   ]
  },
  {
   "cell_type": "code",
   "execution_count": 38,
   "metadata": {},
   "outputs": [],
   "source": [
    "songId2meta = {song_id: (song_name, ', '.join(eval(artist_name))) for song_id, song_name, artist_name in zip(df_meta['id'], df_meta.song_name, df_meta.artist_name_basket) }"
   ]
  },
  {
   "cell_type": "code",
   "execution_count": 61,
   "metadata": {},
   "outputs": [],
   "source": []
  },
  {
   "cell_type": "code",
   "execution_count": 55,
   "metadata": {},
   "outputs": [],
   "source": [
    "write_data_to_pickle(songId2meta, 'songId2meta.pickle')"
   ]
  },
  {
   "cell_type": "code",
   "execution_count": null,
   "metadata": {},
   "outputs": [],
   "source": [
    "songId2meta"
   ]
  },
  {
   "cell_type": "code",
   "execution_count": null,
   "metadata": {},
   "outputs": [],
   "source": []
  },
  {
   "cell_type": "code",
   "execution_count": 57,
   "metadata": {},
   "outputs": [],
   "source": []
  },
  {
   "cell_type": "code",
   "execution_count": 54,
   "metadata": {},
   "outputs": [],
   "source": [
    "import pandas as pd\n",
    "import glob\n",
    "import pickle\n",
    "import os\n",
    "import tensorflow as tf\n",
    "import numpy as np\n",
    "\n",
    "def get_data_from_pickle(path):\n",
    "    with open(path, \"rb\") as f:\n",
    "        data = pickle.load(f)\n",
    "    return data\n",
    "\n",
    "def write_data_to_pickle(data, path):\n",
    "    with open(path, \"wb\") as f:\n",
    "        f.write(pickle.dumps(data))"
   ]
  },
  {
   "cell_type": "code",
   "execution_count": 15,
   "metadata": {},
   "outputs": [],
   "source": [
    "def get_path(filename, parent='__models__'):\n",
    "    return os.path.join('..', parent, filename)"
   ]
  },
  {
   "cell_type": "code",
   "execution_count": 21,
   "metadata": {},
   "outputs": [],
   "source": [
    "all_model_results = {tag_name: (predictions, spents)\n",
    "               for tag_name, predictions, spents \n",
    "               in zip(df_result_all.tag, df_result_all.prediction, df_result_all.spent*1000) }"
   ]
  },
  {
   "cell_type": "code",
   "execution_count": 22,
   "metadata": {},
   "outputs": [],
   "source": [
    "write_data_to_pickle(all_model_results, 'all_model_results.pickle')"
   ]
  },
  {
   "cell_type": "code",
   "execution_count": 25,
   "metadata": {},
   "outputs": [],
   "source": [
    "svd_results = {tag_name: (predictions, 8.1)\n",
    "               for tag_name, predictions \n",
    "               in zip(df_result_svd.tag, df_result_svd.result) }"
   ]
  },
  {
   "cell_type": "code",
   "execution_count": 26,
   "metadata": {},
   "outputs": [],
   "source": [
    "write_data_to_pickle(svd_results, 'svd_results.pickle')"
   ]
  },
  {
   "cell_type": "code",
   "execution_count": 55,
   "metadata": {},
   "outputs": [],
   "source": [
    "tag_vectors = get_data_from_pickle(get_path('tag_vectors', parent='__const__'))\n",
    "cluster_centers = get_data_from_pickle(get_path('kmeans15.cluster_centers_.pickle', parent='__const__'))\n",
    "unique_tag_list = get_data_from_pickle(get_path('unique_tag_list.pickle', parent='__const__'))\n",
    "tag_dict = get_data_from_pickle(get_path('tag_dict.pickle', parent='__const__'))"
   ]
  },
  {
   "cell_type": "code",
   "execution_count": null,
   "metadata": {},
   "outputs": [],
   "source": []
  },
  {
   "cell_type": "code",
   "execution_count": null,
   "metadata": {},
   "outputs": [],
   "source": []
  },
  {
   "cell_type": "code",
   "execution_count": 40,
   "metadata": {},
   "outputs": [],
   "source": [
    "tag2idx = {tag: i for i, tag in enumerate(unique_tag_list)}\n",
    "idx2tag = {i: tag for i, tag in enumerate(unique_tag_list)}"
   ]
  },
  {
   "cell_type": "code",
   "execution_count": 41,
   "metadata": {},
   "outputs": [],
   "source": [
    "import math\n",
    "from queue import PriorityQueue\n",
    "\n",
    "def distance_tag_to_centroid(tag_idx,cluster_idx): # tag와 cluster의 중심까지의 거리\n",
    "    return np.sum((tag_vectors[tag_idx]-cluster_centers[cluster_idx])**2)\n",
    "\n",
    "def nearest_clusters(tag_idx):    # tag와 가장 가까운 클러스터 1개 또는 2개 출력하는 함수\n",
    "    que = PriorityQueue(maxsize=15)\n",
    "    near_list_idx = []\n",
    "    near_clusters_dict = dict()\n",
    "    for i in range(15):    # 가장 거리가 짧은 클러스터 순서대로 정렬\n",
    "        que.put([distance_tag_to_centroid(tag_idx,i),i])\n",
    "    for i in range(2):     # 거리가 짧은 2개만 추출\n",
    "        near_list_idx.append(que.get())\n",
    "    \n",
    "    if(2*near_list_idx[0][0]<near_list_idx[1][0]):    # a(첫번째 클러스터와 태그의 거리), b(두번째 클러스터와 태그의 거리)라고 할 때, a*2 < b 이면 두번째 클러스터 제거(즉 거리차이가 많이나면 제거)\n",
    "        del near_list_idx[1]\n",
    "        \n",
    "    if(len(near_list_idx)==1):\n",
    "        near_clusters_dict[near_list_idx[0][1]] = near_list_idx[0][0]    \n",
    "    else:\n",
    "        for i in range(2):\n",
    "            near_clusters_dict[near_list_idx[i][1]] = near_list_idx[i][0]        \n",
    "    \n",
    "    return near_clusters_dict\n",
    "\n",
    "def clusters_and_weight(tag_idx):     # 태그의 인덱스를 넣으면 원하는 결과가 출력 --> dict{cluster_index : weight}\n",
    "    ans_dict = dict()\n",
    "    near_cluster = nearest_clusters(tag_idx)\n",
    "    dict_keys = list(near_cluster.keys())\n",
    "    \n",
    "    if(len(dict_keys)==1):\n",
    "        ans_dict[dict_keys[0]] = 1.0\n",
    "    else:\n",
    "        a = 2/near_cluster[dict_keys[0]]\n",
    "        b = 1/near_cluster[dict_keys[1]]\n",
    "        \n",
    "        a_percentage = round(a/(a+b),2)\n",
    "        b_percentage = round(1-a_percentage,2)\n",
    "        \n",
    "        ans_dict[dict_keys[0]] = a_percentage\n",
    "        ans_dict[dict_keys[1]] = b_percentage     \n",
    "    return ans_dict"
   ]
  },
  {
   "cell_type": "code",
   "execution_count": 42,
   "metadata": {},
   "outputs": [],
   "source": [
    "tag2clusterId = {\n",
    "    keyword: key\n",
    "    for key in tag_dict.keys()\n",
    "    for keyword in tag_dict[key]\n",
    "}"
   ]
  },
  {
   "cell_type": "code",
   "execution_count": 43,
   "metadata": {},
   "outputs": [
    {
     "data": {
      "text/plain": [
       "8"
      ]
     },
     "execution_count": 43,
     "metadata": {},
     "output_type": "execute_result"
    }
   ],
   "source": [
    "tag2clusterId['성탄절']"
   ]
  },
  {
   "cell_type": "code",
   "execution_count": 28,
   "metadata": {},
   "outputs": [],
   "source": [
    "CLUSTER_MODELS = [\n",
    "    tf.keras.models.load_model(get_path(f'cluster_model_{i}'))\n",
    "    for i in range(15)\n",
    "]\n",
    "\n",
    "CLUSTER_ID_TRANSFORMER = [\n",
    "    get_data_from_pickle(get_path(f'newid2songid/cluster_model_{i}_new2idx2songidx.pickle'))\n",
    "    for i in range(15)\n",
    "]"
   ]
  },
  {
   "cell_type": "code",
   "execution_count": 27,
   "metadata": {},
   "outputs": [],
   "source": [
    "# CLUSTER_MODELS"
   ]
  },
  {
   "cell_type": "code",
   "execution_count": 29,
   "metadata": {},
   "outputs": [],
   "source": [
    "def get_recommendations(tag_id, new_model, id_transformer, k=50):\n",
    "    _max_song_len = len(id_transformer)\n",
    "    tags_input = np.array([tag_id] * _max_song_len).reshape(-1, 1)\n",
    "    songs_input = np.array([*range(_max_song_len)]).reshape(-1, 1)\n",
    "    \n",
    "    predicted = new_model.predict([tags_input, songs_input]).flatten()\n",
    "    predicted = predicted.argsort()[-k:][::-1]\n",
    "    \n",
    "    return [id_transformer.get(new_id) for new_id in predicted]"
   ]
  },
  {
   "cell_type": "code",
   "execution_count": 55,
   "metadata": {},
   "outputs": [],
   "source": [
    "_tag_input = '고막남친'\n",
    "_tag_id = tag2idx.get(_tag_input)\n",
    "predicted = []\n",
    "for key_id, weight in clusters_and_weight(_tag_id).items():\n",
    "    predicted.extend(get_recommendations(_tag_id, CLUSTER_MODELS[key_id], CLUSTER_ID_TRANSFORMER[key_id], int(50*weight)))"
   ]
  },
  {
   "cell_type": "code",
   "execution_count": 51,
   "metadata": {},
   "outputs": [
    {
     "data": {
      "text/plain": [
       "{7: 0.71, 10: 0.29}"
      ]
     },
     "execution_count": 51,
     "metadata": {},
     "output_type": "execute_result"
    }
   ],
   "source": [
    "clusters_and_weight(tag2idx.get(good_tags[3]))"
   ]
  },
  {
   "cell_type": "code",
   "execution_count": 57,
   "metadata": {},
   "outputs": [
    {
     "data": {
      "text/plain": [
       "[('그 자리 그 곳에', '이타'),\n",
       " ('Midnight Blue', 'Gogang (고갱)'),\n",
       " ('이게 사랑일까 (Feat. 하은)', '커피소년'),\n",
       " ('있잖아', '폴킴'),\n",
       " ('겨울영화 (Feat. 오은비)', '김진환'),\n",
       " ('꿀맛', '정미애'),\n",
       " ('Rum `n` Raisin', 'Josh Wolfsohn'),\n",
       " ('Do You Think About Me', 'Benjamin Ingrosso'),\n",
       " ('내가 니편이 되어줄게 (Feat. 하은)', '커피소년'),\n",
       " ('Daddy', 'Abe Fuyumi'),\n",
       " ('I Miss You', '소유 (SOYOU)'),\n",
       " ('사랑이 뭔데', '서현진, 유승우'),\n",
       " ('Take This Heart', 'Rachel Belman'),\n",
       " ('고백', '최낙타'),\n",
       " ('사람이', '정동하, 폴킴'),\n",
       " ('Heartbeat', 'Christopher'),\n",
       " ('이대로도 예뻐 (With 임동현)', '타코앤제이형'),\n",
       " ('꼭 어제', 'XIA (준수)'),\n",
       " ('She Will Be Loved', 'Maroon 5'),\n",
       " ('너의 꽃말', '심규선 (Lucia)'),\n",
       " ('나만 아픈 일', '이해리 (다비치)'),\n",
       " ('전부 없던 일로 해요', '봄날'),\n",
       " ('봄인가 봐 (Spring Love)', '에릭남 (Eric Nam), 웬디 (WENDY)'),\n",
       " ('Let Me', 'ZAYN'),\n",
       " ('지그재그', '권진아'),\n",
       " ('Vineyard (빈야드)', '우효'),\n",
       " ('사랑에 빠진 걸까요 (Feat. 오브로젝트)', '브로맨스 (VROMANCE)'),\n",
       " ('겨울을 걷는다', '윤딴딴'),\n",
       " ('보일 듯 말 듯', '유주 (여자친구), 선율'),\n",
       " ('부끄럼', '멜로망스'),\n",
       " ('술 한잔 해요', '지아'),\n",
       " ('새벽 가로수길 (With 송유빈)', '백지영'),\n",
       " ('마음', '아이유'),\n",
       " ('사랑이 잘 (With 오혁)', '아이유'),\n",
       " ('Rain', '태연 (TAEYEON)'),\n",
       " ('결혼까지 생각했어', '휘성 (Realslow)'),\n",
       " ('Favorite (Feat. Buddy)', 'Leon Thomas'),\n",
       " ('불치병 (Feat. Masta Wu)', '휘성 (Realslow)'),\n",
       " ('Move & Shout', 'Boulevards'),\n",
       " ('Grass Ain`t Greener', 'Chris Brown'),\n",
       " ('White (Feat. Frank Ocean)', 'Odd Future'),\n",
       " ('이럴거면 그러지말지 (Feat. Young K)', '백아연'),\n",
       " ('Love Again', '김제훈'),\n",
       " ('October Sky', 'Javier'),\n",
       " ('My Love Is Real', 'Christon Gray'),\n",
       " ('밤이 되니까', '펀치 (Punch)'),\n",
       " ('LikeMeLoveMe', 'Wynn'),\n",
       " ('Honey', 'Kehlani'),\n",
       " ('바램', '정준일')]"
      ]
     },
     "execution_count": 57,
     "metadata": {},
     "output_type": "execute_result"
    }
   ],
   "source": [
    "[songId2meta.get(sid) for sid in predicted]"
   ]
  },
  {
   "cell_type": "code",
   "execution_count": null,
   "metadata": {},
   "outputs": [],
   "source": []
  },
  {
   "cell_type": "code",
   "execution_count": 15,
   "metadata": {},
   "outputs": [],
   "source": [
    "songId2meta = get_data_from_pickle('../__const__/songId2meta.pickle')"
   ]
  },
  {
   "cell_type": "code",
   "execution_count": 16,
   "metadata": {},
   "outputs": [
    {
     "data": {
      "text/plain": [
       "[('내가 말하고 싶은건', '김제훈'),\n",
       " ('Santa Tell Me', 'Ariana Grande'),\n",
       " ('첫 눈', '정준일'),\n",
       " ('커플', '젝스키스'),\n",
       " ('겨울사랑', 'The One (더원)'),\n",
       " ('꿀맛', '정미애'),\n",
       " ('Love Again', '김제훈'),\n",
       " ('그 겨울', '정승환'),\n",
       " ('오래전 그날', '윤종신, 이적'),\n",
       " ('준비된 이별 (With 박은옥)', '아재'),\n",
       " ('눈의 꽃', '박효신'),\n",
       " ('크리스마스니까', '성시경, 박효신, 이석훈, 서인국, VIXX (빅스)'),\n",
       " ('미리 메리 크리스마스 (Feat. 천둥 Of MBLAQ)', '아이유'),\n",
       " ('겨울', '정준일'),\n",
       " ('지금은 우리가 멀리 있을지라도', '김광민'),\n",
       " ('바람기억', '나얼'),\n",
       " ('너만 생각하면', '김제훈'),\n",
       " ('This Happy Madness', 'Stacey Kent'),\n",
       " ('술 한잔해요 오늘', '지아'),\n",
       " ('Text Me Merry Christmas (Feat. Kristen Bell)', 'Straight No Chaser'),\n",
       " ('하루의 끝 (End of a day)', '종현 (JONGHYUN)'),\n",
       " ('코끝에 겨울', '어반자카파'),\n",
       " ('어깨', '소유 (SOYOU), 권정열'),\n",
       " ('오늘', '오왠 (O.WHEN)'),\n",
       " ('사랑난로', '서인국, VIXX (빅스), 박정아, 박윤하'),\n",
       " ('All I Want For Christmas Is You', 'Mariah Carey'),\n",
       " ('벌써 겨울', '허각, 브로맨스 (VROMANCE)'),\n",
       " ('비', '폴킴'),\n",
       " ('니가 보고싶은 밤', '윤딴딴'),\n",
       " ('연애는 하니..?', '휘성 (Realslow)'),\n",
       " ('네게 난', '주영'),\n",
       " ('12월의 기적 (Miracles In December)', 'EXO'),\n",
       " ('Universe', 'EXO'),\n",
       " ('눈사람', '정승환'),\n",
       " ('부디', '심규선 (Lucia), 에피톤 프로젝트'),\n",
       " ('넌 나의 크리스마스', '바이브, 신용재, 벤, 임세준, 미(MIIII)'),\n",
       " ('첫눈', '러블리즈'),\n",
       " ('화이트(WHITE) (Feat. 박재범)', '다비치'),\n",
       " ('Dear Santa', '소녀시대-태티서 (Girls` Generation-TTS)'),\n",
       " ('Walking in the Moonlight (Feat. 다원, Lazier)', '서교동의 밤'),\n",
       " ('걱정말아요 그대', '이적'),\n",
       " ('너 라는 계절', '서인국'),\n",
       " ('하얀 겨울', '김범수, 박정현'),\n",
       " ('밤편지', '아이유'),\n",
       " ('눈 (Feat. 이문세)', 'Zion.T'),\n",
       " ('More', 'Tokyo Cinema Jazz Trio'),\n",
       " ('난 니가 참 마음에 든다', '피아노 포엠'),\n",
       " ('Lovin` You', 'Ryu Miho'),\n",
       " ('어디에도', '엠씨더맥스 (M.C the MAX)'),\n",
       " ('크리스마스데이 (Christmas Day)',\n",
       "  '케이윌, 소유 (SOYOU), 보이프렌드, 몬스타엑스, 우주소녀, 매드클라운, 정기고, #Gun, 유승우, 브라더수, 마인드유, 듀에토 (백인태, 유슬기), 정세운, 이광현')]"
      ]
     },
     "execution_count": 16,
     "metadata": {},
     "output_type": "execute_result"
    }
   ],
   "source": [
    "[songId2meta.get(sid) for sid in pred_song_ids]"
   ]
  },
  {
   "cell_type": "code",
   "execution_count": 47,
   "metadata": {},
   "outputs": [],
   "source": [
    "good_tags = ['디즈니', '연애', '유재석', '고막남친', '포근한', '연말', '짝사랑', '운전', '봄바람',\n",
    "       '잠들기전', '힘', '흥겨운', '신곡', '산책', '듣기좋은', '걸그룹', '파티', '비오는날', '추위',\n",
    "       '비오는', '불토', '재즈', '이브', 'UK', '연애세포', '여행', '가을밤', '센치한', '록',\n",
    "       '행복', '배경음악', '감성힙합', '추석', '추억', '지친', '집', '어쿠스틱', '감성곡', '드라이브',\n",
    "       '고속도로', '신나는', '가을비', '트로트', '눈', '불금', '피아노', '발랄', '성인가요', '댄스',\n",
    "       '주말', '패션', '우울한', '벚꽃', '날씨', '커피', '노동요', '수록곡', '힘내', '경쾌한',\n",
    "       '정미애', '따뜻함', '노래', 'OfficialCharts', '헤어짐', '남자아이돌', '팝', '댄스곡',\n",
    "       '정다경', '여유', '휴식', '새벽', '잔잔함', '2000년대', '나른', '우울', '12월',\n",
    "       '뉴에이지', '우울할때', '명절', '2019년', '중독성', '엄마아리랑', '인디', '비', '자장가',\n",
    "       '버스', '스타일', '축하', '까페', '퇴근', '2016', '상큼한', '노래방', '찾아오는DJ',\n",
    "       'RNBSOUL', '상큼', '청량한', 'EDM', 'deep', '한국힙합', '아픔', '밝은', '혼자',\n",
    "       '기분전환', '찬양', '아이돌', '부드러운', '눈오는날', '귀르가즘', '여름노래', '댄스댄스', 'bar',\n",
    "       '크리스마스캐롤', '테라스', 'electronica', '연휴', '봄비', '가을', '북카페', '알앤비',\n",
    "       '토닥토닥', '장마', '트렌디', '꿀잠', '잔잔', '하우스', '와인', '생일', '국외', '고백',\n",
    "       '신남', '봄노래', '쓸쓸', '얼터너티브', '느낌있는', '성탄절', '브금', '불면증', '귀성길',\n",
    "       '에이핑크', '디스코', '인기', '달달', '소울', '책읽을때', '슬픔', '운동', '사랑노래', '락',\n",
    "       '잔잔한노래', '여름밤', '쌀쌀한', '시원한', '저녁', '낮잠', '일렉', '캐롤', '방콕',\n",
    "       '메리크리스마스', '기분좋은', '따뜻하게', '빌로우', '아무로나미에', '장르구분없이', '월요병', '분위기',\n",
    "       '청량', '페스티벌', '추천곡', '내적댄스', '국힙', '외로움', '클럽', '즐거운', '맑은', '스포츠',\n",
    "       '열대야', '오르골', '감성발라드', '밤', '시작', '브릿팝', '산뜻한', 'EDMFloor', '빗소리',\n",
    "       '쓸쓸함', '조용한', '낙엽', '겨울밤', '좋아요', '2019', '몽환', '블랙뮤직', '겨울노래',\n",
    "       '겨울', '휴일', '태교', '팝송', '새벽감성', '바캉스', '그리움', '추천', 'Lounge',\n",
    "       '플레이리스트', 'dance', '달달한', '신나는노래', '하늘', 'Instrumental', '그루브',\n",
    "       '치유', '봄', '퓨전재즈', '회식', '일렉트로니카', '잔잔한', '힙합엘이', '힙한', '힘들때',\n",
    "       '설렘', '취향저격', '독서', '썸', '차분', '목소리', '마음', '내한', '랩', '더위', '따듯한',\n",
    "       '띵곡들', '베스트', '봄나들이', '인디팝', '연주곡', '셋리스트', '감성', '장윤정', '후회',\n",
    "       '바람', '헬스', '지칠때', '흐린날', '감성적인', '유산슬', '임영웅', '집콕', '에너지',\n",
    "       '몽환적인', 'Christmas', '해외일렉트로니카', '크리스마스', '바다', '케이팝', '기분업',\n",
    "       '흥폭발', '겨울감성', '어린이집', '숨은명곡', 'OST', '2000', '고막여친', '춤', '휴가',\n",
    "       'bgm', '트랩', '연인', '비오는날듣기좋은노래', '하루', '가족', '슬픈', 'Pop', '집중',\n",
    "       '눈물', '아침', '카페뮤직', '두근두근', 'Rock', '차분한', '출근길', '이별', 'house',\n",
    "       '기분', '스트레스', '봄날', '잠', 'ballad', '음색', '달콤', '인디음악', '기타',\n",
    "       '다이어트', '띵곡', '떼창', '오후', '시험', '숙면', '회상', '대세', '캐럴', '취저',\n",
    "       '달달한노래', '꿀성대', '희망', '팝송모음', '흥', '설레임', '힙합', '애창곡', '카페', '매장',\n",
    "       '음색깡패', '크리스마스노래', '스웩', '오늘', '음악', '1990', '신나는음악', '유니크', '퇴근길',\n",
    "       '신나', '잠잘때', '공부', '설날', '힘이_나는', '달콤한', '주제곡', '사랑', '발라드', '생각',\n",
    "       '여름', '힐링', '여자아이돌', '방탄', '센치', '고백송', '커플', '첫사랑', '조깅', '지하철',\n",
    "       '위로', '매장음악', '좋은노래', '가사', '데이트', '유산소', '트로피컬', '리드미컬', '솔로',\n",
    "       '세련된', '비트', '스타일리시', '야경', '나들이', '편안한', '휘트니스', '영국', '일상']"
   ]
  },
  {
   "cell_type": "code",
   "execution_count": null,
   "metadata": {},
   "outputs": [],
   "source": []
  }
 ],
 "metadata": {
  "kernelspec": {
   "display_name": "Python 3",
   "language": "python",
   "name": "python3"
  },
  "language_info": {
   "codemirror_mode": {
    "name": "ipython",
    "version": 3
   },
   "file_extension": ".py",
   "mimetype": "text/x-python",
   "name": "python",
   "nbconvert_exporter": "python",
   "pygments_lexer": "ipython3",
   "version": "3.7.4"
  }
 },
 "nbformat": 4,
 "nbformat_minor": 4
}

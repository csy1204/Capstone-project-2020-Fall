{
 "cells": [
  {
   "cell_type": "code",
   "execution_count": 1,
   "metadata": {},
   "outputs": [],
   "source": []
  },
  {
   "cell_type": "code",
   "execution_count": 3,
   "metadata": {},
   "outputs": [
    {
     "data": {
      "text/plain": [
       "['cluster_v2_final_result.json',\n",
       " 'Untitled.ipynb',\n",
       " 'cluster_v1_final_result.json',\n",
       " 'final_result_all.json']"
      ]
     },
     "execution_count": 3,
     "metadata": {},
     "output_type": "execute_result"
    }
   ],
   "source": [
    "glob.glob('*')"
   ]
  },
  {
   "cell_type": "code",
   "execution_count": 6,
   "metadata": {},
   "outputs": [],
   "source": [
    "df_result_v1 = pd.read_json('cluster_v1_final_result.json')\n",
    "df_result_v2 = pd.read_json('cluster_v2_final_result.json')\n",
    "df_result_all = pd.read_json('final_result_all.json')"
   ]
  },
  {
   "cell_type": "code",
   "execution_count": 8,
   "metadata": {},
   "outputs": [
    {
     "data": {
      "text/html": [
       "<div>\n",
       "<style scoped>\n",
       "    .dataframe tbody tr th:only-of-type {\n",
       "        vertical-align: middle;\n",
       "    }\n",
       "\n",
       "    .dataframe tbody tr th {\n",
       "        vertical-align: top;\n",
       "    }\n",
       "\n",
       "    .dataframe thead th {\n",
       "        text-align: right;\n",
       "    }\n",
       "</style>\n",
       "<table border=\"1\" class=\"dataframe\">\n",
       "  <thead>\n",
       "    <tr style=\"text-align: right;\">\n",
       "      <th></th>\n",
       "      <th>tag</th>\n",
       "      <th>recall</th>\n",
       "      <th>precision</th>\n",
       "      <th>prediction</th>\n",
       "      <th>true</th>\n",
       "      <th>correct</th>\n",
       "      <th>spent</th>\n",
       "      <th>cluster</th>\n",
       "      <th>k50</th>\n",
       "      <th>k25</th>\n",
       "      <th>k10</th>\n",
       "      <th>recall@50</th>\n",
       "      <th>recall@25</th>\n",
       "      <th>recall@10</th>\n",
       "      <th>precision@50</th>\n",
       "      <th>precision@25</th>\n",
       "      <th>precision@10</th>\n",
       "      <th>true2</th>\n",
       "    </tr>\n",
       "  </thead>\n",
       "  <tbody>\n",
       "    <tr>\n",
       "      <th>0</th>\n",
       "      <td>12월</td>\n",
       "      <td>0.400000</td>\n",
       "      <td>0.08</td>\n",
       "      <td>[695032, 158153, 326204, 358186, 205179, 38785...</td>\n",
       "      <td>[62574, 112399, 205179, 207232, 226670, 298103...</td>\n",
       "      <td>4</td>\n",
       "      <td>0.131616</td>\n",
       "      <td>8</td>\n",
       "      <td>4</td>\n",
       "      <td>3</td>\n",
       "      <td>2</td>\n",
       "      <td>0.400000</td>\n",
       "      <td>0.300000</td>\n",
       "      <td>0.2</td>\n",
       "      <td>0.08</td>\n",
       "      <td>0.12</td>\n",
       "      <td>0.2</td>\n",
       "      <td>[62574, 112399, 205179, 207232, 226670, 298103...</td>\n",
       "    </tr>\n",
       "    <tr>\n",
       "      <th>1</th>\n",
       "      <td>1990</td>\n",
       "      <td>0.190476</td>\n",
       "      <td>0.08</td>\n",
       "      <td>[615198, 473570, 192042, 395220, 256691, 46712...</td>\n",
       "      <td>[48754, 55035, 74012, 89620, 109632, 155074, 1...</td>\n",
       "      <td>4</td>\n",
       "      <td>0.274631</td>\n",
       "      <td>5</td>\n",
       "      <td>4</td>\n",
       "      <td>1</td>\n",
       "      <td>0</td>\n",
       "      <td>0.160000</td>\n",
       "      <td>0.040000</td>\n",
       "      <td>0.0</td>\n",
       "      <td>0.08</td>\n",
       "      <td>0.04</td>\n",
       "      <td>0.0</td>\n",
       "      <td>[36207, 48754, 55035, 74012, 89620, 109632, 15...</td>\n",
       "    </tr>\n",
       "    <tr>\n",
       "      <th>2</th>\n",
       "      <td>2000</td>\n",
       "      <td>0.250000</td>\n",
       "      <td>0.04</td>\n",
       "      <td>[540123, 584782, 248927, 372175, 120846, 29214...</td>\n",
       "      <td>[48754, 106214, 230640, 283930, 330540, 345515...</td>\n",
       "      <td>2</td>\n",
       "      <td>0.321818</td>\n",
       "      <td>5</td>\n",
       "      <td>2</td>\n",
       "      <td>0</td>\n",
       "      <td>0</td>\n",
       "      <td>0.222222</td>\n",
       "      <td>0.000000</td>\n",
       "      <td>0.0</td>\n",
       "      <td>0.04</td>\n",
       "      <td>0.00</td>\n",
       "      <td>0.0</td>\n",
       "      <td>[48754, 106214, 198388, 230640, 283930, 330540...</td>\n",
       "    </tr>\n",
       "    <tr>\n",
       "      <th>3</th>\n",
       "      <td>2000년대</td>\n",
       "      <td>0.037037</td>\n",
       "      <td>0.02</td>\n",
       "      <td>[473570, 237407, 545007, 430005, 349270, 21143...</td>\n",
       "      <td>[11777, 74403, 86130, 88503, 98472, 118973, 14...</td>\n",
       "      <td>1</td>\n",
       "      <td>0.267353</td>\n",
       "      <td>5</td>\n",
       "      <td>1</td>\n",
       "      <td>0</td>\n",
       "      <td>0</td>\n",
       "      <td>0.033333</td>\n",
       "      <td>0.000000</td>\n",
       "      <td>0.0</td>\n",
       "      <td>0.02</td>\n",
       "      <td>0.00</td>\n",
       "      <td>0.0</td>\n",
       "      <td>[11777, 26627, 74403, 86130, 88503, 98472, 118...</td>\n",
       "    </tr>\n",
       "    <tr>\n",
       "      <th>4</th>\n",
       "      <td>2016</td>\n",
       "      <td>0.250000</td>\n",
       "      <td>0.02</td>\n",
       "      <td>[419730, 311071, 488946, 335338, 354197, 22907...</td>\n",
       "      <td>[2748, 133190, 360825, 518420]</td>\n",
       "      <td>1</td>\n",
       "      <td>0.129392</td>\n",
       "      <td>1</td>\n",
       "      <td>1</td>\n",
       "      <td>1</td>\n",
       "      <td>0</td>\n",
       "      <td>0.166667</td>\n",
       "      <td>0.166667</td>\n",
       "      <td>0.0</td>\n",
       "      <td>0.02</td>\n",
       "      <td>0.04</td>\n",
       "      <td>0.0</td>\n",
       "      <td>[2748, 133190, 343919, 360825, 499518, 518420]</td>\n",
       "    </tr>\n",
       "  </tbody>\n",
       "</table>\n",
       "</div>"
      ],
      "text/plain": [
       "      tag    recall  precision  \\\n",
       "0     12월  0.400000       0.08   \n",
       "1    1990  0.190476       0.08   \n",
       "2    2000  0.250000       0.04   \n",
       "3  2000년대  0.037037       0.02   \n",
       "4    2016  0.250000       0.02   \n",
       "\n",
       "                                          prediction  \\\n",
       "0  [695032, 158153, 326204, 358186, 205179, 38785...   \n",
       "1  [615198, 473570, 192042, 395220, 256691, 46712...   \n",
       "2  [540123, 584782, 248927, 372175, 120846, 29214...   \n",
       "3  [473570, 237407, 545007, 430005, 349270, 21143...   \n",
       "4  [419730, 311071, 488946, 335338, 354197, 22907...   \n",
       "\n",
       "                                                true  correct     spent  \\\n",
       "0  [62574, 112399, 205179, 207232, 226670, 298103...        4  0.131616   \n",
       "1  [48754, 55035, 74012, 89620, 109632, 155074, 1...        4  0.274631   \n",
       "2  [48754, 106214, 230640, 283930, 330540, 345515...        2  0.321818   \n",
       "3  [11777, 74403, 86130, 88503, 98472, 118973, 14...        1  0.267353   \n",
       "4                     [2748, 133190, 360825, 518420]        1  0.129392   \n",
       "\n",
       "   cluster  k50  k25  k10  recall@50  recall@25  recall@10  precision@50  \\\n",
       "0        8    4    3    2   0.400000   0.300000        0.2          0.08   \n",
       "1        5    4    1    0   0.160000   0.040000        0.0          0.08   \n",
       "2        5    2    0    0   0.222222   0.000000        0.0          0.04   \n",
       "3        5    1    0    0   0.033333   0.000000        0.0          0.02   \n",
       "4        1    1    1    0   0.166667   0.166667        0.0          0.02   \n",
       "\n",
       "   precision@25  precision@10  \\\n",
       "0          0.12           0.2   \n",
       "1          0.04           0.0   \n",
       "2          0.00           0.0   \n",
       "3          0.00           0.0   \n",
       "4          0.04           0.0   \n",
       "\n",
       "                                               true2  \n",
       "0  [62574, 112399, 205179, 207232, 226670, 298103...  \n",
       "1  [36207, 48754, 55035, 74012, 89620, 109632, 15...  \n",
       "2  [48754, 106214, 198388, 230640, 283930, 330540...  \n",
       "3  [11777, 26627, 74403, 86130, 88503, 98472, 118...  \n",
       "4     [2748, 133190, 343919, 360825, 499518, 518420]  "
      ]
     },
     "execution_count": 8,
     "metadata": {},
     "output_type": "execute_result"
    }
   ],
   "source": [
    "df_result_v1.head()"
   ]
  },
  {
   "cell_type": "code",
   "execution_count": 9,
   "metadata": {},
   "outputs": [
    {
     "data": {
      "text/html": [
       "<div>\n",
       "<style scoped>\n",
       "    .dataframe tbody tr th:only-of-type {\n",
       "        vertical-align: middle;\n",
       "    }\n",
       "\n",
       "    .dataframe tbody tr th {\n",
       "        vertical-align: top;\n",
       "    }\n",
       "\n",
       "    .dataframe thead th {\n",
       "        text-align: right;\n",
       "    }\n",
       "</style>\n",
       "<table border=\"1\" class=\"dataframe\">\n",
       "  <thead>\n",
       "    <tr style=\"text-align: right;\">\n",
       "      <th></th>\n",
       "      <th>tag</th>\n",
       "      <th>recall</th>\n",
       "      <th>precision</th>\n",
       "      <th>prediction</th>\n",
       "      <th>true</th>\n",
       "      <th>correct</th>\n",
       "      <th>spent</th>\n",
       "      <th>k50</th>\n",
       "      <th>k25</th>\n",
       "      <th>k10</th>\n",
       "      <th>recall@50</th>\n",
       "      <th>recall@25</th>\n",
       "      <th>recall@10</th>\n",
       "      <th>precision@50</th>\n",
       "      <th>precision@25</th>\n",
       "      <th>precision@10</th>\n",
       "      <th>k25_prediction</th>\n",
       "      <th>k10_prediction</th>\n",
       "    </tr>\n",
       "  </thead>\n",
       "  <tbody>\n",
       "    <tr>\n",
       "      <th>0</th>\n",
       "      <td>12월</td>\n",
       "      <td>0.0</td>\n",
       "      <td>0.0</td>\n",
       "      <td>[695032, 158153, 326204, 358186, 205179, 38785...</td>\n",
       "      <td>[62574, 112399, 205179, 207232, 226670, 298103...</td>\n",
       "      <td>0</td>\n",
       "      <td>0.140335</td>\n",
       "      <td>4</td>\n",
       "      <td>3</td>\n",
       "      <td>2</td>\n",
       "      <td>0.400000</td>\n",
       "      <td>0.300000</td>\n",
       "      <td>0.2</td>\n",
       "      <td>0.08</td>\n",
       "      <td>0.12</td>\n",
       "      <td>0.2</td>\n",
       "      <td>[695032, 158153, 326204, 358186, 205179, 38785...</td>\n",
       "      <td>[695032, 158153, 326204, 358186, 205179, 38785...</td>\n",
       "    </tr>\n",
       "    <tr>\n",
       "      <th>1</th>\n",
       "      <td>1990</td>\n",
       "      <td>0.0</td>\n",
       "      <td>0.0</td>\n",
       "      <td>[615198, 473570, 192042, 395220, 256691, 46712...</td>\n",
       "      <td>[36207, 48754, 55035, 74012, 89620, 109632, 15...</td>\n",
       "      <td>0</td>\n",
       "      <td>0.511901</td>\n",
       "      <td>3</td>\n",
       "      <td>1</td>\n",
       "      <td>0</td>\n",
       "      <td>0.120000</td>\n",
       "      <td>0.040000</td>\n",
       "      <td>0.0</td>\n",
       "      <td>0.06</td>\n",
       "      <td>0.04</td>\n",
       "      <td>0.0</td>\n",
       "      <td>[615198, 473570, 192042, 395220, 256691, 46712...</td>\n",
       "      <td>[615198, 473570, 192042, 395220, 256691, 46712...</td>\n",
       "    </tr>\n",
       "    <tr>\n",
       "      <th>2</th>\n",
       "      <td>2000</td>\n",
       "      <td>0.0</td>\n",
       "      <td>0.0</td>\n",
       "      <td>[540123, 584782, 248927, 372175, 120846, 29214...</td>\n",
       "      <td>[48754, 106214, 198388, 230640, 283930, 330540...</td>\n",
       "      <td>0</td>\n",
       "      <td>0.509969</td>\n",
       "      <td>1</td>\n",
       "      <td>0</td>\n",
       "      <td>0</td>\n",
       "      <td>0.111111</td>\n",
       "      <td>0.000000</td>\n",
       "      <td>0.0</td>\n",
       "      <td>0.02</td>\n",
       "      <td>0.00</td>\n",
       "      <td>0.0</td>\n",
       "      <td>[540123, 584782, 248927, 372175, 120846, 29214...</td>\n",
       "      <td>[540123, 584782, 248927, 372175, 120846, 29214...</td>\n",
       "    </tr>\n",
       "    <tr>\n",
       "      <th>3</th>\n",
       "      <td>2000년대</td>\n",
       "      <td>0.0</td>\n",
       "      <td>0.0</td>\n",
       "      <td>[473570, 237407, 545007, 430005, 349270, 21143...</td>\n",
       "      <td>[11777, 26627, 74403, 86130, 88503, 98472, 118...</td>\n",
       "      <td>0</td>\n",
       "      <td>0.496445</td>\n",
       "      <td>0</td>\n",
       "      <td>0</td>\n",
       "      <td>0</td>\n",
       "      <td>0.000000</td>\n",
       "      <td>0.000000</td>\n",
       "      <td>0.0</td>\n",
       "      <td>0.00</td>\n",
       "      <td>0.00</td>\n",
       "      <td>0.0</td>\n",
       "      <td>[473570, 237407, 545007, 430005, 349270, 21143...</td>\n",
       "      <td>[473570, 237407, 545007, 430005, 349270, 21143...</td>\n",
       "    </tr>\n",
       "    <tr>\n",
       "      <th>4</th>\n",
       "      <td>2016</td>\n",
       "      <td>0.0</td>\n",
       "      <td>0.0</td>\n",
       "      <td>[419730, 311071, 488946, 335338, 354197, 22907...</td>\n",
       "      <td>[2748, 133190, 343919, 360825, 499518, 518420]</td>\n",
       "      <td>0</td>\n",
       "      <td>0.134348</td>\n",
       "      <td>1</td>\n",
       "      <td>1</td>\n",
       "      <td>0</td>\n",
       "      <td>0.166667</td>\n",
       "      <td>0.166667</td>\n",
       "      <td>0.0</td>\n",
       "      <td>0.02</td>\n",
       "      <td>0.04</td>\n",
       "      <td>0.0</td>\n",
       "      <td>[419730, 311071, 488946, 335338, 354197, 22907...</td>\n",
       "      <td>[419730, 311071, 488946, 335338, 354197, 22907...</td>\n",
       "    </tr>\n",
       "  </tbody>\n",
       "</table>\n",
       "</div>"
      ],
      "text/plain": [
       "      tag  recall  precision  \\\n",
       "0     12월     0.0        0.0   \n",
       "1    1990     0.0        0.0   \n",
       "2    2000     0.0        0.0   \n",
       "3  2000년대     0.0        0.0   \n",
       "4    2016     0.0        0.0   \n",
       "\n",
       "                                          prediction  \\\n",
       "0  [695032, 158153, 326204, 358186, 205179, 38785...   \n",
       "1  [615198, 473570, 192042, 395220, 256691, 46712...   \n",
       "2  [540123, 584782, 248927, 372175, 120846, 29214...   \n",
       "3  [473570, 237407, 545007, 430005, 349270, 21143...   \n",
       "4  [419730, 311071, 488946, 335338, 354197, 22907...   \n",
       "\n",
       "                                                true  correct     spent  k50  \\\n",
       "0  [62574, 112399, 205179, 207232, 226670, 298103...        0  0.140335    4   \n",
       "1  [36207, 48754, 55035, 74012, 89620, 109632, 15...        0  0.511901    3   \n",
       "2  [48754, 106214, 198388, 230640, 283930, 330540...        0  0.509969    1   \n",
       "3  [11777, 26627, 74403, 86130, 88503, 98472, 118...        0  0.496445    0   \n",
       "4     [2748, 133190, 343919, 360825, 499518, 518420]        0  0.134348    1   \n",
       "\n",
       "   k25  k10  recall@50  recall@25  recall@10  precision@50  precision@25  \\\n",
       "0    3    2   0.400000   0.300000        0.2          0.08          0.12   \n",
       "1    1    0   0.120000   0.040000        0.0          0.06          0.04   \n",
       "2    0    0   0.111111   0.000000        0.0          0.02          0.00   \n",
       "3    0    0   0.000000   0.000000        0.0          0.00          0.00   \n",
       "4    1    0   0.166667   0.166667        0.0          0.02          0.04   \n",
       "\n",
       "   precision@10                                     k25_prediction  \\\n",
       "0           0.2  [695032, 158153, 326204, 358186, 205179, 38785...   \n",
       "1           0.0  [615198, 473570, 192042, 395220, 256691, 46712...   \n",
       "2           0.0  [540123, 584782, 248927, 372175, 120846, 29214...   \n",
       "3           0.0  [473570, 237407, 545007, 430005, 349270, 21143...   \n",
       "4           0.0  [419730, 311071, 488946, 335338, 354197, 22907...   \n",
       "\n",
       "                                      k10_prediction  \n",
       "0  [695032, 158153, 326204, 358186, 205179, 38785...  \n",
       "1  [615198, 473570, 192042, 395220, 256691, 46712...  \n",
       "2  [540123, 584782, 248927, 372175, 120846, 29214...  \n",
       "3  [473570, 237407, 545007, 430005, 349270, 21143...  \n",
       "4  [419730, 311071, 488946, 335338, 354197, 22907...  "
      ]
     },
     "execution_count": 9,
     "metadata": {},
     "output_type": "execute_result"
    }
   ],
   "source": [
    "df_result_v2.head()"
   ]
  },
  {
   "cell_type": "code",
   "execution_count": 10,
   "metadata": {},
   "outputs": [
    {
     "data": {
      "text/html": [
       "<div>\n",
       "<style scoped>\n",
       "    .dataframe tbody tr th:only-of-type {\n",
       "        vertical-align: middle;\n",
       "    }\n",
       "\n",
       "    .dataframe tbody tr th {\n",
       "        vertical-align: top;\n",
       "    }\n",
       "\n",
       "    .dataframe thead th {\n",
       "        text-align: right;\n",
       "    }\n",
       "</style>\n",
       "<table border=\"1\" class=\"dataframe\">\n",
       "  <thead>\n",
       "    <tr style=\"text-align: right;\">\n",
       "      <th></th>\n",
       "      <th>tag</th>\n",
       "      <th>recall</th>\n",
       "      <th>precision</th>\n",
       "      <th>prediction</th>\n",
       "      <th>true</th>\n",
       "      <th>correct</th>\n",
       "      <th>spent</th>\n",
       "      <th>k50</th>\n",
       "      <th>k25</th>\n",
       "      <th>k10</th>\n",
       "      <th>recall@50</th>\n",
       "      <th>recall@25</th>\n",
       "      <th>recall@10</th>\n",
       "      <th>precision@50</th>\n",
       "      <th>precision@25</th>\n",
       "      <th>precision@10</th>\n",
       "    </tr>\n",
       "  </thead>\n",
       "  <tbody>\n",
       "    <tr>\n",
       "      <th>0</th>\n",
       "      <td>디즈니</td>\n",
       "      <td>0.153846</td>\n",
       "      <td>0.04</td>\n",
       "      <td>[179443, 328648, 452815, 248717, 497276, 23276...</td>\n",
       "      <td>[262430, 157900, 278849, 638488, 320447, 27133...</td>\n",
       "      <td>2</td>\n",
       "      <td>2.755276</td>\n",
       "      <td>2</td>\n",
       "      <td>0</td>\n",
       "      <td>0</td>\n",
       "      <td>0.153846</td>\n",
       "      <td>0.000000</td>\n",
       "      <td>0.000000</td>\n",
       "      <td>0.04</td>\n",
       "      <td>0.00</td>\n",
       "      <td>0.0</td>\n",
       "    </tr>\n",
       "    <tr>\n",
       "      <th>1</th>\n",
       "      <td>연애</td>\n",
       "      <td>0.048544</td>\n",
       "      <td>0.10</td>\n",
       "      <td>[701557, 549178, 361747, 300087, 32606, 464292...</td>\n",
       "      <td>[565629, 26083, 506798, 701557, 284180, 471691...</td>\n",
       "      <td>5</td>\n",
       "      <td>2.654502</td>\n",
       "      <td>5</td>\n",
       "      <td>4</td>\n",
       "      <td>2</td>\n",
       "      <td>0.048544</td>\n",
       "      <td>0.038835</td>\n",
       "      <td>0.019417</td>\n",
       "      <td>0.10</td>\n",
       "      <td>0.16</td>\n",
       "      <td>0.2</td>\n",
       "    </tr>\n",
       "    <tr>\n",
       "      <th>2</th>\n",
       "      <td>유재석</td>\n",
       "      <td>0.200000</td>\n",
       "      <td>0.02</td>\n",
       "      <td>[133156, 55638, 704788, 448896, 179443, 46468,...</td>\n",
       "      <td>[318781, 23443, 299831, 183563, 543264]</td>\n",
       "      <td>1</td>\n",
       "      <td>2.978373</td>\n",
       "      <td>1</td>\n",
       "      <td>1</td>\n",
       "      <td>0</td>\n",
       "      <td>0.200000</td>\n",
       "      <td>0.200000</td>\n",
       "      <td>0.000000</td>\n",
       "      <td>0.02</td>\n",
       "      <td>0.04</td>\n",
       "      <td>0.0</td>\n",
       "    </tr>\n",
       "    <tr>\n",
       "      <th>3</th>\n",
       "      <td>고막남친</td>\n",
       "      <td>0.062500</td>\n",
       "      <td>0.02</td>\n",
       "      <td>[676786, 482739, 249396, 265682, 582252, 20517...</td>\n",
       "      <td>[10961, 144663, 318871, 616212, 635425, 23605,...</td>\n",
       "      <td>1</td>\n",
       "      <td>2.792136</td>\n",
       "      <td>1</td>\n",
       "      <td>0</td>\n",
       "      <td>0</td>\n",
       "      <td>0.062500</td>\n",
       "      <td>0.000000</td>\n",
       "      <td>0.000000</td>\n",
       "      <td>0.02</td>\n",
       "      <td>0.00</td>\n",
       "      <td>0.0</td>\n",
       "    </tr>\n",
       "    <tr>\n",
       "      <th>4</th>\n",
       "      <td>포근한</td>\n",
       "      <td>0.038961</td>\n",
       "      <td>0.06</td>\n",
       "      <td>[283338, 690341, 579262, 464292, 138429, 30046...</td>\n",
       "      <td>[273170, 705853, 96310, 651331, 207232, 605317...</td>\n",
       "      <td>3</td>\n",
       "      <td>2.700266</td>\n",
       "      <td>3</td>\n",
       "      <td>1</td>\n",
       "      <td>0</td>\n",
       "      <td>0.038961</td>\n",
       "      <td>0.012987</td>\n",
       "      <td>0.000000</td>\n",
       "      <td>0.06</td>\n",
       "      <td>0.04</td>\n",
       "      <td>0.0</td>\n",
       "    </tr>\n",
       "  </tbody>\n",
       "</table>\n",
       "</div>"
      ],
      "text/plain": [
       "    tag    recall  precision  \\\n",
       "0   디즈니  0.153846       0.04   \n",
       "1    연애  0.048544       0.10   \n",
       "2   유재석  0.200000       0.02   \n",
       "3  고막남친  0.062500       0.02   \n",
       "4   포근한  0.038961       0.06   \n",
       "\n",
       "                                          prediction  \\\n",
       "0  [179443, 328648, 452815, 248717, 497276, 23276...   \n",
       "1  [701557, 549178, 361747, 300087, 32606, 464292...   \n",
       "2  [133156, 55638, 704788, 448896, 179443, 46468,...   \n",
       "3  [676786, 482739, 249396, 265682, 582252, 20517...   \n",
       "4  [283338, 690341, 579262, 464292, 138429, 30046...   \n",
       "\n",
       "                                                true  correct     spent  k50  \\\n",
       "0  [262430, 157900, 278849, 638488, 320447, 27133...        2  2.755276    2   \n",
       "1  [565629, 26083, 506798, 701557, 284180, 471691...        5  2.654502    5   \n",
       "2            [318781, 23443, 299831, 183563, 543264]        1  2.978373    1   \n",
       "3  [10961, 144663, 318871, 616212, 635425, 23605,...        1  2.792136    1   \n",
       "4  [273170, 705853, 96310, 651331, 207232, 605317...        3  2.700266    3   \n",
       "\n",
       "   k25  k10  recall@50  recall@25  recall@10  precision@50  precision@25  \\\n",
       "0    0    0   0.153846   0.000000   0.000000          0.04          0.00   \n",
       "1    4    2   0.048544   0.038835   0.019417          0.10          0.16   \n",
       "2    1    0   0.200000   0.200000   0.000000          0.02          0.04   \n",
       "3    0    0   0.062500   0.000000   0.000000          0.02          0.00   \n",
       "4    1    0   0.038961   0.012987   0.000000          0.06          0.04   \n",
       "\n",
       "   precision@10  \n",
       "0           0.0  \n",
       "1           0.2  \n",
       "2           0.0  \n",
       "3           0.0  \n",
       "4           0.0  "
      ]
     },
     "execution_count": 10,
     "metadata": {},
     "output_type": "execute_result"
    }
   ],
   "source": [
    "df_result_all.head()"
   ]
  },
  {
   "cell_type": "code",
   "execution_count": 11,
   "metadata": {},
   "outputs": [
    {
     "data": {
      "text/plain": [
       "recall          0.123601\n",
       "precision       0.058045\n",
       "correct         2.902235\n",
       "spent           0.390558\n",
       "cluster         8.000000\n",
       "k50             2.902235\n",
       "k25             1.567039\n",
       "k10             0.715084\n",
       "recall@50       0.103684\n",
       "recall@25       0.066429\n",
       "recall@10       0.038082\n",
       "precision@50    0.058045\n",
       "precision@25    0.062682\n",
       "precision@10    0.071508\n",
       "dtype: float64"
      ]
     },
     "execution_count": 11,
     "metadata": {},
     "output_type": "execute_result"
    }
   ],
   "source": [
    "df_result_v1.mean()"
   ]
  },
  {
   "cell_type": "code",
   "execution_count": 12,
   "metadata": {},
   "outputs": [
    {
     "data": {
      "text/plain": [
       "recall          0.008800\n",
       "precision       0.005642\n",
       "correct         0.282123\n",
       "spent           0.595391\n",
       "k50             2.885475\n",
       "k25             1.575419\n",
       "k10             0.678771\n",
       "recall@50       0.107077\n",
       "recall@25       0.067762\n",
       "recall@10       0.033256\n",
       "precision@50    0.057709\n",
       "precision@25    0.063017\n",
       "precision@10    0.067877\n",
       "dtype: float64"
      ]
     },
     "execution_count": 12,
     "metadata": {},
     "output_type": "execute_result"
    }
   ],
   "source": [
    "df_result_v2.mean()"
   ]
  },
  {
   "cell_type": "code",
   "execution_count": 13,
   "metadata": {},
   "outputs": [
    {
     "data": {
      "text/plain": [
       "recall          0.122663\n",
       "precision       0.055587\n",
       "correct         2.779330\n",
       "spent           2.482691\n",
       "k50             2.779330\n",
       "k25             1.382682\n",
       "k10             0.530726\n",
       "recall@50       0.122663\n",
       "recall@25       0.062337\n",
       "recall@10       0.025926\n",
       "precision@50    0.055587\n",
       "precision@25    0.055307\n",
       "precision@10    0.053073\n",
       "dtype: float64"
      ]
     },
     "execution_count": 13,
     "metadata": {},
     "output_type": "execute_result"
    }
   ],
   "source": [
    "df_result_all.mean()"
   ]
  },
  {
   "cell_type": "code",
   "execution_count": 16,
   "metadata": {},
   "outputs": [],
   "source": [
    "recall_col = ['recall@50', 'recall@25', 'recall@10']"
   ]
  },
  {
   "cell_type": "code",
   "execution_count": 28,
   "metadata": {},
   "outputs": [],
   "source": [
    "precision_col = ['precision@50', 'precision@25', 'precision@10']"
   ]
  },
  {
   "cell_type": "code",
   "execution_count": 29,
   "metadata": {},
   "outputs": [
    {
     "data": {
      "text/plain": [
       "<matplotlib.axes._subplots.AxesSubplot at 0x123070310>"
      ]
     },
     "execution_count": 29,
     "metadata": {},
     "output_type": "execute_result"
    },
    {
     "data": {
      "image/png": "[encoded data removed]",
      "text/plain": [
       "<Figure size 648x432 with 1 Axes>"
      ]
     },
     "metadata": {
      "needs_background": "light"
     },
     "output_type": "display_data"
    }
   ],
   "source": [
    "df_result_v1[recall_col+precision_col].mean().plot.bar(figsize=(9,6))"
   ]
  },
  {
   "cell_type": "code",
   "execution_count": 30,
   "metadata": {},
   "outputs": [
    {
     "data": {
      "text/plain": [
       "<matplotlib.axes._subplots.AxesSubplot at 0x1230e8ad0>"
      ]
     },
     "execution_count": 30,
     "metadata": {},
     "output_type": "execute_result"
    },
    {
     "data": {
      "image/png": "[encoded data removed]",
      "text/plain": [
       "<Figure size 648x432 with 1 Axes>"
      ]
     },
     "metadata": {
      "needs_background": "light"
     },
     "output_type": "display_data"
    }
   ],
   "source": [
    "df_result_v2[recall_col+precision_col].mean().plot.bar(figsize=(9,6))"
   ]
  },
  {
   "cell_type": "code",
   "execution_count": 31,
   "metadata": {},
   "outputs": [
    {
     "data": {
      "text/plain": [
       "<matplotlib.axes._subplots.AxesSubplot at 0x12315ee50>"
      ]
     },
     "execution_count": 31,
     "metadata": {},
     "output_type": "execute_result"
    },
    {
     "data": {
      "image/png": "[encoded data removed]",
      "text/plain": [
       "<Figure size 648x432 with 1 Axes>"
      ]
     },
     "metadata": {
      "needs_background": "light"
     },
     "output_type": "display_data"
    }
   ],
   "source": [
    "df_result_all[recall_col+precision_col].mean().plot.bar(figsize=(9,6))"
   ]
  },
  {
   "cell_type": "code",
   "execution_count": null,
   "metadata": {},
   "outputs": [],
   "source": [
    "[\n",
    "    songId2meta.get(pred)\n",
    "    for pred in df_result_all.set_index('tag').loc['숙면','prediction']\n",
    "]"
   ]
  },
  {
   "cell_type": "code",
   "execution_count": 49,
   "metadata": {},
   "outputs": [
    {
     "data": {
      "text/plain": [
       "array(['디즈니', '연애', '유재석', '고막남친', '포근한', '연말', '짝사랑', '운전', '봄바람',\n",
       "       '잠들기전', '힘', '흥겨운', '신곡', '산책', '듣기좋은', '걸그룹', '파티', '비오는날', '추위',\n",
       "       '비오는', '불토', '재즈', '이브', 'UK', '연애세포', '여행', '가을밤', '센치한', '록',\n",
       "       '행복', '배경음악', '감성힙합', '추석', '추억', '지친', '집', '어쿠스틱', '감성곡', '드라이브',\n",
       "       '고속도로', '신나는', '가을비', '트로트', '눈', '불금', '피아노', '발랄', '성인가요', '댄스',\n",
       "       '주말', '패션', '우울한', '벚꽃', '날씨', '커피', '노동요', '수록곡', '힘내', '경쾌한',\n",
       "       '정미애', '따뜻함', '노래', 'OfficialCharts', '헤어짐', '남자아이돌', '팝', '댄스곡',\n",
       "       '정다경', '여유', '휴식', '새벽', '잔잔함', '2000년대', '나른', '우울', '12월',\n",
       "       '뉴에이지', '우울할때', '명절', '2019년', '중독성', '엄마아리랑', '인디', '비', '자장가',\n",
       "       '버스', '스타일', '축하', '까페', '퇴근', '2016', '상큼한', '노래방', '찾아오는DJ',\n",
       "       'RNBSOUL', '상큼', '청량한', 'EDM', 'deep', '한국힙합', '아픔', '밝은', '혼자',\n",
       "       '기분전환', '찬양', '아이돌', '부드러운', '눈오는날', '귀르가즘', '여름노래', '댄스댄스', 'bar',\n",
       "       '크리스마스캐롤', '테라스', 'electronica', '연휴', '봄비', '가을', '북카페', '알앤비',\n",
       "       '토닥토닥', '장마', '트렌디', '꿀잠', '잔잔', '하우스', '와인', '생일', '국외', '고백',\n",
       "       '신남', '봄노래', '쓸쓸', '얼터너티브', '느낌있는', '성탄절', '브금', '불면증', '귀성길',\n",
       "       '에이핑크', '디스코', '인기', '달달', '소울', '책읽을때', '슬픔', '운동', '사랑노래', '락',\n",
       "       '잔잔한노래', '여름밤', '쌀쌀한', '시원한', '저녁', '낮잠', '일렉', '캐롤', '방콕',\n",
       "       '메리크리스마스', '기분좋은', '따뜻하게', '빌로우', '아무로나미에', '장르구분없이', '월요병', '분위기',\n",
       "       '청량', '페스티벌', '추천곡', '내적댄스', '국힙', '외로움', '클럽', '즐거운', '맑은', '스포츠',\n",
       "       '열대야', '오르골', '감성발라드', '밤', '시작', '브릿팝', '산뜻한', 'EDMFloor', '빗소리',\n",
       "       '쓸쓸함', '조용한', '낙엽', '겨울밤', '좋아요', '2019', '몽환', '블랙뮤직', '겨울노래',\n",
       "       '겨울', '휴일', '태교', '팝송', '새벽감성', '바캉스', '그리움', '추천', 'Lounge',\n",
       "       '플레이리스트', 'dance', '달달한', '신나는노래', '하늘', 'Instrumental', '그루브',\n",
       "       '치유', '봄', '퓨전재즈', '회식', '일렉트로니카', '잔잔한', '힙합엘이', '힙한', '힘들때',\n",
       "       '설렘', '취향저격', '독서', '썸', '차분', '목소리', '마음', '내한', '랩', '더위', '따듯한',\n",
       "       '띵곡들', '베스트', '봄나들이', '인디팝', '연주곡', '셋리스트', '감성', '장윤정', '후회',\n",
       "       '바람', '헬스', '지칠때', '흐린날', '감성적인', '유산슬', '임영웅', '집콕', '에너지',\n",
       "       '몽환적인', 'Christmas', '해외일렉트로니카', '크리스마스', '바다', '케이팝', '기분업',\n",
       "       '흥폭발', '겨울감성', '어린이집', '숨은명곡', 'OST', '2000', '고막여친', '춤', '휴가',\n",
       "       'bgm', '트랩', '연인', '비오는날듣기좋은노래', '하루', '가족', '슬픈', 'Pop', '집중',\n",
       "       '눈물', '아침', '카페뮤직', '두근두근', 'Rock', '차분한', '출근길', '이별', 'house',\n",
       "       '기분', '스트레스', '봄날', '잠', 'ballad', '음색', '달콤', '인디음악', '기타',\n",
       "       '다이어트', '띵곡', '떼창', '오후', '시험', '숙면', '회상', '대세', '캐럴', '취저',\n",
       "       '달달한노래', '꿀성대', '희망', '팝송모음', '흥', '설레임', '힙합', '애창곡', '카페', '매장',\n",
       "       '음색깡패', '크리스마스노래', '스웩', '오늘', '음악', '1990', '신나는음악', '유니크', '퇴근길',\n",
       "       '신나', '잠잘때', '공부', '설날', '힘이_나는', '달콤한', '주제곡', '사랑', '발라드', '생각',\n",
       "       '여름', '힐링', '여자아이돌', '방탄', '센치', '고백송', '커플', '첫사랑', '조깅', '지하철',\n",
       "       '위로', '매장음악', '좋은노래', '가사', '데이트', '유산소', '트로피컬', '리드미컬', '솔로',\n",
       "       '세련된', '비트', '스타일리시', '야경', '나들이', '편안한', '휘트니스', '영국', '일상'],\n",
       "      dtype=object)"
      ]
     },
     "execution_count": 49,
     "metadata": {},
     "output_type": "execute_result"
    }
   ],
   "source": [
    "df_result_all.tag.unique()"
   ]
  },
  {
   "cell_type": "code",
   "execution_count": null,
   "metadata": {},
   "outputs": [],
   "source": []
  },
  {
   "cell_type": "code",
   "execution_count": 32,
   "metadata": {},
   "outputs": [],
   "source": [
    "df_meta = pd.read_csv('../__const__/Meta_v1.csv')"
   ]
  },
  {
   "cell_type": "code",
   "execution_count": 38,
   "metadata": {},
   "outputs": [],
   "source": [
    "songId2meta = {song_id: (song_name, ', '.join(eval(artist_name))) for song_id, song_name, artist_name in zip(df_meta['id'], df_meta.song_name, df_meta.artist_name_basket) }"
   ]
  },
  {
   "cell_type": "code",
   "execution_count": 61,
   "metadata": {},
   "outputs": [],
   "source": []
  },
  {
   "cell_type": "code",
   "execution_count": 55,
   "metadata": {},
   "outputs": [],
   "source": [
    "write_data_to_pickle(songId2meta, 'songId2meta.pickle')"
   ]
  },
  {
   "cell_type": "code",
   "execution_count": null,
   "metadata": {},
   "outputs": [],
   "source": [
    "songId2meta"
   ]
  },
  {
   "cell_type": "code",
   "execution_count": null,
   "metadata": {},
   "outputs": [],
   "source": []
  },
  {
   "cell_type": "code",
   "execution_count": 57,
   "metadata": {},
   "outputs": [],
   "source": []
  },
  {
   "cell_type": "code",
   "execution_count": 18,
   "metadata": {},
   "outputs": [],
   "source": [
    "import pandas as pd\n",
    "import glob\n",
    "import pickle\n",
    "import os\n",
    "import tensorflow as tf\n",
    "import numpy as np\n",
    "\n",
    "def get_data_from_pickle(path):\n",
    "    with open(path, \"rb\") as f:\n",
    "        data = pickle.load(f)\n",
    "    return data\n",
    "\n",
    "def write_data_to_pickle(data, path):\n",
    "    with open(path, \"wb\") as f:\n",
    "        f.write(pickle.dumps(data))"
   ]
  },
  {
   "cell_type": "code",
   "execution_count": 20,
   "metadata": {},
   "outputs": [],
   "source": [
    "def get_path(filename, parent='__models__'):\n",
    "    return os.path.join('..', parent, filename)"
   ]
  },
  {
   "cell_type": "code",
   "execution_count": 39,
   "metadata": {},
   "outputs": [],
   "source": [
    "tag_vectors = get_data_from_pickle(get_path('tag_vectors', parent='__const__'))\n",
    "cluster_centers = get_data_from_pickle(get_path('kmeans15.cluster_centers_.pickle', parent='__const__'))\n",
    "unique_tag_list = get_data_from_pickle(get_path('unique_tag_list.pickle', parent='__const__'))\n",
    "tag_dict = get_data_from_pickle(get_path('tag_dict.pickle', parent='__const__'))"
   ]
  },
  {
   "cell_type": "code",
   "execution_count": 40,
   "metadata": {},
   "outputs": [],
   "source": [
    "tag2idx = {tag: i for i, tag in enumerate(unique_tag_list)}\n",
    "idx2tag = {i: tag for i, tag in enumerate(unique_tag_list)}"
   ]
  },
  {
   "cell_type": "code",
   "execution_count": 41,
   "metadata": {},
   "outputs": [],
   "source": [
    "import math\n",
    "from queue import PriorityQueue\n",
    "\n",
    "def distance_tag_to_centroid(tag_idx,cluster_idx): # tag와 cluster의 중심까지의 거리\n",
    "    return np.sum((tag_vectors[tag_idx]-cluster_centers[cluster_idx])**2)\n",
    "\n",
    "def nearest_clusters(tag_idx):    # tag와 가장 가까운 클러스터 1개 또는 2개 출력하는 함수\n",
    "    que = PriorityQueue(maxsize=15)\n",
    "    near_list_idx = []\n",
    "    near_clusters_dict = dict()\n",
    "    for i in range(15):    # 가장 거리가 짧은 클러스터 순서대로 정렬\n",
    "        que.put([distance_tag_to_centroid(tag_idx,i),i])\n",
    "    for i in range(2):     # 거리가 짧은 2개만 추출\n",
    "        near_list_idx.append(que.get())\n",
    "    \n",
    "    if(2*near_list_idx[0][0]<near_list_idx[1][0]):    # a(첫번째 클러스터와 태그의 거리), b(두번째 클러스터와 태그의 거리)라고 할 때, a*2 < b 이면 두번째 클러스터 제거(즉 거리차이가 많이나면 제거)\n",
    "        del near_list_idx[1]\n",
    "        \n",
    "    if(len(near_list_idx)==1):\n",
    "        near_clusters_dict[near_list_idx[0][1]] = near_list_idx[0][0]    \n",
    "    else:\n",
    "        for i in range(2):\n",
    "            near_clusters_dict[near_list_idx[i][1]] = near_list_idx[i][0]        \n",
    "    \n",
    "    return near_clusters_dict\n",
    "\n",
    "def clusters_and_weight(tag_idx):     # 태그의 인덱스를 넣으면 원하는 결과가 출력 --> dict{cluster_index : weight}\n",
    "    ans_dict = dict()\n",
    "    near_cluster = nearest_clusters(tag_idx)\n",
    "    dict_keys = list(near_cluster.keys())\n",
    "    \n",
    "    if(len(dict_keys)==1):\n",
    "        ans_dict[dict_keys[0]] = 1.0\n",
    "    else:\n",
    "        a = 2/near_cluster[dict_keys[0]]\n",
    "        b = 1/near_cluster[dict_keys[1]]\n",
    "        \n",
    "        a_percentage = round(a/(a+b),2)\n",
    "        b_percentage = round(1-a_percentage,2)\n",
    "        \n",
    "        ans_dict[dict_keys[0]] = a_percentage\n",
    "        ans_dict[dict_keys[1]] = b_percentage     \n",
    "    return ans_dict"
   ]
  },
  {
   "cell_type": "code",
   "execution_count": 42,
   "metadata": {},
   "outputs": [],
   "source": [
    "tag2clusterId = {\n",
    "    keyword: key\n",
    "    for key in tag_dict.keys()\n",
    "    for keyword in tag_dict[key]\n",
    "}"
   ]
  },
  {
   "cell_type": "code",
   "execution_count": 43,
   "metadata": {},
   "outputs": [
    {
     "data": {
      "text/plain": [
       "8"
      ]
     },
     "execution_count": 43,
     "metadata": {},
     "output_type": "execute_result"
    }
   ],
   "source": [
    "tag2clusterId['성탄절']"
   ]
  },
  {
   "cell_type": "code",
   "execution_count": 28,
   "metadata": {},
   "outputs": [],
   "source": [
    "CLUSTER_MODELS = [\n",
    "    tf.keras.models.load_model(get_path(f'cluster_model_{i}'))\n",
    "    for i in range(15)\n",
    "]\n",
    "\n",
    "CLUSTER_ID_TRANSFORMER = [\n",
    "    get_data_from_pickle(get_path(f'newid2songid/cluster_model_{i}_new2idx2songidx.pickle'))\n",
    "    for i in range(15)\n",
    "]"
   ]
  },
  {
   "cell_type": "code",
   "execution_count": null,
   "metadata": {},
   "outputs": [],
   "source": [
    "CLUSTER_MODELS"
   ]
  },
  {
   "cell_type": "code",
   "execution_count": 29,
   "metadata": {},
   "outputs": [],
   "source": [
    "def get_recommendations(tag_id, new_model, id_transformer, k=50):\n",
    "    _max_song_len = len(id_transformer)\n",
    "    tags_input = np.array([tag_id] * _max_song_len).reshape(-1, 1)\n",
    "    songs_input = np.array([*range(_max_song_len)]).reshape(-1, 1)\n",
    "    \n",
    "    predicted = new_model.predict([tags_input, songs_input]).flatten()\n",
    "    predicted = predicted.argsort()[-k:][::-1]\n",
    "    \n",
    "    return [id_transformer.get(new_id) for new_id in predicted]"
   ]
  },
  {
   "cell_type": "code",
   "execution_count": 55,
   "metadata": {},
   "outputs": [],
   "source": [
    "_tag_input = '고막남친'\n",
    "_tag_id = tag2idx.get(_tag_input)\n",
    "predicted = []\n",
    "for key_id, weight in clusters_and_weight(_tag_id).items():\n",
    "    predicted.extend(get_recommendations(_tag_id, CLUSTER_MODELS[key_id], CLUSTER_ID_TRANSFORMER[key_id], int(50*weight)))"
   ]
  },
  {
   "cell_type": "code",
   "execution_count": 51,
   "metadata": {},
   "outputs": [
    {
     "data": {
      "text/plain": [
       "{7: 0.71, 10: 0.29}"
      ]
     },
     "execution_count": 51,
     "metadata": {},
     "output_type": "execute_result"
    }
   ],
   "source": [
    "clusters_and_weight(tag2idx.get(good_tags[3]))"
   ]
  },
  {
   "cell_type": "code",
   "execution_count": 57,
   "metadata": {},
   "outputs": [
    {
     "data": {
      "text/plain": [
       "[('그 자리 그 곳에', '이타'),\n",
       " ('Midnight Blue', 'Gogang (고갱)'),\n",
       " ('이게 사랑일까 (Feat. 하은)', '커피소년'),\n",
       " ('있잖아', '폴킴'),\n",
       " ('겨울영화 (Feat. 오은비)', '김진환'),\n",
       " ('꿀맛', '정미애'),\n",
       " ('Rum `n` Raisin', 'Josh Wolfsohn'),\n",
       " ('Do You Think About Me', 'Benjamin Ingrosso'),\n",
       " ('내가 니편이 되어줄게 (Feat. 하은)', '커피소년'),\n",
       " ('Daddy', 'Abe Fuyumi'),\n",
       " ('I Miss You', '소유 (SOYOU)'),\n",
       " ('사랑이 뭔데', '서현진, 유승우'),\n",
       " ('Take This Heart', 'Rachel Belman'),\n",
       " ('고백', '최낙타'),\n",
       " ('사람이', '정동하, 폴킴'),\n",
       " ('Heartbeat', 'Christopher'),\n",
       " ('이대로도 예뻐 (With 임동현)', '타코앤제이형'),\n",
       " ('꼭 어제', 'XIA (준수)'),\n",
       " ('She Will Be Loved', 'Maroon 5'),\n",
       " ('너의 꽃말', '심규선 (Lucia)'),\n",
       " ('나만 아픈 일', '이해리 (다비치)'),\n",
       " ('전부 없던 일로 해요', '봄날'),\n",
       " ('봄인가 봐 (Spring Love)', '에릭남 (Eric Nam), 웬디 (WENDY)'),\n",
       " ('Let Me', 'ZAYN'),\n",
       " ('지그재그', '권진아'),\n",
       " ('Vineyard (빈야드)', '우효'),\n",
       " ('사랑에 빠진 걸까요 (Feat. 오브로젝트)', '브로맨스 (VROMANCE)'),\n",
       " ('겨울을 걷는다', '윤딴딴'),\n",
       " ('보일 듯 말 듯', '유주 (여자친구), 선율'),\n",
       " ('부끄럼', '멜로망스'),\n",
       " ('술 한잔 해요', '지아'),\n",
       " ('새벽 가로수길 (With 송유빈)', '백지영'),\n",
       " ('마음', '아이유'),\n",
       " ('사랑이 잘 (With 오혁)', '아이유'),\n",
       " ('Rain', '태연 (TAEYEON)'),\n",
       " ('결혼까지 생각했어', '휘성 (Realslow)'),\n",
       " ('Favorite (Feat. Buddy)', 'Leon Thomas'),\n",
       " ('불치병 (Feat. Masta Wu)', '휘성 (Realslow)'),\n",
       " ('Move & Shout', 'Boulevards'),\n",
       " ('Grass Ain`t Greener', 'Chris Brown'),\n",
       " ('White (Feat. Frank Ocean)', 'Odd Future'),\n",
       " ('이럴거면 그러지말지 (Feat. Young K)', '백아연'),\n",
       " ('Love Again', '김제훈'),\n",
       " ('October Sky', 'Javier'),\n",
       " ('My Love Is Real', 'Christon Gray'),\n",
       " ('밤이 되니까', '펀치 (Punch)'),\n",
       " ('LikeMeLoveMe', 'Wynn'),\n",
       " ('Honey', 'Kehlani'),\n",
       " ('바램', '정준일')]"
      ]
     },
     "execution_count": 57,
     "metadata": {},
     "output_type": "execute_result"
    }
   ],
   "source": [
    "[songId2meta.get(sid) for sid in predicted]"
   ]
  },
  {
   "cell_type": "code",
   "execution_count": null,
   "metadata": {},
   "outputs": [],
   "source": []
  },
  {
   "cell_type": "code",
   "execution_count": 15,
   "metadata": {},
   "outputs": [],
   "source": [
    "songId2meta = get_data_from_pickle('../__const__/songId2meta.pickle')"
   ]
  },
  {
   "cell_type": "code",
   "execution_count": 16,
   "metadata": {},
   "outputs": [
    {
     "data": {
      "text/plain": [
       "[('내가 말하고 싶은건', '김제훈'),\n",
       " ('Santa Tell Me', 'Ariana Grande'),\n",
       " ('첫 눈', '정준일'),\n",
       " ('커플', '젝스키스'),\n",
       " ('겨울사랑', 'The One (더원)'),\n",
       " ('꿀맛', '정미애'),\n",
       " ('Love Again', '김제훈'),\n",
       " ('그 겨울', '정승환'),\n",
       " ('오래전 그날', '윤종신, 이적'),\n",
       " ('준비된 이별 (With 박은옥)', '아재'),\n",
       " ('눈의 꽃', '박효신'),\n",
       " ('크리스마스니까', '성시경, 박효신, 이석훈, 서인국, VIXX (빅스)'),\n",
       " ('미리 메리 크리스마스 (Feat. 천둥 Of MBLAQ)', '아이유'),\n",
       " ('겨울', '정준일'),\n",
       " ('지금은 우리가 멀리 있을지라도', '김광민'),\n",
       " ('바람기억', '나얼'),\n",
       " ('너만 생각하면', '김제훈'),\n",
       " ('This Happy Madness', 'Stacey Kent'),\n",
       " ('술 한잔해요 오늘', '지아'),\n",
       " ('Text Me Merry Christmas (Feat. Kristen Bell)', 'Straight No Chaser'),\n",
       " ('하루의 끝 (End of a day)', '종현 (JONGHYUN)'),\n",
       " ('코끝에 겨울', '어반자카파'),\n",
       " ('어깨', '소유 (SOYOU), 권정열'),\n",
       " ('오늘', '오왠 (O.WHEN)'),\n",
       " ('사랑난로', '서인국, VIXX (빅스), 박정아, 박윤하'),\n",
       " ('All I Want For Christmas Is You', 'Mariah Carey'),\n",
       " ('벌써 겨울', '허각, 브로맨스 (VROMANCE)'),\n",
       " ('비', '폴킴'),\n",
       " ('니가 보고싶은 밤', '윤딴딴'),\n",
       " ('연애는 하니..?', '휘성 (Realslow)'),\n",
       " ('네게 난', '주영'),\n",
       " ('12월의 기적 (Miracles In December)', 'EXO'),\n",
       " ('Universe', 'EXO'),\n",
       " ('눈사람', '정승환'),\n",
       " ('부디', '심규선 (Lucia), 에피톤 프로젝트'),\n",
       " ('넌 나의 크리스마스', '바이브, 신용재, 벤, 임세준, 미(MIIII)'),\n",
       " ('첫눈', '러블리즈'),\n",
       " ('화이트(WHITE) (Feat. 박재범)', '다비치'),\n",
       " ('Dear Santa', '소녀시대-태티서 (Girls` Generation-TTS)'),\n",
       " ('Walking in the Moonlight (Feat. 다원, Lazier)', '서교동의 밤'),\n",
       " ('걱정말아요 그대', '이적'),\n",
       " ('너 라는 계절', '서인국'),\n",
       " ('하얀 겨울', '김범수, 박정현'),\n",
       " ('밤편지', '아이유'),\n",
       " ('눈 (Feat. 이문세)', 'Zion.T'),\n",
       " ('More', 'Tokyo Cinema Jazz Trio'),\n",
       " ('난 니가 참 마음에 든다', '피아노 포엠'),\n",
       " ('Lovin` You', 'Ryu Miho'),\n",
       " ('어디에도', '엠씨더맥스 (M.C the MAX)'),\n",
       " ('크리스마스데이 (Christmas Day)',\n",
       "  '케이윌, 소유 (SOYOU), 보이프렌드, 몬스타엑스, 우주소녀, 매드클라운, 정기고, #Gun, 유승우, 브라더수, 마인드유, 듀에토 (백인태, 유슬기), 정세운, 이광현')]"
      ]
     },
     "execution_count": 16,
     "metadata": {},
     "output_type": "execute_result"
    }
   ],
   "source": [
    "[songId2meta.get(sid) for sid in pred_song_ids]"
   ]
  },
  {
   "cell_type": "code",
   "execution_count": 47,
   "metadata": {},
   "outputs": [],
   "source": [
    "good_tags = ['디즈니', '연애', '유재석', '고막남친', '포근한', '연말', '짝사랑', '운전', '봄바람',\n",
    "       '잠들기전', '힘', '흥겨운', '신곡', '산책', '듣기좋은', '걸그룹', '파티', '비오는날', '추위',\n",
    "       '비오는', '불토', '재즈', '이브', 'UK', '연애세포', '여행', '가을밤', '센치한', '록',\n",
    "       '행복', '배경음악', '감성힙합', '추석', '추억', '지친', '집', '어쿠스틱', '감성곡', '드라이브',\n",
    "       '고속도로', '신나는', '가을비', '트로트', '눈', '불금', '피아노', '발랄', '성인가요', '댄스',\n",
    "       '주말', '패션', '우울한', '벚꽃', '날씨', '커피', '노동요', '수록곡', '힘내', '경쾌한',\n",
    "       '정미애', '따뜻함', '노래', 'OfficialCharts', '헤어짐', '남자아이돌', '팝', '댄스곡',\n",
    "       '정다경', '여유', '휴식', '새벽', '잔잔함', '2000년대', '나른', '우울', '12월',\n",
    "       '뉴에이지', '우울할때', '명절', '2019년', '중독성', '엄마아리랑', '인디', '비', '자장가',\n",
    "       '버스', '스타일', '축하', '까페', '퇴근', '2016', '상큼한', '노래방', '찾아오는DJ',\n",
    "       'RNBSOUL', '상큼', '청량한', 'EDM', 'deep', '한국힙합', '아픔', '밝은', '혼자',\n",
    "       '기분전환', '찬양', '아이돌', '부드러운', '눈오는날', '귀르가즘', '여름노래', '댄스댄스', 'bar',\n",
    "       '크리스마스캐롤', '테라스', 'electronica', '연휴', '봄비', '가을', '북카페', '알앤비',\n",
    "       '토닥토닥', '장마', '트렌디', '꿀잠', '잔잔', '하우스', '와인', '생일', '국외', '고백',\n",
    "       '신남', '봄노래', '쓸쓸', '얼터너티브', '느낌있는', '성탄절', '브금', '불면증', '귀성길',\n",
    "       '에이핑크', '디스코', '인기', '달달', '소울', '책읽을때', '슬픔', '운동', '사랑노래', '락',\n",
    "       '잔잔한노래', '여름밤', '쌀쌀한', '시원한', '저녁', '낮잠', '일렉', '캐롤', '방콕',\n",
    "       '메리크리스마스', '기분좋은', '따뜻하게', '빌로우', '아무로나미에', '장르구분없이', '월요병', '분위기',\n",
    "       '청량', '페스티벌', '추천곡', '내적댄스', '국힙', '외로움', '클럽', '즐거운', '맑은', '스포츠',\n",
    "       '열대야', '오르골', '감성발라드', '밤', '시작', '브릿팝', '산뜻한', 'EDMFloor', '빗소리',\n",
    "       '쓸쓸함', '조용한', '낙엽', '겨울밤', '좋아요', '2019', '몽환', '블랙뮤직', '겨울노래',\n",
    "       '겨울', '휴일', '태교', '팝송', '새벽감성', '바캉스', '그리움', '추천', 'Lounge',\n",
    "       '플레이리스트', 'dance', '달달한', '신나는노래', '하늘', 'Instrumental', '그루브',\n",
    "       '치유', '봄', '퓨전재즈', '회식', '일렉트로니카', '잔잔한', '힙합엘이', '힙한', '힘들때',\n",
    "       '설렘', '취향저격', '독서', '썸', '차분', '목소리', '마음', '내한', '랩', '더위', '따듯한',\n",
    "       '띵곡들', '베스트', '봄나들이', '인디팝', '연주곡', '셋리스트', '감성', '장윤정', '후회',\n",
    "       '바람', '헬스', '지칠때', '흐린날', '감성적인', '유산슬', '임영웅', '집콕', '에너지',\n",
    "       '몽환적인', 'Christmas', '해외일렉트로니카', '크리스마스', '바다', '케이팝', '기분업',\n",
    "       '흥폭발', '겨울감성', '어린이집', '숨은명곡', 'OST', '2000', '고막여친', '춤', '휴가',\n",
    "       'bgm', '트랩', '연인', '비오는날듣기좋은노래', '하루', '가족', '슬픈', 'Pop', '집중',\n",
    "       '눈물', '아침', '카페뮤직', '두근두근', 'Rock', '차분한', '출근길', '이별', 'house',\n",
    "       '기분', '스트레스', '봄날', '잠', 'ballad', '음색', '달콤', '인디음악', '기타',\n",
    "       '다이어트', '띵곡', '떼창', '오후', '시험', '숙면', '회상', '대세', '캐럴', '취저',\n",
    "       '달달한노래', '꿀성대', '희망', '팝송모음', '흥', '설레임', '힙합', '애창곡', '카페', '매장',\n",
    "       '음색깡패', '크리스마스노래', '스웩', '오늘', '음악', '1990', '신나는음악', '유니크', '퇴근길',\n",
    "       '신나', '잠잘때', '공부', '설날', '힘이_나는', '달콤한', '주제곡', '사랑', '발라드', '생각',\n",
    "       '여름', '힐링', '여자아이돌', '방탄', '센치', '고백송', '커플', '첫사랑', '조깅', '지하철',\n",
    "       '위로', '매장음악', '좋은노래', '가사', '데이트', '유산소', '트로피컬', '리드미컬', '솔로',\n",
    "       '세련된', '비트', '스타일리시', '야경', '나들이', '편안한', '휘트니스', '영국', '일상']"
   ]
  },
  {
   "cell_type": "code",
   "execution_count": null,
   "metadata": {},
   "outputs": [],
   "source": []
  }
 ],
 "metadata": {
  "kernelspec": {
   "display_name": "Python 3",
   "language": "python",
   "name": "python3"
  },
  "language_info": {
   "codemirror_mode": {
    "name": "ipython",
    "version": 3
   },
   "file_extension": ".py",
   "mimetype": "text/x-python",
   "name": "python",
   "nbconvert_exporter": "python",
   "pygments_lexer": "ipython3",
   "version": "3.7.4"
  }
 },
 "nbformat": 4,
 "nbformat_minor": 4
}

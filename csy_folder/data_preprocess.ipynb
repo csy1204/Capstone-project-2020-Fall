{
 "cells": [
  {
   "cell_type": "code",
   "execution_count": 1,
   "metadata": {},
   "outputs": [],
   "source": [
    "import pandas as pd"
   ]
  },
  {
   "cell_type": "code",
   "execution_count": 14,
   "metadata": {},
   "outputs": [],
   "source": [
    "import glob"
   ]
  },
  {
   "cell_type": "markdown",
   "metadata": {},
   "source": [
    "## Data 명세\n",
    "\n",
    "### Song 정보\n",
    "\n",
    "1. 가수\n",
    "2. 제목\n",
    "3. 앨범\n",
    "4. 장르\n",
    "\n",
    "### Input\n",
    "\n",
    "1. 태그명 하나\n",
    "2. 가수 ID\n",
    "3. 곡 ID\n",
    "4. 앨범 ID\n",
    "5. 장르 ID\n",
    "6. Target  -> 1/0"
   ]
  },
  {
   "cell_type": "code",
   "execution_count": 15,
   "metadata": {},
   "outputs": [],
   "source": [
    "df_meta = pd.read_json('../data/song_meta.json')"
   ]
  },
  {
   "cell_type": "code",
   "execution_count": 2,
   "metadata": {},
   "outputs": [],
   "source": [
    "df = pd.read_json('data_15_30.json')"
   ]
  },
  {
   "cell_type": "code",
   "execution_count": 16,
   "metadata": {},
   "outputs": [
    {
     "data": {
      "text/html": [
       "<div>\n",
       "<style scoped>\n",
       "    .dataframe tbody tr th:only-of-type {\n",
       "        vertical-align: middle;\n",
       "    }\n",
       "\n",
       "    .dataframe tbody tr th {\n",
       "        vertical-align: top;\n",
       "    }\n",
       "\n",
       "    .dataframe thead th {\n",
       "        text-align: right;\n",
       "    }\n",
       "</style>\n",
       "<table border=\"1\" class=\"dataframe\">\n",
       "  <thead>\n",
       "    <tr style=\"text-align: right;\">\n",
       "      <th></th>\n",
       "      <th>song_gn_dtl_gnr_basket</th>\n",
       "      <th>issue_date</th>\n",
       "      <th>album_name</th>\n",
       "      <th>album_id</th>\n",
       "      <th>artist_id_basket</th>\n",
       "      <th>song_name</th>\n",
       "      <th>song_gn_gnr_basket</th>\n",
       "      <th>artist_name_basket</th>\n",
       "      <th>id</th>\n",
       "    </tr>\n",
       "  </thead>\n",
       "  <tbody>\n",
       "    <tr>\n",
       "      <th>0</th>\n",
       "      <td>[GN0901]</td>\n",
       "      <td>20140512</td>\n",
       "      <td>불후의 명곡 - 7080 추억의 얄개시대 팝송베스트</td>\n",
       "      <td>2255639</td>\n",
       "      <td>[2727]</td>\n",
       "      <td>Feelings</td>\n",
       "      <td>[GN0900]</td>\n",
       "      <td>[Various Artists]</td>\n",
       "      <td>0</td>\n",
       "    </tr>\n",
       "    <tr>\n",
       "      <th>1</th>\n",
       "      <td>[GN1601, GN1606]</td>\n",
       "      <td>20080421</td>\n",
       "      <td>Bach : Partitas Nos. 2, 3 &amp; 4</td>\n",
       "      <td>376431</td>\n",
       "      <td>[29966]</td>\n",
       "      <td>Bach : Partita No. 4 In D Major, BWV 828 - II....</td>\n",
       "      <td>[GN1600]</td>\n",
       "      <td>[Murray Perahia]</td>\n",
       "      <td>1</td>\n",
       "    </tr>\n",
       "    <tr>\n",
       "      <th>2</th>\n",
       "      <td>[GN0901]</td>\n",
       "      <td>20180518</td>\n",
       "      <td>Hit</td>\n",
       "      <td>4698747</td>\n",
       "      <td>[3361]</td>\n",
       "      <td>Solsbury Hill (Remastered 2002)</td>\n",
       "      <td>[GN0900]</td>\n",
       "      <td>[Peter Gabriel]</td>\n",
       "      <td>2</td>\n",
       "    </tr>\n",
       "    <tr>\n",
       "      <th>3</th>\n",
       "      <td>[GN1102, GN1101]</td>\n",
       "      <td>20151016</td>\n",
       "      <td>Feeling Right (Everything Is Nice) (Feat. Popc...</td>\n",
       "      <td>2644882</td>\n",
       "      <td>[838543]</td>\n",
       "      <td>Feeling Right (Everything Is Nice) (Feat. Popc...</td>\n",
       "      <td>[GN1100]</td>\n",
       "      <td>[Matoma]</td>\n",
       "      <td>3</td>\n",
       "    </tr>\n",
       "    <tr>\n",
       "      <th>4</th>\n",
       "      <td>[GN1802, GN1801]</td>\n",
       "      <td>20110824</td>\n",
       "      <td>그남자 그여자</td>\n",
       "      <td>2008470</td>\n",
       "      <td>[560160]</td>\n",
       "      <td>그남자 그여자</td>\n",
       "      <td>[GN1800]</td>\n",
       "      <td>[Jude Law]</td>\n",
       "      <td>4</td>\n",
       "    </tr>\n",
       "    <tr>\n",
       "      <th>...</th>\n",
       "      <td>...</td>\n",
       "      <td>...</td>\n",
       "      <td>...</td>\n",
       "      <td>...</td>\n",
       "      <td>...</td>\n",
       "      <td>...</td>\n",
       "      <td>...</td>\n",
       "      <td>...</td>\n",
       "      <td>...</td>\n",
       "    </tr>\n",
       "    <tr>\n",
       "      <th>707984</th>\n",
       "      <td>[GN2001]</td>\n",
       "      <td>19991219</td>\n",
       "      <td>The Best Best Of The Black President</td>\n",
       "      <td>65254</td>\n",
       "      <td>[166499]</td>\n",
       "      <td>Coffin For Head Of State</td>\n",
       "      <td>[GN2000]</td>\n",
       "      <td>[Fela Kuti]</td>\n",
       "      <td>707984</td>\n",
       "    </tr>\n",
       "    <tr>\n",
       "      <th>707985</th>\n",
       "      <td>[GN0901]</td>\n",
       "      <td>19860000</td>\n",
       "      <td>True Colors</td>\n",
       "      <td>44141</td>\n",
       "      <td>[11837]</td>\n",
       "      <td>Change Of Heart</td>\n",
       "      <td>[GN0900]</td>\n",
       "      <td>[Cyndi Lauper]</td>\n",
       "      <td>707985</td>\n",
       "    </tr>\n",
       "    <tr>\n",
       "      <th>707986</th>\n",
       "      <td>[GN0105, GN0101]</td>\n",
       "      <td>20160120</td>\n",
       "      <td>행보 2015 윤종신 / 작사가 윤종신 Live Part.1</td>\n",
       "      <td>2662866</td>\n",
       "      <td>[437]</td>\n",
       "      <td>스치듯 안녕</td>\n",
       "      <td>[GN0100]</td>\n",
       "      <td>[윤종신]</td>\n",
       "      <td>707986</td>\n",
       "    </tr>\n",
       "    <tr>\n",
       "      <th>707987</th>\n",
       "      <td>[GN1807, GN1801]</td>\n",
       "      <td>20131217</td>\n",
       "      <td>명상의 시간을 위한 뉴에이지 음악</td>\n",
       "      <td>2221722</td>\n",
       "      <td>[729868]</td>\n",
       "      <td>숲의 빛</td>\n",
       "      <td>[GN1800]</td>\n",
       "      <td>[Nature Piano]</td>\n",
       "      <td>707987</td>\n",
       "    </tr>\n",
       "    <tr>\n",
       "      <th>707988</th>\n",
       "      <td>[GN0601, GN0604]</td>\n",
       "      <td>19980000</td>\n",
       "      <td>김경호 Live</td>\n",
       "      <td>34663</td>\n",
       "      <td>[895]</td>\n",
       "      <td>Queen 명곡 멜로디</td>\n",
       "      <td>[GN0600]</td>\n",
       "      <td>[김경호]</td>\n",
       "      <td>707988</td>\n",
       "    </tr>\n",
       "  </tbody>\n",
       "</table>\n",
       "<p>707989 rows × 9 columns</p>\n",
       "</div>"
      ],
      "text/plain": [
       "       song_gn_dtl_gnr_basket  issue_date  \\\n",
       "0                    [GN0901]    20140512   \n",
       "1            [GN1601, GN1606]    20080421   \n",
       "2                    [GN0901]    20180518   \n",
       "3            [GN1102, GN1101]    20151016   \n",
       "4            [GN1802, GN1801]    20110824   \n",
       "...                       ...         ...   \n",
       "707984               [GN2001]    19991219   \n",
       "707985               [GN0901]    19860000   \n",
       "707986       [GN0105, GN0101]    20160120   \n",
       "707987       [GN1807, GN1801]    20131217   \n",
       "707988       [GN0601, GN0604]    19980000   \n",
       "\n",
       "                                               album_name  album_id  \\\n",
       "0                            불후의 명곡 - 7080 추억의 얄개시대 팝송베스트   2255639   \n",
       "1                           Bach : Partitas Nos. 2, 3 & 4    376431   \n",
       "2                                                     Hit   4698747   \n",
       "3       Feeling Right (Everything Is Nice) (Feat. Popc...   2644882   \n",
       "4                                                 그남자 그여자   2008470   \n",
       "...                                                   ...       ...   \n",
       "707984               The Best Best Of The Black President     65254   \n",
       "707985                                        True Colors     44141   \n",
       "707986                  행보 2015 윤종신 / 작사가 윤종신 Live Part.1   2662866   \n",
       "707987                                 명상의 시간을 위한 뉴에이지 음악   2221722   \n",
       "707988                                           김경호 Live     34663   \n",
       "\n",
       "       artist_id_basket                                          song_name  \\\n",
       "0                [2727]                                           Feelings   \n",
       "1               [29966]  Bach : Partita No. 4 In D Major, BWV 828 - II....   \n",
       "2                [3361]                    Solsbury Hill (Remastered 2002)   \n",
       "3              [838543]  Feeling Right (Everything Is Nice) (Feat. Popc...   \n",
       "4              [560160]                                            그남자 그여자   \n",
       "...                 ...                                                ...   \n",
       "707984         [166499]                           Coffin For Head Of State   \n",
       "707985          [11837]                                    Change Of Heart   \n",
       "707986            [437]                                             스치듯 안녕   \n",
       "707987         [729868]                                               숲의 빛   \n",
       "707988            [895]                                       Queen 명곡 멜로디   \n",
       "\n",
       "       song_gn_gnr_basket artist_name_basket      id  \n",
       "0                [GN0900]  [Various Artists]       0  \n",
       "1                [GN1600]   [Murray Perahia]       1  \n",
       "2                [GN0900]    [Peter Gabriel]       2  \n",
       "3                [GN1100]           [Matoma]       3  \n",
       "4                [GN1800]         [Jude Law]       4  \n",
       "...                   ...                ...     ...  \n",
       "707984           [GN2000]        [Fela Kuti]  707984  \n",
       "707985           [GN0900]     [Cyndi Lauper]  707985  \n",
       "707986           [GN0100]              [윤종신]  707986  \n",
       "707987           [GN1800]     [Nature Piano]  707987  \n",
       "707988           [GN0600]              [김경호]  707988  \n",
       "\n",
       "[707989 rows x 9 columns]"
      ]
     },
     "execution_count": 16,
     "metadata": {},
     "output_type": "execute_result"
    }
   ],
   "source": [
    "df_meta"
   ]
  },
  {
   "cell_type": "code",
   "execution_count": 4,
   "metadata": {},
   "outputs": [],
   "source": [
    "from sklearn.model_selection import train_test_split"
   ]
  },
  {
   "cell_type": "code",
   "execution_count": 19,
   "metadata": {},
   "outputs": [],
   "source": [
    "?train_test_split"
   ]
  },
  {
   "cell_type": "code",
   "execution_count": 21,
   "metadata": {},
   "outputs": [],
   "source": [
    "df['tag_len'] = df.tags.map(lambda x: len(x))"
   ]
  },
  {
   "cell_type": "code",
   "execution_count": 42,
   "metadata": {},
   "outputs": [],
   "source": [
    "a = list(set([song for songs in df.songs\n",
    " for song in songs]))"
   ]
  },
  {
   "cell_type": "code",
   "execution_count": 44,
   "metadata": {},
   "outputs": [
    {
     "data": {
      "text/plain": [
       "285613"
      ]
     },
     "execution_count": 44,
     "metadata": {},
     "output_type": "execute_result"
    }
   ],
   "source": [
    "len(a) # 전체 unique songs"
   ]
  },
  {
   "cell_type": "code",
   "execution_count": 45,
   "metadata": {},
   "outputs": [],
   "source": [
    "all_songs = [song for songs in df.songs\n",
    " for song in songs]"
   ]
  },
  {
   "cell_type": "code",
   "execution_count": 46,
   "metadata": {},
   "outputs": [
    {
     "data": {
      "text/plain": [
       "995783"
      ]
     },
     "execution_count": 46,
     "metadata": {},
     "output_type": "execute_result"
    }
   ],
   "source": [
    "len(all_songs)"
   ]
  },
  {
   "cell_type": "code",
   "execution_count": 70,
   "metadata": {},
   "outputs": [],
   "source": [
    "df_songs = pd.Series(all_songs).reset_index()"
   ]
  },
  {
   "cell_type": "code",
   "execution_count": 75,
   "metadata": {},
   "outputs": [
    {
     "data": {
      "text/plain": [
       "(995783, 2)"
      ]
     },
     "execution_count": 75,
     "metadata": {},
     "output_type": "execute_result"
    }
   ],
   "source": [
    "df_songs.shape"
   ]
  },
  {
   "cell_type": "code",
   "execution_count": 82,
   "metadata": {},
   "outputs": [
    {
     "name": "stderr",
     "output_type": "stream",
     "text": [
      "/Users/josang-yeon/tobigs/lib/python3.7/site-packages/ipykernel_launcher.py:1: UserWarning: Boolean Series key will be reindexed to match DataFrame index.\n",
      "  \"\"\"Entry point for launching an IPython kernel.\n"
     ]
    }
   ],
   "source": [
    "songs3 = df_songs.set_index(0)[songs_more_3].index.tolist()"
   ]
  },
  {
   "cell_type": "code",
   "execution_count": 83,
   "metadata": {},
   "outputs": [],
   "source": [
    "songs3 = list(set(songs3))"
   ]
  },
  {
   "cell_type": "code",
   "execution_count": 84,
   "metadata": {},
   "outputs": [
    {
     "data": {
      "text/plain": [
       "74472"
      ]
     },
     "execution_count": 84,
     "metadata": {},
     "output_type": "execute_result"
    }
   ],
   "source": [
    "len(songs3)"
   ]
  },
  {
   "cell_type": "code",
   "execution_count": 64,
   "metadata": {},
   "outputs": [],
   "source": [
    "songs_more_3 = pd.Series(all_songs).value_counts() >= 3"
   ]
  },
  {
   "cell_type": "code",
   "execution_count": 86,
   "metadata": {},
   "outputs": [],
   "source": [
    "songs3_dict = {\n",
    "    song_id: True\n",
    "   for song_id in songs3\n",
    "}"
   ]
  },
  {
   "cell_type": "code",
   "execution_count": 88,
   "metadata": {},
   "outputs": [],
   "source": [
    "# songs3_dict.keys()"
   ]
  },
  {
   "cell_type": "code",
   "execution_count": 89,
   "metadata": {},
   "outputs": [],
   "source": [
    "df['songs2'] = df.songs.map(lambda x: [song for song in x if songs3_dict.get(song)])"
   ]
  },
  {
   "cell_type": "code",
   "execution_count": 90,
   "metadata": {},
   "outputs": [
    {
     "data": {
      "text/plain": [
       "0        [525514, 562083, 297861, 139541, 650298, 53105...\n",
       "1        [83116, 276692, 166267, 354465, 256598, 666852...\n",
       "2        [418694, 222305, 96545, 135950, 304687, 457451...\n",
       "3        [632529, 501426, 515574, 411161, 103411, 17813...\n",
       "4                 [439294, 113479, 146292, 497811, 337875]\n",
       "                               ...                        \n",
       "45433                                     [349756, 608546]\n",
       "45434    [619719, 374517, 323561, 79157, 241952, 587512...\n",
       "45435    [627005, 253230, 643932, 22659, 316149, 247137...\n",
       "45436    [65053, 389127, 443914, 498028, 375431, 312296...\n",
       "45437    [287003, 408232, 625933, 543298, 222713, 10445...\n",
       "Name: songs2, Length: 45438, dtype: object"
      ]
     },
     "execution_count": 90,
     "metadata": {},
     "output_type": "execute_result"
    }
   ],
   "source": [
    "df['songs2']"
   ]
  },
  {
   "cell_type": "code",
   "execution_count": 91,
   "metadata": {},
   "outputs": [],
   "source": [
    "a2 = list(set([song for songs in df.songs2\n",
    " for song in songs]))"
   ]
  },
  {
   "cell_type": "code",
   "execution_count": 92,
   "metadata": {},
   "outputs": [
    {
     "data": {
      "text/plain": [
       "74472"
      ]
     },
     "execution_count": 92,
     "metadata": {},
     "output_type": "execute_result"
    }
   ],
   "source": [
    "len(a2) # 전체 unique songs"
   ]
  },
  {
   "cell_type": "code",
   "execution_count": 94,
   "metadata": {},
   "outputs": [],
   "source": [
    "df['song2_len'] = df['songs2'].map(lambda x: len(x))"
   ]
  },
  {
   "cell_type": "code",
   "execution_count": 98,
   "metadata": {},
   "outputs": [],
   "source": [
    "df2 = df[df.song2_len >= 15]"
   ]
  },
  {
   "cell_type": "code",
   "execution_count": 101,
   "metadata": {},
   "outputs": [],
   "source": [
    "df.to_json('data_version_1_5.json')"
   ]
  },
  {
   "cell_type": "code",
   "execution_count": 99,
   "metadata": {},
   "outputs": [],
   "source": [
    "df2.to_json('data_version_2.json')"
   ]
  },
  {
   "cell_type": "code",
   "execution_count": 100,
   "metadata": {},
   "outputs": [
    {
     "data": {
      "text/plain": [
       "(29354, 10)"
      ]
     },
     "execution_count": 100,
     "metadata": {},
     "output_type": "execute_result"
    }
   ],
   "source": [
    "df2.shape"
   ]
  },
  {
   "cell_type": "code",
   "execution_count": null,
   "metadata": {},
   "outputs": [],
   "source": []
  },
  {
   "cell_type": "code",
   "execution_count": null,
   "metadata": {},
   "outputs": [],
   "source": []
  },
  {
   "cell_type": "code",
   "execution_count": null,
   "metadata": {},
   "outputs": [],
   "source": []
  },
  {
   "cell_type": "code",
   "execution_count": null,
   "metadata": {},
   "outputs": [],
   "source": []
  },
  {
   "cell_type": "code",
   "execution_count": null,
   "metadata": {},
   "outputs": [],
   "source": []
  },
  {
   "cell_type": "code",
   "execution_count": 25,
   "metadata": {},
   "outputs": [],
   "source": [
    "X = df\n",
    "y = df['id']"
   ]
  },
  {
   "cell_type": "code",
   "execution_count": 36,
   "metadata": {},
   "outputs": [],
   "source": [
    "?train_test_split"
   ]
  },
  {
   "cell_type": "code",
   "execution_count": 33,
   "metadata": {},
   "outputs": [],
   "source": [
    "X_train, x_test, Y_train, y_test = train_test_split(X, y, test_size=0.3)"
   ]
  },
  {
   "cell_type": "code",
   "execution_count": 34,
   "metadata": {},
   "outputs": [
    {
     "data": {
      "text/plain": [
       "(31806, 8)"
      ]
     },
     "execution_count": 34,
     "metadata": {},
     "output_type": "execute_result"
    }
   ],
   "source": [
    "X_train.shape"
   ]
  },
  {
   "cell_type": "code",
   "execution_count": 35,
   "metadata": {},
   "outputs": [
    {
     "data": {
      "text/plain": [
       "(13632, 8)"
      ]
     },
     "execution_count": 35,
     "metadata": {},
     "output_type": "execute_result"
    }
   ],
   "source": [
    "x_test.shape"
   ]
  },
  {
   "cell_type": "code",
   "execution_count": 39,
   "metadata": {},
   "outputs": [
    {
     "data": {
      "text/html": [
       "<div>\n",
       "<style scoped>\n",
       "    .dataframe tbody tr th:only-of-type {\n",
       "        vertical-align: middle;\n",
       "    }\n",
       "\n",
       "    .dataframe tbody tr th {\n",
       "        vertical-align: top;\n",
       "    }\n",
       "\n",
       "    .dataframe thead th {\n",
       "        text-align: right;\n",
       "    }\n",
       "</style>\n",
       "<table border=\"1\" class=\"dataframe\">\n",
       "  <thead>\n",
       "    <tr style=\"text-align: right;\">\n",
       "      <th></th>\n",
       "      <th>tags</th>\n",
       "      <th>id</th>\n",
       "      <th>plylst_title</th>\n",
       "      <th>songs</th>\n",
       "      <th>like_cnt</th>\n",
       "      <th>updt_date</th>\n",
       "      <th>len</th>\n",
       "      <th>tag_len</th>\n",
       "    </tr>\n",
       "  </thead>\n",
       "  <tbody>\n",
       "    <tr>\n",
       "      <th>15035</th>\n",
       "      <td>[인디]</td>\n",
       "      <td>36619</td>\n",
       "      <td>봄을 맞이하는 마음의 자세</td>\n",
       "      <td>[193320, 594824, 259920, 117084, 302646, 65049...</td>\n",
       "      <td>21</td>\n",
       "      <td>2016-06-24 09:19:48.000</td>\n",
       "      <td>20</td>\n",
       "      <td>1</td>\n",
       "    </tr>\n",
       "    <tr>\n",
       "      <th>20294</th>\n",
       "      <td>[쇼미더머니]</td>\n",
       "      <td>15125</td>\n",
       "      <td>나힙소! 나만 알고 싶은 힙합왕을 소개합니다</td>\n",
       "      <td>[186812, 556016, 13197, 609067, 625598, 344180...</td>\n",
       "      <td>6</td>\n",
       "      <td>2019-08-26 14:26:59.000</td>\n",
       "      <td>20</td>\n",
       "      <td>1</td>\n",
       "    </tr>\n",
       "    <tr>\n",
       "      <th>31791</th>\n",
       "      <td>[가요]</td>\n",
       "      <td>143542</td>\n",
       "      <td>오디션. 어머! 이건 들어야해 23</td>\n",
       "      <td>[659818, 503908, 39083, 86824, 514368, 300676,...</td>\n",
       "      <td>0</td>\n",
       "      <td>2019-03-27 15:27:08.000</td>\n",
       "      <td>30</td>\n",
       "      <td>1</td>\n",
       "    </tr>\n",
       "    <tr>\n",
       "      <th>13957</th>\n",
       "      <td>[발라드]</td>\n",
       "      <td>57337</td>\n",
       "      <td>♥남자들의사랑이야기♥</td>\n",
       "      <td>[325047, 598836, 418372, 617485, 196161, 22630...</td>\n",
       "      <td>0</td>\n",
       "      <td>2008-08-15 02:49:24.000</td>\n",
       "      <td>20</td>\n",
       "      <td>1</td>\n",
       "    </tr>\n",
       "    <tr>\n",
       "      <th>31334</th>\n",
       "      <td>[Coldplay]</td>\n",
       "      <td>68896</td>\n",
       "      <td>겨울 밤 위로가 되는 노래</td>\n",
       "      <td>[6237, 331055, 17907, 229578, 433997, 76453, 5...</td>\n",
       "      <td>8</td>\n",
       "      <td>2018-12-28 21:13:48.000</td>\n",
       "      <td>19</td>\n",
       "      <td>1</td>\n",
       "    </tr>\n",
       "    <tr>\n",
       "      <th>...</th>\n",
       "      <td>...</td>\n",
       "      <td>...</td>\n",
       "      <td>...</td>\n",
       "      <td>...</td>\n",
       "      <td>...</td>\n",
       "      <td>...</td>\n",
       "      <td>...</td>\n",
       "      <td>...</td>\n",
       "    </tr>\n",
       "    <tr>\n",
       "      <th>20583</th>\n",
       "      <td>[힐링, 휴식, 잔잔한]</td>\n",
       "      <td>13391</td>\n",
       "      <td>감성pop/아이 원트 휴식</td>\n",
       "      <td>[2194, 205910, 261456, 208867, 486784, 618132,...</td>\n",
       "      <td>3</td>\n",
       "      <td>2016-09-26 10:16:48.000</td>\n",
       "      <td>22</td>\n",
       "      <td>3</td>\n",
       "    </tr>\n",
       "    <tr>\n",
       "      <th>25960</th>\n",
       "      <td>[퇴근, 한강, 발라드, 버스, 지하철, 생각, 아픔, 월요일]</td>\n",
       "      <td>26658</td>\n",
       "      <td>버스,지하철에서 넋놓고 틀어놓는 곡들</td>\n",
       "      <td>[543820, 374156, 8719, 357367, 415017, 516653,...</td>\n",
       "      <td>124</td>\n",
       "      <td>2017-09-28 18:10:35.000</td>\n",
       "      <td>30</td>\n",
       "      <td>8</td>\n",
       "    </tr>\n",
       "    <tr>\n",
       "      <th>15058</th>\n",
       "      <td>[커피, 오후, 인디]</td>\n",
       "      <td>138868</td>\n",
       "      <td>따사로운 오후 커피 한 잔과 어울리는 노래</td>\n",
       "      <td>[253167, 600535, 597949, 102349, 382728, 62671...</td>\n",
       "      <td>1</td>\n",
       "      <td>2020-03-28 23:10:38.000</td>\n",
       "      <td>20</td>\n",
       "      <td>3</td>\n",
       "    </tr>\n",
       "    <tr>\n",
       "      <th>27547</th>\n",
       "      <td>[발라드]</td>\n",
       "      <td>110503</td>\n",
       "      <td>두근두근 크리스마스?</td>\n",
       "      <td>[141331, 112399, 133309, 438403, 651749, 32620...</td>\n",
       "      <td>10</td>\n",
       "      <td>2013-12-13 18:00:28.000</td>\n",
       "      <td>26</td>\n",
       "      <td>1</td>\n",
       "    </tr>\n",
       "    <tr>\n",
       "      <th>24938</th>\n",
       "      <td>[가을, 청량, 하늘, 기분전환, 산책]</td>\n",
       "      <td>98861</td>\n",
       "      <td>청량감 넘치는 이런날, 이런 음악☆</td>\n",
       "      <td>[645515, 666490, 249895, 480324, 336287, 43007...</td>\n",
       "      <td>9</td>\n",
       "      <td>2016-08-30 09:50:35.000</td>\n",
       "      <td>19</td>\n",
       "      <td>5</td>\n",
       "    </tr>\n",
       "  </tbody>\n",
       "</table>\n",
       "<p>31806 rows × 8 columns</p>\n",
       "</div>"
      ],
      "text/plain": [
       "                                      tags      id              plylst_title  \\\n",
       "15035                                 [인디]   36619           봄을 맞이하는 마음의 자세    \n",
       "20294                              [쇼미더머니]   15125  나힙소! 나만 알고 싶은 힙합왕을 소개합니다   \n",
       "31791                                 [가요]  143542       오디션. 어머! 이건 들어야해 23   \n",
       "13957                                [발라드]   57337               ♥남자들의사랑이야기♥   \n",
       "31334                           [Coldplay]   68896            겨울 밤 위로가 되는 노래   \n",
       "...                                    ...     ...                       ...   \n",
       "20583                        [힐링, 휴식, 잔잔한]   13391            감성pop/아이 원트 휴식   \n",
       "25960  [퇴근, 한강, 발라드, 버스, 지하철, 생각, 아픔, 월요일]   26658      버스,지하철에서 넋놓고 틀어놓는 곡들   \n",
       "15058                         [커피, 오후, 인디]  138868   따사로운 오후 커피 한 잔과 어울리는 노래   \n",
       "27547                                [발라드]  110503               두근두근 크리스마스?   \n",
       "24938               [가을, 청량, 하늘, 기분전환, 산책]   98861       청량감 넘치는 이런날, 이런 음악☆   \n",
       "\n",
       "                                                   songs  like_cnt  \\\n",
       "15035  [193320, 594824, 259920, 117084, 302646, 65049...        21   \n",
       "20294  [186812, 556016, 13197, 609067, 625598, 344180...         6   \n",
       "31791  [659818, 503908, 39083, 86824, 514368, 300676,...         0   \n",
       "13957  [325047, 598836, 418372, 617485, 196161, 22630...         0   \n",
       "31334  [6237, 331055, 17907, 229578, 433997, 76453, 5...         8   \n",
       "...                                                  ...       ...   \n",
       "20583  [2194, 205910, 261456, 208867, 486784, 618132,...         3   \n",
       "25960  [543820, 374156, 8719, 357367, 415017, 516653,...       124   \n",
       "15058  [253167, 600535, 597949, 102349, 382728, 62671...         1   \n",
       "27547  [141331, 112399, 133309, 438403, 651749, 32620...        10   \n",
       "24938  [645515, 666490, 249895, 480324, 336287, 43007...         9   \n",
       "\n",
       "                     updt_date  len  tag_len  \n",
       "15035  2016-06-24 09:19:48.000   20        1  \n",
       "20294  2019-08-26 14:26:59.000   20        1  \n",
       "31791  2019-03-27 15:27:08.000   30        1  \n",
       "13957  2008-08-15 02:49:24.000   20        1  \n",
       "31334  2018-12-28 21:13:48.000   19        1  \n",
       "...                        ...  ...      ...  \n",
       "20583  2016-09-26 10:16:48.000   22        3  \n",
       "25960  2017-09-28 18:10:35.000   30        8  \n",
       "15058  2020-03-28 23:10:38.000   20        3  \n",
       "27547  2013-12-13 18:00:28.000   26        1  \n",
       "24938  2016-08-30 09:50:35.000   19        5  \n",
       "\n",
       "[31806 rows x 8 columns]"
      ]
     },
     "execution_count": 39,
     "metadata": {},
     "output_type": "execute_result"
    }
   ],
   "source": [
    "X_train"
   ]
  },
  {
   "cell_type": "code",
   "execution_count": 37,
   "metadata": {},
   "outputs": [
    {
     "data": {
      "text/plain": [
       "<matplotlib.axes._subplots.AxesSubplot at 0x198086f90>"
      ]
     },
     "execution_count": 37,
     "metadata": {},
     "output_type": "execute_result"
    },
    {
     "data": {
      "image/png": "[encoded data removed]",
      "text/plain": [
       "<Figure size 432x288 with 1 Axes>"
      ]
     },
     "metadata": {
      "needs_background": "light"
     },
     "output_type": "display_data"
    }
   ],
   "source": [
    "X_train.tags.map(lambda x: len(x)).value_counts().plot.bar()"
   ]
  },
  {
   "cell_type": "code",
   "execution_count": 38,
   "metadata": {},
   "outputs": [
    {
     "data": {
      "text/plain": [
       "<matplotlib.axes._subplots.AxesSubplot at 0x19800b5d0>"
      ]
     },
     "execution_count": 38,
     "metadata": {},
     "output_type": "execute_result"
    },
    {
     "data": {
      "image/png": "[encoded data removed]",
      "text/plain": [
       "<Figure size 432x288 with 1 Axes>"
      ]
     },
     "metadata": {
      "needs_background": "light"
     },
     "output_type": "display_data"
    }
   ],
   "source": [
    "x_test.tags.map(lambda x: len(x)).value_counts().plot.bar()"
   ]
  },
  {
   "cell_type": "code",
   "execution_count": null,
   "metadata": {},
   "outputs": [],
   "source": []
  },
  {
   "cell_type": "code",
   "execution_count": 8,
   "metadata": {},
   "outputs": [
    {
     "data": {
      "text/plain": [
       "<matplotlib.axes._subplots.AxesSubplot at 0x14654d490>"
      ]
     },
     "execution_count": 8,
     "metadata": {},
     "output_type": "execute_result"
    },
    {
     "data": {
      "image/png": "[encoded data removed]",
      "text/plain": [
       "<Figure size 432x288 with 1 Axes>"
      ]
     },
     "metadata": {
      "needs_background": "light"
     },
     "output_type": "display_data"
    }
   ],
   "source": [
    "df.tags.map(lambda x: len(x)).value_counts().plot.bar()"
   ]
  },
  {
   "cell_type": "code",
   "execution_count": 9,
   "metadata": {},
   "outputs": [
    {
     "data": {
      "text/html": [
       "<div>\n",
       "<style scoped>\n",
       "    .dataframe tbody tr th:only-of-type {\n",
       "        vertical-align: middle;\n",
       "    }\n",
       "\n",
       "    .dataframe tbody tr th {\n",
       "        vertical-align: top;\n",
       "    }\n",
       "\n",
       "    .dataframe thead th {\n",
       "        text-align: right;\n",
       "    }\n",
       "</style>\n",
       "<table border=\"1\" class=\"dataframe\">\n",
       "  <thead>\n",
       "    <tr style=\"text-align: right;\">\n",
       "      <th></th>\n",
       "      <th>tags</th>\n",
       "      <th>id</th>\n",
       "      <th>plylst_title</th>\n",
       "      <th>songs</th>\n",
       "      <th>like_cnt</th>\n",
       "      <th>updt_date</th>\n",
       "      <th>len</th>\n",
       "    </tr>\n",
       "  </thead>\n",
       "  <tbody>\n",
       "    <tr>\n",
       "      <th>0</th>\n",
       "      <td>[락]</td>\n",
       "      <td>61281</td>\n",
       "      <td>여행같은 음악</td>\n",
       "      <td>[525514, 129701, 383374, 562083, 297861, 13954...</td>\n",
       "      <td>71</td>\n",
       "      <td>2013-12-19 18:36:19.000</td>\n",
       "      <td>19</td>\n",
       "    </tr>\n",
       "    <tr>\n",
       "      <th>1</th>\n",
       "      <td>[까페, 잔잔한]</td>\n",
       "      <td>76951</td>\n",
       "      <td>편하게, 잔잔하게 들을 수 있는 곡.-</td>\n",
       "      <td>[83116, 276692, 166267, 186301, 354465, 256598...</td>\n",
       "      <td>17</td>\n",
       "      <td>2017-08-28 07:09:34.000</td>\n",
       "      <td>28</td>\n",
       "    </tr>\n",
       "    <tr>\n",
       "      <th>2</th>\n",
       "      <td>[운동, 드라이브, Pop, 트로피컬하우스, 힐링, 기분전환, 2017, 팝, 트렌...</td>\n",
       "      <td>69252</td>\n",
       "      <td>2017 Pop Trend</td>\n",
       "      <td>[418694, 222305, 96545, 135950, 304687, 457451...</td>\n",
       "      <td>435</td>\n",
       "      <td>2017-09-15 15:59:26.000</td>\n",
       "      <td>30</td>\n",
       "    </tr>\n",
       "    <tr>\n",
       "      <th>3</th>\n",
       "      <td>[잔잔한, 추억, 회상]</td>\n",
       "      <td>36557</td>\n",
       "      <td>멍청이.. 내맘도 몰라.</td>\n",
       "      <td>[496913, 632529, 501426, 515574, 411161, 10341...</td>\n",
       "      <td>5</td>\n",
       "      <td>2008-09-23 22:32:02.000</td>\n",
       "      <td>20</td>\n",
       "    </tr>\n",
       "    <tr>\n",
       "      <th>4</th>\n",
       "      <td>[록, Metal, M에센셜, 메탈, Rock, 락]</td>\n",
       "      <td>10288</td>\n",
       "      <td>[록/메탈] Written by 이일우</td>\n",
       "      <td>[613315, 439294, 230806, 497932, 113479, 93506...</td>\n",
       "      <td>7</td>\n",
       "      <td>2016-06-17 18:23:54.000</td>\n",
       "      <td>15</td>\n",
       "    </tr>\n",
       "    <tr>\n",
       "      <th>...</th>\n",
       "      <td>...</td>\n",
       "      <td>...</td>\n",
       "      <td>...</td>\n",
       "      <td>...</td>\n",
       "      <td>...</td>\n",
       "      <td>...</td>\n",
       "      <td>...</td>\n",
       "    </tr>\n",
       "    <tr>\n",
       "      <th>45433</th>\n",
       "      <td>[클럽, 홍대, 운동, 열정, EDM, 20대, 라운지, 느낌, 일렉]</td>\n",
       "      <td>152310</td>\n",
       "      <td>4.일렉_ComeTogether!!!_custom.GOGR</td>\n",
       "      <td>[91526, 297952, 242297, 583808, 280489, 524940...</td>\n",
       "      <td>18</td>\n",
       "      <td>2017-08-24 00:55:43.000</td>\n",
       "      <td>17</td>\n",
       "    </tr>\n",
       "    <tr>\n",
       "      <th>45434</th>\n",
       "      <td>[팝]</td>\n",
       "      <td>33486</td>\n",
       "      <td>들을수록 걸크러쉬 물씬 느껴지는 음악리스트</td>\n",
       "      <td>[619719, 374517, 323561, 79157, 170970, 241952...</td>\n",
       "      <td>4</td>\n",
       "      <td>2017-03-18 00:07:08.000</td>\n",
       "      <td>29</td>\n",
       "    </tr>\n",
       "    <tr>\n",
       "      <th>45435</th>\n",
       "      <td>[인디]</td>\n",
       "      <td>153220</td>\n",
       "      <td>오후의 어쿠스틱 vol.2</td>\n",
       "      <td>[627005, 253230, 643932, 22659, 316149, 247137...</td>\n",
       "      <td>39</td>\n",
       "      <td>2013-04-19 01:36:45.000</td>\n",
       "      <td>21</td>\n",
       "    </tr>\n",
       "    <tr>\n",
       "      <th>45436</th>\n",
       "      <td>[여친]</td>\n",
       "      <td>79538</td>\n",
       "      <td>여자친구 명곡</td>\n",
       "      <td>[65053, 389127, 443914, 498028, 375431, 312296...</td>\n",
       "      <td>6</td>\n",
       "      <td>2018-03-09 14:24:37.000</td>\n",
       "      <td>23</td>\n",
       "    </tr>\n",
       "    <tr>\n",
       "      <th>45437</th>\n",
       "      <td>[설렘, 사랑]</td>\n",
       "      <td>135687</td>\n",
       "      <td>남자고백노래</td>\n",
       "      <td>[287003, 408232, 625933, 152186, 543298, 22271...</td>\n",
       "      <td>14</td>\n",
       "      <td>2016-06-23 13:24:27.000</td>\n",
       "      <td>19</td>\n",
       "    </tr>\n",
       "  </tbody>\n",
       "</table>\n",
       "<p>45438 rows × 7 columns</p>\n",
       "</div>"
      ],
      "text/plain": [
       "                                                    tags      id  \\\n",
       "0                                                    [락]   61281   \n",
       "1                                              [까페, 잔잔한]   76951   \n",
       "2      [운동, 드라이브, Pop, 트로피컬하우스, 힐링, 기분전환, 2017, 팝, 트렌...   69252   \n",
       "3                                          [잔잔한, 추억, 회상]   36557   \n",
       "4                          [록, Metal, M에센셜, 메탈, Rock, 락]   10288   \n",
       "...                                                  ...     ...   \n",
       "45433            [클럽, 홍대, 운동, 열정, EDM, 20대, 라운지, 느낌, 일렉]  152310   \n",
       "45434                                                [팝]   33486   \n",
       "45435                                               [인디]  153220   \n",
       "45436                                               [여친]   79538   \n",
       "45437                                           [설렘, 사랑]  135687   \n",
       "\n",
       "                           plylst_title  \\\n",
       "0                               여행같은 음악   \n",
       "1                 편하게, 잔잔하게 들을 수 있는 곡.-   \n",
       "2                        2017 Pop Trend   \n",
       "3                         멍청이.. 내맘도 몰라.   \n",
       "4                 [록/메탈] Written by 이일우   \n",
       "...                                 ...   \n",
       "45433  4.일렉_ComeTogether!!!_custom.GOGR   \n",
       "45434           들을수록 걸크러쉬 물씬 느껴지는 음악리스트   \n",
       "45435                    오후의 어쿠스틱 vol.2   \n",
       "45436                           여자친구 명곡   \n",
       "45437                            남자고백노래   \n",
       "\n",
       "                                                   songs  like_cnt  \\\n",
       "0      [525514, 129701, 383374, 562083, 297861, 13954...        71   \n",
       "1      [83116, 276692, 166267, 186301, 354465, 256598...        17   \n",
       "2      [418694, 222305, 96545, 135950, 304687, 457451...       435   \n",
       "3      [496913, 632529, 501426, 515574, 411161, 10341...         5   \n",
       "4      [613315, 439294, 230806, 497932, 113479, 93506...         7   \n",
       "...                                                  ...       ...   \n",
       "45433  [91526, 297952, 242297, 583808, 280489, 524940...        18   \n",
       "45434  [619719, 374517, 323561, 79157, 170970, 241952...         4   \n",
       "45435  [627005, 253230, 643932, 22659, 316149, 247137...        39   \n",
       "45436  [65053, 389127, 443914, 498028, 375431, 312296...         6   \n",
       "45437  [287003, 408232, 625933, 152186, 543298, 22271...        14   \n",
       "\n",
       "                     updt_date  len  \n",
       "0      2013-12-19 18:36:19.000   19  \n",
       "1      2017-08-28 07:09:34.000   28  \n",
       "2      2017-09-15 15:59:26.000   30  \n",
       "3      2008-09-23 22:32:02.000   20  \n",
       "4      2016-06-17 18:23:54.000   15  \n",
       "...                        ...  ...  \n",
       "45433  2017-08-24 00:55:43.000   17  \n",
       "45434  2017-03-18 00:07:08.000   29  \n",
       "45435  2013-04-19 01:36:45.000   21  \n",
       "45436  2018-03-09 14:24:37.000   23  \n",
       "45437  2016-06-23 13:24:27.000   19  \n",
       "\n",
       "[45438 rows x 7 columns]"
      ]
     },
     "execution_count": 9,
     "metadata": {},
     "output_type": "execute_result"
    }
   ],
   "source": [
    "df"
   ]
  },
  {
   "cell_type": "code",
   "execution_count": null,
   "metadata": {},
   "outputs": [],
   "source": [
    "train_test_split()"
   ]
  },
  {
   "cell_type": "code",
   "execution_count": null,
   "metadata": {},
   "outputs": [],
   "source": []
  }
 ],
 "metadata": {
  "kernelspec": {
   "display_name": "Python 3",
   "language": "python",
   "name": "python3"
  },
  "language_info": {
   "codemirror_mode": {
    "name": "ipython",
    "version": 3
   },
   "file_extension": ".py",
   "mimetype": "text/x-python",
   "name": "python",
   "nbconvert_exporter": "python",
   "pygments_lexer": "ipython3",
   "version": "3.7.4"
  }
 },
 "nbformat": 4,
 "nbformat_minor": 4
}

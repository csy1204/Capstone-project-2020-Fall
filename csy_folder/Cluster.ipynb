{
  "nbformat": 4,
  "nbformat_minor": 0,
  "metadata": {
    "colab": {
      "name": "Cluster.ipynb",
      "provenance": [],
      "collapsed_sections": []
    },
    "kernelspec": {
      "name": "python3",
      "display_name": "Python 3"
    },
    "accelerator": "GPU",
    "widgets": {
      "application/vnd.jupyter.widget-state+json": {
        "34d63c1ebba548ad871de26c2ff83ab3": {
          "model_module": "@jupyter-widgets/controls",
          "model_name": "HBoxModel",
          "state": {
            "_view_name": "HBoxView",
            "_dom_classes": [],
            "_model_name": "HBoxModel",
            "_view_module": "@jupyter-widgets/controls",
            "_model_module_version": "1.5.0",
            "_view_count": null,
            "_view_module_version": "1.5.0",
            "box_style": "",
            "layout": "IPY_MODEL_7cc4d900c98a47f880d5690e1dd875a8",
            "_model_module": "@jupyter-widgets/controls",
            "children": [
              "IPY_MODEL_e0d5d143de634e948c64486d584504a7",
              "IPY_MODEL_20f4177536414e34b576aa234f4274e4"
            ]
          }
        },
        "7cc4d900c98a47f880d5690e1dd875a8": {
          "model_module": "@jupyter-widgets/base",
          "model_name": "LayoutModel",
          "state": {
            "_view_name": "LayoutView",
            "grid_template_rows": null,
            "right": null,
            "justify_content": null,
            "_view_module": "@jupyter-widgets/base",
            "overflow": null,
            "_model_module_version": "1.2.0",
            "_view_count": null,
            "flex_flow": null,
            "width": null,
            "min_width": null,
            "border": null,
            "align_items": null,
            "bottom": null,
            "_model_module": "@jupyter-widgets/base",
            "top": null,
            "grid_column": null,
            "overflow_y": null,
            "overflow_x": null,
            "grid_auto_flow": null,
            "grid_area": null,
            "grid_template_columns": null,
            "flex": null,
            "_model_name": "LayoutModel",
            "justify_items": null,
            "grid_row": null,
            "max_height": null,
            "align_content": null,
            "visibility": null,
            "align_self": null,
            "height": null,
            "min_height": null,
            "padding": null,
            "grid_auto_rows": null,
            "grid_gap": null,
            "max_width": null,
            "order": null,
            "_view_module_version": "1.2.0",
            "grid_template_areas": null,
            "object_position": null,
            "object_fit": null,
            "grid_auto_columns": null,
            "margin": null,
            "display": null,
            "left": null
          }
        },
        "e0d5d143de634e948c64486d584504a7": {
          "model_module": "@jupyter-widgets/controls",
          "model_name": "FloatProgressModel",
          "state": {
            "_view_name": "ProgressView",
            "style": "IPY_MODEL_785b5abf71134aed843fe4275eb0b69a",
            "_dom_classes": [],
            "description": "100%",
            "_model_name": "FloatProgressModel",
            "bar_style": "success",
            "max": 52,
            "_view_module": "@jupyter-widgets/controls",
            "_model_module_version": "1.5.0",
            "value": 52,
            "_view_count": null,
            "_view_module_version": "1.5.0",
            "orientation": "horizontal",
            "min": 0,
            "description_tooltip": null,
            "_model_module": "@jupyter-widgets/controls",
            "layout": "IPY_MODEL_8c40d0f0035943268b323f8b386fa543"
          }
        },
        "20f4177536414e34b576aa234f4274e4": {
          "model_module": "@jupyter-widgets/controls",
          "model_name": "HTMLModel",
          "state": {
            "_view_name": "HTMLView",
            "style": "IPY_MODEL_5d510d5469614af8bb3a463a7696070c",
            "_dom_classes": [],
            "description": "",
            "_model_name": "HTMLModel",
            "placeholder": "​",
            "_view_module": "@jupyter-widgets/controls",
            "_model_module_version": "1.5.0",
            "value": " 52/52 [02:56&lt;00:00,  3.39s/it]",
            "_view_count": null,
            "_view_module_version": "1.5.0",
            "description_tooltip": null,
            "_model_module": "@jupyter-widgets/controls",
            "layout": "IPY_MODEL_b879109fc40a49898d3313b37c518005"
          }
        },
        "785b5abf71134aed843fe4275eb0b69a": {
          "model_module": "@jupyter-widgets/controls",
          "model_name": "ProgressStyleModel",
          "state": {
            "_view_name": "StyleView",
            "_model_name": "ProgressStyleModel",
            "description_width": "initial",
            "_view_module": "@jupyter-widgets/base",
            "_model_module_version": "1.5.0",
            "_view_count": null,
            "_view_module_version": "1.2.0",
            "bar_color": null,
            "_model_module": "@jupyter-widgets/controls"
          }
        },
        "8c40d0f0035943268b323f8b386fa543": {
          "model_module": "@jupyter-widgets/base",
          "model_name": "LayoutModel",
          "state": {
            "_view_name": "LayoutView",
            "grid_template_rows": null,
            "right": null,
            "justify_content": null,
            "_view_module": "@jupyter-widgets/base",
            "overflow": null,
            "_model_module_version": "1.2.0",
            "_view_count": null,
            "flex_flow": null,
            "width": null,
            "min_width": null,
            "border": null,
            "align_items": null,
            "bottom": null,
            "_model_module": "@jupyter-widgets/base",
            "top": null,
            "grid_column": null,
            "overflow_y": null,
            "overflow_x": null,
            "grid_auto_flow": null,
            "grid_area": null,
            "grid_template_columns": null,
            "flex": null,
            "_model_name": "LayoutModel",
            "justify_items": null,
            "grid_row": null,
            "max_height": null,
            "align_content": null,
            "visibility": null,
            "align_self": null,
            "height": null,
            "min_height": null,
            "padding": null,
            "grid_auto_rows": null,
            "grid_gap": null,
            "max_width": null,
            "order": null,
            "_view_module_version": "1.2.0",
            "grid_template_areas": null,
            "object_position": null,
            "object_fit": null,
            "grid_auto_columns": null,
            "margin": null,
            "display": null,
            "left": null
          }
        },
        "5d510d5469614af8bb3a463a7696070c": {
          "model_module": "@jupyter-widgets/controls",
          "model_name": "DescriptionStyleModel",
          "state": {
            "_view_name": "StyleView",
            "_model_name": "DescriptionStyleModel",
            "description_width": "",
            "_view_module": "@jupyter-widgets/base",
            "_model_module_version": "1.5.0",
            "_view_count": null,
            "_view_module_version": "1.2.0",
            "_model_module": "@jupyter-widgets/controls"
          }
        },
        "b879109fc40a49898d3313b37c518005": {
          "model_module": "@jupyter-widgets/base",
          "model_name": "LayoutModel",
          "state": {
            "_view_name": "LayoutView",
            "grid_template_rows": null,
            "right": null,
            "justify_content": null,
            "_view_module": "@jupyter-widgets/base",
            "overflow": null,
            "_model_module_version": "1.2.0",
            "_view_count": null,
            "flex_flow": null,
            "width": null,
            "min_width": null,
            "border": null,
            "align_items": null,
            "bottom": null,
            "_model_module": "@jupyter-widgets/base",
            "top": null,
            "grid_column": null,
            "overflow_y": null,
            "overflow_x": null,
            "grid_auto_flow": null,
            "grid_area": null,
            "grid_template_columns": null,
            "flex": null,
            "_model_name": "LayoutModel",
            "justify_items": null,
            "grid_row": null,
            "max_height": null,
            "align_content": null,
            "visibility": null,
            "align_self": null,
            "height": null,
            "min_height": null,
            "padding": null,
            "grid_auto_rows": null,
            "grid_gap": null,
            "max_width": null,
            "order": null,
            "_view_module_version": "1.2.0",
            "grid_template_areas": null,
            "object_position": null,
            "object_fit": null,
            "grid_auto_columns": null,
            "margin": null,
            "display": null,
            "left": null
          }
        },
        "3e69fd8cee9f4526a1b2ae9e3d7380c4": {
          "model_module": "@jupyter-widgets/controls",
          "model_name": "HBoxModel",
          "state": {
            "_view_name": "HBoxView",
            "_dom_classes": [],
            "_model_name": "HBoxModel",
            "_view_module": "@jupyter-widgets/controls",
            "_model_module_version": "1.5.0",
            "_view_count": null,
            "_view_module_version": "1.5.0",
            "box_style": "",
            "layout": "IPY_MODEL_91aecbb55d21439893fbe55db1ff1d89",
            "_model_module": "@jupyter-widgets/controls",
            "children": [
              "IPY_MODEL_c1ead837f03e4a6384d08a4349f60ffc",
              "IPY_MODEL_9f605fecaf774635b01e90a0827b5d5b"
            ]
          }
        },
        "91aecbb55d21439893fbe55db1ff1d89": {
          "model_module": "@jupyter-widgets/base",
          "model_name": "LayoutModel",
          "state": {
            "_view_name": "LayoutView",
            "grid_template_rows": null,
            "right": null,
            "justify_content": null,
            "_view_module": "@jupyter-widgets/base",
            "overflow": null,
            "_model_module_version": "1.2.0",
            "_view_count": null,
            "flex_flow": null,
            "width": null,
            "min_width": null,
            "border": null,
            "align_items": null,
            "bottom": null,
            "_model_module": "@jupyter-widgets/base",
            "top": null,
            "grid_column": null,
            "overflow_y": null,
            "overflow_x": null,
            "grid_auto_flow": null,
            "grid_area": null,
            "grid_template_columns": null,
            "flex": null,
            "_model_name": "LayoutModel",
            "justify_items": null,
            "grid_row": null,
            "max_height": null,
            "align_content": null,
            "visibility": null,
            "align_self": null,
            "height": null,
            "min_height": null,
            "padding": null,
            "grid_auto_rows": null,
            "grid_gap": null,
            "max_width": null,
            "order": null,
            "_view_module_version": "1.2.0",
            "grid_template_areas": null,
            "object_position": null,
            "object_fit": null,
            "grid_auto_columns": null,
            "margin": null,
            "display": null,
            "left": null
          }
        },
        "c1ead837f03e4a6384d08a4349f60ffc": {
          "model_module": "@jupyter-widgets/controls",
          "model_name": "FloatProgressModel",
          "state": {
            "_view_name": "ProgressView",
            "style": "IPY_MODEL_50fc73efa4ac4f24b13d71ec47ab82b3",
            "_dom_classes": [],
            "description": "100%",
            "_model_name": "FloatProgressModel",
            "bar_style": "success",
            "max": 358,
            "_view_module": "@jupyter-widgets/controls",
            "_model_module_version": "1.5.0",
            "value": 358,
            "_view_count": null,
            "_view_module_version": "1.5.0",
            "orientation": "horizontal",
            "min": 0,
            "description_tooltip": null,
            "_model_module": "@jupyter-widgets/controls",
            "layout": "IPY_MODEL_afeb072224864d23adddaebe1371bc39"
          }
        },
        "9f605fecaf774635b01e90a0827b5d5b": {
          "model_module": "@jupyter-widgets/controls",
          "model_name": "HTMLModel",
          "state": {
            "_view_name": "HTMLView",
            "style": "IPY_MODEL_337bde2fbadd4548bb0e71da2674e323",
            "_dom_classes": [],
            "description": "",
            "_model_name": "HTMLModel",
            "placeholder": "​",
            "_view_module": "@jupyter-widgets/controls",
            "_model_module_version": "1.5.0",
            "value": " 358/358 [01:40&lt;00:00,  3.58it/s]",
            "_view_count": null,
            "_view_module_version": "1.5.0",
            "description_tooltip": null,
            "_model_module": "@jupyter-widgets/controls",
            "layout": "IPY_MODEL_52d170ecf21948fe80934df91716b8f3"
          }
        },
        "50fc73efa4ac4f24b13d71ec47ab82b3": {
          "model_module": "@jupyter-widgets/controls",
          "model_name": "ProgressStyleModel",
          "state": {
            "_view_name": "StyleView",
            "_model_name": "ProgressStyleModel",
            "description_width": "initial",
            "_view_module": "@jupyter-widgets/base",
            "_model_module_version": "1.5.0",
            "_view_count": null,
            "_view_module_version": "1.2.0",
            "bar_color": null,
            "_model_module": "@jupyter-widgets/controls"
          }
        },
        "afeb072224864d23adddaebe1371bc39": {
          "model_module": "@jupyter-widgets/base",
          "model_name": "LayoutModel",
          "state": {
            "_view_name": "LayoutView",
            "grid_template_rows": null,
            "right": null,
            "justify_content": null,
            "_view_module": "@jupyter-widgets/base",
            "overflow": null,
            "_model_module_version": "1.2.0",
            "_view_count": null,
            "flex_flow": null,
            "width": null,
            "min_width": null,
            "border": null,
            "align_items": null,
            "bottom": null,
            "_model_module": "@jupyter-widgets/base",
            "top": null,
            "grid_column": null,
            "overflow_y": null,
            "overflow_x": null,
            "grid_auto_flow": null,
            "grid_area": null,
            "grid_template_columns": null,
            "flex": null,
            "_model_name": "LayoutModel",
            "justify_items": null,
            "grid_row": null,
            "max_height": null,
            "align_content": null,
            "visibility": null,
            "align_self": null,
            "height": null,
            "min_height": null,
            "padding": null,
            "grid_auto_rows": null,
            "grid_gap": null,
            "max_width": null,
            "order": null,
            "_view_module_version": "1.2.0",
            "grid_template_areas": null,
            "object_position": null,
            "object_fit": null,
            "grid_auto_columns": null,
            "margin": null,
            "display": null,
            "left": null
          }
        },
        "337bde2fbadd4548bb0e71da2674e323": {
          "model_module": "@jupyter-widgets/controls",
          "model_name": "DescriptionStyleModel",
          "state": {
            "_view_name": "StyleView",
            "_model_name": "DescriptionStyleModel",
            "description_width": "",
            "_view_module": "@jupyter-widgets/base",
            "_model_module_version": "1.5.0",
            "_view_count": null,
            "_view_module_version": "1.2.0",
            "_model_module": "@jupyter-widgets/controls"
          }
        },
        "52d170ecf21948fe80934df91716b8f3": {
          "model_module": "@jupyter-widgets/base",
          "model_name": "LayoutModel",
          "state": {
            "_view_name": "LayoutView",
            "grid_template_rows": null,
            "right": null,
            "justify_content": null,
            "_view_module": "@jupyter-widgets/base",
            "overflow": null,
            "_model_module_version": "1.2.0",
            "_view_count": null,
            "flex_flow": null,
            "width": null,
            "min_width": null,
            "border": null,
            "align_items": null,
            "bottom": null,
            "_model_module": "@jupyter-widgets/base",
            "top": null,
            "grid_column": null,
            "overflow_y": null,
            "overflow_x": null,
            "grid_auto_flow": null,
            "grid_area": null,
            "grid_template_columns": null,
            "flex": null,
            "_model_name": "LayoutModel",
            "justify_items": null,
            "grid_row": null,
            "max_height": null,
            "align_content": null,
            "visibility": null,
            "align_self": null,
            "height": null,
            "min_height": null,
            "padding": null,
            "grid_auto_rows": null,
            "grid_gap": null,
            "max_width": null,
            "order": null,
            "_view_module_version": "1.2.0",
            "grid_template_areas": null,
            "object_position": null,
            "object_fit": null,
            "grid_auto_columns": null,
            "margin": null,
            "display": null,
            "left": null
          }
        },
        "260f1f311ce9495ea0f7fdc04c1ae2b9": {
          "model_module": "@jupyter-widgets/controls",
          "model_name": "HBoxModel",
          "state": {
            "_view_name": "HBoxView",
            "_dom_classes": [],
            "_model_name": "HBoxModel",
            "_view_module": "@jupyter-widgets/controls",
            "_model_module_version": "1.5.0",
            "_view_count": null,
            "_view_module_version": "1.5.0",
            "box_style": "",
            "layout": "IPY_MODEL_d8f12387f870470d834a2d2f581f41c3",
            "_model_module": "@jupyter-widgets/controls",
            "children": [
              "IPY_MODEL_fbbef154c820446faf487ddc14dd2381",
              "IPY_MODEL_3ec64614b941468e89bb7192f8dac5c7"
            ]
          }
        },
        "d8f12387f870470d834a2d2f581f41c3": {
          "model_module": "@jupyter-widgets/base",
          "model_name": "LayoutModel",
          "state": {
            "_view_name": "LayoutView",
            "grid_template_rows": null,
            "right": null,
            "justify_content": null,
            "_view_module": "@jupyter-widgets/base",
            "overflow": null,
            "_model_module_version": "1.2.0",
            "_view_count": null,
            "flex_flow": null,
            "width": null,
            "min_width": null,
            "border": null,
            "align_items": null,
            "bottom": null,
            "_model_module": "@jupyter-widgets/base",
            "top": null,
            "grid_column": null,
            "overflow_y": null,
            "overflow_x": null,
            "grid_auto_flow": null,
            "grid_area": null,
            "grid_template_columns": null,
            "flex": null,
            "_model_name": "LayoutModel",
            "justify_items": null,
            "grid_row": null,
            "max_height": null,
            "align_content": null,
            "visibility": null,
            "align_self": null,
            "height": null,
            "min_height": null,
            "padding": null,
            "grid_auto_rows": null,
            "grid_gap": null,
            "max_width": null,
            "order": null,
            "_view_module_version": "1.2.0",
            "grid_template_areas": null,
            "object_position": null,
            "object_fit": null,
            "grid_auto_columns": null,
            "margin": null,
            "display": null,
            "left": null
          }
        },
        "fbbef154c820446faf487ddc14dd2381": {
          "model_module": "@jupyter-widgets/controls",
          "model_name": "FloatProgressModel",
          "state": {
            "_view_name": "ProgressView",
            "style": "IPY_MODEL_dc583ec239a84ac9bdb204a9eefa4775",
            "_dom_classes": [],
            "description": "100%",
            "_model_name": "FloatProgressModel",
            "bar_style": "success",
            "max": 358,
            "_view_module": "@jupyter-widgets/controls",
            "_model_module_version": "1.5.0",
            "value": 358,
            "_view_count": null,
            "_view_module_version": "1.5.0",
            "orientation": "horizontal",
            "min": 0,
            "description_tooltip": null,
            "_model_module": "@jupyter-widgets/controls",
            "layout": "IPY_MODEL_dacd5c876a49460993fb8dbac1136eaf"
          }
        },
        "3ec64614b941468e89bb7192f8dac5c7": {
          "model_module": "@jupyter-widgets/controls",
          "model_name": "HTMLModel",
          "state": {
            "_view_name": "HTMLView",
            "style": "IPY_MODEL_0c74e89f5a39465f92d3df20f8a12b3c",
            "_dom_classes": [],
            "description": "",
            "_model_name": "HTMLModel",
            "placeholder": "​",
            "_view_module": "@jupyter-widgets/controls",
            "_model_module_version": "1.5.0",
            "value": " 358/358 [13:28&lt;00:00,  2.26s/it]",
            "_view_count": null,
            "_view_module_version": "1.5.0",
            "description_tooltip": null,
            "_model_module": "@jupyter-widgets/controls",
            "layout": "IPY_MODEL_3b35c67743124ca2b039c8e29c5f4c2b"
          }
        },
        "dc583ec239a84ac9bdb204a9eefa4775": {
          "model_module": "@jupyter-widgets/controls",
          "model_name": "ProgressStyleModel",
          "state": {
            "_view_name": "StyleView",
            "_model_name": "ProgressStyleModel",
            "description_width": "initial",
            "_view_module": "@jupyter-widgets/base",
            "_model_module_version": "1.5.0",
            "_view_count": null,
            "_view_module_version": "1.2.0",
            "bar_color": null,
            "_model_module": "@jupyter-widgets/controls"
          }
        },
        "dacd5c876a49460993fb8dbac1136eaf": {
          "model_module": "@jupyter-widgets/base",
          "model_name": "LayoutModel",
          "state": {
            "_view_name": "LayoutView",
            "grid_template_rows": null,
            "right": null,
            "justify_content": null,
            "_view_module": "@jupyter-widgets/base",
            "overflow": null,
            "_model_module_version": "1.2.0",
            "_view_count": null,
            "flex_flow": null,
            "width": null,
            "min_width": null,
            "border": null,
            "align_items": null,
            "bottom": null,
            "_model_module": "@jupyter-widgets/base",
            "top": null,
            "grid_column": null,
            "overflow_y": null,
            "overflow_x": null,
            "grid_auto_flow": null,
            "grid_area": null,
            "grid_template_columns": null,
            "flex": null,
            "_model_name": "LayoutModel",
            "justify_items": null,
            "grid_row": null,
            "max_height": null,
            "align_content": null,
            "visibility": null,
            "align_self": null,
            "height": null,
            "min_height": null,
            "padding": null,
            "grid_auto_rows": null,
            "grid_gap": null,
            "max_width": null,
            "order": null,
            "_view_module_version": "1.2.0",
            "grid_template_areas": null,
            "object_position": null,
            "object_fit": null,
            "grid_auto_columns": null,
            "margin": null,
            "display": null,
            "left": null
          }
        },
        "0c74e89f5a39465f92d3df20f8a12b3c": {
          "model_module": "@jupyter-widgets/controls",
          "model_name": "DescriptionStyleModel",
          "state": {
            "_view_name": "StyleView",
            "_model_name": "DescriptionStyleModel",
            "description_width": "",
            "_view_module": "@jupyter-widgets/base",
            "_model_module_version": "1.5.0",
            "_view_count": null,
            "_view_module_version": "1.2.0",
            "_model_module": "@jupyter-widgets/controls"
          }
        },
        "3b35c67743124ca2b039c8e29c5f4c2b": {
          "model_module": "@jupyter-widgets/base",
          "model_name": "LayoutModel",
          "state": {
            "_view_name": "LayoutView",
            "grid_template_rows": null,
            "right": null,
            "justify_content": null,
            "_view_module": "@jupyter-widgets/base",
            "overflow": null,
            "_model_module_version": "1.2.0",
            "_view_count": null,
            "flex_flow": null,
            "width": null,
            "min_width": null,
            "border": null,
            "align_items": null,
            "bottom": null,
            "_model_module": "@jupyter-widgets/base",
            "top": null,
            "grid_column": null,
            "overflow_y": null,
            "overflow_x": null,
            "grid_auto_flow": null,
            "grid_area": null,
            "grid_template_columns": null,
            "flex": null,
            "_model_name": "LayoutModel",
            "justify_items": null,
            "grid_row": null,
            "max_height": null,
            "align_content": null,
            "visibility": null,
            "align_self": null,
            "height": null,
            "min_height": null,
            "padding": null,
            "grid_auto_rows": null,
            "grid_gap": null,
            "max_width": null,
            "order": null,
            "_view_module_version": "1.2.0",
            "grid_template_areas": null,
            "object_position": null,
            "object_fit": null,
            "grid_auto_columns": null,
            "margin": null,
            "display": null,
            "left": null
          }
        },
        "807e8497dd974c24963c054729e8d9fb": {
          "model_module": "@jupyter-widgets/controls",
          "model_name": "HBoxModel",
          "state": {
            "_view_name": "HBoxView",
            "_dom_classes": [],
            "_model_name": "HBoxModel",
            "_view_module": "@jupyter-widgets/controls",
            "_model_module_version": "1.5.0",
            "_view_count": null,
            "_view_module_version": "1.5.0",
            "box_style": "",
            "layout": "IPY_MODEL_462950ed5ecd4a578c0adfbbcb67840b",
            "_model_module": "@jupyter-widgets/controls",
            "children": [
              "IPY_MODEL_eb2c3a756b9c431194a06c582567781f",
              "IPY_MODEL_fe5ff748b76b4cb28db047e7664de6ab"
            ]
          }
        },
        "462950ed5ecd4a578c0adfbbcb67840b": {
          "model_module": "@jupyter-widgets/base",
          "model_name": "LayoutModel",
          "state": {
            "_view_name": "LayoutView",
            "grid_template_rows": null,
            "right": null,
            "justify_content": null,
            "_view_module": "@jupyter-widgets/base",
            "overflow": null,
            "_model_module_version": "1.2.0",
            "_view_count": null,
            "flex_flow": null,
            "width": null,
            "min_width": null,
            "border": null,
            "align_items": null,
            "bottom": null,
            "_model_module": "@jupyter-widgets/base",
            "top": null,
            "grid_column": null,
            "overflow_y": null,
            "overflow_x": null,
            "grid_auto_flow": null,
            "grid_area": null,
            "grid_template_columns": null,
            "flex": null,
            "_model_name": "LayoutModel",
            "justify_items": null,
            "grid_row": null,
            "max_height": null,
            "align_content": null,
            "visibility": null,
            "align_self": null,
            "height": null,
            "min_height": null,
            "padding": null,
            "grid_auto_rows": null,
            "grid_gap": null,
            "max_width": null,
            "order": null,
            "_view_module_version": "1.2.0",
            "grid_template_areas": null,
            "object_position": null,
            "object_fit": null,
            "grid_auto_columns": null,
            "margin": null,
            "display": null,
            "left": null
          }
        },
        "eb2c3a756b9c431194a06c582567781f": {
          "model_module": "@jupyter-widgets/controls",
          "model_name": "FloatProgressModel",
          "state": {
            "_view_name": "ProgressView",
            "style": "IPY_MODEL_802296d27a2a4dc89d175e541dd97d54",
            "_dom_classes": [],
            "description": "100%",
            "_model_name": "FloatProgressModel",
            "bar_style": "success",
            "max": 15,
            "_view_module": "@jupyter-widgets/controls",
            "_model_module_version": "1.5.0",
            "value": 15,
            "_view_count": null,
            "_view_module_version": "1.5.0",
            "orientation": "horizontal",
            "min": 0,
            "description_tooltip": null,
            "_model_module": "@jupyter-widgets/controls",
            "layout": "IPY_MODEL_8083d66b76b448afa748defa2f112dc1"
          }
        },
        "fe5ff748b76b4cb28db047e7664de6ab": {
          "model_module": "@jupyter-widgets/controls",
          "model_name": "HTMLModel",
          "state": {
            "_view_name": "HTMLView",
            "style": "IPY_MODEL_ef232042d25c49e78c58f2d52ef26e81",
            "_dom_classes": [],
            "description": "",
            "_model_name": "HTMLModel",
            "placeholder": "​",
            "_view_module": "@jupyter-widgets/controls",
            "_model_module_version": "1.5.0",
            "value": " 15/15 [18:09&lt;00:00, 72.66s/it]",
            "_view_count": null,
            "_view_module_version": "1.5.0",
            "description_tooltip": null,
            "_model_module": "@jupyter-widgets/controls",
            "layout": "IPY_MODEL_17ce72154c864b7cabe1b8cbb9bbcc25"
          }
        },
        "802296d27a2a4dc89d175e541dd97d54": {
          "model_module": "@jupyter-widgets/controls",
          "model_name": "ProgressStyleModel",
          "state": {
            "_view_name": "StyleView",
            "_model_name": "ProgressStyleModel",
            "description_width": "initial",
            "_view_module": "@jupyter-widgets/base",
            "_model_module_version": "1.5.0",
            "_view_count": null,
            "_view_module_version": "1.2.0",
            "bar_color": null,
            "_model_module": "@jupyter-widgets/controls"
          }
        },
        "8083d66b76b448afa748defa2f112dc1": {
          "model_module": "@jupyter-widgets/base",
          "model_name": "LayoutModel",
          "state": {
            "_view_name": "LayoutView",
            "grid_template_rows": null,
            "right": null,
            "justify_content": null,
            "_view_module": "@jupyter-widgets/base",
            "overflow": null,
            "_model_module_version": "1.2.0",
            "_view_count": null,
            "flex_flow": null,
            "width": null,
            "min_width": null,
            "border": null,
            "align_items": null,
            "bottom": null,
            "_model_module": "@jupyter-widgets/base",
            "top": null,
            "grid_column": null,
            "overflow_y": null,
            "overflow_x": null,
            "grid_auto_flow": null,
            "grid_area": null,
            "grid_template_columns": null,
            "flex": null,
            "_model_name": "LayoutModel",
            "justify_items": null,
            "grid_row": null,
            "max_height": null,
            "align_content": null,
            "visibility": null,
            "align_self": null,
            "height": null,
            "min_height": null,
            "padding": null,
            "grid_auto_rows": null,
            "grid_gap": null,
            "max_width": null,
            "order": null,
            "_view_module_version": "1.2.0",
            "grid_template_areas": null,
            "object_position": null,
            "object_fit": null,
            "grid_auto_columns": null,
            "margin": null,
            "display": null,
            "left": null
          }
        },
        "ef232042d25c49e78c58f2d52ef26e81": {
          "model_module": "@jupyter-widgets/controls",
          "model_name": "DescriptionStyleModel",
          "state": {
            "_view_name": "StyleView",
            "_model_name": "DescriptionStyleModel",
            "description_width": "",
            "_view_module": "@jupyter-widgets/base",
            "_model_module_version": "1.5.0",
            "_view_count": null,
            "_view_module_version": "1.2.0",
            "_model_module": "@jupyter-widgets/controls"
          }
        },
        "17ce72154c864b7cabe1b8cbb9bbcc25": {
          "model_module": "@jupyter-widgets/base",
          "model_name": "LayoutModel",
          "state": {
            "_view_name": "LayoutView",
            "grid_template_rows": null,
            "right": null,
            "justify_content": null,
            "_view_module": "@jupyter-widgets/base",
            "overflow": null,
            "_model_module_version": "1.2.0",
            "_view_count": null,
            "flex_flow": null,
            "width": null,
            "min_width": null,
            "border": null,
            "align_items": null,
            "bottom": null,
            "_model_module": "@jupyter-widgets/base",
            "top": null,
            "grid_column": null,
            "overflow_y": null,
            "overflow_x": null,
            "grid_auto_flow": null,
            "grid_area": null,
            "grid_template_columns": null,
            "flex": null,
            "_model_name": "LayoutModel",
            "justify_items": null,
            "grid_row": null,
            "max_height": null,
            "align_content": null,
            "visibility": null,
            "align_self": null,
            "height": null,
            "min_height": null,
            "padding": null,
            "grid_auto_rows": null,
            "grid_gap": null,
            "max_width": null,
            "order": null,
            "_view_module_version": "1.2.0",
            "grid_template_areas": null,
            "object_position": null,
            "object_fit": null,
            "grid_auto_columns": null,
            "margin": null,
            "display": null,
            "left": null
          }
        },
        "c5fb35c9fb80404882fe53e3667f0738": {
          "model_module": "@jupyter-widgets/controls",
          "model_name": "HBoxModel",
          "state": {
            "_view_name": "HBoxView",
            "_dom_classes": [],
            "_model_name": "HBoxModel",
            "_view_module": "@jupyter-widgets/controls",
            "_model_module_version": "1.5.0",
            "_view_count": null,
            "_view_module_version": "1.5.0",
            "box_style": "",
            "layout": "IPY_MODEL_72b67793faf14869a6f3c26f8da12670",
            "_model_module": "@jupyter-widgets/controls",
            "children": [
              "IPY_MODEL_fdb10b780a5e430098da2cd751603aa4",
              "IPY_MODEL_ff95fef4064248e68438187fc0e933e5"
            ]
          }
        },
        "72b67793faf14869a6f3c26f8da12670": {
          "model_module": "@jupyter-widgets/base",
          "model_name": "LayoutModel",
          "state": {
            "_view_name": "LayoutView",
            "grid_template_rows": null,
            "right": null,
            "justify_content": null,
            "_view_module": "@jupyter-widgets/base",
            "overflow": null,
            "_model_module_version": "1.2.0",
            "_view_count": null,
            "flex_flow": null,
            "width": null,
            "min_width": null,
            "border": null,
            "align_items": null,
            "bottom": null,
            "_model_module": "@jupyter-widgets/base",
            "top": null,
            "grid_column": null,
            "overflow_y": null,
            "overflow_x": null,
            "grid_auto_flow": null,
            "grid_area": null,
            "grid_template_columns": null,
            "flex": null,
            "_model_name": "LayoutModel",
            "justify_items": null,
            "grid_row": null,
            "max_height": null,
            "align_content": null,
            "visibility": null,
            "align_self": null,
            "height": null,
            "min_height": null,
            "padding": null,
            "grid_auto_rows": null,
            "grid_gap": null,
            "max_width": null,
            "order": null,
            "_view_module_version": "1.2.0",
            "grid_template_areas": null,
            "object_position": null,
            "object_fit": null,
            "grid_auto_columns": null,
            "margin": null,
            "display": null,
            "left": null
          }
        },
        "fdb10b780a5e430098da2cd751603aa4": {
          "model_module": "@jupyter-widgets/controls",
          "model_name": "FloatProgressModel",
          "state": {
            "_view_name": "ProgressView",
            "style": "IPY_MODEL_d54bef96879c44f593df0691da0e10e0",
            "_dom_classes": [],
            "description": "100%",
            "_model_name": "FloatProgressModel",
            "bar_style": "success",
            "max": 52,
            "_view_module": "@jupyter-widgets/controls",
            "_model_module_version": "1.5.0",
            "value": 52,
            "_view_count": null,
            "_view_module_version": "1.5.0",
            "orientation": "horizontal",
            "min": 0,
            "description_tooltip": null,
            "_model_module": "@jupyter-widgets/controls",
            "layout": "IPY_MODEL_f5cb0e47392a48a29d24284b5df63f18"
          }
        },
        "ff95fef4064248e68438187fc0e933e5": {
          "model_module": "@jupyter-widgets/controls",
          "model_name": "HTMLModel",
          "state": {
            "_view_name": "HTMLView",
            "style": "IPY_MODEL_0d983e3c271e4e6289bf27b6f1ecf6e2",
            "_dom_classes": [],
            "description": "",
            "_model_name": "HTMLModel",
            "placeholder": "​",
            "_view_module": "@jupyter-widgets/controls",
            "_model_module_version": "1.5.0",
            "value": " 52/52 [01:04&lt;00:00,  1.23s/it]",
            "_view_count": null,
            "_view_module_version": "1.5.0",
            "description_tooltip": null,
            "_model_module": "@jupyter-widgets/controls",
            "layout": "IPY_MODEL_e4a1985ec7234b428189b43fcb0af370"
          }
        },
        "d54bef96879c44f593df0691da0e10e0": {
          "model_module": "@jupyter-widgets/controls",
          "model_name": "ProgressStyleModel",
          "state": {
            "_view_name": "StyleView",
            "_model_name": "ProgressStyleModel",
            "description_width": "initial",
            "_view_module": "@jupyter-widgets/base",
            "_model_module_version": "1.5.0",
            "_view_count": null,
            "_view_module_version": "1.2.0",
            "bar_color": null,
            "_model_module": "@jupyter-widgets/controls"
          }
        },
        "f5cb0e47392a48a29d24284b5df63f18": {
          "model_module": "@jupyter-widgets/base",
          "model_name": "LayoutModel",
          "state": {
            "_view_name": "LayoutView",
            "grid_template_rows": null,
            "right": null,
            "justify_content": null,
            "_view_module": "@jupyter-widgets/base",
            "overflow": null,
            "_model_module_version": "1.2.0",
            "_view_count": null,
            "flex_flow": null,
            "width": null,
            "min_width": null,
            "border": null,
            "align_items": null,
            "bottom": null,
            "_model_module": "@jupyter-widgets/base",
            "top": null,
            "grid_column": null,
            "overflow_y": null,
            "overflow_x": null,
            "grid_auto_flow": null,
            "grid_area": null,
            "grid_template_columns": null,
            "flex": null,
            "_model_name": "LayoutModel",
            "justify_items": null,
            "grid_row": null,
            "max_height": null,
            "align_content": null,
            "visibility": null,
            "align_self": null,
            "height": null,
            "min_height": null,
            "padding": null,
            "grid_auto_rows": null,
            "grid_gap": null,
            "max_width": null,
            "order": null,
            "_view_module_version": "1.2.0",
            "grid_template_areas": null,
            "object_position": null,
            "object_fit": null,
            "grid_auto_columns": null,
            "margin": null,
            "display": null,
            "left": null
          }
        },
        "0d983e3c271e4e6289bf27b6f1ecf6e2": {
          "model_module": "@jupyter-widgets/controls",
          "model_name": "DescriptionStyleModel",
          "state": {
            "_view_name": "StyleView",
            "_model_name": "DescriptionStyleModel",
            "description_width": "",
            "_view_module": "@jupyter-widgets/base",
            "_model_module_version": "1.5.0",
            "_view_count": null,
            "_view_module_version": "1.2.0",
            "_model_module": "@jupyter-widgets/controls"
          }
        },
        "e4a1985ec7234b428189b43fcb0af370": {
          "model_module": "@jupyter-widgets/base",
          "model_name": "LayoutModel",
          "state": {
            "_view_name": "LayoutView",
            "grid_template_rows": null,
            "right": null,
            "justify_content": null,
            "_view_module": "@jupyter-widgets/base",
            "overflow": null,
            "_model_module_version": "1.2.0",
            "_view_count": null,
            "flex_flow": null,
            "width": null,
            "min_width": null,
            "border": null,
            "align_items": null,
            "bottom": null,
            "_model_module": "@jupyter-widgets/base",
            "top": null,
            "grid_column": null,
            "overflow_y": null,
            "overflow_x": null,
            "grid_auto_flow": null,
            "grid_area": null,
            "grid_template_columns": null,
            "flex": null,
            "_model_name": "LayoutModel",
            "justify_items": null,
            "grid_row": null,
            "max_height": null,
            "align_content": null,
            "visibility": null,
            "align_self": null,
            "height": null,
            "min_height": null,
            "padding": null,
            "grid_auto_rows": null,
            "grid_gap": null,
            "max_width": null,
            "order": null,
            "_view_module_version": "1.2.0",
            "grid_template_areas": null,
            "object_position": null,
            "object_fit": null,
            "grid_auto_columns": null,
            "margin": null,
            "display": null,
            "left": null
          }
        },
        "33329b834e1e4bd8a12d4ead56c2bea6": {
          "model_module": "@jupyter-widgets/controls",
          "model_name": "HBoxModel",
          "state": {
            "_view_name": "HBoxView",
            "_dom_classes": [],
            "_model_name": "HBoxModel",
            "_view_module": "@jupyter-widgets/controls",
            "_model_module_version": "1.5.0",
            "_view_count": null,
            "_view_module_version": "1.5.0",
            "box_style": "",
            "layout": "IPY_MODEL_6bbdf2bc708143359b3dc581cbe5d760",
            "_model_module": "@jupyter-widgets/controls",
            "children": [
              "IPY_MODEL_5ee5b4297ee14cac855c57b26a119dba",
              "IPY_MODEL_aa18d0f6e9974cc29996b26bf53daef2"
            ]
          }
        },
        "6bbdf2bc708143359b3dc581cbe5d760": {
          "model_module": "@jupyter-widgets/base",
          "model_name": "LayoutModel",
          "state": {
            "_view_name": "LayoutView",
            "grid_template_rows": null,
            "right": null,
            "justify_content": null,
            "_view_module": "@jupyter-widgets/base",
            "overflow": null,
            "_model_module_version": "1.2.0",
            "_view_count": null,
            "flex_flow": null,
            "width": null,
            "min_width": null,
            "border": null,
            "align_items": null,
            "bottom": null,
            "_model_module": "@jupyter-widgets/base",
            "top": null,
            "grid_column": null,
            "overflow_y": null,
            "overflow_x": null,
            "grid_auto_flow": null,
            "grid_area": null,
            "grid_template_columns": null,
            "flex": null,
            "_model_name": "LayoutModel",
            "justify_items": null,
            "grid_row": null,
            "max_height": null,
            "align_content": null,
            "visibility": null,
            "align_self": null,
            "height": null,
            "min_height": null,
            "padding": null,
            "grid_auto_rows": null,
            "grid_gap": null,
            "max_width": null,
            "order": null,
            "_view_module_version": "1.2.0",
            "grid_template_areas": null,
            "object_position": null,
            "object_fit": null,
            "grid_auto_columns": null,
            "margin": null,
            "display": null,
            "left": null
          }
        },
        "5ee5b4297ee14cac855c57b26a119dba": {
          "model_module": "@jupyter-widgets/controls",
          "model_name": "FloatProgressModel",
          "state": {
            "_view_name": "ProgressView",
            "style": "IPY_MODEL_939d0abc2c224f1bb5d26a7d22394196",
            "_dom_classes": [],
            "description": "100%",
            "_model_name": "FloatProgressModel",
            "bar_style": "success",
            "max": 121,
            "_view_module": "@jupyter-widgets/controls",
            "_model_module_version": "1.5.0",
            "value": 121,
            "_view_count": null,
            "_view_module_version": "1.5.0",
            "orientation": "horizontal",
            "min": 0,
            "description_tooltip": null,
            "_model_module": "@jupyter-widgets/controls",
            "layout": "IPY_MODEL_43eb7ada4e054eb6b95a57b23e2aa31b"
          }
        },
        "aa18d0f6e9974cc29996b26bf53daef2": {
          "model_module": "@jupyter-widgets/controls",
          "model_name": "HTMLModel",
          "state": {
            "_view_name": "HTMLView",
            "style": "IPY_MODEL_de9e120933e74398bcc3231a2634f2cf",
            "_dom_classes": [],
            "description": "",
            "_model_name": "HTMLModel",
            "placeholder": "​",
            "_view_module": "@jupyter-widgets/controls",
            "_model_module_version": "1.5.0",
            "value": " 121/121 [00:52&lt;00:00,  2.31it/s]",
            "_view_count": null,
            "_view_module_version": "1.5.0",
            "description_tooltip": null,
            "_model_module": "@jupyter-widgets/controls",
            "layout": "IPY_MODEL_7a1733c4ab40424485de3d4e0afca7c4"
          }
        },
        "939d0abc2c224f1bb5d26a7d22394196": {
          "model_module": "@jupyter-widgets/controls",
          "model_name": "ProgressStyleModel",
          "state": {
            "_view_name": "StyleView",
            "_model_name": "ProgressStyleModel",
            "description_width": "initial",
            "_view_module": "@jupyter-widgets/base",
            "_model_module_version": "1.5.0",
            "_view_count": null,
            "_view_module_version": "1.2.0",
            "bar_color": null,
            "_model_module": "@jupyter-widgets/controls"
          }
        },
        "43eb7ada4e054eb6b95a57b23e2aa31b": {
          "model_module": "@jupyter-widgets/base",
          "model_name": "LayoutModel",
          "state": {
            "_view_name": "LayoutView",
            "grid_template_rows": null,
            "right": null,
            "justify_content": null,
            "_view_module": "@jupyter-widgets/base",
            "overflow": null,
            "_model_module_version": "1.2.0",
            "_view_count": null,
            "flex_flow": null,
            "width": null,
            "min_width": null,
            "border": null,
            "align_items": null,
            "bottom": null,
            "_model_module": "@jupyter-widgets/base",
            "top": null,
            "grid_column": null,
            "overflow_y": null,
            "overflow_x": null,
            "grid_auto_flow": null,
            "grid_area": null,
            "grid_template_columns": null,
            "flex": null,
            "_model_name": "LayoutModel",
            "justify_items": null,
            "grid_row": null,
            "max_height": null,
            "align_content": null,
            "visibility": null,
            "align_self": null,
            "height": null,
            "min_height": null,
            "padding": null,
            "grid_auto_rows": null,
            "grid_gap": null,
            "max_width": null,
            "order": null,
            "_view_module_version": "1.2.0",
            "grid_template_areas": null,
            "object_position": null,
            "object_fit": null,
            "grid_auto_columns": null,
            "margin": null,
            "display": null,
            "left": null
          }
        },
        "de9e120933e74398bcc3231a2634f2cf": {
          "model_module": "@jupyter-widgets/controls",
          "model_name": "DescriptionStyleModel",
          "state": {
            "_view_name": "StyleView",
            "_model_name": "DescriptionStyleModel",
            "description_width": "",
            "_view_module": "@jupyter-widgets/base",
            "_model_module_version": "1.5.0",
            "_view_count": null,
            "_view_module_version": "1.2.0",
            "_model_module": "@jupyter-widgets/controls"
          }
        },
        "7a1733c4ab40424485de3d4e0afca7c4": {
          "model_module": "@jupyter-widgets/base",
          "model_name": "LayoutModel",
          "state": {
            "_view_name": "LayoutView",
            "grid_template_rows": null,
            "right": null,
            "justify_content": null,
            "_view_module": "@jupyter-widgets/base",
            "overflow": null,
            "_model_module_version": "1.2.0",
            "_view_count": null,
            "flex_flow": null,
            "width": null,
            "min_width": null,
            "border": null,
            "align_items": null,
            "bottom": null,
            "_model_module": "@jupyter-widgets/base",
            "top": null,
            "grid_column": null,
            "overflow_y": null,
            "overflow_x": null,
            "grid_auto_flow": null,
            "grid_area": null,
            "grid_template_columns": null,
            "flex": null,
            "_model_name": "LayoutModel",
            "justify_items": null,
            "grid_row": null,
            "max_height": null,
            "align_content": null,
            "visibility": null,
            "align_self": null,
            "height": null,
            "min_height": null,
            "padding": null,
            "grid_auto_rows": null,
            "grid_gap": null,
            "max_width": null,
            "order": null,
            "_view_module_version": "1.2.0",
            "grid_template_areas": null,
            "object_position": null,
            "object_fit": null,
            "grid_auto_columns": null,
            "margin": null,
            "display": null,
            "left": null
          }
        },
        "3a0e447f40074115a07154ed6d276683": {
          "model_module": "@jupyter-widgets/controls",
          "model_name": "HBoxModel",
          "state": {
            "_view_name": "HBoxView",
            "_dom_classes": [],
            "_model_name": "HBoxModel",
            "_view_module": "@jupyter-widgets/controls",
            "_model_module_version": "1.5.0",
            "_view_count": null,
            "_view_module_version": "1.5.0",
            "box_style": "",
            "layout": "IPY_MODEL_ecb268695c3e42c583509e0e7d341002",
            "_model_module": "@jupyter-widgets/controls",
            "children": [
              "IPY_MODEL_401bf6455e954c7db334bd8845b5152d",
              "IPY_MODEL_dacd994947aa4e1786cb5a1b62eb5b98"
            ]
          }
        },
        "ecb268695c3e42c583509e0e7d341002": {
          "model_module": "@jupyter-widgets/base",
          "model_name": "LayoutModel",
          "state": {
            "_view_name": "LayoutView",
            "grid_template_rows": null,
            "right": null,
            "justify_content": null,
            "_view_module": "@jupyter-widgets/base",
            "overflow": null,
            "_model_module_version": "1.2.0",
            "_view_count": null,
            "flex_flow": null,
            "width": null,
            "min_width": null,
            "border": null,
            "align_items": null,
            "bottom": null,
            "_model_module": "@jupyter-widgets/base",
            "top": null,
            "grid_column": null,
            "overflow_y": null,
            "overflow_x": null,
            "grid_auto_flow": null,
            "grid_area": null,
            "grid_template_columns": null,
            "flex": null,
            "_model_name": "LayoutModel",
            "justify_items": null,
            "grid_row": null,
            "max_height": null,
            "align_content": null,
            "visibility": null,
            "align_self": null,
            "height": null,
            "min_height": null,
            "padding": null,
            "grid_auto_rows": null,
            "grid_gap": null,
            "max_width": null,
            "order": null,
            "_view_module_version": "1.2.0",
            "grid_template_areas": null,
            "object_position": null,
            "object_fit": null,
            "grid_auto_columns": null,
            "margin": null,
            "display": null,
            "left": null
          }
        },
        "401bf6455e954c7db334bd8845b5152d": {
          "model_module": "@jupyter-widgets/controls",
          "model_name": "FloatProgressModel",
          "state": {
            "_view_name": "ProgressView",
            "style": "IPY_MODEL_28ac2eeae59044509816a2deefcd244d",
            "_dom_classes": [],
            "description": "100%",
            "_model_name": "FloatProgressModel",
            "bar_style": "success",
            "max": 34,
            "_view_module": "@jupyter-widgets/controls",
            "_model_module_version": "1.5.0",
            "value": 34,
            "_view_count": null,
            "_view_module_version": "1.5.0",
            "orientation": "horizontal",
            "min": 0,
            "description_tooltip": null,
            "_model_module": "@jupyter-widgets/controls",
            "layout": "IPY_MODEL_86c41033779b46b08d07f3e9d6ef47ca"
          }
        },
        "dacd994947aa4e1786cb5a1b62eb5b98": {
          "model_module": "@jupyter-widgets/controls",
          "model_name": "HTMLModel",
          "state": {
            "_view_name": "HTMLView",
            "style": "IPY_MODEL_acf1c2e84dc2412ba5e896e032ec375a",
            "_dom_classes": [],
            "description": "",
            "_model_name": "HTMLModel",
            "placeholder": "​",
            "_view_module": "@jupyter-widgets/controls",
            "_model_module_version": "1.5.0",
            "value": " 34/34 [00:36&lt;00:00,  1.07s/it]",
            "_view_count": null,
            "_view_module_version": "1.5.0",
            "description_tooltip": null,
            "_model_module": "@jupyter-widgets/controls",
            "layout": "IPY_MODEL_64a34bf4d9cc45cc8775b5afe44ce778"
          }
        },
        "28ac2eeae59044509816a2deefcd244d": {
          "model_module": "@jupyter-widgets/controls",
          "model_name": "ProgressStyleModel",
          "state": {
            "_view_name": "StyleView",
            "_model_name": "ProgressStyleModel",
            "description_width": "initial",
            "_view_module": "@jupyter-widgets/base",
            "_model_module_version": "1.5.0",
            "_view_count": null,
            "_view_module_version": "1.2.0",
            "bar_color": null,
            "_model_module": "@jupyter-widgets/controls"
          }
        },
        "86c41033779b46b08d07f3e9d6ef47ca": {
          "model_module": "@jupyter-widgets/base",
          "model_name": "LayoutModel",
          "state": {
            "_view_name": "LayoutView",
            "grid_template_rows": null,
            "right": null,
            "justify_content": null,
            "_view_module": "@jupyter-widgets/base",
            "overflow": null,
            "_model_module_version": "1.2.0",
            "_view_count": null,
            "flex_flow": null,
            "width": null,
            "min_width": null,
            "border": null,
            "align_items": null,
            "bottom": null,
            "_model_module": "@jupyter-widgets/base",
            "top": null,
            "grid_column": null,
            "overflow_y": null,
            "overflow_x": null,
            "grid_auto_flow": null,
            "grid_area": null,
            "grid_template_columns": null,
            "flex": null,
            "_model_name": "LayoutModel",
            "justify_items": null,
            "grid_row": null,
            "max_height": null,
            "align_content": null,
            "visibility": null,
            "align_self": null,
            "height": null,
            "min_height": null,
            "padding": null,
            "grid_auto_rows": null,
            "grid_gap": null,
            "max_width": null,
            "order": null,
            "_view_module_version": "1.2.0",
            "grid_template_areas": null,
            "object_position": null,
            "object_fit": null,
            "grid_auto_columns": null,
            "margin": null,
            "display": null,
            "left": null
          }
        },
        "acf1c2e84dc2412ba5e896e032ec375a": {
          "model_module": "@jupyter-widgets/controls",
          "model_name": "DescriptionStyleModel",
          "state": {
            "_view_name": "StyleView",
            "_model_name": "DescriptionStyleModel",
            "description_width": "",
            "_view_module": "@jupyter-widgets/base",
            "_model_module_version": "1.5.0",
            "_view_count": null,
            "_view_module_version": "1.2.0",
            "_model_module": "@jupyter-widgets/controls"
          }
        },
        "64a34bf4d9cc45cc8775b5afe44ce778": {
          "model_module": "@jupyter-widgets/base",
          "model_name": "LayoutModel",
          "state": {
            "_view_name": "LayoutView",
            "grid_template_rows": null,
            "right": null,
            "justify_content": null,
            "_view_module": "@jupyter-widgets/base",
            "overflow": null,
            "_model_module_version": "1.2.0",
            "_view_count": null,
            "flex_flow": null,
            "width": null,
            "min_width": null,
            "border": null,
            "align_items": null,
            "bottom": null,
            "_model_module": "@jupyter-widgets/base",
            "top": null,
            "grid_column": null,
            "overflow_y": null,
            "overflow_x": null,
            "grid_auto_flow": null,
            "grid_area": null,
            "grid_template_columns": null,
            "flex": null,
            "_model_name": "LayoutModel",
            "justify_items": null,
            "grid_row": null,
            "max_height": null,
            "align_content": null,
            "visibility": null,
            "align_self": null,
            "height": null,
            "min_height": null,
            "padding": null,
            "grid_auto_rows": null,
            "grid_gap": null,
            "max_width": null,
            "order": null,
            "_view_module_version": "1.2.0",
            "grid_template_areas": null,
            "object_position": null,
            "object_fit": null,
            "grid_auto_columns": null,
            "margin": null,
            "display": null,
            "left": null
          }
        },
        "6c7cd1b37a244abfa7143006a42da4f0": {
          "model_module": "@jupyter-widgets/controls",
          "model_name": "HBoxModel",
          "state": {
            "_view_name": "HBoxView",
            "_dom_classes": [],
            "_model_name": "HBoxModel",
            "_view_module": "@jupyter-widgets/controls",
            "_model_module_version": "1.5.0",
            "_view_count": null,
            "_view_module_version": "1.5.0",
            "box_style": "",
            "layout": "IPY_MODEL_8894204c95a845c48f92541d9d27896d",
            "_model_module": "@jupyter-widgets/controls",
            "children": [
              "IPY_MODEL_cbd9d90ede784adeba7fa50900ec20eb",
              "IPY_MODEL_5e43aa2dfa394ef6a80ddbe7ab3cbd4b"
            ]
          }
        },
        "8894204c95a845c48f92541d9d27896d": {
          "model_module": "@jupyter-widgets/base",
          "model_name": "LayoutModel",
          "state": {
            "_view_name": "LayoutView",
            "grid_template_rows": null,
            "right": null,
            "justify_content": null,
            "_view_module": "@jupyter-widgets/base",
            "overflow": null,
            "_model_module_version": "1.2.0",
            "_view_count": null,
            "flex_flow": null,
            "width": null,
            "min_width": null,
            "border": null,
            "align_items": null,
            "bottom": null,
            "_model_module": "@jupyter-widgets/base",
            "top": null,
            "grid_column": null,
            "overflow_y": null,
            "overflow_x": null,
            "grid_auto_flow": null,
            "grid_area": null,
            "grid_template_columns": null,
            "flex": null,
            "_model_name": "LayoutModel",
            "justify_items": null,
            "grid_row": null,
            "max_height": null,
            "align_content": null,
            "visibility": null,
            "align_self": null,
            "height": null,
            "min_height": null,
            "padding": null,
            "grid_auto_rows": null,
            "grid_gap": null,
            "max_width": null,
            "order": null,
            "_view_module_version": "1.2.0",
            "grid_template_areas": null,
            "object_position": null,
            "object_fit": null,
            "grid_auto_columns": null,
            "margin": null,
            "display": null,
            "left": null
          }
        },
        "cbd9d90ede784adeba7fa50900ec20eb": {
          "model_module": "@jupyter-widgets/controls",
          "model_name": "FloatProgressModel",
          "state": {
            "_view_name": "ProgressView",
            "style": "IPY_MODEL_c4a7cfb92baf4c3db254792d65b5dffb",
            "_dom_classes": [],
            "description": "100%",
            "_model_name": "FloatProgressModel",
            "bar_style": "success",
            "max": 26,
            "_view_module": "@jupyter-widgets/controls",
            "_model_module_version": "1.5.0",
            "value": 26,
            "_view_count": null,
            "_view_module_version": "1.5.0",
            "orientation": "horizontal",
            "min": 0,
            "description_tooltip": null,
            "_model_module": "@jupyter-widgets/controls",
            "layout": "IPY_MODEL_a7217d311e184b76b3445ed05d7f55bf"
          }
        },
        "5e43aa2dfa394ef6a80ddbe7ab3cbd4b": {
          "model_module": "@jupyter-widgets/controls",
          "model_name": "HTMLModel",
          "state": {
            "_view_name": "HTMLView",
            "style": "IPY_MODEL_7d0642b364754e61bc53aeafeb82d366",
            "_dom_classes": [],
            "description": "",
            "_model_name": "HTMLModel",
            "placeholder": "​",
            "_view_module": "@jupyter-widgets/controls",
            "_model_module_version": "1.5.0",
            "value": " 26/26 [00:32&lt;00:00,  1.23s/it]",
            "_view_count": null,
            "_view_module_version": "1.5.0",
            "description_tooltip": null,
            "_model_module": "@jupyter-widgets/controls",
            "layout": "IPY_MODEL_ab09ca8f2b2547b5b11be2bbe8972c95"
          }
        },
        "c4a7cfb92baf4c3db254792d65b5dffb": {
          "model_module": "@jupyter-widgets/controls",
          "model_name": "ProgressStyleModel",
          "state": {
            "_view_name": "StyleView",
            "_model_name": "ProgressStyleModel",
            "description_width": "initial",
            "_view_module": "@jupyter-widgets/base",
            "_model_module_version": "1.5.0",
            "_view_count": null,
            "_view_module_version": "1.2.0",
            "bar_color": null,
            "_model_module": "@jupyter-widgets/controls"
          }
        },
        "a7217d311e184b76b3445ed05d7f55bf": {
          "model_module": "@jupyter-widgets/base",
          "model_name": "LayoutModel",
          "state": {
            "_view_name": "LayoutView",
            "grid_template_rows": null,
            "right": null,
            "justify_content": null,
            "_view_module": "@jupyter-widgets/base",
            "overflow": null,
            "_model_module_version": "1.2.0",
            "_view_count": null,
            "flex_flow": null,
            "width": null,
            "min_width": null,
            "border": null,
            "align_items": null,
            "bottom": null,
            "_model_module": "@jupyter-widgets/base",
            "top": null,
            "grid_column": null,
            "overflow_y": null,
            "overflow_x": null,
            "grid_auto_flow": null,
            "grid_area": null,
            "grid_template_columns": null,
            "flex": null,
            "_model_name": "LayoutModel",
            "justify_items": null,
            "grid_row": null,
            "max_height": null,
            "align_content": null,
            "visibility": null,
            "align_self": null,
            "height": null,
            "min_height": null,
            "padding": null,
            "grid_auto_rows": null,
            "grid_gap": null,
            "max_width": null,
            "order": null,
            "_view_module_version": "1.2.0",
            "grid_template_areas": null,
            "object_position": null,
            "object_fit": null,
            "grid_auto_columns": null,
            "margin": null,
            "display": null,
            "left": null
          }
        },
        "7d0642b364754e61bc53aeafeb82d366": {
          "model_module": "@jupyter-widgets/controls",
          "model_name": "DescriptionStyleModel",
          "state": {
            "_view_name": "StyleView",
            "_model_name": "DescriptionStyleModel",
            "description_width": "",
            "_view_module": "@jupyter-widgets/base",
            "_model_module_version": "1.5.0",
            "_view_count": null,
            "_view_module_version": "1.2.0",
            "_model_module": "@jupyter-widgets/controls"
          }
        },
        "ab09ca8f2b2547b5b11be2bbe8972c95": {
          "model_module": "@jupyter-widgets/base",
          "model_name": "LayoutModel",
          "state": {
            "_view_name": "LayoutView",
            "grid_template_rows": null,
            "right": null,
            "justify_content": null,
            "_view_module": "@jupyter-widgets/base",
            "overflow": null,
            "_model_module_version": "1.2.0",
            "_view_count": null,
            "flex_flow": null,
            "width": null,
            "min_width": null,
            "border": null,
            "align_items": null,
            "bottom": null,
            "_model_module": "@jupyter-widgets/base",
            "top": null,
            "grid_column": null,
            "overflow_y": null,
            "overflow_x": null,
            "grid_auto_flow": null,
            "grid_area": null,
            "grid_template_columns": null,
            "flex": null,
            "_model_name": "LayoutModel",
            "justify_items": null,
            "grid_row": null,
            "max_height": null,
            "align_content": null,
            "visibility": null,
            "align_self": null,
            "height": null,
            "min_height": null,
            "padding": null,
            "grid_auto_rows": null,
            "grid_gap": null,
            "max_width": null,
            "order": null,
            "_view_module_version": "1.2.0",
            "grid_template_areas": null,
            "object_position": null,
            "object_fit": null,
            "grid_auto_columns": null,
            "margin": null,
            "display": null,
            "left": null
          }
        },
        "8ab6967ae56844efb209483e93bf0666": {
          "model_module": "@jupyter-widgets/controls",
          "model_name": "HBoxModel",
          "state": {
            "_view_name": "HBoxView",
            "_dom_classes": [],
            "_model_name": "HBoxModel",
            "_view_module": "@jupyter-widgets/controls",
            "_model_module_version": "1.5.0",
            "_view_count": null,
            "_view_module_version": "1.5.0",
            "box_style": "",
            "layout": "IPY_MODEL_a043d79328814721b5f02e0a4e014929",
            "_model_module": "@jupyter-widgets/controls",
            "children": [
              "IPY_MODEL_c64101a34c694361ad3471aa091e0ea8",
              "IPY_MODEL_8a496f42606e49c6aed7e28316dc8e63"
            ]
          }
        },
        "a043d79328814721b5f02e0a4e014929": {
          "model_module": "@jupyter-widgets/base",
          "model_name": "LayoutModel",
          "state": {
            "_view_name": "LayoutView",
            "grid_template_rows": null,
            "right": null,
            "justify_content": null,
            "_view_module": "@jupyter-widgets/base",
            "overflow": null,
            "_model_module_version": "1.2.0",
            "_view_count": null,
            "flex_flow": null,
            "width": null,
            "min_width": null,
            "border": null,
            "align_items": null,
            "bottom": null,
            "_model_module": "@jupyter-widgets/base",
            "top": null,
            "grid_column": null,
            "overflow_y": null,
            "overflow_x": null,
            "grid_auto_flow": null,
            "grid_area": null,
            "grid_template_columns": null,
            "flex": null,
            "_model_name": "LayoutModel",
            "justify_items": null,
            "grid_row": null,
            "max_height": null,
            "align_content": null,
            "visibility": null,
            "align_self": null,
            "height": null,
            "min_height": null,
            "padding": null,
            "grid_auto_rows": null,
            "grid_gap": null,
            "max_width": null,
            "order": null,
            "_view_module_version": "1.2.0",
            "grid_template_areas": null,
            "object_position": null,
            "object_fit": null,
            "grid_auto_columns": null,
            "margin": null,
            "display": null,
            "left": null
          }
        },
        "c64101a34c694361ad3471aa091e0ea8": {
          "model_module": "@jupyter-widgets/controls",
          "model_name": "FloatProgressModel",
          "state": {
            "_view_name": "ProgressView",
            "style": "IPY_MODEL_399236c2920f465c846ffb032ee03b1c",
            "_dom_classes": [],
            "description": "100%",
            "_model_name": "FloatProgressModel",
            "bar_style": "success",
            "max": 116,
            "_view_module": "@jupyter-widgets/controls",
            "_model_module_version": "1.5.0",
            "value": 116,
            "_view_count": null,
            "_view_module_version": "1.5.0",
            "orientation": "horizontal",
            "min": 0,
            "description_tooltip": null,
            "_model_module": "@jupyter-widgets/controls",
            "layout": "IPY_MODEL_e985409a817d48cc882b8126d844a129"
          }
        },
        "8a496f42606e49c6aed7e28316dc8e63": {
          "model_module": "@jupyter-widgets/controls",
          "model_name": "HTMLModel",
          "state": {
            "_view_name": "HTMLView",
            "style": "IPY_MODEL_67dd6deb1cca4b34bc320a61d772ec04",
            "_dom_classes": [],
            "description": "",
            "_model_name": "HTMLModel",
            "placeholder": "​",
            "_view_module": "@jupyter-widgets/controls",
            "_model_module_version": "1.5.0",
            "value": " 116/116 [00:30&lt;00:00,  3.79it/s]",
            "_view_count": null,
            "_view_module_version": "1.5.0",
            "description_tooltip": null,
            "_model_module": "@jupyter-widgets/controls",
            "layout": "IPY_MODEL_60b0d6cdb2f64807825ceee27d2ae2f4"
          }
        },
        "399236c2920f465c846ffb032ee03b1c": {
          "model_module": "@jupyter-widgets/controls",
          "model_name": "ProgressStyleModel",
          "state": {
            "_view_name": "StyleView",
            "_model_name": "ProgressStyleModel",
            "description_width": "initial",
            "_view_module": "@jupyter-widgets/base",
            "_model_module_version": "1.5.0",
            "_view_count": null,
            "_view_module_version": "1.2.0",
            "bar_color": null,
            "_model_module": "@jupyter-widgets/controls"
          }
        },
        "e985409a817d48cc882b8126d844a129": {
          "model_module": "@jupyter-widgets/base",
          "model_name": "LayoutModel",
          "state": {
            "_view_name": "LayoutView",
            "grid_template_rows": null,
            "right": null,
            "justify_content": null,
            "_view_module": "@jupyter-widgets/base",
            "overflow": null,
            "_model_module_version": "1.2.0",
            "_view_count": null,
            "flex_flow": null,
            "width": null,
            "min_width": null,
            "border": null,
            "align_items": null,
            "bottom": null,
            "_model_module": "@jupyter-widgets/base",
            "top": null,
            "grid_column": null,
            "overflow_y": null,
            "overflow_x": null,
            "grid_auto_flow": null,
            "grid_area": null,
            "grid_template_columns": null,
            "flex": null,
            "_model_name": "LayoutModel",
            "justify_items": null,
            "grid_row": null,
            "max_height": null,
            "align_content": null,
            "visibility": null,
            "align_self": null,
            "height": null,
            "min_height": null,
            "padding": null,
            "grid_auto_rows": null,
            "grid_gap": null,
            "max_width": null,
            "order": null,
            "_view_module_version": "1.2.0",
            "grid_template_areas": null,
            "object_position": null,
            "object_fit": null,
            "grid_auto_columns": null,
            "margin": null,
            "display": null,
            "left": null
          }
        },
        "67dd6deb1cca4b34bc320a61d772ec04": {
          "model_module": "@jupyter-widgets/controls",
          "model_name": "DescriptionStyleModel",
          "state": {
            "_view_name": "StyleView",
            "_model_name": "DescriptionStyleModel",
            "description_width": "",
            "_view_module": "@jupyter-widgets/base",
            "_model_module_version": "1.5.0",
            "_view_count": null,
            "_view_module_version": "1.2.0",
            "_model_module": "@jupyter-widgets/controls"
          }
        },
        "60b0d6cdb2f64807825ceee27d2ae2f4": {
          "model_module": "@jupyter-widgets/base",
          "model_name": "LayoutModel",
          "state": {
            "_view_name": "LayoutView",
            "grid_template_rows": null,
            "right": null,
            "justify_content": null,
            "_view_module": "@jupyter-widgets/base",
            "overflow": null,
            "_model_module_version": "1.2.0",
            "_view_count": null,
            "flex_flow": null,
            "width": null,
            "min_width": null,
            "border": null,
            "align_items": null,
            "bottom": null,
            "_model_module": "@jupyter-widgets/base",
            "top": null,
            "grid_column": null,
            "overflow_y": null,
            "overflow_x": null,
            "grid_auto_flow": null,
            "grid_area": null,
            "grid_template_columns": null,
            "flex": null,
            "_model_name": "LayoutModel",
            "justify_items": null,
            "grid_row": null,
            "max_height": null,
            "align_content": null,
            "visibility": null,
            "align_self": null,
            "height": null,
            "min_height": null,
            "padding": null,
            "grid_auto_rows": null,
            "grid_gap": null,
            "max_width": null,
            "order": null,
            "_view_module_version": "1.2.0",
            "grid_template_areas": null,
            "object_position": null,
            "object_fit": null,
            "grid_auto_columns": null,
            "margin": null,
            "display": null,
            "left": null
          }
        },
        "efa4484aec5e4f7b904ef4c6b5528b8f": {
          "model_module": "@jupyter-widgets/controls",
          "model_name": "HBoxModel",
          "state": {
            "_view_name": "HBoxView",
            "_dom_classes": [],
            "_model_name": "HBoxModel",
            "_view_module": "@jupyter-widgets/controls",
            "_model_module_version": "1.5.0",
            "_view_count": null,
            "_view_module_version": "1.5.0",
            "box_style": "",
            "layout": "IPY_MODEL_1b7adcff3f8e4f4db6649a1845989285",
            "_model_module": "@jupyter-widgets/controls",
            "children": [
              "IPY_MODEL_8c686fac1805421195ac0a281a141add",
              "IPY_MODEL_3c4d44c090d344d58d1aca6f2292fd68"
            ]
          }
        },
        "1b7adcff3f8e4f4db6649a1845989285": {
          "model_module": "@jupyter-widgets/base",
          "model_name": "LayoutModel",
          "state": {
            "_view_name": "LayoutView",
            "grid_template_rows": null,
            "right": null,
            "justify_content": null,
            "_view_module": "@jupyter-widgets/base",
            "overflow": null,
            "_model_module_version": "1.2.0",
            "_view_count": null,
            "flex_flow": null,
            "width": null,
            "min_width": null,
            "border": null,
            "align_items": null,
            "bottom": null,
            "_model_module": "@jupyter-widgets/base",
            "top": null,
            "grid_column": null,
            "overflow_y": null,
            "overflow_x": null,
            "grid_auto_flow": null,
            "grid_area": null,
            "grid_template_columns": null,
            "flex": null,
            "_model_name": "LayoutModel",
            "justify_items": null,
            "grid_row": null,
            "max_height": null,
            "align_content": null,
            "visibility": null,
            "align_self": null,
            "height": null,
            "min_height": null,
            "padding": null,
            "grid_auto_rows": null,
            "grid_gap": null,
            "max_width": null,
            "order": null,
            "_view_module_version": "1.2.0",
            "grid_template_areas": null,
            "object_position": null,
            "object_fit": null,
            "grid_auto_columns": null,
            "margin": null,
            "display": null,
            "left": null
          }
        },
        "8c686fac1805421195ac0a281a141add": {
          "model_module": "@jupyter-widgets/controls",
          "model_name": "FloatProgressModel",
          "state": {
            "_view_name": "ProgressView",
            "style": "IPY_MODEL_93ef93494bc24bad96d6f38f00479cb6",
            "_dom_classes": [],
            "description": "100%",
            "_model_name": "FloatProgressModel",
            "bar_style": "success",
            "max": 138,
            "_view_module": "@jupyter-widgets/controls",
            "_model_module_version": "1.5.0",
            "value": 138,
            "_view_count": null,
            "_view_module_version": "1.5.0",
            "orientation": "horizontal",
            "min": 0,
            "description_tooltip": null,
            "_model_module": "@jupyter-widgets/controls",
            "layout": "IPY_MODEL_4dc3b12c10ac40bbbfe74493b45a7b20"
          }
        },
        "3c4d44c090d344d58d1aca6f2292fd68": {
          "model_module": "@jupyter-widgets/controls",
          "model_name": "HTMLModel",
          "state": {
            "_view_name": "HTMLView",
            "style": "IPY_MODEL_d789cd71a3d84477b2fe6908282d90d4",
            "_dom_classes": [],
            "description": "",
            "_model_name": "HTMLModel",
            "placeholder": "​",
            "_view_module": "@jupyter-widgets/controls",
            "_model_module_version": "1.5.0",
            "value": " 138/138 [17:11&lt;00:00,  7.48s/it]",
            "_view_count": null,
            "_view_module_version": "1.5.0",
            "description_tooltip": null,
            "_model_module": "@jupyter-widgets/controls",
            "layout": "IPY_MODEL_ea8a1a764b804914998bb2d03a1818d2"
          }
        },
        "93ef93494bc24bad96d6f38f00479cb6": {
          "model_module": "@jupyter-widgets/controls",
          "model_name": "ProgressStyleModel",
          "state": {
            "_view_name": "StyleView",
            "_model_name": "ProgressStyleModel",
            "description_width": "initial",
            "_view_module": "@jupyter-widgets/base",
            "_model_module_version": "1.5.0",
            "_view_count": null,
            "_view_module_version": "1.2.0",
            "bar_color": null,
            "_model_module": "@jupyter-widgets/controls"
          }
        },
        "4dc3b12c10ac40bbbfe74493b45a7b20": {
          "model_module": "@jupyter-widgets/base",
          "model_name": "LayoutModel",
          "state": {
            "_view_name": "LayoutView",
            "grid_template_rows": null,
            "right": null,
            "justify_content": null,
            "_view_module": "@jupyter-widgets/base",
            "overflow": null,
            "_model_module_version": "1.2.0",
            "_view_count": null,
            "flex_flow": null,
            "width": null,
            "min_width": null,
            "border": null,
            "align_items": null,
            "bottom": null,
            "_model_module": "@jupyter-widgets/base",
            "top": null,
            "grid_column": null,
            "overflow_y": null,
            "overflow_x": null,
            "grid_auto_flow": null,
            "grid_area": null,
            "grid_template_columns": null,
            "flex": null,
            "_model_name": "LayoutModel",
            "justify_items": null,
            "grid_row": null,
            "max_height": null,
            "align_content": null,
            "visibility": null,
            "align_self": null,
            "height": null,
            "min_height": null,
            "padding": null,
            "grid_auto_rows": null,
            "grid_gap": null,
            "max_width": null,
            "order": null,
            "_view_module_version": "1.2.0",
            "grid_template_areas": null,
            "object_position": null,
            "object_fit": null,
            "grid_auto_columns": null,
            "margin": null,
            "display": null,
            "left": null
          }
        },
        "d789cd71a3d84477b2fe6908282d90d4": {
          "model_module": "@jupyter-widgets/controls",
          "model_name": "DescriptionStyleModel",
          "state": {
            "_view_name": "StyleView",
            "_model_name": "DescriptionStyleModel",
            "description_width": "",
            "_view_module": "@jupyter-widgets/base",
            "_model_module_version": "1.5.0",
            "_view_count": null,
            "_view_module_version": "1.2.0",
            "_model_module": "@jupyter-widgets/controls"
          }
        },
        "ea8a1a764b804914998bb2d03a1818d2": {
          "model_module": "@jupyter-widgets/base",
          "model_name": "LayoutModel",
          "state": {
            "_view_name": "LayoutView",
            "grid_template_rows": null,
            "right": null,
            "justify_content": null,
            "_view_module": "@jupyter-widgets/base",
            "overflow": null,
            "_model_module_version": "1.2.0",
            "_view_count": null,
            "flex_flow": null,
            "width": null,
            "min_width": null,
            "border": null,
            "align_items": null,
            "bottom": null,
            "_model_module": "@jupyter-widgets/base",
            "top": null,
            "grid_column": null,
            "overflow_y": null,
            "overflow_x": null,
            "grid_auto_flow": null,
            "grid_area": null,
            "grid_template_columns": null,
            "flex": null,
            "_model_name": "LayoutModel",
            "justify_items": null,
            "grid_row": null,
            "max_height": null,
            "align_content": null,
            "visibility": null,
            "align_self": null,
            "height": null,
            "min_height": null,
            "padding": null,
            "grid_auto_rows": null,
            "grid_gap": null,
            "max_width": null,
            "order": null,
            "_view_module_version": "1.2.0",
            "grid_template_areas": null,
            "object_position": null,
            "object_fit": null,
            "grid_auto_columns": null,
            "margin": null,
            "display": null,
            "left": null
          }
        },
        "9ee716bcbc1944269ae9145a095f57bd": {
          "model_module": "@jupyter-widgets/controls",
          "model_name": "HBoxModel",
          "state": {
            "_view_name": "HBoxView",
            "_dom_classes": [],
            "_model_name": "HBoxModel",
            "_view_module": "@jupyter-widgets/controls",
            "_model_module_version": "1.5.0",
            "_view_count": null,
            "_view_module_version": "1.5.0",
            "box_style": "",
            "layout": "IPY_MODEL_85e1c8b9471b474f86d10358e8e9a82e",
            "_model_module": "@jupyter-widgets/controls",
            "children": [
              "IPY_MODEL_420a23cbecf34e80946bfdc90b65c7d0",
              "IPY_MODEL_db9e1d7a21d94bf4bff75f87b8400d0e"
            ]
          }
        },
        "85e1c8b9471b474f86d10358e8e9a82e": {
          "model_module": "@jupyter-widgets/base",
          "model_name": "LayoutModel",
          "state": {
            "_view_name": "LayoutView",
            "grid_template_rows": null,
            "right": null,
            "justify_content": null,
            "_view_module": "@jupyter-widgets/base",
            "overflow": null,
            "_model_module_version": "1.2.0",
            "_view_count": null,
            "flex_flow": null,
            "width": null,
            "min_width": null,
            "border": null,
            "align_items": null,
            "bottom": null,
            "_model_module": "@jupyter-widgets/base",
            "top": null,
            "grid_column": null,
            "overflow_y": null,
            "overflow_x": null,
            "grid_auto_flow": null,
            "grid_area": null,
            "grid_template_columns": null,
            "flex": null,
            "_model_name": "LayoutModel",
            "justify_items": null,
            "grid_row": null,
            "max_height": null,
            "align_content": null,
            "visibility": null,
            "align_self": null,
            "height": null,
            "min_height": null,
            "padding": null,
            "grid_auto_rows": null,
            "grid_gap": null,
            "max_width": null,
            "order": null,
            "_view_module_version": "1.2.0",
            "grid_template_areas": null,
            "object_position": null,
            "object_fit": null,
            "grid_auto_columns": null,
            "margin": null,
            "display": null,
            "left": null
          }
        },
        "420a23cbecf34e80946bfdc90b65c7d0": {
          "model_module": "@jupyter-widgets/controls",
          "model_name": "FloatProgressModel",
          "state": {
            "_view_name": "ProgressView",
            "style": "IPY_MODEL_867179dd6a394c5691307e5d5bfced45",
            "_dom_classes": [],
            "description": "100%",
            "_model_name": "FloatProgressModel",
            "bar_style": "success",
            "max": 74,
            "_view_module": "@jupyter-widgets/controls",
            "_model_module_version": "1.5.0",
            "value": 74,
            "_view_count": null,
            "_view_module_version": "1.5.0",
            "orientation": "horizontal",
            "min": 0,
            "description_tooltip": null,
            "_model_module": "@jupyter-widgets/controls",
            "layout": "IPY_MODEL_fce7f9534989430884fc4e5e180e1408"
          }
        },
        "db9e1d7a21d94bf4bff75f87b8400d0e": {
          "model_module": "@jupyter-widgets/controls",
          "model_name": "HTMLModel",
          "state": {
            "_view_name": "HTMLView",
            "style": "IPY_MODEL_97102984e462477a9c362f8a6751d536",
            "_dom_classes": [],
            "description": "",
            "_model_name": "HTMLModel",
            "placeholder": "​",
            "_view_module": "@jupyter-widgets/controls",
            "_model_module_version": "1.5.0",
            "value": " 74/74 [16:32&lt;00:00, 13.41s/it]",
            "_view_count": null,
            "_view_module_version": "1.5.0",
            "description_tooltip": null,
            "_model_module": "@jupyter-widgets/controls",
            "layout": "IPY_MODEL_b4bfdb7efbb44ae2872841ea87800f29"
          }
        },
        "867179dd6a394c5691307e5d5bfced45": {
          "model_module": "@jupyter-widgets/controls",
          "model_name": "ProgressStyleModel",
          "state": {
            "_view_name": "StyleView",
            "_model_name": "ProgressStyleModel",
            "description_width": "initial",
            "_view_module": "@jupyter-widgets/base",
            "_model_module_version": "1.5.0",
            "_view_count": null,
            "_view_module_version": "1.2.0",
            "bar_color": null,
            "_model_module": "@jupyter-widgets/controls"
          }
        },
        "fce7f9534989430884fc4e5e180e1408": {
          "model_module": "@jupyter-widgets/base",
          "model_name": "LayoutModel",
          "state": {
            "_view_name": "LayoutView",
            "grid_template_rows": null,
            "right": null,
            "justify_content": null,
            "_view_module": "@jupyter-widgets/base",
            "overflow": null,
            "_model_module_version": "1.2.0",
            "_view_count": null,
            "flex_flow": null,
            "width": null,
            "min_width": null,
            "border": null,
            "align_items": null,
            "bottom": null,
            "_model_module": "@jupyter-widgets/base",
            "top": null,
            "grid_column": null,
            "overflow_y": null,
            "overflow_x": null,
            "grid_auto_flow": null,
            "grid_area": null,
            "grid_template_columns": null,
            "flex": null,
            "_model_name": "LayoutModel",
            "justify_items": null,
            "grid_row": null,
            "max_height": null,
            "align_content": null,
            "visibility": null,
            "align_self": null,
            "height": null,
            "min_height": null,
            "padding": null,
            "grid_auto_rows": null,
            "grid_gap": null,
            "max_width": null,
            "order": null,
            "_view_module_version": "1.2.0",
            "grid_template_areas": null,
            "object_position": null,
            "object_fit": null,
            "grid_auto_columns": null,
            "margin": null,
            "display": null,
            "left": null
          }
        },
        "97102984e462477a9c362f8a6751d536": {
          "model_module": "@jupyter-widgets/controls",
          "model_name": "DescriptionStyleModel",
          "state": {
            "_view_name": "StyleView",
            "_model_name": "DescriptionStyleModel",
            "description_width": "",
            "_view_module": "@jupyter-widgets/base",
            "_model_module_version": "1.5.0",
            "_view_count": null,
            "_view_module_version": "1.2.0",
            "_model_module": "@jupyter-widgets/controls"
          }
        },
        "b4bfdb7efbb44ae2872841ea87800f29": {
          "model_module": "@jupyter-widgets/base",
          "model_name": "LayoutModel",
          "state": {
            "_view_name": "LayoutView",
            "grid_template_rows": null,
            "right": null,
            "justify_content": null,
            "_view_module": "@jupyter-widgets/base",
            "overflow": null,
            "_model_module_version": "1.2.0",
            "_view_count": null,
            "flex_flow": null,
            "width": null,
            "min_width": null,
            "border": null,
            "align_items": null,
            "bottom": null,
            "_model_module": "@jupyter-widgets/base",
            "top": null,
            "grid_column": null,
            "overflow_y": null,
            "overflow_x": null,
            "grid_auto_flow": null,
            "grid_area": null,
            "grid_template_columns": null,
            "flex": null,
            "_model_name": "LayoutModel",
            "justify_items": null,
            "grid_row": null,
            "max_height": null,
            "align_content": null,
            "visibility": null,
            "align_self": null,
            "height": null,
            "min_height": null,
            "padding": null,
            "grid_auto_rows": null,
            "grid_gap": null,
            "max_width": null,
            "order": null,
            "_view_module_version": "1.2.0",
            "grid_template_areas": null,
            "object_position": null,
            "object_fit": null,
            "grid_auto_columns": null,
            "margin": null,
            "display": null,
            "left": null
          }
        },
        "ff0a653b4ded459482e8f65a202e7d7d": {
          "model_module": "@jupyter-widgets/controls",
          "model_name": "HBoxModel",
          "state": {
            "_view_name": "HBoxView",
            "_dom_classes": [],
            "_model_name": "HBoxModel",
            "_view_module": "@jupyter-widgets/controls",
            "_model_module_version": "1.5.0",
            "_view_count": null,
            "_view_module_version": "1.5.0",
            "box_style": "",
            "layout": "IPY_MODEL_52c12e645993436787892bc12159bdc1",
            "_model_module": "@jupyter-widgets/controls",
            "children": [
              "IPY_MODEL_ce4223635384464c90cd8de72f5659da",
              "IPY_MODEL_2a69bc42002044e0a567b3afcd8b4ba1"
            ]
          }
        },
        "52c12e645993436787892bc12159bdc1": {
          "model_module": "@jupyter-widgets/base",
          "model_name": "LayoutModel",
          "state": {
            "_view_name": "LayoutView",
            "grid_template_rows": null,
            "right": null,
            "justify_content": null,
            "_view_module": "@jupyter-widgets/base",
            "overflow": null,
            "_model_module_version": "1.2.0",
            "_view_count": null,
            "flex_flow": null,
            "width": null,
            "min_width": null,
            "border": null,
            "align_items": null,
            "bottom": null,
            "_model_module": "@jupyter-widgets/base",
            "top": null,
            "grid_column": null,
            "overflow_y": null,
            "overflow_x": null,
            "grid_auto_flow": null,
            "grid_area": null,
            "grid_template_columns": null,
            "flex": null,
            "_model_name": "LayoutModel",
            "justify_items": null,
            "grid_row": null,
            "max_height": null,
            "align_content": null,
            "visibility": null,
            "align_self": null,
            "height": null,
            "min_height": null,
            "padding": null,
            "grid_auto_rows": null,
            "grid_gap": null,
            "max_width": null,
            "order": null,
            "_view_module_version": "1.2.0",
            "grid_template_areas": null,
            "object_position": null,
            "object_fit": null,
            "grid_auto_columns": null,
            "margin": null,
            "display": null,
            "left": null
          }
        },
        "ce4223635384464c90cd8de72f5659da": {
          "model_module": "@jupyter-widgets/controls",
          "model_name": "FloatProgressModel",
          "state": {
            "_view_name": "ProgressView",
            "style": "IPY_MODEL_a5c4474093eb4fe5b40be8c8127e9f19",
            "_dom_classes": [],
            "description": "100%",
            "_model_name": "FloatProgressModel",
            "bar_style": "success",
            "max": 58,
            "_view_module": "@jupyter-widgets/controls",
            "_model_module_version": "1.5.0",
            "value": 58,
            "_view_count": null,
            "_view_module_version": "1.5.0",
            "orientation": "horizontal",
            "min": 0,
            "description_tooltip": null,
            "_model_module": "@jupyter-widgets/controls",
            "layout": "IPY_MODEL_311e3ccf9ff84ce796f4310accb2fe12"
          }
        },
        "2a69bc42002044e0a567b3afcd8b4ba1": {
          "model_module": "@jupyter-widgets/controls",
          "model_name": "HTMLModel",
          "state": {
            "_view_name": "HTMLView",
            "style": "IPY_MODEL_86a07fec701c432284f135b9348fea96",
            "_dom_classes": [],
            "description": "",
            "_model_name": "HTMLModel",
            "placeholder": "​",
            "_view_module": "@jupyter-widgets/controls",
            "_model_module_version": "1.5.0",
            "value": " 58/58 [15:58&lt;00:00, 16.52s/it]",
            "_view_count": null,
            "_view_module_version": "1.5.0",
            "description_tooltip": null,
            "_model_module": "@jupyter-widgets/controls",
            "layout": "IPY_MODEL_62a1158014244b51a934366a8c75876a"
          }
        },
        "a5c4474093eb4fe5b40be8c8127e9f19": {
          "model_module": "@jupyter-widgets/controls",
          "model_name": "ProgressStyleModel",
          "state": {
            "_view_name": "StyleView",
            "_model_name": "ProgressStyleModel",
            "description_width": "initial",
            "_view_module": "@jupyter-widgets/base",
            "_model_module_version": "1.5.0",
            "_view_count": null,
            "_view_module_version": "1.2.0",
            "bar_color": null,
            "_model_module": "@jupyter-widgets/controls"
          }
        },
        "311e3ccf9ff84ce796f4310accb2fe12": {
          "model_module": "@jupyter-widgets/base",
          "model_name": "LayoutModel",
          "state": {
            "_view_name": "LayoutView",
            "grid_template_rows": null,
            "right": null,
            "justify_content": null,
            "_view_module": "@jupyter-widgets/base",
            "overflow": null,
            "_model_module_version": "1.2.0",
            "_view_count": null,
            "flex_flow": null,
            "width": null,
            "min_width": null,
            "border": null,
            "align_items": null,
            "bottom": null,
            "_model_module": "@jupyter-widgets/base",
            "top": null,
            "grid_column": null,
            "overflow_y": null,
            "overflow_x": null,
            "grid_auto_flow": null,
            "grid_area": null,
            "grid_template_columns": null,
            "flex": null,
            "_model_name": "LayoutModel",
            "justify_items": null,
            "grid_row": null,
            "max_height": null,
            "align_content": null,
            "visibility": null,
            "align_self": null,
            "height": null,
            "min_height": null,
            "padding": null,
            "grid_auto_rows": null,
            "grid_gap": null,
            "max_width": null,
            "order": null,
            "_view_module_version": "1.2.0",
            "grid_template_areas": null,
            "object_position": null,
            "object_fit": null,
            "grid_auto_columns": null,
            "margin": null,
            "display": null,
            "left": null
          }
        },
        "86a07fec701c432284f135b9348fea96": {
          "model_module": "@jupyter-widgets/controls",
          "model_name": "DescriptionStyleModel",
          "state": {
            "_view_name": "StyleView",
            "_model_name": "DescriptionStyleModel",
            "description_width": "",
            "_view_module": "@jupyter-widgets/base",
            "_model_module_version": "1.5.0",
            "_view_count": null,
            "_view_module_version": "1.2.0",
            "_model_module": "@jupyter-widgets/controls"
          }
        },
        "62a1158014244b51a934366a8c75876a": {
          "model_module": "@jupyter-widgets/base",
          "model_name": "LayoutModel",
          "state": {
            "_view_name": "LayoutView",
            "grid_template_rows": null,
            "right": null,
            "justify_content": null,
            "_view_module": "@jupyter-widgets/base",
            "overflow": null,
            "_model_module_version": "1.2.0",
            "_view_count": null,
            "flex_flow": null,
            "width": null,
            "min_width": null,
            "border": null,
            "align_items": null,
            "bottom": null,
            "_model_module": "@jupyter-widgets/base",
            "top": null,
            "grid_column": null,
            "overflow_y": null,
            "overflow_x": null,
            "grid_auto_flow": null,
            "grid_area": null,
            "grid_template_columns": null,
            "flex": null,
            "_model_name": "LayoutModel",
            "justify_items": null,
            "grid_row": null,
            "max_height": null,
            "align_content": null,
            "visibility": null,
            "align_self": null,
            "height": null,
            "min_height": null,
            "padding": null,
            "grid_auto_rows": null,
            "grid_gap": null,
            "max_width": null,
            "order": null,
            "_view_module_version": "1.2.0",
            "grid_template_areas": null,
            "object_position": null,
            "object_fit": null,
            "grid_auto_columns": null,
            "margin": null,
            "display": null,
            "left": null
          }
        },
        "9420843b16834075a61c85c1dbb84f9f": {
          "model_module": "@jupyter-widgets/controls",
          "model_name": "HBoxModel",
          "state": {
            "_view_name": "HBoxView",
            "_dom_classes": [],
            "_model_name": "HBoxModel",
            "_view_module": "@jupyter-widgets/controls",
            "_model_module_version": "1.5.0",
            "_view_count": null,
            "_view_module_version": "1.5.0",
            "box_style": "",
            "layout": "IPY_MODEL_efa8373cfc1f4c4593f402ed3afbf3eb",
            "_model_module": "@jupyter-widgets/controls",
            "children": [
              "IPY_MODEL_4e0da210f2cf46c5acf817094c7f1bb4",
              "IPY_MODEL_9fabab938e344bed8efe7a59c990ba4a"
            ]
          }
        },
        "efa8373cfc1f4c4593f402ed3afbf3eb": {
          "model_module": "@jupyter-widgets/base",
          "model_name": "LayoutModel",
          "state": {
            "_view_name": "LayoutView",
            "grid_template_rows": null,
            "right": null,
            "justify_content": null,
            "_view_module": "@jupyter-widgets/base",
            "overflow": null,
            "_model_module_version": "1.2.0",
            "_view_count": null,
            "flex_flow": null,
            "width": null,
            "min_width": null,
            "border": null,
            "align_items": null,
            "bottom": null,
            "_model_module": "@jupyter-widgets/base",
            "top": null,
            "grid_column": null,
            "overflow_y": null,
            "overflow_x": null,
            "grid_auto_flow": null,
            "grid_area": null,
            "grid_template_columns": null,
            "flex": null,
            "_model_name": "LayoutModel",
            "justify_items": null,
            "grid_row": null,
            "max_height": null,
            "align_content": null,
            "visibility": null,
            "align_self": null,
            "height": null,
            "min_height": null,
            "padding": null,
            "grid_auto_rows": null,
            "grid_gap": null,
            "max_width": null,
            "order": null,
            "_view_module_version": "1.2.0",
            "grid_template_areas": null,
            "object_position": null,
            "object_fit": null,
            "grid_auto_columns": null,
            "margin": null,
            "display": null,
            "left": null
          }
        },
        "4e0da210f2cf46c5acf817094c7f1bb4": {
          "model_module": "@jupyter-widgets/controls",
          "model_name": "FloatProgressModel",
          "state": {
            "_view_name": "ProgressView",
            "style": "IPY_MODEL_405d0cbafccd47f9b247651bc6ade8b0",
            "_dom_classes": [],
            "description": "100%",
            "_model_name": "FloatProgressModel",
            "bar_style": "success",
            "max": 29,
            "_view_module": "@jupyter-widgets/controls",
            "_model_module_version": "1.5.0",
            "value": 29,
            "_view_count": null,
            "_view_module_version": "1.5.0",
            "orientation": "horizontal",
            "min": 0,
            "description_tooltip": null,
            "_model_module": "@jupyter-widgets/controls",
            "layout": "IPY_MODEL_cfa6ec9a65b94838af0f5d54945ff753"
          }
        },
        "9fabab938e344bed8efe7a59c990ba4a": {
          "model_module": "@jupyter-widgets/controls",
          "model_name": "HTMLModel",
          "state": {
            "_view_name": "HTMLView",
            "style": "IPY_MODEL_fd43e65610ce4852a501cd27a17c690f",
            "_dom_classes": [],
            "description": "",
            "_model_name": "HTMLModel",
            "placeholder": "​",
            "_view_module": "@jupyter-widgets/controls",
            "_model_module_version": "1.5.0",
            "value": " 29/29 [15:42&lt;00:00, 32.49s/it]",
            "_view_count": null,
            "_view_module_version": "1.5.0",
            "description_tooltip": null,
            "_model_module": "@jupyter-widgets/controls",
            "layout": "IPY_MODEL_26aa1435f77a4e768ac306640b43bb31"
          }
        },
        "405d0cbafccd47f9b247651bc6ade8b0": {
          "model_module": "@jupyter-widgets/controls",
          "model_name": "ProgressStyleModel",
          "state": {
            "_view_name": "StyleView",
            "_model_name": "ProgressStyleModel",
            "description_width": "initial",
            "_view_module": "@jupyter-widgets/base",
            "_model_module_version": "1.5.0",
            "_view_count": null,
            "_view_module_version": "1.2.0",
            "bar_color": null,
            "_model_module": "@jupyter-widgets/controls"
          }
        },
        "cfa6ec9a65b94838af0f5d54945ff753": {
          "model_module": "@jupyter-widgets/base",
          "model_name": "LayoutModel",
          "state": {
            "_view_name": "LayoutView",
            "grid_template_rows": null,
            "right": null,
            "justify_content": null,
            "_view_module": "@jupyter-widgets/base",
            "overflow": null,
            "_model_module_version": "1.2.0",
            "_view_count": null,
            "flex_flow": null,
            "width": null,
            "min_width": null,
            "border": null,
            "align_items": null,
            "bottom": null,
            "_model_module": "@jupyter-widgets/base",
            "top": null,
            "grid_column": null,
            "overflow_y": null,
            "overflow_x": null,
            "grid_auto_flow": null,
            "grid_area": null,
            "grid_template_columns": null,
            "flex": null,
            "_model_name": "LayoutModel",
            "justify_items": null,
            "grid_row": null,
            "max_height": null,
            "align_content": null,
            "visibility": null,
            "align_self": null,
            "height": null,
            "min_height": null,
            "padding": null,
            "grid_auto_rows": null,
            "grid_gap": null,
            "max_width": null,
            "order": null,
            "_view_module_version": "1.2.0",
            "grid_template_areas": null,
            "object_position": null,
            "object_fit": null,
            "grid_auto_columns": null,
            "margin": null,
            "display": null,
            "left": null
          }
        },
        "fd43e65610ce4852a501cd27a17c690f": {
          "model_module": "@jupyter-widgets/controls",
          "model_name": "DescriptionStyleModel",
          "state": {
            "_view_name": "StyleView",
            "_model_name": "DescriptionStyleModel",
            "description_width": "",
            "_view_module": "@jupyter-widgets/base",
            "_model_module_version": "1.5.0",
            "_view_count": null,
            "_view_module_version": "1.2.0",
            "_model_module": "@jupyter-widgets/controls"
          }
        },
        "26aa1435f77a4e768ac306640b43bb31": {
          "model_module": "@jupyter-widgets/base",
          "model_name": "LayoutModel",
          "state": {
            "_view_name": "LayoutView",
            "grid_template_rows": null,
            "right": null,
            "justify_content": null,
            "_view_module": "@jupyter-widgets/base",
            "overflow": null,
            "_model_module_version": "1.2.0",
            "_view_count": null,
            "flex_flow": null,
            "width": null,
            "min_width": null,
            "border": null,
            "align_items": null,
            "bottom": null,
            "_model_module": "@jupyter-widgets/base",
            "top": null,
            "grid_column": null,
            "overflow_y": null,
            "overflow_x": null,
            "grid_auto_flow": null,
            "grid_area": null,
            "grid_template_columns": null,
            "flex": null,
            "_model_name": "LayoutModel",
            "justify_items": null,
            "grid_row": null,
            "max_height": null,
            "align_content": null,
            "visibility": null,
            "align_self": null,
            "height": null,
            "min_height": null,
            "padding": null,
            "grid_auto_rows": null,
            "grid_gap": null,
            "max_width": null,
            "order": null,
            "_view_module_version": "1.2.0",
            "grid_template_areas": null,
            "object_position": null,
            "object_fit": null,
            "grid_auto_columns": null,
            "margin": null,
            "display": null,
            "left": null
          }
        },
        "67461df7baa948e18fc9da1b83a12a15": {
          "model_module": "@jupyter-widgets/controls",
          "model_name": "HBoxModel",
          "state": {
            "_view_name": "HBoxView",
            "_dom_classes": [],
            "_model_name": "HBoxModel",
            "_view_module": "@jupyter-widgets/controls",
            "_model_module_version": "1.5.0",
            "_view_count": null,
            "_view_module_version": "1.5.0",
            "box_style": "",
            "layout": "IPY_MODEL_0f357b2091df43dba420b0f419b16ff5",
            "_model_module": "@jupyter-widgets/controls",
            "children": [
              "IPY_MODEL_c043bf1df419429d9dee61112e922d42",
              "IPY_MODEL_f9ecd35e3c9e4546bdd82c06e53064ab"
            ]
          }
        },
        "0f357b2091df43dba420b0f419b16ff5": {
          "model_module": "@jupyter-widgets/base",
          "model_name": "LayoutModel",
          "state": {
            "_view_name": "LayoutView",
            "grid_template_rows": null,
            "right": null,
            "justify_content": null,
            "_view_module": "@jupyter-widgets/base",
            "overflow": null,
            "_model_module_version": "1.2.0",
            "_view_count": null,
            "flex_flow": null,
            "width": null,
            "min_width": null,
            "border": null,
            "align_items": null,
            "bottom": null,
            "_model_module": "@jupyter-widgets/base",
            "top": null,
            "grid_column": null,
            "overflow_y": null,
            "overflow_x": null,
            "grid_auto_flow": null,
            "grid_area": null,
            "grid_template_columns": null,
            "flex": null,
            "_model_name": "LayoutModel",
            "justify_items": null,
            "grid_row": null,
            "max_height": null,
            "align_content": null,
            "visibility": null,
            "align_self": null,
            "height": null,
            "min_height": null,
            "padding": null,
            "grid_auto_rows": null,
            "grid_gap": null,
            "max_width": null,
            "order": null,
            "_view_module_version": "1.2.0",
            "grid_template_areas": null,
            "object_position": null,
            "object_fit": null,
            "grid_auto_columns": null,
            "margin": null,
            "display": null,
            "left": null
          }
        },
        "c043bf1df419429d9dee61112e922d42": {
          "model_module": "@jupyter-widgets/controls",
          "model_name": "FloatProgressModel",
          "state": {
            "_view_name": "ProgressView",
            "style": "IPY_MODEL_854f8d369463416fa598d5f616354cd8",
            "_dom_classes": [],
            "description": "100%",
            "_model_name": "FloatProgressModel",
            "bar_style": "success",
            "max": 127,
            "_view_module": "@jupyter-widgets/controls",
            "_model_module_version": "1.5.0",
            "value": 127,
            "_view_count": null,
            "_view_module_version": "1.5.0",
            "orientation": "horizontal",
            "min": 0,
            "description_tooltip": null,
            "_model_module": "@jupyter-widgets/controls",
            "layout": "IPY_MODEL_9494cabb176f45d69dab6c5f16d77a17"
          }
        },
        "f9ecd35e3c9e4546bdd82c06e53064ab": {
          "model_module": "@jupyter-widgets/controls",
          "model_name": "HTMLModel",
          "state": {
            "_view_name": "HTMLView",
            "style": "IPY_MODEL_20851ae598234664865cef0296b5c212",
            "_dom_classes": [],
            "description": "",
            "_model_name": "HTMLModel",
            "placeholder": "​",
            "_view_module": "@jupyter-widgets/controls",
            "_model_module_version": "1.5.0",
            "value": " 127/127 [15:37&lt;00:00,  7.39s/it]",
            "_view_count": null,
            "_view_module_version": "1.5.0",
            "description_tooltip": null,
            "_model_module": "@jupyter-widgets/controls",
            "layout": "IPY_MODEL_21bf52bc9dc24ec68cfccae1e4835ffc"
          }
        },
        "854f8d369463416fa598d5f616354cd8": {
          "model_module": "@jupyter-widgets/controls",
          "model_name": "ProgressStyleModel",
          "state": {
            "_view_name": "StyleView",
            "_model_name": "ProgressStyleModel",
            "description_width": "initial",
            "_view_module": "@jupyter-widgets/base",
            "_model_module_version": "1.5.0",
            "_view_count": null,
            "_view_module_version": "1.2.0",
            "bar_color": null,
            "_model_module": "@jupyter-widgets/controls"
          }
        },
        "9494cabb176f45d69dab6c5f16d77a17": {
          "model_module": "@jupyter-widgets/base",
          "model_name": "LayoutModel",
          "state": {
            "_view_name": "LayoutView",
            "grid_template_rows": null,
            "right": null,
            "justify_content": null,
            "_view_module": "@jupyter-widgets/base",
            "overflow": null,
            "_model_module_version": "1.2.0",
            "_view_count": null,
            "flex_flow": null,
            "width": null,
            "min_width": null,
            "border": null,
            "align_items": null,
            "bottom": null,
            "_model_module": "@jupyter-widgets/base",
            "top": null,
            "grid_column": null,
            "overflow_y": null,
            "overflow_x": null,
            "grid_auto_flow": null,
            "grid_area": null,
            "grid_template_columns": null,
            "flex": null,
            "_model_name": "LayoutModel",
            "justify_items": null,
            "grid_row": null,
            "max_height": null,
            "align_content": null,
            "visibility": null,
            "align_self": null,
            "height": null,
            "min_height": null,
            "padding": null,
            "grid_auto_rows": null,
            "grid_gap": null,
            "max_width": null,
            "order": null,
            "_view_module_version": "1.2.0",
            "grid_template_areas": null,
            "object_position": null,
            "object_fit": null,
            "grid_auto_columns": null,
            "margin": null,
            "display": null,
            "left": null
          }
        },
        "20851ae598234664865cef0296b5c212": {
          "model_module": "@jupyter-widgets/controls",
          "model_name": "DescriptionStyleModel",
          "state": {
            "_view_name": "StyleView",
            "_model_name": "DescriptionStyleModel",
            "description_width": "",
            "_view_module": "@jupyter-widgets/base",
            "_model_module_version": "1.5.0",
            "_view_count": null,
            "_view_module_version": "1.2.0",
            "_model_module": "@jupyter-widgets/controls"
          }
        },
        "21bf52bc9dc24ec68cfccae1e4835ffc": {
          "model_module": "@jupyter-widgets/base",
          "model_name": "LayoutModel",
          "state": {
            "_view_name": "LayoutView",
            "grid_template_rows": null,
            "right": null,
            "justify_content": null,
            "_view_module": "@jupyter-widgets/base",
            "overflow": null,
            "_model_module_version": "1.2.0",
            "_view_count": null,
            "flex_flow": null,
            "width": null,
            "min_width": null,
            "border": null,
            "align_items": null,
            "bottom": null,
            "_model_module": "@jupyter-widgets/base",
            "top": null,
            "grid_column": null,
            "overflow_y": null,
            "overflow_x": null,
            "grid_auto_flow": null,
            "grid_area": null,
            "grid_template_columns": null,
            "flex": null,
            "_model_name": "LayoutModel",
            "justify_items": null,
            "grid_row": null,
            "max_height": null,
            "align_content": null,
            "visibility": null,
            "align_self": null,
            "height": null,
            "min_height": null,
            "padding": null,
            "grid_auto_rows": null,
            "grid_gap": null,
            "max_width": null,
            "order": null,
            "_view_module_version": "1.2.0",
            "grid_template_areas": null,
            "object_position": null,
            "object_fit": null,
            "grid_auto_columns": null,
            "margin": null,
            "display": null,
            "left": null
          }
        },
        "af668a8a408643f79d46b00e79ca4c1c": {
          "model_module": "@jupyter-widgets/controls",
          "model_name": "HBoxModel",
          "state": {
            "_view_name": "HBoxView",
            "_dom_classes": [],
            "_model_name": "HBoxModel",
            "_view_module": "@jupyter-widgets/controls",
            "_model_module_version": "1.5.0",
            "_view_count": null,
            "_view_module_version": "1.5.0",
            "box_style": "",
            "layout": "IPY_MODEL_79953a4d4ecf4ec680f9e4cd3a169543",
            "_model_module": "@jupyter-widgets/controls",
            "children": [
              "IPY_MODEL_6e3da0f7b2e0416ca3ebfa4beb78a794",
              "IPY_MODEL_e60c5a5614c34267a1afa1a3c2a4d76a"
            ]
          }
        },
        "79953a4d4ecf4ec680f9e4cd3a169543": {
          "model_module": "@jupyter-widgets/base",
          "model_name": "LayoutModel",
          "state": {
            "_view_name": "LayoutView",
            "grid_template_rows": null,
            "right": null,
            "justify_content": null,
            "_view_module": "@jupyter-widgets/base",
            "overflow": null,
            "_model_module_version": "1.2.0",
            "_view_count": null,
            "flex_flow": null,
            "width": null,
            "min_width": null,
            "border": null,
            "align_items": null,
            "bottom": null,
            "_model_module": "@jupyter-widgets/base",
            "top": null,
            "grid_column": null,
            "overflow_y": null,
            "overflow_x": null,
            "grid_auto_flow": null,
            "grid_area": null,
            "grid_template_columns": null,
            "flex": null,
            "_model_name": "LayoutModel",
            "justify_items": null,
            "grid_row": null,
            "max_height": null,
            "align_content": null,
            "visibility": null,
            "align_self": null,
            "height": null,
            "min_height": null,
            "padding": null,
            "grid_auto_rows": null,
            "grid_gap": null,
            "max_width": null,
            "order": null,
            "_view_module_version": "1.2.0",
            "grid_template_areas": null,
            "object_position": null,
            "object_fit": null,
            "grid_auto_columns": null,
            "margin": null,
            "display": null,
            "left": null
          }
        },
        "6e3da0f7b2e0416ca3ebfa4beb78a794": {
          "model_module": "@jupyter-widgets/controls",
          "model_name": "FloatProgressModel",
          "state": {
            "_view_name": "ProgressView",
            "style": "IPY_MODEL_ccf4008aa07042518f2ce2f162f50c08",
            "_dom_classes": [],
            "description": "100%",
            "_model_name": "FloatProgressModel",
            "bar_style": "success",
            "max": 93,
            "_view_module": "@jupyter-widgets/controls",
            "_model_module_version": "1.5.0",
            "value": 93,
            "_view_count": null,
            "_view_module_version": "1.5.0",
            "orientation": "horizontal",
            "min": 0,
            "description_tooltip": null,
            "_model_module": "@jupyter-widgets/controls",
            "layout": "IPY_MODEL_0faa301922714a21918e29e28d0673f4"
          }
        },
        "e60c5a5614c34267a1afa1a3c2a4d76a": {
          "model_module": "@jupyter-widgets/controls",
          "model_name": "HTMLModel",
          "state": {
            "_view_name": "HTMLView",
            "style": "IPY_MODEL_d16cc9fd8f664d6fa1fb165b43ac4471",
            "_dom_classes": [],
            "description": "",
            "_model_name": "HTMLModel",
            "placeholder": "​",
            "_view_module": "@jupyter-widgets/controls",
            "_model_module_version": "1.5.0",
            "value": " 93/93 [13:37&lt;00:00,  8.79s/it]",
            "_view_count": null,
            "_view_module_version": "1.5.0",
            "description_tooltip": null,
            "_model_module": "@jupyter-widgets/controls",
            "layout": "IPY_MODEL_b32417214ff847458edcea0e7c7581b9"
          }
        },
        "ccf4008aa07042518f2ce2f162f50c08": {
          "model_module": "@jupyter-widgets/controls",
          "model_name": "ProgressStyleModel",
          "state": {
            "_view_name": "StyleView",
            "_model_name": "ProgressStyleModel",
            "description_width": "initial",
            "_view_module": "@jupyter-widgets/base",
            "_model_module_version": "1.5.0",
            "_view_count": null,
            "_view_module_version": "1.2.0",
            "bar_color": null,
            "_model_module": "@jupyter-widgets/controls"
          }
        },
        "0faa301922714a21918e29e28d0673f4": {
          "model_module": "@jupyter-widgets/base",
          "model_name": "LayoutModel",
          "state": {
            "_view_name": "LayoutView",
            "grid_template_rows": null,
            "right": null,
            "justify_content": null,
            "_view_module": "@jupyter-widgets/base",
            "overflow": null,
            "_model_module_version": "1.2.0",
            "_view_count": null,
            "flex_flow": null,
            "width": null,
            "min_width": null,
            "border": null,
            "align_items": null,
            "bottom": null,
            "_model_module": "@jupyter-widgets/base",
            "top": null,
            "grid_column": null,
            "overflow_y": null,
            "overflow_x": null,
            "grid_auto_flow": null,
            "grid_area": null,
            "grid_template_columns": null,
            "flex": null,
            "_model_name": "LayoutModel",
            "justify_items": null,
            "grid_row": null,
            "max_height": null,
            "align_content": null,
            "visibility": null,
            "align_self": null,
            "height": null,
            "min_height": null,
            "padding": null,
            "grid_auto_rows": null,
            "grid_gap": null,
            "max_width": null,
            "order": null,
            "_view_module_version": "1.2.0",
            "grid_template_areas": null,
            "object_position": null,
            "object_fit": null,
            "grid_auto_columns": null,
            "margin": null,
            "display": null,
            "left": null
          }
        },
        "d16cc9fd8f664d6fa1fb165b43ac4471": {
          "model_module": "@jupyter-widgets/controls",
          "model_name": "DescriptionStyleModel",
          "state": {
            "_view_name": "StyleView",
            "_model_name": "DescriptionStyleModel",
            "description_width": "",
            "_view_module": "@jupyter-widgets/base",
            "_model_module_version": "1.5.0",
            "_view_count": null,
            "_view_module_version": "1.2.0",
            "_model_module": "@jupyter-widgets/controls"
          }
        },
        "b32417214ff847458edcea0e7c7581b9": {
          "model_module": "@jupyter-widgets/base",
          "model_name": "LayoutModel",
          "state": {
            "_view_name": "LayoutView",
            "grid_template_rows": null,
            "right": null,
            "justify_content": null,
            "_view_module": "@jupyter-widgets/base",
            "overflow": null,
            "_model_module_version": "1.2.0",
            "_view_count": null,
            "flex_flow": null,
            "width": null,
            "min_width": null,
            "border": null,
            "align_items": null,
            "bottom": null,
            "_model_module": "@jupyter-widgets/base",
            "top": null,
            "grid_column": null,
            "overflow_y": null,
            "overflow_x": null,
            "grid_auto_flow": null,
            "grid_area": null,
            "grid_template_columns": null,
            "flex": null,
            "_model_name": "LayoutModel",
            "justify_items": null,
            "grid_row": null,
            "max_height": null,
            "align_content": null,
            "visibility": null,
            "align_self": null,
            "height": null,
            "min_height": null,
            "padding": null,
            "grid_auto_rows": null,
            "grid_gap": null,
            "max_width": null,
            "order": null,
            "_view_module_version": "1.2.0",
            "grid_template_areas": null,
            "object_position": null,
            "object_fit": null,
            "grid_auto_columns": null,
            "margin": null,
            "display": null,
            "left": null
          }
        },
        "8ff334cf30a0449685b0a8929deedc88": {
          "model_module": "@jupyter-widgets/controls",
          "model_name": "HBoxModel",
          "state": {
            "_view_name": "HBoxView",
            "_dom_classes": [],
            "_model_name": "HBoxModel",
            "_view_module": "@jupyter-widgets/controls",
            "_model_module_version": "1.5.0",
            "_view_count": null,
            "_view_module_version": "1.5.0",
            "box_style": "",
            "layout": "IPY_MODEL_99dbac3f93e94062879713b736a6ae11",
            "_model_module": "@jupyter-widgets/controls",
            "children": [
              "IPY_MODEL_3fbf1e64907e4dfea3b756788fc5c6fa",
              "IPY_MODEL_b5b3fd4335fe49b9a3d2bccfa5833b70"
            ]
          }
        },
        "99dbac3f93e94062879713b736a6ae11": {
          "model_module": "@jupyter-widgets/base",
          "model_name": "LayoutModel",
          "state": {
            "_view_name": "LayoutView",
            "grid_template_rows": null,
            "right": null,
            "justify_content": null,
            "_view_module": "@jupyter-widgets/base",
            "overflow": null,
            "_model_module_version": "1.2.0",
            "_view_count": null,
            "flex_flow": null,
            "width": null,
            "min_width": null,
            "border": null,
            "align_items": null,
            "bottom": null,
            "_model_module": "@jupyter-widgets/base",
            "top": null,
            "grid_column": null,
            "overflow_y": null,
            "overflow_x": null,
            "grid_auto_flow": null,
            "grid_area": null,
            "grid_template_columns": null,
            "flex": null,
            "_model_name": "LayoutModel",
            "justify_items": null,
            "grid_row": null,
            "max_height": null,
            "align_content": null,
            "visibility": null,
            "align_self": null,
            "height": null,
            "min_height": null,
            "padding": null,
            "grid_auto_rows": null,
            "grid_gap": null,
            "max_width": null,
            "order": null,
            "_view_module_version": "1.2.0",
            "grid_template_areas": null,
            "object_position": null,
            "object_fit": null,
            "grid_auto_columns": null,
            "margin": null,
            "display": null,
            "left": null
          }
        },
        "3fbf1e64907e4dfea3b756788fc5c6fa": {
          "model_module": "@jupyter-widgets/controls",
          "model_name": "FloatProgressModel",
          "state": {
            "_view_name": "ProgressView",
            "style": "IPY_MODEL_4d31e1d471424ccbb4226a37247f010b",
            "_dom_classes": [],
            "description": "100%",
            "_model_name": "FloatProgressModel",
            "bar_style": "success",
            "max": 81,
            "_view_module": "@jupyter-widgets/controls",
            "_model_module_version": "1.5.0",
            "value": 81,
            "_view_count": null,
            "_view_module_version": "1.5.0",
            "orientation": "horizontal",
            "min": 0,
            "description_tooltip": null,
            "_model_module": "@jupyter-widgets/controls",
            "layout": "IPY_MODEL_9a2c918a395e475f94d85631abd666b2"
          }
        },
        "b5b3fd4335fe49b9a3d2bccfa5833b70": {
          "model_module": "@jupyter-widgets/controls",
          "model_name": "HTMLModel",
          "state": {
            "_view_name": "HTMLView",
            "style": "IPY_MODEL_62a5ee8c01c2465f8893db97dfa84f16",
            "_dom_classes": [],
            "description": "",
            "_model_name": "HTMLModel",
            "placeholder": "​",
            "_view_module": "@jupyter-widgets/controls",
            "_model_module_version": "1.5.0",
            "value": " 81/81 [13:03&lt;00:00,  9.68s/it]",
            "_view_count": null,
            "_view_module_version": "1.5.0",
            "description_tooltip": null,
            "_model_module": "@jupyter-widgets/controls",
            "layout": "IPY_MODEL_0b768ce023654dfda9a143a1c37d5b10"
          }
        },
        "4d31e1d471424ccbb4226a37247f010b": {
          "model_module": "@jupyter-widgets/controls",
          "model_name": "ProgressStyleModel",
          "state": {
            "_view_name": "StyleView",
            "_model_name": "ProgressStyleModel",
            "description_width": "initial",
            "_view_module": "@jupyter-widgets/base",
            "_model_module_version": "1.5.0",
            "_view_count": null,
            "_view_module_version": "1.2.0",
            "bar_color": null,
            "_model_module": "@jupyter-widgets/controls"
          }
        },
        "9a2c918a395e475f94d85631abd666b2": {
          "model_module": "@jupyter-widgets/base",
          "model_name": "LayoutModel",
          "state": {
            "_view_name": "LayoutView",
            "grid_template_rows": null,
            "right": null,
            "justify_content": null,
            "_view_module": "@jupyter-widgets/base",
            "overflow": null,
            "_model_module_version": "1.2.0",
            "_view_count": null,
            "flex_flow": null,
            "width": null,
            "min_width": null,
            "border": null,
            "align_items": null,
            "bottom": null,
            "_model_module": "@jupyter-widgets/base",
            "top": null,
            "grid_column": null,
            "overflow_y": null,
            "overflow_x": null,
            "grid_auto_flow": null,
            "grid_area": null,
            "grid_template_columns": null,
            "flex": null,
            "_model_name": "LayoutModel",
            "justify_items": null,
            "grid_row": null,
            "max_height": null,
            "align_content": null,
            "visibility": null,
            "align_self": null,
            "height": null,
            "min_height": null,
            "padding": null,
            "grid_auto_rows": null,
            "grid_gap": null,
            "max_width": null,
            "order": null,
            "_view_module_version": "1.2.0",
            "grid_template_areas": null,
            "object_position": null,
            "object_fit": null,
            "grid_auto_columns": null,
            "margin": null,
            "display": null,
            "left": null
          }
        },
        "62a5ee8c01c2465f8893db97dfa84f16": {
          "model_module": "@jupyter-widgets/controls",
          "model_name": "DescriptionStyleModel",
          "state": {
            "_view_name": "StyleView",
            "_model_name": "DescriptionStyleModel",
            "description_width": "",
            "_view_module": "@jupyter-widgets/base",
            "_model_module_version": "1.5.0",
            "_view_count": null,
            "_view_module_version": "1.2.0",
            "_model_module": "@jupyter-widgets/controls"
          }
        },
        "0b768ce023654dfda9a143a1c37d5b10": {
          "model_module": "@jupyter-widgets/base",
          "model_name": "LayoutModel",
          "state": {
            "_view_name": "LayoutView",
            "grid_template_rows": null,
            "right": null,
            "justify_content": null,
            "_view_module": "@jupyter-widgets/base",
            "overflow": null,
            "_model_module_version": "1.2.0",
            "_view_count": null,
            "flex_flow": null,
            "width": null,
            "min_width": null,
            "border": null,
            "align_items": null,
            "bottom": null,
            "_model_module": "@jupyter-widgets/base",
            "top": null,
            "grid_column": null,
            "overflow_y": null,
            "overflow_x": null,
            "grid_auto_flow": null,
            "grid_area": null,
            "grid_template_columns": null,
            "flex": null,
            "_model_name": "LayoutModel",
            "justify_items": null,
            "grid_row": null,
            "max_height": null,
            "align_content": null,
            "visibility": null,
            "align_self": null,
            "height": null,
            "min_height": null,
            "padding": null,
            "grid_auto_rows": null,
            "grid_gap": null,
            "max_width": null,
            "order": null,
            "_view_module_version": "1.2.0",
            "grid_template_areas": null,
            "object_position": null,
            "object_fit": null,
            "grid_auto_columns": null,
            "margin": null,
            "display": null,
            "left": null
          }
        },
        "1ffcef3f6bc7468393890f6c7e3beed8": {
          "model_module": "@jupyter-widgets/controls",
          "model_name": "HBoxModel",
          "state": {
            "_view_name": "HBoxView",
            "_dom_classes": [],
            "_model_name": "HBoxModel",
            "_view_module": "@jupyter-widgets/controls",
            "_model_module_version": "1.5.0",
            "_view_count": null,
            "_view_module_version": "1.5.0",
            "box_style": "",
            "layout": "IPY_MODEL_4ebf0d0d8d464b2aa8150453f8e3e510",
            "_model_module": "@jupyter-widgets/controls",
            "children": [
              "IPY_MODEL_b05e5ad96b0a4b10bd55c2daefbf1858",
              "IPY_MODEL_b3ee02a57a8a41a1a4b420a75235e2bd"
            ]
          }
        },
        "4ebf0d0d8d464b2aa8150453f8e3e510": {
          "model_module": "@jupyter-widgets/base",
          "model_name": "LayoutModel",
          "state": {
            "_view_name": "LayoutView",
            "grid_template_rows": null,
            "right": null,
            "justify_content": null,
            "_view_module": "@jupyter-widgets/base",
            "overflow": null,
            "_model_module_version": "1.2.0",
            "_view_count": null,
            "flex_flow": null,
            "width": null,
            "min_width": null,
            "border": null,
            "align_items": null,
            "bottom": null,
            "_model_module": "@jupyter-widgets/base",
            "top": null,
            "grid_column": null,
            "overflow_y": null,
            "overflow_x": null,
            "grid_auto_flow": null,
            "grid_area": null,
            "grid_template_columns": null,
            "flex": null,
            "_model_name": "LayoutModel",
            "justify_items": null,
            "grid_row": null,
            "max_height": null,
            "align_content": null,
            "visibility": null,
            "align_self": null,
            "height": null,
            "min_height": null,
            "padding": null,
            "grid_auto_rows": null,
            "grid_gap": null,
            "max_width": null,
            "order": null,
            "_view_module_version": "1.2.0",
            "grid_template_areas": null,
            "object_position": null,
            "object_fit": null,
            "grid_auto_columns": null,
            "margin": null,
            "display": null,
            "left": null
          }
        },
        "b05e5ad96b0a4b10bd55c2daefbf1858": {
          "model_module": "@jupyter-widgets/controls",
          "model_name": "FloatProgressModel",
          "state": {
            "_view_name": "ProgressView",
            "style": "IPY_MODEL_a6825e1dd3c7488fb43e36e374c3cab3",
            "_dom_classes": [],
            "description": "100%",
            "_model_name": "FloatProgressModel",
            "bar_style": "success",
            "max": 15,
            "_view_module": "@jupyter-widgets/controls",
            "_model_module_version": "1.5.0",
            "value": 15,
            "_view_count": null,
            "_view_module_version": "1.5.0",
            "orientation": "horizontal",
            "min": 0,
            "description_tooltip": null,
            "_model_module": "@jupyter-widgets/controls",
            "layout": "IPY_MODEL_be7586ecbfed42ff96b7d56af14700db"
          }
        },
        "b3ee02a57a8a41a1a4b420a75235e2bd": {
          "model_module": "@jupyter-widgets/controls",
          "model_name": "HTMLModel",
          "state": {
            "_view_name": "HTMLView",
            "style": "IPY_MODEL_90b4c649dd2d431e9bbea9543039f9b3",
            "_dom_classes": [],
            "description": "",
            "_model_name": "HTMLModel",
            "placeholder": "​",
            "_view_module": "@jupyter-widgets/controls",
            "_model_module_version": "1.5.0",
            "value": " 15/15 [12:21&lt;00:00, 49.46s/it]",
            "_view_count": null,
            "_view_module_version": "1.5.0",
            "description_tooltip": null,
            "_model_module": "@jupyter-widgets/controls",
            "layout": "IPY_MODEL_3d31a76305cc4fef83e6ff0e1d0b591d"
          }
        },
        "a6825e1dd3c7488fb43e36e374c3cab3": {
          "model_module": "@jupyter-widgets/controls",
          "model_name": "ProgressStyleModel",
          "state": {
            "_view_name": "StyleView",
            "_model_name": "ProgressStyleModel",
            "description_width": "initial",
            "_view_module": "@jupyter-widgets/base",
            "_model_module_version": "1.5.0",
            "_view_count": null,
            "_view_module_version": "1.2.0",
            "bar_color": null,
            "_model_module": "@jupyter-widgets/controls"
          }
        },
        "be7586ecbfed42ff96b7d56af14700db": {
          "model_module": "@jupyter-widgets/base",
          "model_name": "LayoutModel",
          "state": {
            "_view_name": "LayoutView",
            "grid_template_rows": null,
            "right": null,
            "justify_content": null,
            "_view_module": "@jupyter-widgets/base",
            "overflow": null,
            "_model_module_version": "1.2.0",
            "_view_count": null,
            "flex_flow": null,
            "width": null,
            "min_width": null,
            "border": null,
            "align_items": null,
            "bottom": null,
            "_model_module": "@jupyter-widgets/base",
            "top": null,
            "grid_column": null,
            "overflow_y": null,
            "overflow_x": null,
            "grid_auto_flow": null,
            "grid_area": null,
            "grid_template_columns": null,
            "flex": null,
            "_model_name": "LayoutModel",
            "justify_items": null,
            "grid_row": null,
            "max_height": null,
            "align_content": null,
            "visibility": null,
            "align_self": null,
            "height": null,
            "min_height": null,
            "padding": null,
            "grid_auto_rows": null,
            "grid_gap": null,
            "max_width": null,
            "order": null,
            "_view_module_version": "1.2.0",
            "grid_template_areas": null,
            "object_position": null,
            "object_fit": null,
            "grid_auto_columns": null,
            "margin": null,
            "display": null,
            "left": null
          }
        },
        "90b4c649dd2d431e9bbea9543039f9b3": {
          "model_module": "@jupyter-widgets/controls",
          "model_name": "DescriptionStyleModel",
          "state": {
            "_view_name": "StyleView",
            "_model_name": "DescriptionStyleModel",
            "description_width": "",
            "_view_module": "@jupyter-widgets/base",
            "_model_module_version": "1.5.0",
            "_view_count": null,
            "_view_module_version": "1.2.0",
            "_model_module": "@jupyter-widgets/controls"
          }
        },
        "3d31a76305cc4fef83e6ff0e1d0b591d": {
          "model_module": "@jupyter-widgets/base",
          "model_name": "LayoutModel",
          "state": {
            "_view_name": "LayoutView",
            "grid_template_rows": null,
            "right": null,
            "justify_content": null,
            "_view_module": "@jupyter-widgets/base",
            "overflow": null,
            "_model_module_version": "1.2.0",
            "_view_count": null,
            "flex_flow": null,
            "width": null,
            "min_width": null,
            "border": null,
            "align_items": null,
            "bottom": null,
            "_model_module": "@jupyter-widgets/base",
            "top": null,
            "grid_column": null,
            "overflow_y": null,
            "overflow_x": null,
            "grid_auto_flow": null,
            "grid_area": null,
            "grid_template_columns": null,
            "flex": null,
            "_model_name": "LayoutModel",
            "justify_items": null,
            "grid_row": null,
            "max_height": null,
            "align_content": null,
            "visibility": null,
            "align_self": null,
            "height": null,
            "min_height": null,
            "padding": null,
            "grid_auto_rows": null,
            "grid_gap": null,
            "max_width": null,
            "order": null,
            "_view_module_version": "1.2.0",
            "grid_template_areas": null,
            "object_position": null,
            "object_fit": null,
            "grid_auto_columns": null,
            "margin": null,
            "display": null,
            "left": null
          }
        },
        "3e17ce32592b4f098cf0c80ae41d364b": {
          "model_module": "@jupyter-widgets/controls",
          "model_name": "HBoxModel",
          "state": {
            "_view_name": "HBoxView",
            "_dom_classes": [],
            "_model_name": "HBoxModel",
            "_view_module": "@jupyter-widgets/controls",
            "_model_module_version": "1.5.0",
            "_view_count": null,
            "_view_module_version": "1.5.0",
            "box_style": "",
            "layout": "IPY_MODEL_a3de12d59fdb4205b77c7ca1c2e4ddba",
            "_model_module": "@jupyter-widgets/controls",
            "children": [
              "IPY_MODEL_55d15d5e084d4fe3b2aa78947b800049",
              "IPY_MODEL_fddd59e7f4eb4264b0d7b8617f9a3324"
            ]
          }
        },
        "a3de12d59fdb4205b77c7ca1c2e4ddba": {
          "model_module": "@jupyter-widgets/base",
          "model_name": "LayoutModel",
          "state": {
            "_view_name": "LayoutView",
            "grid_template_rows": null,
            "right": null,
            "justify_content": null,
            "_view_module": "@jupyter-widgets/base",
            "overflow": null,
            "_model_module_version": "1.2.0",
            "_view_count": null,
            "flex_flow": null,
            "width": null,
            "min_width": null,
            "border": null,
            "align_items": null,
            "bottom": null,
            "_model_module": "@jupyter-widgets/base",
            "top": null,
            "grid_column": null,
            "overflow_y": null,
            "overflow_x": null,
            "grid_auto_flow": null,
            "grid_area": null,
            "grid_template_columns": null,
            "flex": null,
            "_model_name": "LayoutModel",
            "justify_items": null,
            "grid_row": null,
            "max_height": null,
            "align_content": null,
            "visibility": null,
            "align_self": null,
            "height": null,
            "min_height": null,
            "padding": null,
            "grid_auto_rows": null,
            "grid_gap": null,
            "max_width": null,
            "order": null,
            "_view_module_version": "1.2.0",
            "grid_template_areas": null,
            "object_position": null,
            "object_fit": null,
            "grid_auto_columns": null,
            "margin": null,
            "display": null,
            "left": null
          }
        },
        "55d15d5e084d4fe3b2aa78947b800049": {
          "model_module": "@jupyter-widgets/controls",
          "model_name": "FloatProgressModel",
          "state": {
            "_view_name": "ProgressView",
            "style": "IPY_MODEL_05e58e332db346c4898e3d8a6eddf7e0",
            "_dom_classes": [],
            "description": "100%",
            "_model_name": "FloatProgressModel",
            "bar_style": "success",
            "max": 76,
            "_view_module": "@jupyter-widgets/controls",
            "_model_module_version": "1.5.0",
            "value": 76,
            "_view_count": null,
            "_view_module_version": "1.5.0",
            "orientation": "horizontal",
            "min": 0,
            "description_tooltip": null,
            "_model_module": "@jupyter-widgets/controls",
            "layout": "IPY_MODEL_a5a698681c8949bfb195982fb6e64460"
          }
        },
        "fddd59e7f4eb4264b0d7b8617f9a3324": {
          "model_module": "@jupyter-widgets/controls",
          "model_name": "HTMLModel",
          "state": {
            "_view_name": "HTMLView",
            "style": "IPY_MODEL_64949bf192444cb7b2bde4da00a66e04",
            "_dom_classes": [],
            "description": "",
            "_model_name": "HTMLModel",
            "placeholder": "​",
            "_view_module": "@jupyter-widgets/controls",
            "_model_module_version": "1.5.0",
            "value": " 76/76 [12:21&lt;00:00,  9.75s/it]",
            "_view_count": null,
            "_view_module_version": "1.5.0",
            "description_tooltip": null,
            "_model_module": "@jupyter-widgets/controls",
            "layout": "IPY_MODEL_d43aa41b13ce44a1b8c5730ba5c77013"
          }
        },
        "05e58e332db346c4898e3d8a6eddf7e0": {
          "model_module": "@jupyter-widgets/controls",
          "model_name": "ProgressStyleModel",
          "state": {
            "_view_name": "StyleView",
            "_model_name": "ProgressStyleModel",
            "description_width": "initial",
            "_view_module": "@jupyter-widgets/base",
            "_model_module_version": "1.5.0",
            "_view_count": null,
            "_view_module_version": "1.2.0",
            "bar_color": null,
            "_model_module": "@jupyter-widgets/controls"
          }
        },
        "a5a698681c8949bfb195982fb6e64460": {
          "model_module": "@jupyter-widgets/base",
          "model_name": "LayoutModel",
          "state": {
            "_view_name": "LayoutView",
            "grid_template_rows": null,
            "right": null,
            "justify_content": null,
            "_view_module": "@jupyter-widgets/base",
            "overflow": null,
            "_model_module_version": "1.2.0",
            "_view_count": null,
            "flex_flow": null,
            "width": null,
            "min_width": null,
            "border": null,
            "align_items": null,
            "bottom": null,
            "_model_module": "@jupyter-widgets/base",
            "top": null,
            "grid_column": null,
            "overflow_y": null,
            "overflow_x": null,
            "grid_auto_flow": null,
            "grid_area": null,
            "grid_template_columns": null,
            "flex": null,
            "_model_name": "LayoutModel",
            "justify_items": null,
            "grid_row": null,
            "max_height": null,
            "align_content": null,
            "visibility": null,
            "align_self": null,
            "height": null,
            "min_height": null,
            "padding": null,
            "grid_auto_rows": null,
            "grid_gap": null,
            "max_width": null,
            "order": null,
            "_view_module_version": "1.2.0",
            "grid_template_areas": null,
            "object_position": null,
            "object_fit": null,
            "grid_auto_columns": null,
            "margin": null,
            "display": null,
            "left": null
          }
        },
        "64949bf192444cb7b2bde4da00a66e04": {
          "model_module": "@jupyter-widgets/controls",
          "model_name": "DescriptionStyleModel",
          "state": {
            "_view_name": "StyleView",
            "_model_name": "DescriptionStyleModel",
            "description_width": "",
            "_view_module": "@jupyter-widgets/base",
            "_model_module_version": "1.5.0",
            "_view_count": null,
            "_view_module_version": "1.2.0",
            "_model_module": "@jupyter-widgets/controls"
          }
        },
        "d43aa41b13ce44a1b8c5730ba5c77013": {
          "model_module": "@jupyter-widgets/base",
          "model_name": "LayoutModel",
          "state": {
            "_view_name": "LayoutView",
            "grid_template_rows": null,
            "right": null,
            "justify_content": null,
            "_view_module": "@jupyter-widgets/base",
            "overflow": null,
            "_model_module_version": "1.2.0",
            "_view_count": null,
            "flex_flow": null,
            "width": null,
            "min_width": null,
            "border": null,
            "align_items": null,
            "bottom": null,
            "_model_module": "@jupyter-widgets/base",
            "top": null,
            "grid_column": null,
            "overflow_y": null,
            "overflow_x": null,
            "grid_auto_flow": null,
            "grid_area": null,
            "grid_template_columns": null,
            "flex": null,
            "_model_name": "LayoutModel",
            "justify_items": null,
            "grid_row": null,
            "max_height": null,
            "align_content": null,
            "visibility": null,
            "align_self": null,
            "height": null,
            "min_height": null,
            "padding": null,
            "grid_auto_rows": null,
            "grid_gap": null,
            "max_width": null,
            "order": null,
            "_view_module_version": "1.2.0",
            "grid_template_areas": null,
            "object_position": null,
            "object_fit": null,
            "grid_auto_columns": null,
            "margin": null,
            "display": null,
            "left": null
          }
        },
        "9fb13e68f1e342c4bd86b7394c87f246": {
          "model_module": "@jupyter-widgets/controls",
          "model_name": "HBoxModel",
          "state": {
            "_view_name": "HBoxView",
            "_dom_classes": [],
            "_model_name": "HBoxModel",
            "_view_module": "@jupyter-widgets/controls",
            "_model_module_version": "1.5.0",
            "_view_count": null,
            "_view_module_version": "1.5.0",
            "box_style": "",
            "layout": "IPY_MODEL_7fd51a51a87947f39f63653e3cde8f78",
            "_model_module": "@jupyter-widgets/controls",
            "children": [
              "IPY_MODEL_e8db6122f8ec44c8aff4c6d3760f92d9",
              "IPY_MODEL_d9e8e38d1147465da17691fb052c72cc"
            ]
          }
        },
        "7fd51a51a87947f39f63653e3cde8f78": {
          "model_module": "@jupyter-widgets/base",
          "model_name": "LayoutModel",
          "state": {
            "_view_name": "LayoutView",
            "grid_template_rows": null,
            "right": null,
            "justify_content": null,
            "_view_module": "@jupyter-widgets/base",
            "overflow": null,
            "_model_module_version": "1.2.0",
            "_view_count": null,
            "flex_flow": null,
            "width": null,
            "min_width": null,
            "border": null,
            "align_items": null,
            "bottom": null,
            "_model_module": "@jupyter-widgets/base",
            "top": null,
            "grid_column": null,
            "overflow_y": null,
            "overflow_x": null,
            "grid_auto_flow": null,
            "grid_area": null,
            "grid_template_columns": null,
            "flex": null,
            "_model_name": "LayoutModel",
            "justify_items": null,
            "grid_row": null,
            "max_height": null,
            "align_content": null,
            "visibility": null,
            "align_self": null,
            "height": null,
            "min_height": null,
            "padding": null,
            "grid_auto_rows": null,
            "grid_gap": null,
            "max_width": null,
            "order": null,
            "_view_module_version": "1.2.0",
            "grid_template_areas": null,
            "object_position": null,
            "object_fit": null,
            "grid_auto_columns": null,
            "margin": null,
            "display": null,
            "left": null
          }
        },
        "e8db6122f8ec44c8aff4c6d3760f92d9": {
          "model_module": "@jupyter-widgets/controls",
          "model_name": "FloatProgressModel",
          "state": {
            "_view_name": "ProgressView",
            "style": "IPY_MODEL_01f8a8bcb47c412894c84adb8b58f73e",
            "_dom_classes": [],
            "description": "100%",
            "_model_name": "FloatProgressModel",
            "bar_style": "success",
            "max": 53,
            "_view_module": "@jupyter-widgets/controls",
            "_model_module_version": "1.5.0",
            "value": 53,
            "_view_count": null,
            "_view_module_version": "1.5.0",
            "orientation": "horizontal",
            "min": 0,
            "description_tooltip": null,
            "_model_module": "@jupyter-widgets/controls",
            "layout": "IPY_MODEL_b2509986a4ef431992c6aa4234fb0fa9"
          }
        },
        "d9e8e38d1147465da17691fb052c72cc": {
          "model_module": "@jupyter-widgets/controls",
          "model_name": "HTMLModel",
          "state": {
            "_view_name": "HTMLView",
            "style": "IPY_MODEL_1a4dda5554884bb08479892ea560c512",
            "_dom_classes": [],
            "description": "",
            "_model_name": "HTMLModel",
            "placeholder": "​",
            "_view_module": "@jupyter-widgets/controls",
            "_model_module_version": "1.5.0",
            "value": " 53/53 [11:58&lt;00:00, 13.55s/it]",
            "_view_count": null,
            "_view_module_version": "1.5.0",
            "description_tooltip": null,
            "_model_module": "@jupyter-widgets/controls",
            "layout": "IPY_MODEL_d0b34b9254e74ca89c66c99bd36bbab8"
          }
        },
        "01f8a8bcb47c412894c84adb8b58f73e": {
          "model_module": "@jupyter-widgets/controls",
          "model_name": "ProgressStyleModel",
          "state": {
            "_view_name": "StyleView",
            "_model_name": "ProgressStyleModel",
            "description_width": "initial",
            "_view_module": "@jupyter-widgets/base",
            "_model_module_version": "1.5.0",
            "_view_count": null,
            "_view_module_version": "1.2.0",
            "bar_color": null,
            "_model_module": "@jupyter-widgets/controls"
          }
        },
        "b2509986a4ef431992c6aa4234fb0fa9": {
          "model_module": "@jupyter-widgets/base",
          "model_name": "LayoutModel",
          "state": {
            "_view_name": "LayoutView",
            "grid_template_rows": null,
            "right": null,
            "justify_content": null,
            "_view_module": "@jupyter-widgets/base",
            "overflow": null,
            "_model_module_version": "1.2.0",
            "_view_count": null,
            "flex_flow": null,
            "width": null,
            "min_width": null,
            "border": null,
            "align_items": null,
            "bottom": null,
            "_model_module": "@jupyter-widgets/base",
            "top": null,
            "grid_column": null,
            "overflow_y": null,
            "overflow_x": null,
            "grid_auto_flow": null,
            "grid_area": null,
            "grid_template_columns": null,
            "flex": null,
            "_model_name": "LayoutModel",
            "justify_items": null,
            "grid_row": null,
            "max_height": null,
            "align_content": null,
            "visibility": null,
            "align_self": null,
            "height": null,
            "min_height": null,
            "padding": null,
            "grid_auto_rows": null,
            "grid_gap": null,
            "max_width": null,
            "order": null,
            "_view_module_version": "1.2.0",
            "grid_template_areas": null,
            "object_position": null,
            "object_fit": null,
            "grid_auto_columns": null,
            "margin": null,
            "display": null,
            "left": null
          }
        },
        "1a4dda5554884bb08479892ea560c512": {
          "model_module": "@jupyter-widgets/controls",
          "model_name": "DescriptionStyleModel",
          "state": {
            "_view_name": "StyleView",
            "_model_name": "DescriptionStyleModel",
            "description_width": "",
            "_view_module": "@jupyter-widgets/base",
            "_model_module_version": "1.5.0",
            "_view_count": null,
            "_view_module_version": "1.2.0",
            "_model_module": "@jupyter-widgets/controls"
          }
        },
        "d0b34b9254e74ca89c66c99bd36bbab8": {
          "model_module": "@jupyter-widgets/base",
          "model_name": "LayoutModel",
          "state": {
            "_view_name": "LayoutView",
            "grid_template_rows": null,
            "right": null,
            "justify_content": null,
            "_view_module": "@jupyter-widgets/base",
            "overflow": null,
            "_model_module_version": "1.2.0",
            "_view_count": null,
            "flex_flow": null,
            "width": null,
            "min_width": null,
            "border": null,
            "align_items": null,
            "bottom": null,
            "_model_module": "@jupyter-widgets/base",
            "top": null,
            "grid_column": null,
            "overflow_y": null,
            "overflow_x": null,
            "grid_auto_flow": null,
            "grid_area": null,
            "grid_template_columns": null,
            "flex": null,
            "_model_name": "LayoutModel",
            "justify_items": null,
            "grid_row": null,
            "max_height": null,
            "align_content": null,
            "visibility": null,
            "align_self": null,
            "height": null,
            "min_height": null,
            "padding": null,
            "grid_auto_rows": null,
            "grid_gap": null,
            "max_width": null,
            "order": null,
            "_view_module_version": "1.2.0",
            "grid_template_areas": null,
            "object_position": null,
            "object_fit": null,
            "grid_auto_columns": null,
            "margin": null,
            "display": null,
            "left": null
          }
        }
      }
    }
  },
  "cells": [
    {
      "cell_type": "code",
      "metadata": {
        "id": "oAi8d2e96T9K"
      },
      "source": [
        "import os\n",
        "import glob\n",
        "import pandas as pd\n",
        "import numpy as np\n",
        "import json\n",
        "\n",
        "from tqdm.notebook import tqdm\n",
        "\n",
        "from collections import defaultdict\n",
        "import random\n",
        "\n",
        "import tensorflow as tf\n",
        "from tensorflow import keras\n",
        "from tensorflow.keras.layers import *\n",
        "from tensorflow.keras.models import Model"
      ],
      "execution_count": null,
      "outputs": []
    },
    {
      "cell_type": "code",
      "metadata": {
        "id": "1afQ2G3k6sGL"
      },
      "source": [
        "import pickle\n",
        "\n",
        "def get_path(filename):\n",
        "  return f'/content/drive/MyDrive/Data/{filename}'\n",
        "\n",
        "def get_data_from_pickle(path):\n",
        "    with open(path, \"rb\") as f:\n",
        "        data = pickle.load(f)\n",
        "    return data\n",
        "\n",
        "def write_data_to_pickle(data, path):\n",
        "  with open(path, \"wb\") as f:\n",
        "      f.write(pickle.dumps(data))"
      ],
      "execution_count": null,
      "outputs": []
    },
    {
      "cell_type": "code",
      "metadata": {
        "id": "njex_MKc6sZu"
      },
      "source": [
        "tag_vectors = get_data_from_pickle(get_path('tag_vectors'))\n",
        "cluster_centers = get_data_from_pickle(get_path('kmeans15.cluster_centers_.pickle'))\n",
        "unique_tag_list = get_data_from_pickle(get_path('unique_tag_list.pickle'))\n",
        "tag_dict = get_data_from_pickle(get_path('tag_dict.pickle'))\n",
        "\n",
        "tag_matrix = np.array(tag_vectors)\n",
        "\n",
        "df_meta = pd.read_csv(get_path('Meta_v1.csv'))\n",
        "# df = pd.read_json(get_path('data_version_2.json'))"
      ],
      "execution_count": null,
      "outputs": []
    },
    {
      "cell_type": "code",
      "metadata": {
        "id": "SvbilhvfkMz3"
      },
      "source": [
        "df_train = pd.read_csv(get_path('train_v7.csv'))\n",
        "df_test = pd.read_csv(get_path('test_v7.csv'))"
      ],
      "execution_count": null,
      "outputs": []
    },
    {
      "cell_type": "code",
      "metadata": {
        "colab": {
          "base_uri": "https://localhost:8080/"
        },
        "id": "yPZqA75F64k_",
        "outputId": "75020edb-d800-4017-f1ae-26241d8a513f"
      },
      "source": [
        "tag_dict[8]"
      ],
      "execution_count": null,
      "outputs": [
        {
          "output_type": "execute_result",
          "data": {
            "text/plain": [
              "['연말',\n",
              " '추위',\n",
              " '행복',\n",
              " '눈',\n",
              " '따뜻함',\n",
              " '12월',\n",
              " '추운',\n",
              " '눈오는날',\n",
              " '크리스마스캐롤',\n",
              " '성탄절',\n",
              " '첫눈',\n",
              " '쌀쌀한',\n",
              " '캐롤',\n",
              " '메리크리스마스',\n",
              " '따뜻',\n",
              " '겨울밤',\n",
              " '겨울노래',\n",
              " '겨울',\n",
              " '따스함',\n",
              " '따듯한',\n",
              " '따뜻한',\n",
              " '따스한',\n",
              " '찬바람',\n",
              " 'Christmas',\n",
              " '크리스마스',\n",
              " '겨울감성',\n",
              " '가족',\n",
              " '캐럴',\n",
              " '크리스마스노래',\n",
              " '로멘틱',\n",
              " '선물']"
            ]
          },
          "metadata": {
            "tags": []
          },
          "execution_count": 223
        }
      ]
    },
    {
      "cell_type": "code",
      "metadata": {
        "id": "wmROqAgg6w0W"
      },
      "source": [
        "tag2idx = {tag: i for i, tag in enumerate(unique_tag_list)}\n",
        "idx2tag = {i: tag for i, tag in enumerate(unique_tag_list)}\n",
        "\n",
        "# df = df.reset_index(drop=True)\n",
        "\n",
        "# unique_songs = list(set([song for songs in df.songs2 for song in songs]))\n",
        "\n",
        "# song_idx2new_idx = {song_id: idx for idx, song_id in enumerate(unique_songs)}\n",
        "# new_idx2song_idx = {idx: song_id for idx, song_id in enumerate(unique_songs)}\n",
        "\n",
        "# genres_set = list(set([genre for genres in df_meta.gnrs for genre in genres]))\n",
        "\n",
        "# df_meta['new_id'] = df_meta.id.map(lambda x: song_idx2new_idx.get(int(x)))"
      ],
      "execution_count": null,
      "outputs": []
    },
    {
      "cell_type": "code",
      "metadata": {
        "colab": {
          "base_uri": "https://localhost:8080/",
          "height": 406
        },
        "id": "j06Lvc9khyID",
        "outputId": "160c5384-4a68-4491-f1cd-1b26bd553fa9"
      },
      "source": [
        "df_train"
      ],
      "execution_count": null,
      "outputs": [
        {
          "output_type": "execute_result",
          "data": {
            "text/html": [
              "<div>\n",
              "<style scoped>\n",
              "    .dataframe tbody tr th:only-of-type {\n",
              "        vertical-align: middle;\n",
              "    }\n",
              "\n",
              "    .dataframe tbody tr th {\n",
              "        vertical-align: top;\n",
              "    }\n",
              "\n",
              "    .dataframe thead th {\n",
              "        text-align: right;\n",
              "    }\n",
              "</style>\n",
              "<table border=\"1\" class=\"dataframe\">\n",
              "  <thead>\n",
              "    <tr style=\"text-align: right;\">\n",
              "      <th></th>\n",
              "      <th>tag_id</th>\n",
              "      <th>song_id</th>\n",
              "      <th>freq</th>\n",
              "      <th>freq2</th>\n",
              "    </tr>\n",
              "  </thead>\n",
              "  <tbody>\n",
              "    <tr>\n",
              "      <th>0</th>\n",
              "      <td>561</td>\n",
              "      <td>543027</td>\n",
              "      <td>1.0</td>\n",
              "      <td>0.5</td>\n",
              "    </tr>\n",
              "    <tr>\n",
              "      <th>1</th>\n",
              "      <td>1142</td>\n",
              "      <td>281511</td>\n",
              "      <td>1.0</td>\n",
              "      <td>0.5</td>\n",
              "    </tr>\n",
              "    <tr>\n",
              "      <th>2</th>\n",
              "      <td>774</td>\n",
              "      <td>90766</td>\n",
              "      <td>1.0</td>\n",
              "      <td>0.5</td>\n",
              "    </tr>\n",
              "    <tr>\n",
              "      <th>3</th>\n",
              "      <td>863</td>\n",
              "      <td>54894</td>\n",
              "      <td>3.0</td>\n",
              "      <td>1.0</td>\n",
              "    </tr>\n",
              "    <tr>\n",
              "      <th>4</th>\n",
              "      <td>113</td>\n",
              "      <td>111779</td>\n",
              "      <td>4.0</td>\n",
              "      <td>1.0</td>\n",
              "    </tr>\n",
              "    <tr>\n",
              "      <th>...</th>\n",
              "      <td>...</td>\n",
              "      <td>...</td>\n",
              "      <td>...</td>\n",
              "      <td>...</td>\n",
              "    </tr>\n",
              "    <tr>\n",
              "      <th>1221439</th>\n",
              "      <td>777</td>\n",
              "      <td>585866</td>\n",
              "      <td>1.0</td>\n",
              "      <td>0.5</td>\n",
              "    </tr>\n",
              "    <tr>\n",
              "      <th>1221440</th>\n",
              "      <td>611</td>\n",
              "      <td>300742</td>\n",
              "      <td>1.0</td>\n",
              "      <td>0.5</td>\n",
              "    </tr>\n",
              "    <tr>\n",
              "      <th>1221441</th>\n",
              "      <td>777</td>\n",
              "      <td>137882</td>\n",
              "      <td>1.0</td>\n",
              "      <td>0.5</td>\n",
              "    </tr>\n",
              "    <tr>\n",
              "      <th>1221442</th>\n",
              "      <td>225</td>\n",
              "      <td>345984</td>\n",
              "      <td>1.0</td>\n",
              "      <td>0.5</td>\n",
              "    </tr>\n",
              "    <tr>\n",
              "      <th>1221443</th>\n",
              "      <td>1028</td>\n",
              "      <td>321059</td>\n",
              "      <td>1.0</td>\n",
              "      <td>0.5</td>\n",
              "    </tr>\n",
              "  </tbody>\n",
              "</table>\n",
              "<p>1221444 rows × 4 columns</p>\n",
              "</div>"
            ],
            "text/plain": [
              "         tag_id  song_id  freq  freq2\n",
              "0           561   543027   1.0    0.5\n",
              "1          1142   281511   1.0    0.5\n",
              "2           774    90766   1.0    0.5\n",
              "3           863    54894   3.0    1.0\n",
              "4           113   111779   4.0    1.0\n",
              "...         ...      ...   ...    ...\n",
              "1221439     777   585866   1.0    0.5\n",
              "1221440     611   300742   1.0    0.5\n",
              "1221441     777   137882   1.0    0.5\n",
              "1221442     225   345984   1.0    0.5\n",
              "1221443    1028   321059   1.0    0.5\n",
              "\n",
              "[1221444 rows x 4 columns]"
            ]
          },
          "metadata": {
            "tags": []
          },
          "execution_count": 6
        }
      ]
    },
    {
      "cell_type": "code",
      "metadata": {
        "colab": {
          "base_uri": "https://localhost:8080/",
          "height": 406
        },
        "id": "xptjdb9Dl7-H",
        "outputId": "91a95ceb-c97b-4553-cba3-628d00c6e113"
      },
      "source": [
        "df_train[df_train.tag_id.map(lambda x: idx2tag.get(x)) == \"성탄절\"]"
      ],
      "execution_count": null,
      "outputs": [
        {
          "output_type": "execute_result",
          "data": {
            "text/html": [
              "<div>\n",
              "<style scoped>\n",
              "    .dataframe tbody tr th:only-of-type {\n",
              "        vertical-align: middle;\n",
              "    }\n",
              "\n",
              "    .dataframe tbody tr th {\n",
              "        vertical-align: top;\n",
              "    }\n",
              "\n",
              "    .dataframe thead th {\n",
              "        text-align: right;\n",
              "    }\n",
              "</style>\n",
              "<table border=\"1\" class=\"dataframe\">\n",
              "  <thead>\n",
              "    <tr style=\"text-align: right;\">\n",
              "      <th></th>\n",
              "      <th>tag_id</th>\n",
              "      <th>song_id</th>\n",
              "      <th>freq</th>\n",
              "      <th>freq2</th>\n",
              "    </tr>\n",
              "  </thead>\n",
              "  <tbody>\n",
              "    <tr>\n",
              "      <th>1416</th>\n",
              "      <td>473</td>\n",
              "      <td>338900</td>\n",
              "      <td>1.0</td>\n",
              "      <td>0.5</td>\n",
              "    </tr>\n",
              "    <tr>\n",
              "      <th>3159</th>\n",
              "      <td>473</td>\n",
              "      <td>666451</td>\n",
              "      <td>1.0</td>\n",
              "      <td>0.5</td>\n",
              "    </tr>\n",
              "    <tr>\n",
              "      <th>5368</th>\n",
              "      <td>473</td>\n",
              "      <td>61771</td>\n",
              "      <td>4.0</td>\n",
              "      <td>1.0</td>\n",
              "    </tr>\n",
              "    <tr>\n",
              "      <th>9004</th>\n",
              "      <td>473</td>\n",
              "      <td>312381</td>\n",
              "      <td>1.0</td>\n",
              "      <td>0.5</td>\n",
              "    </tr>\n",
              "    <tr>\n",
              "      <th>9550</th>\n",
              "      <td>473</td>\n",
              "      <td>397351</td>\n",
              "      <td>1.0</td>\n",
              "      <td>0.5</td>\n",
              "    </tr>\n",
              "    <tr>\n",
              "      <th>...</th>\n",
              "      <td>...</td>\n",
              "      <td>...</td>\n",
              "      <td>...</td>\n",
              "      <td>...</td>\n",
              "    </tr>\n",
              "    <tr>\n",
              "      <th>1202186</th>\n",
              "      <td>473</td>\n",
              "      <td>332893</td>\n",
              "      <td>1.0</td>\n",
              "      <td>0.5</td>\n",
              "    </tr>\n",
              "    <tr>\n",
              "      <th>1203756</th>\n",
              "      <td>473</td>\n",
              "      <td>83577</td>\n",
              "      <td>1.0</td>\n",
              "      <td>0.5</td>\n",
              "    </tr>\n",
              "    <tr>\n",
              "      <th>1210394</th>\n",
              "      <td>473</td>\n",
              "      <td>262699</td>\n",
              "      <td>1.0</td>\n",
              "      <td>0.5</td>\n",
              "    </tr>\n",
              "    <tr>\n",
              "      <th>1211179</th>\n",
              "      <td>473</td>\n",
              "      <td>262202</td>\n",
              "      <td>1.0</td>\n",
              "      <td>0.5</td>\n",
              "    </tr>\n",
              "    <tr>\n",
              "      <th>1218284</th>\n",
              "      <td>473</td>\n",
              "      <td>362694</td>\n",
              "      <td>2.0</td>\n",
              "      <td>1.0</td>\n",
              "    </tr>\n",
              "  </tbody>\n",
              "</table>\n",
              "<p>238 rows × 4 columns</p>\n",
              "</div>"
            ],
            "text/plain": [
              "         tag_id  song_id  freq  freq2\n",
              "1416        473   338900   1.0    0.5\n",
              "3159        473   666451   1.0    0.5\n",
              "5368        473    61771   4.0    1.0\n",
              "9004        473   312381   1.0    0.5\n",
              "9550        473   397351   1.0    0.5\n",
              "...         ...      ...   ...    ...\n",
              "1202186     473   332893   1.0    0.5\n",
              "1203756     473    83577   1.0    0.5\n",
              "1210394     473   262699   1.0    0.5\n",
              "1211179     473   262202   1.0    0.5\n",
              "1218284     473   362694   2.0    1.0\n",
              "\n",
              "[238 rows x 4 columns]"
            ]
          },
          "metadata": {
            "tags": []
          },
          "execution_count": 7
        }
      ]
    },
    {
      "cell_type": "code",
      "metadata": {
        "colab": {
          "base_uri": "https://localhost:8080/",
          "height": 77
        },
        "id": "KpseR3sNmC9x",
        "outputId": "2b43edf9-160a-49d7-98b8-12f795a6e3f0"
      },
      "source": [
        "df_meta[df_meta.id == 338900]"
      ],
      "execution_count": null,
      "outputs": [
        {
          "output_type": "execute_result",
          "data": {
            "text/html": [
              "<div>\n",
              "<style scoped>\n",
              "    .dataframe tbody tr th:only-of-type {\n",
              "        vertical-align: middle;\n",
              "    }\n",
              "\n",
              "    .dataframe tbody tr th {\n",
              "        vertical-align: top;\n",
              "    }\n",
              "\n",
              "    .dataframe thead th {\n",
              "        text-align: right;\n",
              "    }\n",
              "</style>\n",
              "<table border=\"1\" class=\"dataframe\">\n",
              "  <thead>\n",
              "    <tr style=\"text-align: right;\">\n",
              "      <th></th>\n",
              "      <th>song_gn_dtl_gnr_basket</th>\n",
              "      <th>issue_date</th>\n",
              "      <th>album_name</th>\n",
              "      <th>album_id</th>\n",
              "      <th>artist_id_basket</th>\n",
              "      <th>song_name</th>\n",
              "      <th>song_gn_gnr_basket</th>\n",
              "      <th>artist_name_basket</th>\n",
              "      <th>id</th>\n",
              "      <th>gnrs</th>\n",
              "      <th>new_id</th>\n",
              "    </tr>\n",
              "  </thead>\n",
              "  <tbody>\n",
              "    <tr>\n",
              "      <th>33529</th>\n",
              "      <td>['GN0901']</td>\n",
              "      <td>20181105</td>\n",
              "      <td>Everyday Is Christmas (Deluxe)</td>\n",
              "      <td>10107511</td>\n",
              "      <td>[54103]</td>\n",
              "      <td>Candy Cane Lane</td>\n",
              "      <td>['GN0900']</td>\n",
              "      <td>['Sia']</td>\n",
              "      <td>338900</td>\n",
              "      <td>['POP']</td>\n",
              "      <td>42920</td>\n",
              "    </tr>\n",
              "  </tbody>\n",
              "</table>\n",
              "</div>"
            ],
            "text/plain": [
              "      song_gn_dtl_gnr_basket  issue_date  ...     gnrs  new_id\n",
              "33529             ['GN0901']    20181105  ...  ['POP']   42920\n",
              "\n",
              "[1 rows x 11 columns]"
            ]
          },
          "metadata": {
            "tags": []
          },
          "execution_count": 8
        }
      ]
    },
    {
      "cell_type": "code",
      "metadata": {
        "id": "--0ozIBpl76o"
      },
      "source": [
        ""
      ],
      "execution_count": null,
      "outputs": []
    },
    {
      "cell_type": "code",
      "metadata": {
        "id": "NN50W6226zRU"
      },
      "source": [
        "# df['tagIds'] = df.tags.map(lambda x: [tag2idx.get(tag) for tag in x])\n",
        "\n",
        "tag_cluster_ids = [\n",
        "    [tag2idx[tag] for tag in tag_dict[key]]\n",
        "    for key in range(15)\n",
        "]\n",
        "\n",
        "# min_tag_count = 2\n",
        "\n",
        "# df_clusters = [\n",
        "#     df[df.tagIds.map(lambda x: np.intersect1d(tag_cluster_ids[key], x, assume_unique=True).shape[0] >= min_tag_count )]\n",
        "#     for key in range(15)\n",
        "# ]\n",
        "\n",
        "# cluster_songs = []\n",
        "\n",
        "# for key in range(15):\n",
        "#     cluster_songs.append(list(set([song for songs in df_clusters[key].songs2 for song in songs])))\n",
        "#     print(f\"{key} : {df_clusters[key].shape} / {len(cluster_songs[key])}\")"
      ],
      "execution_count": null,
      "outputs": []
    },
    {
      "cell_type": "code",
      "metadata": {
        "id": "pUd4Uy_s60oY"
      },
      "source": [
        "def get_recommendation_model(tag_num, music_num, embedding_matrix, latent_features=10, trainable=True):\n",
        "\n",
        "  tag = Input(shape=(1,), dtype='int32')\n",
        "  item = Input(shape=(1,), dtype='int32')\n",
        "\n",
        "  # User embedding for GMF\n",
        "\n",
        "  gmf_tag_embedding = Embedding(\n",
        "            embedding_matrix.shape[0],\n",
        "            embedding_matrix.shape[1],\n",
        "            input_length=1,\n",
        "            embeddings_initializer=keras.initializers.Constant(embedding_matrix),\n",
        "            trainable=trainable,\n",
        "            name='tag_embedding'\n",
        "        )(tag)\n",
        "  \n",
        "  # gmf_tag_embedding = Embedding(tag_num, latent_features, input_length=user.shape[1])(tag)\n",
        "  gmf_tag_embedding = Flatten()(gmf_tag_embedding)\n",
        "\n",
        "  # Item embedding for GMF\n",
        "  gmf_item_embedding = Embedding(music_num, latent_features, input_length=item.shape[1])(item)\n",
        "  gmf_item_embedding = Flatten()(gmf_item_embedding)\n",
        "\n",
        "  # GMF layers\n",
        "  gmf_mul =  Multiply()([gmf_tag_embedding, gmf_item_embedding])\n",
        "\n",
        "\n",
        "  # User embedding for MLP\n",
        "  mlp_tag_embedding = Embedding(\n",
        "            embedding_matrix.shape[0],\n",
        "            embedding_matrix.shape[1],\n",
        "            input_length=1,\n",
        "            embeddings_initializer=keras.initializers.Constant(embedding_matrix),\n",
        "            trainable=trainable,\n",
        "            name='tag_embedding2'\n",
        "        )(tag)\n",
        "  \n",
        "  mlp_tag_embedding = Flatten()(mlp_tag_embedding)\n",
        "\n",
        "  # Item embedding for MLP\n",
        "  mlp_item_embedding = Embedding(music_num, 32, input_length=item.shape[1])(item)\n",
        "  mlp_item_embedding = Flatten()(mlp_item_embedding)\n",
        "\n",
        "  # MLP layers\n",
        "  mlp_concat = Concatenate()([mlp_tag_embedding, mlp_item_embedding])\n",
        "  mlp_dropout = Dropout(0.2)(mlp_concat)\n",
        "\n",
        "  # Layer1\n",
        "  mlp_layer_1 = Dense(units=64, activation='relu', name='mlp_layer1')(mlp_dropout)  # (64,1)\n",
        "  mlp_dropout1 = Dropout(rate=0.2, name='dropout1')(mlp_layer_1)                    # (64,1)\n",
        "  mlp_batch_norm1 = BatchNormalization(name='batch_norm1')(mlp_dropout1)            # (64,1)\n",
        "\n",
        "  # Layer2\n",
        "  mlp_layer_2 = Dense(units=32, activation='relu', name='mlp_layer2')(mlp_batch_norm1)  # (32,1)\n",
        "  mlp_dropout2 = Dropout(rate=0.2, name='dropout2')(mlp_layer_2)                        # (32,1)\n",
        "  mlp_batch_norm2 = BatchNormalization(name='batch_norm2')(mlp_dropout2)                # (32,1)\n",
        "\n",
        "  # Layer3\n",
        "  mlp_layer_3 = Dense(units=16, activation='relu', name='mlp_layer3')(mlp_batch_norm2)  # (16,1)\n",
        "\n",
        "  # Layer4\n",
        "  mlp_layer_4 = Dense(units=8, activation='relu', name='mlp_layer4')(mlp_layer_3)       # (8,1)\n",
        "\n",
        "\n",
        "\n",
        "  # merge GMF + MLP\n",
        "  merged_vector = tf.keras.layers.concatenate([gmf_mul, mlp_layer_4]) # (16)\n",
        "\n",
        "  # Output layer\n",
        "  output_layer = Dense(1, kernel_initializer='lecun_uniform', name='output_layer')(merged_vector) # 1,1 / h(8,1)초기화\n",
        "\n",
        "  # Model\n",
        "  model = Model([tag, item], output_layer)\n",
        "  model.compile(optimizer= 'adam', loss= 'binary_crossentropy', metrics=[\"mse\"])\n",
        "  return model"
      ],
      "execution_count": null,
      "outputs": []
    },
    {
      "cell_type": "code",
      "metadata": {
        "id": "HE0XkqkO61yk"
      },
      "source": [
        "class AllTagClusterModel(object):\n",
        "    \n",
        "    def __init__(self, _df, tag2idx):\n",
        "        self._df = _df\n",
        "        \n",
        "        self.tag2id = tag2idx\n",
        "        self._max_tag_len = len(tag2idx.keys())\n",
        "        self._unique_tag_list = list(tag2idx.keys())\n",
        "        \n",
        "        self._unique_songs = list(set([song for songs in _df.songs2 for song in songs]))\n",
        "        self._song_idx2new_idx = {song_id: idx for idx, song_id in enumerate(self._unique_songs)}\n",
        "        self._new_idx2song_idx = {idx: song_id for idx, song_id in enumerate(self._unique_songs)}\n",
        "        self._max_song_len = len(self._unique_songs)\n",
        "        \n",
        "        self._df['_song_ids'] = _df.songs2.map(lambda x: [self._song_idx2new_idx.get(song) for song in x])\n",
        "        \n",
        "        \n",
        "    def preprocess(self, test_size=0.2, NEG_SAMPLE_NUM=20):\n",
        "        _tag_song_freq = {i: defaultdict(int) for i in range(self._max_tag_len)}\n",
        "        \n",
        "        for tags, songs in tqdm(zip(self._df.tagIds, self._df._song_ids)):\n",
        "            for song in songs:\n",
        "                for tag in tags:\n",
        "                    _tag_song_freq[tag][song] += 1\n",
        "                    \n",
        "        _df_freq = pd.DataFrame(_tag_song_freq).T\n",
        "        _df_freq = _df_freq.stack().reset_index()\n",
        "        _df_freq.columns = ['tag_id', 'song_id', 'freq']\n",
        "        \n",
        "        neg_data = []\n",
        "        \n",
        "        for tag in tqdm(self._unique_tag_list):\n",
        "            i = NEG_SAMPLE_NUM\n",
        "            new_tag_id = self.tag2id[tag]\n",
        "            while i:\n",
        "                random_id = self.get_random_music_id(self._max_song_len)\n",
        "                if not _tag_song_freq[new_tag_id][random_id]:\n",
        "                    neg_data.append((new_tag_id, random_id, 0))\n",
        "                    i -= 1\n",
        "        \n",
        "        _df_neg = pd.DataFrame(neg_data, columns=_df_freq.columns)\n",
        "        _df_freq = pd.concat([_df_freq, _df_neg]).sample(frac=1).reset_index(drop=True)\n",
        "        _df_freq['freq2'] = _df_freq.freq.map(lambda x: 0.5 if x == 1 else (0 if x == 0 else 1))\n",
        "\n",
        "        _df_over = _df_freq[_df_freq.freq > 1]\n",
        "        \n",
        "        test = _df_over.groupby('tag_id').apply(lambda x: self.get_test_sample(x, test_size)).reset_index()\n",
        "        self.test = test.sample(frac=1).reset_index(drop=True)\n",
        "        \n",
        "        self.train = _df_freq[~_df_freq.index.isin(self.test.level_1)]\n",
        "        \n",
        "        self.x_train = [ \n",
        "                        self.train.tag_id.values.reshape(-1,1),\n",
        "                        self.train.song_id.values.reshape(-1,1)\n",
        "                        ]\n",
        "        self.y_train = self.train.freq2.values\n",
        "        \n",
        "        self.x_test = [ \n",
        "                       self.test.tag_id.values.reshape(-1,1),\n",
        "                       self.test.song_id.values.reshape(-1,1)\n",
        "                       ]\n",
        "        self.y_test = self.test.freq2.values\n",
        "        \n",
        "        \n",
        "        \n",
        "    def build_model(self, tag_matrix, EMBEDDING_SIZE=10, trainable=True):\n",
        "        self.model = get_recommendation_model(self._max_tag_len, self._max_song_len, tag_matrix, EMBEDDING_SIZE, trainable)\n",
        "        \n",
        "    def fit(self, batch_size=64, epochs=10):\n",
        "        self.history = self.model.fit(\n",
        "            x=self.x_train,\n",
        "            y=self.y_train,\n",
        "            batch_size=batch_size,\n",
        "            epochs=epochs,\n",
        "            verbose=1,\n",
        "            validation_data=(self.x_test, self.y_test),\n",
        "        )\n",
        "        \n",
        "    def print_summary(self):\n",
        "      print(self.model.summary())\n",
        "        \n",
        "    def predict(self, tag, k=50):\n",
        "      _test_tag_id = self.tag2id.get(tag)\n",
        "\n",
        "      if _test_tag_id == None: return []\n",
        "\n",
        "      tags_input = np.array([_test_tag_id] * self._max_song_len).reshape(-1, 1)\n",
        "      songs_input = np.array([*range(self._max_song_len)]).reshape(-1, 1)\n",
        "      \n",
        "      predicted = self.model.predict([tags_input, songs_input]).flatten()\n",
        "      predicted = predicted.argsort()[-k:][::-1]\n",
        "\n",
        "      return [self._new_idx2song_idx.get(new_id) for new_id in predicted]\n",
        "        \n",
        "    @staticmethod\n",
        "    def get_test_sample(df, test_size=0.2, drop_column='tag_id'):\n",
        "        return df.sample(frac=test_size).drop(drop_column, axis=1)\n",
        "        \n",
        "    @staticmethod\n",
        "    def get_random_music_id(_max_len):\n",
        "        return random.randint(0, _max_len-1)"
      ],
      "execution_count": null,
      "outputs": []
    },
    {
      "cell_type": "code",
      "metadata": {
        "id": "XoH8m6jStuBy"
      },
      "source": [
        "# train['song_id2'] = train.song_id.map(lambda x: all_tag_model._new_idx2song_idx[x])\n",
        "# test['song_id2'] = test.song_id.map(lambda x: all_tag_model._new_idx2song_idx[x])"
      ],
      "execution_count": null,
      "outputs": []
    },
    {
      "cell_type": "code",
      "metadata": {
        "id": "coVp0A3K6866"
      },
      "source": [
        "train_clusters = [df_train[df_train.tag_id.isin(tag_cluster_ids[key])] for key in range(15)]"
      ],
      "execution_count": null,
      "outputs": []
    },
    {
      "cell_type": "code",
      "metadata": {
        "colab": {
          "base_uri": "https://localhost:8080/"
        },
        "id": "VaI09P7mCjPG",
        "outputId": "f2b790bd-4ac9-4734-9644-cfb8c941fbea"
      },
      "source": [
        "for i, train_df in enumerate(train_clusters):\n",
        "  print(f\"{i} {train_df.shape} / song: {train_df.song_id.nunique()} tag: {train_df.tag_id.nunique()}\")"
      ],
      "execution_count": null,
      "outputs": [
        {
          "output_type": "stream",
          "text": [
            "0 (57972, 4) / song: 20555 tag: 54\n",
            "1 (47934, 4) / song: 25221 tag: 286\n",
            "2 (33666, 4) / song: 14329 tag: 35\n",
            "3 (7149, 4) / song: 3553 tag: 26\n",
            "4 (67939, 4) / song: 30099 tag: 178\n",
            "5 (77976, 4) / song: 27710 tag: 148\n",
            "6 (128633, 4) / song: 41330 tag: 87\n",
            "7 (84746, 4) / song: 27237 tag: 59\n",
            "8 (38080, 4) / song: 17198 tag: 31\n",
            "9 (282379, 4) / song: 51232 tag: 138\n",
            "10 (104839, 4) / song: 32576 tag: 100\n",
            "11 (140968, 4) / song: 44154 tag: 92\n",
            "12 (7636, 4) / song: 4635 tag: 15\n",
            "13 (87454, 4) / song: 28336 tag: 80\n",
            "14 (54073, 4) / song: 18956 tag: 53\n"
          ],
          "name": "stdout"
        }
      ]
    },
    {
      "cell_type": "code",
      "metadata": {
        "colab": {
          "base_uri": "https://localhost:8080/"
        },
        "id": "28Uk_ZvjCjMW",
        "outputId": "94f4d7d2-110b-4c49-ea9c-bc8a91ec8d11"
      },
      "source": [
        "train_freq_clusters = []\n",
        "for i in range(15):\n",
        "  song_freq_cluster = train_clusters[i].song_id.value_counts()\n",
        "  freq_song_ids = song_freq_cluster[song_freq_cluster > 3].index.values\n",
        "  train_freq_clusters.append(train_clusters[i][train_clusters[i].song_id.isin(freq_song_ids)])\n",
        "  print(f\"{i}: {train_freq_clusters[i].shape} / {freq_song_ids.shape}\")"
      ],
      "execution_count": null,
      "outputs": [
        {
          "output_type": "stream",
          "text": [
            "0: (33283, 4) / (5095,)\n",
            "1: (15498, 4) / (2615,)\n",
            "2: (14764, 4) / (2467,)\n",
            "3: (3268, 4) / (425,)\n",
            "4: (28814, 4) / (4857,)\n",
            "5: (45832, 4) / (6793,)\n",
            "6: (73502, 4) / (11909,)\n",
            "7: (49282, 4) / (6720,)\n",
            "8: (16947, 4) / (2841,)\n",
            "9: (236054, 4) / (25836,)\n",
            "10: (67140, 4) / (9208,)\n",
            "11: (87836, 4) / (13599,)\n",
            "12: (1350, 4) / (253,)\n",
            "13: (55414, 4) / (7369,)\n",
            "14: (32534, 4) / (4309,)\n"
          ],
          "name": "stdout"
        }
      ]
    },
    {
      "cell_type": "code",
      "metadata": {
        "colab": {
          "base_uri": "https://localhost:8080/",
          "height": 406
        },
        "id": "VotgG91xFTJd",
        "outputId": "282e7d30-3ddb-48d5-aef4-c441b284cf9a"
      },
      "source": [
        "df_train"
      ],
      "execution_count": null,
      "outputs": [
        {
          "output_type": "execute_result",
          "data": {
            "text/html": [
              "<div>\n",
              "<style scoped>\n",
              "    .dataframe tbody tr th:only-of-type {\n",
              "        vertical-align: middle;\n",
              "    }\n",
              "\n",
              "    .dataframe tbody tr th {\n",
              "        vertical-align: top;\n",
              "    }\n",
              "\n",
              "    .dataframe thead th {\n",
              "        text-align: right;\n",
              "    }\n",
              "</style>\n",
              "<table border=\"1\" class=\"dataframe\">\n",
              "  <thead>\n",
              "    <tr style=\"text-align: right;\">\n",
              "      <th></th>\n",
              "      <th>tag_id</th>\n",
              "      <th>song_id</th>\n",
              "      <th>freq</th>\n",
              "      <th>freq2</th>\n",
              "    </tr>\n",
              "  </thead>\n",
              "  <tbody>\n",
              "    <tr>\n",
              "      <th>0</th>\n",
              "      <td>561</td>\n",
              "      <td>543027</td>\n",
              "      <td>1.0</td>\n",
              "      <td>0.5</td>\n",
              "    </tr>\n",
              "    <tr>\n",
              "      <th>1</th>\n",
              "      <td>1142</td>\n",
              "      <td>281511</td>\n",
              "      <td>1.0</td>\n",
              "      <td>0.5</td>\n",
              "    </tr>\n",
              "    <tr>\n",
              "      <th>2</th>\n",
              "      <td>774</td>\n",
              "      <td>90766</td>\n",
              "      <td>1.0</td>\n",
              "      <td>0.5</td>\n",
              "    </tr>\n",
              "    <tr>\n",
              "      <th>3</th>\n",
              "      <td>863</td>\n",
              "      <td>54894</td>\n",
              "      <td>3.0</td>\n",
              "      <td>1.0</td>\n",
              "    </tr>\n",
              "    <tr>\n",
              "      <th>4</th>\n",
              "      <td>113</td>\n",
              "      <td>111779</td>\n",
              "      <td>4.0</td>\n",
              "      <td>1.0</td>\n",
              "    </tr>\n",
              "    <tr>\n",
              "      <th>...</th>\n",
              "      <td>...</td>\n",
              "      <td>...</td>\n",
              "      <td>...</td>\n",
              "      <td>...</td>\n",
              "    </tr>\n",
              "    <tr>\n",
              "      <th>1221439</th>\n",
              "      <td>777</td>\n",
              "      <td>585866</td>\n",
              "      <td>1.0</td>\n",
              "      <td>0.5</td>\n",
              "    </tr>\n",
              "    <tr>\n",
              "      <th>1221440</th>\n",
              "      <td>611</td>\n",
              "      <td>300742</td>\n",
              "      <td>1.0</td>\n",
              "      <td>0.5</td>\n",
              "    </tr>\n",
              "    <tr>\n",
              "      <th>1221441</th>\n",
              "      <td>777</td>\n",
              "      <td>137882</td>\n",
              "      <td>1.0</td>\n",
              "      <td>0.5</td>\n",
              "    </tr>\n",
              "    <tr>\n",
              "      <th>1221442</th>\n",
              "      <td>225</td>\n",
              "      <td>345984</td>\n",
              "      <td>1.0</td>\n",
              "      <td>0.5</td>\n",
              "    </tr>\n",
              "    <tr>\n",
              "      <th>1221443</th>\n",
              "      <td>1028</td>\n",
              "      <td>321059</td>\n",
              "      <td>1.0</td>\n",
              "      <td>0.5</td>\n",
              "    </tr>\n",
              "  </tbody>\n",
              "</table>\n",
              "<p>1221444 rows × 4 columns</p>\n",
              "</div>"
            ],
            "text/plain": [
              "         tag_id  song_id  freq  freq2\n",
              "0           561   543027   1.0    0.5\n",
              "1          1142   281511   1.0    0.5\n",
              "2           774    90766   1.0    0.5\n",
              "3           863    54894   3.0    1.0\n",
              "4           113   111779   4.0    1.0\n",
              "...         ...      ...   ...    ...\n",
              "1221439     777   585866   1.0    0.5\n",
              "1221440     611   300742   1.0    0.5\n",
              "1221441     777   137882   1.0    0.5\n",
              "1221442     225   345984   1.0    0.5\n",
              "1221443    1028   321059   1.0    0.5\n",
              "\n",
              "[1221444 rows x 4 columns]"
            ]
          },
          "metadata": {
            "tags": []
          },
          "execution_count": 19
        }
      ]
    },
    {
      "cell_type": "code",
      "metadata": {
        "id": "pqNCcK5b8p2U"
      },
      "source": [
        "class ClusterModel(object):\n",
        "    \n",
        "    def __init__(self, train, tag2idx):\n",
        "        self.song_freq_cluster = train.song_id.value_counts()\n",
        "        self.freq_song_ids  = self.song_freq_cluster[self.song_freq_cluster > 2].index.values\n",
        "        self.train = train[train.song_id.isin(self.freq_song_ids)]\n",
        "\n",
        "        self.tag2id = tag2idx\n",
        "        self._max_tag_len = len(tag2idx.keys())\n",
        "        self._unique_tag_list = list(tag2idx.keys())\n",
        "        \n",
        "        self._unique_songs = self.freq_song_ids\n",
        "        self._max_song_len = len(self._unique_songs)\n",
        "\n",
        "        self._song_idx2new_idx = {song_id: idx for idx, song_id in enumerate(self._unique_songs)}\n",
        "        self._new_idx2song_idx = {idx: song_id for idx, song_id in enumerate(self._unique_songs)}\n",
        "\n",
        "        self.train['_song_id'] = self.train.song_id.map(lambda song_id: self._song_idx2new_idx.get(song_id))\n",
        "\n",
        "        self.x_train = [ \n",
        "                        self.train.tag_id.values.reshape(-1,1),\n",
        "                        self.train._song_id.values.reshape(-1,1)\n",
        "                        ]\n",
        "        \n",
        "        self.y_train = self.train.freq2.values\n",
        "\n",
        "    def build_model(self, tag_matrix, EMBEDDING_SIZE=10, trainable=True):\n",
        "        self.model = get_recommendation_model(self._max_tag_len, self._max_song_len, tag_matrix, EMBEDDING_SIZE, trainable)\n",
        "        \n",
        "    def fit(self, batch_size=64, epochs=10):\n",
        "        self.history = self.model.fit(\n",
        "            x=self.x_train,\n",
        "            y=self.y_train,\n",
        "            batch_size=batch_size,\n",
        "            epochs=epochs,\n",
        "            verbose=1\n",
        "        )\n",
        "        \n",
        "    def print_summary(self):\n",
        "      print(self.model.summary())\n",
        "        \n",
        "    def predict(self, tag, k=50):\n",
        "      _test_tag_id = self.tag2id.get(tag)\n",
        "\n",
        "      if _test_tag_id == None: return []\n",
        "\n",
        "      tags_input = np.array([_test_tag_id] * self._max_song_len).reshape(-1, 1)\n",
        "      songs_input = np.array([*range(self._max_song_len)]).reshape(-1, 1)\n",
        "      \n",
        "      predicted = self.model.predict([tags_input, songs_input]).flatten()\n",
        "      predicted = predicted.argsort()[-k:][::-1]\n",
        "\n",
        "      return [self._new_idx2song_idx.get(new_id) for new_id in predicted]\n"
      ],
      "execution_count": null,
      "outputs": []
    },
    {
      "cell_type": "code",
      "metadata": {
        "id": "44B54Nr7-zIE"
      },
      "source": [
        "Clusters = [\n",
        "    ClusterModel(train_freq_clusters[i], tag2idx)\n",
        "    for i in range(15)\n",
        "] "
      ],
      "execution_count": null,
      "outputs": []
    },
    {
      "cell_type": "code",
      "metadata": {
        "id": "RyfCuyY3---a"
      },
      "source": [
        "for i in range(15):\n",
        "  Clusters[i].build_model(tag_matrix)"
      ],
      "execution_count": null,
      "outputs": []
    },
    {
      "cell_type": "code",
      "metadata": {
        "colab": {
          "base_uri": "https://localhost:8080/"
        },
        "id": "TWW9b5ij_AOb",
        "outputId": "a729cd0e-6163-47ff-d5cf-b942219554ca"
      },
      "source": [
        "for i in range(15):\n",
        "  print(f\"Model {i}\")\n",
        "  Clusters[i].fit()"
      ],
      "execution_count": null,
      "outputs": [
        {
          "output_type": "stream",
          "text": [
            "Model 0\n",
            "Epoch 1/10\n",
            "521/521 [==============================] - 3s 6ms/step - loss: 0.8455 - mse: 0.0729\n",
            "Epoch 2/10\n",
            "521/521 [==============================] - 3s 7ms/step - loss: 0.7099 - mse: 0.0469\n",
            "Epoch 3/10\n",
            "521/521 [==============================] - 3s 6ms/step - loss: 0.6872 - mse: 0.0375\n",
            "Epoch 4/10\n",
            "521/521 [==============================] - 3s 6ms/step - loss: 0.6714 - mse: 0.0304\n",
            "Epoch 5/10\n",
            "521/521 [==============================] - 3s 6ms/step - loss: 0.6596 - mse: 0.0258\n",
            "Epoch 6/10\n",
            "521/521 [==============================] - 3s 6ms/step - loss: 0.6491 - mse: 0.0219\n",
            "Epoch 7/10\n",
            "521/521 [==============================] - 3s 6ms/step - loss: 0.6396 - mse: 0.0192\n",
            "Epoch 8/10\n",
            "521/521 [==============================] - 3s 6ms/step - loss: 0.6324 - mse: 0.0174\n",
            "Epoch 9/10\n",
            "521/521 [==============================] - 3s 6ms/step - loss: 0.6261 - mse: 0.0164\n",
            "Epoch 10/10\n",
            "521/521 [==============================] - 3s 6ms/step - loss: 0.6200 - mse: 0.0160\n",
            "Model 1\n",
            "Epoch 1/10\n",
            "243/243 [==============================] - 1s 5ms/step - loss: 2.3356 - mse: 0.2527\n",
            "Epoch 2/10\n",
            "243/243 [==============================] - 1s 5ms/step - loss: 0.7446 - mse: 0.0450\n",
            "Epoch 3/10\n",
            "243/243 [==============================] - 1s 5ms/step - loss: 0.7193 - mse: 0.0374\n",
            "Epoch 4/10\n",
            "243/243 [==============================] - 1s 5ms/step - loss: 0.7075 - mse: 0.0331\n",
            "Epoch 5/10\n",
            "243/243 [==============================] - 1s 5ms/step - loss: 0.6994 - mse: 0.0295\n",
            "Epoch 6/10\n",
            "243/243 [==============================] - 1s 5ms/step - loss: 0.6917 - mse: 0.0262\n",
            "Epoch 7/10\n",
            "243/243 [==============================] - 1s 5ms/step - loss: 0.6831 - mse: 0.0223\n",
            "Epoch 8/10\n",
            "243/243 [==============================] - 1s 5ms/step - loss: 0.6751 - mse: 0.0191\n",
            "Epoch 9/10\n",
            "243/243 [==============================] - 1s 5ms/step - loss: 0.6658 - mse: 0.0158\n",
            "Epoch 10/10\n",
            "243/243 [==============================] - 1s 5ms/step - loss: 0.6582 - mse: 0.0135\n",
            "Model 2\n",
            "Epoch 1/10\n",
            "231/231 [==============================] - 1s 5ms/step - loss: 1.7236 - mse: 0.1976\n",
            "Epoch 2/10\n",
            "231/231 [==============================] - 1s 5ms/step - loss: 0.8579 - mse: 0.1011\n",
            "Epoch 3/10\n",
            "231/231 [==============================] - 1s 5ms/step - loss: 0.7553 - mse: 0.0816\n",
            "Epoch 4/10\n",
            "231/231 [==============================] - 1s 5ms/step - loss: 0.7033 - mse: 0.0636\n",
            "Epoch 5/10\n",
            "231/231 [==============================] - 1s 6ms/step - loss: 0.6708 - mse: 0.0552\n",
            "Epoch 6/10\n",
            "231/231 [==============================] - 1s 6ms/step - loss: 0.6491 - mse: 0.0502\n",
            "Epoch 7/10\n",
            "231/231 [==============================] - 1s 6ms/step - loss: 0.6302 - mse: 0.0429\n",
            "Epoch 8/10\n",
            "231/231 [==============================] - 1s 6ms/step - loss: 0.6219 - mse: 0.0415\n",
            "Epoch 9/10\n",
            "231/231 [==============================] - 1s 6ms/step - loss: 0.6022 - mse: 0.0364\n",
            "Epoch 10/10\n",
            "231/231 [==============================] - 1s 6ms/step - loss: 0.5846 - mse: 0.0336\n",
            "Model 3\n",
            "Epoch 1/10\n",
            "52/52 [==============================] - 0s 5ms/step - loss: 1.4036 - mse: 0.2190\n",
            "Epoch 2/10\n",
            "52/52 [==============================] - 0s 5ms/step - loss: 0.8930 - mse: 0.1317\n",
            "Epoch 3/10\n",
            "52/52 [==============================] - 0s 5ms/step - loss: 0.8329 - mse: 0.1225\n",
            "Epoch 4/10\n",
            "52/52 [==============================] - 0s 5ms/step - loss: 0.7796 - mse: 0.1081\n",
            "Epoch 5/10\n",
            "52/52 [==============================] - 0s 5ms/step - loss: 0.7383 - mse: 0.1089\n",
            "Epoch 6/10\n",
            "52/52 [==============================] - 0s 5ms/step - loss: 0.6992 - mse: 0.0901\n",
            "Epoch 7/10\n",
            "52/52 [==============================] - 0s 5ms/step - loss: 0.6768 - mse: 0.0809\n",
            "Epoch 8/10\n",
            "52/52 [==============================] - 0s 5ms/step - loss: 0.6806 - mse: 0.0758\n",
            "Epoch 9/10\n",
            "52/52 [==============================] - 0s 5ms/step - loss: 0.6575 - mse: 0.0748\n",
            "Epoch 10/10\n",
            "52/52 [==============================] - 0s 5ms/step - loss: 0.6549 - mse: 0.0761\n",
            "Model 4\n",
            "Epoch 1/10\n",
            "451/451 [==============================] - 3s 6ms/step - loss: 1.6566 - mse: 0.1768\n",
            "Epoch 2/10\n",
            "451/451 [==============================] - 3s 6ms/step - loss: 0.7808 - mse: 0.0790\n",
            "Epoch 3/10\n",
            "451/451 [==============================] - 3s 6ms/step - loss: 0.7185 - mse: 0.0618\n",
            "Epoch 4/10\n",
            "451/451 [==============================] - 3s 6ms/step - loss: 0.6882 - mse: 0.0500\n",
            "Epoch 5/10\n",
            "451/451 [==============================] - 3s 6ms/step - loss: 0.6640 - mse: 0.0399\n",
            "Epoch 6/10\n",
            "451/451 [==============================] - 3s 6ms/step - loss: 0.6399 - mse: 0.0316\n",
            "Epoch 7/10\n",
            "451/451 [==============================] - 3s 6ms/step - loss: 0.6173 - mse: 0.0262\n",
            "Epoch 8/10\n",
            "451/451 [==============================] - 3s 6ms/step - loss: 0.6025 - mse: 0.0234\n",
            "Epoch 9/10\n",
            "451/451 [==============================] - 3s 6ms/step - loss: 0.5898 - mse: 0.0222\n",
            "Epoch 10/10\n",
            "451/451 [==============================] - 3s 6ms/step - loss: 0.5802 - mse: 0.0218\n",
            "Model 5\n",
            "Epoch 1/10\n",
            "717/717 [==============================] - 5s 7ms/step - loss: 1.1727 - mse: 0.1158\n",
            "Epoch 2/10\n",
            "717/717 [==============================] - 5s 7ms/step - loss: 0.7005 - mse: 0.0545\n",
            "Epoch 3/10\n",
            "717/717 [==============================] - 5s 7ms/step - loss: 0.6734 - mse: 0.0437\n",
            "Epoch 4/10\n",
            "717/717 [==============================] - 5s 7ms/step - loss: 0.6597 - mse: 0.0380\n",
            "Epoch 5/10\n",
            "717/717 [==============================] - 5s 7ms/step - loss: 0.6401 - mse: 0.0310\n",
            "Epoch 6/10\n",
            "717/717 [==============================] - 5s 7ms/step - loss: 0.6268 - mse: 0.0267\n",
            "Epoch 7/10\n",
            "717/717 [==============================] - 5s 7ms/step - loss: 0.6145 - mse: 0.0238\n",
            "Epoch 8/10\n",
            "717/717 [==============================] - 5s 7ms/step - loss: 0.6043 - mse: 0.0223\n",
            "Epoch 9/10\n",
            "717/717 [==============================] - 5s 7ms/step - loss: 0.5959 - mse: 0.0216\n",
            "Epoch 10/10\n",
            "717/717 [==============================] - 5s 7ms/step - loss: 0.5892 - mse: 0.0219\n",
            "Model 6\n",
            "Epoch 1/10\n",
            "1149/1149 [==============================] - 9s 8ms/step - loss: 1.4312 - mse: 0.1763\n",
            "Epoch 2/10\n",
            "1149/1149 [==============================] - 9s 8ms/step - loss: 0.6869 - mse: 0.0719\n",
            "Epoch 3/10\n",
            "1149/1149 [==============================] - 9s 8ms/step - loss: 0.6305 - mse: 0.0506\n",
            "Epoch 4/10\n",
            "1149/1149 [==============================] - 9s 8ms/step - loss: 0.5922 - mse: 0.0387\n",
            "Epoch 5/10\n",
            "1149/1149 [==============================] - 9s 8ms/step - loss: 0.5563 - mse: 0.0293\n",
            "Epoch 6/10\n",
            "1149/1149 [==============================] - 9s 8ms/step - loss: 0.5319 - mse: 0.0264\n",
            "Epoch 7/10\n",
            "1149/1149 [==============================] - 9s 8ms/step - loss: 0.5152 - mse: 0.0280\n",
            "Epoch 8/10\n",
            "1149/1149 [==============================] - 10s 8ms/step - loss: 0.5042 - mse: 0.0319\n",
            "Epoch 9/10\n",
            "1149/1149 [==============================] - 10s 9ms/step - loss: 0.4970 - mse: 0.0374\n",
            "Epoch 10/10\n",
            "1149/1149 [==============================] - 9s 8ms/step - loss: 0.4922 - mse: 0.0431\n",
            "Model 7\n",
            "Epoch 1/10\n",
            "771/771 [==============================] - 5s 7ms/step - loss: 0.9572 - mse: 0.1095\n",
            "Epoch 2/10\n",
            "771/771 [==============================] - 5s 7ms/step - loss: 0.6671 - mse: 0.0564\n",
            "Epoch 3/10\n",
            "771/771 [==============================] - 5s 7ms/step - loss: 0.6399 - mse: 0.0456\n",
            "Epoch 4/10\n",
            "771/771 [==============================] - 5s 7ms/step - loss: 0.6079 - mse: 0.0340\n",
            "Epoch 5/10\n",
            "771/771 [==============================] - 5s 7ms/step - loss: 0.5860 - mse: 0.0301\n",
            "Epoch 6/10\n",
            "771/771 [==============================] - 5s 7ms/step - loss: 0.5718 - mse: 0.0297\n",
            "Epoch 7/10\n",
            "771/771 [==============================] - 5s 7ms/step - loss: 0.5594 - mse: 0.0313\n",
            "Epoch 8/10\n",
            "771/771 [==============================] - 5s 7ms/step - loss: 0.5495 - mse: 0.0353\n",
            "Epoch 9/10\n",
            "771/771 [==============================] - 5s 7ms/step - loss: 0.5420 - mse: 0.0390\n",
            "Epoch 10/10\n",
            "771/771 [==============================] - 5s 7ms/step - loss: 0.5361 - mse: 0.0426\n",
            "Model 8\n",
            "Epoch 1/10\n",
            "265/265 [==============================] - 1s 6ms/step - loss: 1.0273 - mse: 0.1279\n",
            "Epoch 2/10\n",
            "265/265 [==============================] - 1s 6ms/step - loss: 0.7398 - mse: 0.0754\n",
            "Epoch 3/10\n",
            "265/265 [==============================] - 1s 5ms/step - loss: 0.6789 - mse: 0.0568\n",
            "Epoch 4/10\n",
            "265/265 [==============================] - 1s 5ms/step - loss: 0.6552 - mse: 0.0472\n",
            "Epoch 5/10\n",
            "265/265 [==============================] - 1s 6ms/step - loss: 0.6379 - mse: 0.0433\n",
            "Epoch 6/10\n",
            "265/265 [==============================] - 1s 6ms/step - loss: 0.6160 - mse: 0.0345\n",
            "Epoch 7/10\n",
            "265/265 [==============================] - 1s 5ms/step - loss: 0.5994 - mse: 0.0299\n",
            "Epoch 8/10\n",
            "265/265 [==============================] - 1s 5ms/step - loss: 0.5856 - mse: 0.0259\n",
            "Epoch 9/10\n",
            "265/265 [==============================] - 1s 6ms/step - loss: 0.5744 - mse: 0.0234\n",
            "Epoch 10/10\n",
            "265/265 [==============================] - 1s 5ms/step - loss: 0.5640 - mse: 0.0220\n",
            "Model 9\n",
            "Epoch 1/10\n",
            "3689/3689 [==============================] - 45s 12ms/step - loss: 0.7350 - mse: 0.0781\n",
            "Epoch 2/10\n",
            "3689/3689 [==============================] - 45s 12ms/step - loss: 0.6218 - mse: 0.0430\n",
            "Epoch 3/10\n",
            "3689/3689 [==============================] - 45s 12ms/step - loss: 0.6019 - mse: 0.0364\n",
            "Epoch 4/10\n",
            "3689/3689 [==============================] - 45s 12ms/step - loss: 0.5855 - mse: 0.0308\n",
            "Epoch 5/10\n",
            "3689/3689 [==============================] - 46s 12ms/step - loss: 0.5751 - mse: 0.0283\n",
            "Epoch 6/10\n",
            "3689/3689 [==============================] - 45s 12ms/step - loss: 0.5660 - mse: 0.0268\n",
            "Epoch 7/10\n",
            "3689/3689 [==============================] - 45s 12ms/step - loss: 0.5545 - mse: 0.0257\n",
            "Epoch 8/10\n",
            "3689/3689 [==============================] - 46s 12ms/step - loss: 0.5456 - mse: 0.0262\n",
            "Epoch 9/10\n",
            "3689/3689 [==============================] - 45s 12ms/step - loss: 0.5373 - mse: 0.0285\n",
            "Epoch 10/10\n",
            "3689/3689 [==============================] - 45s 12ms/step - loss: 0.5300 - mse: 0.0316\n",
            "Model 10\n",
            "Epoch 1/10\n",
            "1050/1050 [==============================] - 8s 7ms/step - loss: 0.8810 - mse: 0.0779\n",
            "Epoch 2/10\n",
            "1050/1050 [==============================] - 8s 8ms/step - loss: 0.6843 - mse: 0.0427\n",
            "Epoch 3/10\n",
            "1050/1050 [==============================] - 8s 7ms/step - loss: 0.6595 - mse: 0.0323\n",
            "Epoch 4/10\n",
            "1050/1050 [==============================] - 8s 7ms/step - loss: 0.6351 - mse: 0.0237\n",
            "Epoch 5/10\n",
            "1050/1050 [==============================] - 8s 7ms/step - loss: 0.6182 - mse: 0.0194\n",
            "Epoch 6/10\n",
            "1050/1050 [==============================] - 8s 8ms/step - loss: 0.6067 - mse: 0.0172\n",
            "Epoch 7/10\n",
            "1050/1050 [==============================] - 8s 7ms/step - loss: 0.5985 - mse: 0.0159\n",
            "Epoch 8/10\n",
            "1050/1050 [==============================] - 8s 8ms/step - loss: 0.5928 - mse: 0.0156\n",
            "Epoch 9/10\n",
            "1050/1050 [==============================] - 8s 7ms/step - loss: 0.5889 - mse: 0.0160\n",
            "Epoch 10/10\n",
            "1050/1050 [==============================] - 8s 8ms/step - loss: 0.5860 - mse: 0.0164\n",
            "Model 11\n",
            "Epoch 1/10\n",
            "1373/1373 [==============================] - 12s 9ms/step - loss: 1.4260 - mse: 0.1770\n",
            "Epoch 2/10\n",
            "1373/1373 [==============================] - 12s 8ms/step - loss: 0.6853 - mse: 0.0630\n",
            "Epoch 3/10\n",
            "1373/1373 [==============================] - 12s 8ms/step - loss: 0.6484 - mse: 0.0501\n",
            "Epoch 4/10\n",
            "1373/1373 [==============================] - 12s 8ms/step - loss: 0.6275 - mse: 0.0428\n",
            "Epoch 5/10\n",
            "1373/1373 [==============================] - 12s 9ms/step - loss: 0.5957 - mse: 0.0327\n",
            "Epoch 6/10\n",
            "1373/1373 [==============================] - 12s 9ms/step - loss: 0.5781 - mse: 0.0277\n",
            "Epoch 7/10\n",
            "1373/1373 [==============================] - 12s 8ms/step - loss: 0.5558 - mse: 0.0237\n",
            "Epoch 8/10\n",
            "1373/1373 [==============================] - 12s 8ms/step - loss: 0.5376 - mse: 0.0237\n",
            "Epoch 9/10\n",
            "1373/1373 [==============================] - 12s 8ms/step - loss: 0.5245 - mse: 0.0269\n",
            "Epoch 10/10\n",
            "1373/1373 [==============================] - 12s 8ms/step - loss: 0.5168 - mse: 0.0319\n",
            "Model 12\n",
            "Epoch 1/10\n",
            "22/22 [==============================] - 0s 5ms/step - loss: 4.3085 - mse: 0.5364\n",
            "Epoch 2/10\n",
            "22/22 [==============================] - 0s 5ms/step - loss: 2.0934 - mse: 0.3203\n",
            "Epoch 3/10\n",
            "22/22 [==============================] - 0s 5ms/step - loss: 1.4105 - mse: 0.2341\n",
            "Epoch 4/10\n",
            "22/22 [==============================] - 0s 5ms/step - loss: 1.2097 - mse: 0.1943\n",
            "Epoch 5/10\n",
            "22/22 [==============================] - 0s 5ms/step - loss: 1.1468 - mse: 0.1718\n",
            "Epoch 6/10\n",
            "22/22 [==============================] - 0s 4ms/step - loss: 1.0147 - mse: 0.1703\n",
            "Epoch 7/10\n",
            "22/22 [==============================] - 0s 5ms/step - loss: 1.0239 - mse: 0.1650\n",
            "Epoch 8/10\n",
            "22/22 [==============================] - 0s 5ms/step - loss: 0.9643 - mse: 0.1623\n",
            "Epoch 9/10\n",
            "22/22 [==============================] - 0s 5ms/step - loss: 0.8841 - mse: 0.1406\n",
            "Epoch 10/10\n",
            "22/22 [==============================] - 0s 5ms/step - loss: 0.8587 - mse: 0.1439\n",
            "Model 13\n",
            "Epoch 1/10\n",
            "866/866 [==============================] - 6s 7ms/step - loss: 1.1216 - mse: 0.1262\n",
            "Epoch 2/10\n",
            "866/866 [==============================] - 6s 7ms/step - loss: 0.7080 - mse: 0.0643\n",
            "Epoch 3/10\n",
            "866/866 [==============================] - 6s 7ms/step - loss: 0.6590 - mse: 0.0466\n",
            "Epoch 4/10\n",
            "866/866 [==============================] - 6s 7ms/step - loss: 0.6347 - mse: 0.0378\n",
            "Epoch 5/10\n",
            "866/866 [==============================] - 6s 7ms/step - loss: 0.6108 - mse: 0.0300\n",
            "Epoch 6/10\n",
            "866/866 [==============================] - 6s 7ms/step - loss: 0.5950 - mse: 0.0265\n",
            "Epoch 7/10\n",
            "866/866 [==============================] - 6s 7ms/step - loss: 0.5813 - mse: 0.0251\n",
            "Epoch 8/10\n",
            "866/866 [==============================] - 6s 7ms/step - loss: 0.5716 - mse: 0.0255\n",
            "Epoch 9/10\n",
            "866/866 [==============================] - 6s 7ms/step - loss: 0.5641 - mse: 0.0275\n",
            "Epoch 10/10\n",
            "866/866 [==============================] - 6s 7ms/step - loss: 0.5579 - mse: 0.0300\n",
            "Model 14\n",
            "Epoch 1/10\n",
            "509/509 [==============================] - 3s 6ms/step - loss: 1.6835 - mse: 0.1938\n",
            "Epoch 2/10\n",
            "509/509 [==============================] - 3s 6ms/step - loss: 0.7163 - mse: 0.0710\n",
            "Epoch 3/10\n",
            "509/509 [==============================] - 3s 6ms/step - loss: 0.6654 - mse: 0.0551\n",
            "Epoch 4/10\n",
            "509/509 [==============================] - 3s 6ms/step - loss: 0.6413 - mse: 0.0456\n",
            "Epoch 5/10\n",
            "509/509 [==============================] - 3s 6ms/step - loss: 0.6279 - mse: 0.0425\n",
            "Epoch 6/10\n",
            "509/509 [==============================] - 3s 6ms/step - loss: 0.6078 - mse: 0.0353\n",
            "Epoch 7/10\n",
            "509/509 [==============================] - 3s 6ms/step - loss: 0.5945 - mse: 0.0318\n",
            "Epoch 8/10\n",
            "509/509 [==============================] - 3s 6ms/step - loss: 0.5809 - mse: 0.0292\n",
            "Epoch 9/10\n",
            "509/509 [==============================] - 3s 6ms/step - loss: 0.5709 - mse: 0.0277\n",
            "Epoch 10/10\n",
            "509/509 [==============================] - 3s 6ms/step - loss: 0.5641 - mse: 0.0280\n"
          ],
          "name": "stdout"
        }
      ]
    },
    {
      "cell_type": "code",
      "metadata": {
        "id": "UK_X61Sh_Tlm"
      },
      "source": [
        "test_clusters = [df_test[df_test.tag_id.isin(tag_cluster_ids[key])] for key in range(15)]"
      ],
      "execution_count": null,
      "outputs": []
    },
    {
      "cell_type": "code",
      "metadata": {
        "colab": {
          "base_uri": "https://localhost:8080/",
          "height": 406
        },
        "id": "ladCTWq9sYwH",
        "outputId": "ead67d07-67c1-41ce-bde4-6f46ff52b4e7"
      },
      "source": [
        "df_test[df_test.tag_id.isin(tag_cluster_ids[0])] "
      ],
      "execution_count": null,
      "outputs": [
        {
          "output_type": "execute_result",
          "data": {
            "text/html": [
              "<div>\n",
              "<style scoped>\n",
              "    .dataframe tbody tr th:only-of-type {\n",
              "        vertical-align: middle;\n",
              "    }\n",
              "\n",
              "    .dataframe tbody tr th {\n",
              "        vertical-align: top;\n",
              "    }\n",
              "\n",
              "    .dataframe thead th {\n",
              "        text-align: right;\n",
              "    }\n",
              "</style>\n",
              "<table border=\"1\" class=\"dataframe\">\n",
              "  <thead>\n",
              "    <tr style=\"text-align: right;\">\n",
              "      <th></th>\n",
              "      <th>tag_id</th>\n",
              "      <th>level_1</th>\n",
              "      <th>song_id</th>\n",
              "      <th>freq</th>\n",
              "      <th>freq2</th>\n",
              "    </tr>\n",
              "  </thead>\n",
              "  <tbody>\n",
              "    <tr>\n",
              "      <th>23</th>\n",
              "      <td>1052</td>\n",
              "      <td>100257</td>\n",
              "      <td>599022</td>\n",
              "      <td>4.0</td>\n",
              "      <td>1.0</td>\n",
              "    </tr>\n",
              "    <tr>\n",
              "      <th>150</th>\n",
              "      <td>333</td>\n",
              "      <td>401872</td>\n",
              "      <td>238794</td>\n",
              "      <td>3.0</td>\n",
              "      <td>1.0</td>\n",
              "    </tr>\n",
              "    <tr>\n",
              "      <th>152</th>\n",
              "      <td>1066</td>\n",
              "      <td>289300</td>\n",
              "      <td>256674</td>\n",
              "      <td>3.0</td>\n",
              "      <td>1.0</td>\n",
              "    </tr>\n",
              "    <tr>\n",
              "      <th>167</th>\n",
              "      <td>1052</td>\n",
              "      <td>128586</td>\n",
              "      <td>104065</td>\n",
              "      <td>2.0</td>\n",
              "      <td>1.0</td>\n",
              "    </tr>\n",
              "    <tr>\n",
              "      <th>192</th>\n",
              "      <td>1378</td>\n",
              "      <td>822803</td>\n",
              "      <td>226156</td>\n",
              "      <td>3.0</td>\n",
              "      <td>1.0</td>\n",
              "    </tr>\n",
              "    <tr>\n",
              "      <th>...</th>\n",
              "      <td>...</td>\n",
              "      <td>...</td>\n",
              "      <td>...</td>\n",
              "      <td>...</td>\n",
              "      <td>...</td>\n",
              "    </tr>\n",
              "    <tr>\n",
              "      <th>66971</th>\n",
              "      <td>242</td>\n",
              "      <td>64013</td>\n",
              "      <td>385726</td>\n",
              "      <td>2.0</td>\n",
              "      <td>1.0</td>\n",
              "    </tr>\n",
              "    <tr>\n",
              "      <th>66989</th>\n",
              "      <td>1243</td>\n",
              "      <td>266796</td>\n",
              "      <td>603688</td>\n",
              "      <td>2.0</td>\n",
              "      <td>1.0</td>\n",
              "    </tr>\n",
              "    <tr>\n",
              "      <th>67004</th>\n",
              "      <td>1052</td>\n",
              "      <td>1061863</td>\n",
              "      <td>561064</td>\n",
              "      <td>2.0</td>\n",
              "      <td>1.0</td>\n",
              "    </tr>\n",
              "    <tr>\n",
              "      <th>67010</th>\n",
              "      <td>1052</td>\n",
              "      <td>80589</td>\n",
              "      <td>540082</td>\n",
              "      <td>4.0</td>\n",
              "      <td>1.0</td>\n",
              "    </tr>\n",
              "    <tr>\n",
              "      <th>67032</th>\n",
              "      <td>1052</td>\n",
              "      <td>1038391</td>\n",
              "      <td>67577</td>\n",
              "      <td>4.0</td>\n",
              "      <td>1.0</td>\n",
              "    </tr>\n",
              "  </tbody>\n",
              "</table>\n",
              "<p>1616 rows × 5 columns</p>\n",
              "</div>"
            ],
            "text/plain": [
              "       tag_id  level_1  song_id  freq  freq2\n",
              "23       1052   100257   599022   4.0    1.0\n",
              "150       333   401872   238794   3.0    1.0\n",
              "152      1066   289300   256674   3.0    1.0\n",
              "167      1052   128586   104065   2.0    1.0\n",
              "192      1378   822803   226156   3.0    1.0\n",
              "...       ...      ...      ...   ...    ...\n",
              "66971     242    64013   385726   2.0    1.0\n",
              "66989    1243   266796   603688   2.0    1.0\n",
              "67004    1052  1061863   561064   2.0    1.0\n",
              "67010    1052    80589   540082   4.0    1.0\n",
              "67032    1052  1038391    67577   4.0    1.0\n",
              "\n",
              "[1616 rows x 5 columns]"
            ]
          },
          "metadata": {
            "tags": []
          },
          "execution_count": 26
        }
      ]
    },
    {
      "cell_type": "code",
      "metadata": {
        "colab": {
          "base_uri": "https://localhost:8080/",
          "height": 406
        },
        "id": "GjbdZ5viAhTH",
        "outputId": "6486db36-8dca-401b-d9ef-ae0eb34fe581"
      },
      "source": [
        "test_clusters[0]"
      ],
      "execution_count": null,
      "outputs": [
        {
          "output_type": "execute_result",
          "data": {
            "text/html": [
              "<div>\n",
              "<style scoped>\n",
              "    .dataframe tbody tr th:only-of-type {\n",
              "        vertical-align: middle;\n",
              "    }\n",
              "\n",
              "    .dataframe tbody tr th {\n",
              "        vertical-align: top;\n",
              "    }\n",
              "\n",
              "    .dataframe thead th {\n",
              "        text-align: right;\n",
              "    }\n",
              "</style>\n",
              "<table border=\"1\" class=\"dataframe\">\n",
              "  <thead>\n",
              "    <tr style=\"text-align: right;\">\n",
              "      <th></th>\n",
              "      <th>tag_id</th>\n",
              "      <th>song_id</th>\n",
              "      <th>freq</th>\n",
              "    </tr>\n",
              "  </thead>\n",
              "  <tbody>\n",
              "    <tr>\n",
              "      <th>2</th>\n",
              "      <td>1066</td>\n",
              "      <td>46893</td>\n",
              "      <td>1.0</td>\n",
              "    </tr>\n",
              "    <tr>\n",
              "      <th>8</th>\n",
              "      <td>1066</td>\n",
              "      <td>1021</td>\n",
              "      <td>1.0</td>\n",
              "    </tr>\n",
              "    <tr>\n",
              "      <th>45</th>\n",
              "      <td>53</td>\n",
              "      <td>14931</td>\n",
              "      <td>1.0</td>\n",
              "    </tr>\n",
              "    <tr>\n",
              "      <th>70</th>\n",
              "      <td>1378</td>\n",
              "      <td>18086</td>\n",
              "      <td>1.0</td>\n",
              "    </tr>\n",
              "    <tr>\n",
              "      <th>83</th>\n",
              "      <td>53</td>\n",
              "      <td>52179</td>\n",
              "      <td>1.0</td>\n",
              "    </tr>\n",
              "    <tr>\n",
              "      <th>...</th>\n",
              "      <td>...</td>\n",
              "      <td>...</td>\n",
              "      <td>...</td>\n",
              "    </tr>\n",
              "    <tr>\n",
              "      <th>66833</th>\n",
              "      <td>320</td>\n",
              "      <td>35694</td>\n",
              "      <td>1.0</td>\n",
              "    </tr>\n",
              "    <tr>\n",
              "      <th>66905</th>\n",
              "      <td>1052</td>\n",
              "      <td>49364</td>\n",
              "      <td>1.0</td>\n",
              "    </tr>\n",
              "    <tr>\n",
              "      <th>66909</th>\n",
              "      <td>826</td>\n",
              "      <td>16044</td>\n",
              "      <td>1.0</td>\n",
              "    </tr>\n",
              "    <tr>\n",
              "      <th>66941</th>\n",
              "      <td>1243</td>\n",
              "      <td>60430</td>\n",
              "      <td>1.0</td>\n",
              "    </tr>\n",
              "    <tr>\n",
              "      <th>66976</th>\n",
              "      <td>1022</td>\n",
              "      <td>28474</td>\n",
              "      <td>1.0</td>\n",
              "    </tr>\n",
              "  </tbody>\n",
              "</table>\n",
              "<p>1616 rows × 3 columns</p>\n",
              "</div>"
            ],
            "text/plain": [
              "       tag_id  song_id  freq\n",
              "2        1066    46893   1.0\n",
              "8        1066     1021   1.0\n",
              "45         53    14931   1.0\n",
              "70       1378    18086   1.0\n",
              "83         53    52179   1.0\n",
              "...       ...      ...   ...\n",
              "66833     320    35694   1.0\n",
              "66905    1052    49364   1.0\n",
              "66909     826    16044   1.0\n",
              "66941    1243    60430   1.0\n",
              "66976    1022    28474   1.0\n",
              "\n",
              "[1616 rows x 3 columns]"
            ]
          },
          "metadata": {
            "tags": []
          },
          "execution_count": 42
        }
      ]
    },
    {
      "cell_type": "code",
      "metadata": {
        "colab": {
          "base_uri": "https://localhost:8080/"
        },
        "id": "IdlIJYOaAl5u",
        "outputId": "e4ad70f5-d086-4600-a09a-812b8546bab7"
      },
      "source": [
        "test_clusters[0].song_id.unique().shape"
      ],
      "execution_count": null,
      "outputs": [
        {
          "output_type": "execute_result",
          "data": {
            "text/plain": [
              "(1275,)"
            ]
          },
          "metadata": {
            "tags": []
          },
          "execution_count": 27
        }
      ]
    },
    {
      "cell_type": "code",
      "metadata": {
        "colab": {
          "base_uri": "https://localhost:8080/"
        },
        "id": "Vnc4sf-CsN-W",
        "outputId": "cf2a4381-9da9-44bd-e3fa-f5b41784791f"
      },
      "source": [
        "Clusters[0]._unique_songs.shape"
      ],
      "execution_count": null,
      "outputs": [
        {
          "output_type": "execute_result",
          "data": {
            "text/plain": [
              "(5095,)"
            ]
          },
          "metadata": {
            "tags": []
          },
          "execution_count": 28
        }
      ]
    },
    {
      "cell_type": "code",
      "metadata": {
        "id": "thNoSwKJGoDf"
      },
      "source": [
        "total_songs = np.intersect1d(test_clusters[8].song_id.unique(), Clusters[8]._unique_songs)"
      ],
      "execution_count": null,
      "outputs": []
    },
    {
      "cell_type": "code",
      "metadata": {
        "colab": {
          "base_uri": "https://localhost:8080/"
        },
        "id": "x8vQoPDssK4x",
        "outputId": "0c439c7f-f995-4151-f723-89255dc8e2e4"
      },
      "source": [
        "total_songs.shape"
      ],
      "execution_count": null,
      "outputs": [
        {
          "output_type": "execute_result",
          "data": {
            "text/plain": [
              "(696,)"
            ]
          },
          "metadata": {
            "tags": []
          },
          "execution_count": 73
        }
      ]
    },
    {
      "cell_type": "code",
      "metadata": {
        "id": "U7_0HaVqsmif"
      },
      "source": [
        "# np.intersect1d(train_clusters[8].song_id, test_clusters[8].song_id).shape"
      ],
      "execution_count": null,
      "outputs": []
    },
    {
      "cell_type": "code",
      "metadata": {
        "id": "4tnS8Ba8smfp"
      },
      "source": [
        ""
      ],
      "execution_count": null,
      "outputs": []
    },
    {
      "cell_type": "code",
      "metadata": {
        "id": "bK0tMbt5smdR"
      },
      "source": [
        "# k = 50\n",
        "\n",
        "# x_test =  all_tag_model.x_test\n",
        "# test_tags = list(set(x_test[0].ravel()))\n",
        "\n",
        "# recall_result = []\n",
        "# precision_result = []\n",
        "# prediction_result = []\n",
        "# true_result = []\n",
        "# correct_result = []\n",
        "\n",
        "# spent_result = []\n",
        "\n",
        "# for _test_tag_id in tqdm(test_tags):\n",
        "#     song_ids = [\n",
        "#         all_tag_model._new_idx2song_idx.get(new_id)\n",
        "#         for new_id in x_test[1][x_test[0] == _test_tag_id]\n",
        "#     ]\n",
        "#     start_time = time.time()\n",
        "#     predicted = all_tag_model.predict(idx2tag[_test_tag_id], k)\n",
        "#     spent_result.append(time.time() - start_time)\n",
        "\n",
        "#     correct_count = np.intersect1d(song_ids, predicted).shape[0]\n",
        "\n",
        "#     correct_result.append(correct_count)\n",
        "#     prediction_result.append(predicted)\n",
        "#     true_result.append(song_ids)\n",
        "#     recall_result.append(correct_count / len(song_ids))\n",
        "#     precision_result.append(correct_count / k)\n",
        "    "
      ],
      "execution_count": null,
      "outputs": []
    },
    {
      "cell_type": "code",
      "metadata": {
        "id": "zFaABN7ksmao"
      },
      "source": [
        ""
      ],
      "execution_count": null,
      "outputs": []
    },
    {
      "cell_type": "code",
      "metadata": {
        "colab": {
          "base_uri": "https://localhost:8080/"
        },
        "id": "7ys_3szIHES-",
        "outputId": "e6679cfe-c2ef-4d74-e4bd-bce4e778a95b"
      },
      "source": [
        "x_test.song_id.unique().shape"
      ],
      "execution_count": null,
      "outputs": [
        {
          "output_type": "execute_result",
          "data": {
            "text/plain": [
              "(1261,)"
            ]
          },
          "metadata": {
            "tags": []
          },
          "execution_count": 38
        }
      ]
    },
    {
      "cell_type": "code",
      "metadata": {
        "id": "LV1TRQwfHSWR"
      },
      "source": [
        "import time"
      ],
      "execution_count": null,
      "outputs": []
    },
    {
      "cell_type": "code",
      "metadata": {
        "colab": {
          "base_uri": "https://localhost:8080/",
          "height": 65,
          "referenced_widgets": [
            "34d63c1ebba548ad871de26c2ff83ab3",
            "7cc4d900c98a47f880d5690e1dd875a8",
            "e0d5d143de634e948c64486d584504a7",
            "20f4177536414e34b576aa234f4274e4",
            "785b5abf71134aed843fe4275eb0b69a",
            "8c40d0f0035943268b323f8b386fa543",
            "5d510d5469614af8bb3a463a7696070c",
            "b879109fc40a49898d3313b37c518005"
          ]
        },
        "id": "_y8cK4aMAiYZ",
        "outputId": "14cdee2a-54a1-4984-f656-7c9c27daba7c"
      },
      "source": [
        ""
      ],
      "execution_count": null,
      "outputs": [
        {
          "output_type": "display_data",
          "data": {
            "application/vnd.jupyter.widget-view+json": {
              "model_id": "34d63c1ebba548ad871de26c2ff83ab3",
              "version_minor": 0,
              "version_major": 2
            },
            "text/plain": [
              "HBox(children=(FloatProgress(value=0.0, max=52.0), HTML(value='')))"
            ]
          },
          "metadata": {
            "tags": []
          }
        },
        {
          "output_type": "stream",
          "text": [
            "\n"
          ],
          "name": "stdout"
        }
      ]
    },
    {
      "cell_type": "code",
      "metadata": {
        "id": "k3Lf05ssBder"
      },
      "source": [
        "tag_names = [idx2tag[tag_id] for tag_id in test_tags]\n",
        "df_result = pd.DataFrame([tag_names, recall_result, precision_result]).T"
      ],
      "execution_count": null,
      "outputs": []
    },
    {
      "cell_type": "code",
      "metadata": {
        "colab": {
          "base_uri": "https://localhost:8080/"
        },
        "id": "c0ePRDNmBqKR",
        "outputId": "dab0005b-784b-491b-ae41-9e1188241ad0"
      },
      "source": [
        "df_result[1].mean()"
      ],
      "execution_count": null,
      "outputs": [
        {
          "output_type": "execute_result",
          "data": {
            "text/plain": [
              "0.08055555555555556"
            ]
          },
          "metadata": {
            "tags": []
          },
          "execution_count": 81
        }
      ]
    },
    {
      "cell_type": "code",
      "metadata": {
        "colab": {
          "base_uri": "https://localhost:8080/"
        },
        "id": "Pbi-MY6qHq_h",
        "outputId": "89256f28-02db-450b-aabf-d512afeade83"
      },
      "source": [
        "df_result[2].mean()"
      ],
      "execution_count": null,
      "outputs": [
        {
          "output_type": "execute_result",
          "data": {
            "text/plain": [
              "0.00576923076923077"
            ]
          },
          "metadata": {
            "tags": []
          },
          "execution_count": 82
        }
      ]
    },
    {
      "cell_type": "code",
      "metadata": {
        "colab": {
          "base_uri": "https://localhost:8080/",
          "height": 456
        },
        "id": "Vz2GsAUqvYH1",
        "outputId": "fe33b034-98d8-45c8-a215-cf28803cddd1"
      },
      "source": [
        "df_train.pivot_table('freq', 'tag_id', 'song_id').fillna(0)"
      ],
      "execution_count": null,
      "outputs": [
        {
          "output_type": "execute_result",
          "data": {
            "text/html": [
              "<div>\n",
              "<style scoped>\n",
              "    .dataframe tbody tr th:only-of-type {\n",
              "        vertical-align: middle;\n",
              "    }\n",
              "\n",
              "    .dataframe tbody tr th {\n",
              "        vertical-align: top;\n",
              "    }\n",
              "\n",
              "    .dataframe thead th {\n",
              "        text-align: right;\n",
              "    }\n",
              "</style>\n",
              "<table border=\"1\" class=\"dataframe\">\n",
              "  <thead>\n",
              "    <tr style=\"text-align: right;\">\n",
              "      <th>song_id</th>\n",
              "      <th>10</th>\n",
              "      <th>28</th>\n",
              "      <th>30</th>\n",
              "      <th>32</th>\n",
              "      <th>47</th>\n",
              "      <th>54</th>\n",
              "      <th>57</th>\n",
              "      <th>62</th>\n",
              "      <th>64</th>\n",
              "      <th>67</th>\n",
              "      <th>71</th>\n",
              "      <th>93</th>\n",
              "      <th>96</th>\n",
              "      <th>111</th>\n",
              "      <th>113</th>\n",
              "      <th>135</th>\n",
              "      <th>148</th>\n",
              "      <th>149</th>\n",
              "      <th>187</th>\n",
              "      <th>191</th>\n",
              "      <th>195</th>\n",
              "      <th>199</th>\n",
              "      <th>210</th>\n",
              "      <th>224</th>\n",
              "      <th>237</th>\n",
              "      <th>238</th>\n",
              "      <th>249</th>\n",
              "      <th>250</th>\n",
              "      <th>261</th>\n",
              "      <th>265</th>\n",
              "      <th>266</th>\n",
              "      <th>270</th>\n",
              "      <th>280</th>\n",
              "      <th>289</th>\n",
              "      <th>295</th>\n",
              "      <th>305</th>\n",
              "      <th>307</th>\n",
              "      <th>311</th>\n",
              "      <th>339</th>\n",
              "      <th>347</th>\n",
              "      <th>...</th>\n",
              "      <th>707527</th>\n",
              "      <th>707534</th>\n",
              "      <th>707548</th>\n",
              "      <th>707564</th>\n",
              "      <th>707573</th>\n",
              "      <th>707580</th>\n",
              "      <th>707584</th>\n",
              "      <th>707594</th>\n",
              "      <th>707597</th>\n",
              "      <th>707600</th>\n",
              "      <th>707615</th>\n",
              "      <th>707621</th>\n",
              "      <th>707631</th>\n",
              "      <th>707635</th>\n",
              "      <th>707659</th>\n",
              "      <th>707672</th>\n",
              "      <th>707676</th>\n",
              "      <th>707706</th>\n",
              "      <th>707718</th>\n",
              "      <th>707724</th>\n",
              "      <th>707727</th>\n",
              "      <th>707763</th>\n",
              "      <th>707768</th>\n",
              "      <th>707771</th>\n",
              "      <th>707786</th>\n",
              "      <th>707792</th>\n",
              "      <th>707808</th>\n",
              "      <th>707830</th>\n",
              "      <th>707837</th>\n",
              "      <th>707841</th>\n",
              "      <th>707873</th>\n",
              "      <th>707874</th>\n",
              "      <th>707884</th>\n",
              "      <th>707896</th>\n",
              "      <th>707913</th>\n",
              "      <th>707927</th>\n",
              "      <th>707934</th>\n",
              "      <th>707965</th>\n",
              "      <th>707969</th>\n",
              "      <th>707985</th>\n",
              "    </tr>\n",
              "    <tr>\n",
              "      <th>tag_id</th>\n",
              "      <th></th>\n",
              "      <th></th>\n",
              "      <th></th>\n",
              "      <th></th>\n",
              "      <th></th>\n",
              "      <th></th>\n",
              "      <th></th>\n",
              "      <th></th>\n",
              "      <th></th>\n",
              "      <th></th>\n",
              "      <th></th>\n",
              "      <th></th>\n",
              "      <th></th>\n",
              "      <th></th>\n",
              "      <th></th>\n",
              "      <th></th>\n",
              "      <th></th>\n",
              "      <th></th>\n",
              "      <th></th>\n",
              "      <th></th>\n",
              "      <th></th>\n",
              "      <th></th>\n",
              "      <th></th>\n",
              "      <th></th>\n",
              "      <th></th>\n",
              "      <th></th>\n",
              "      <th></th>\n",
              "      <th></th>\n",
              "      <th></th>\n",
              "      <th></th>\n",
              "      <th></th>\n",
              "      <th></th>\n",
              "      <th></th>\n",
              "      <th></th>\n",
              "      <th></th>\n",
              "      <th></th>\n",
              "      <th></th>\n",
              "      <th></th>\n",
              "      <th></th>\n",
              "      <th></th>\n",
              "      <th></th>\n",
              "      <th></th>\n",
              "      <th></th>\n",
              "      <th></th>\n",
              "      <th></th>\n",
              "      <th></th>\n",
              "      <th></th>\n",
              "      <th></th>\n",
              "      <th></th>\n",
              "      <th></th>\n",
              "      <th></th>\n",
              "      <th></th>\n",
              "      <th></th>\n",
              "      <th></th>\n",
              "      <th></th>\n",
              "      <th></th>\n",
              "      <th></th>\n",
              "      <th></th>\n",
              "      <th></th>\n",
              "      <th></th>\n",
              "      <th></th>\n",
              "      <th></th>\n",
              "      <th></th>\n",
              "      <th></th>\n",
              "      <th></th>\n",
              "      <th></th>\n",
              "      <th></th>\n",
              "      <th></th>\n",
              "      <th></th>\n",
              "      <th></th>\n",
              "      <th></th>\n",
              "      <th></th>\n",
              "      <th></th>\n",
              "      <th></th>\n",
              "      <th></th>\n",
              "      <th></th>\n",
              "      <th></th>\n",
              "      <th></th>\n",
              "      <th></th>\n",
              "      <th></th>\n",
              "      <th></th>\n",
              "    </tr>\n",
              "  </thead>\n",
              "  <tbody>\n",
              "    <tr>\n",
              "      <th>0</th>\n",
              "      <td>0.0</td>\n",
              "      <td>0.0</td>\n",
              "      <td>0.0</td>\n",
              "      <td>0.0</td>\n",
              "      <td>0.0</td>\n",
              "      <td>0.0</td>\n",
              "      <td>0.0</td>\n",
              "      <td>0.0</td>\n",
              "      <td>0.0</td>\n",
              "      <td>0.0</td>\n",
              "      <td>0.0</td>\n",
              "      <td>0.0</td>\n",
              "      <td>0.0</td>\n",
              "      <td>0.0</td>\n",
              "      <td>0.0</td>\n",
              "      <td>0.0</td>\n",
              "      <td>0.0</td>\n",
              "      <td>0.0</td>\n",
              "      <td>0.0</td>\n",
              "      <td>0.0</td>\n",
              "      <td>0.0</td>\n",
              "      <td>0.0</td>\n",
              "      <td>0.0</td>\n",
              "      <td>0.0</td>\n",
              "      <td>0.0</td>\n",
              "      <td>0.0</td>\n",
              "      <td>0.0</td>\n",
              "      <td>0.0</td>\n",
              "      <td>0.0</td>\n",
              "      <td>0.0</td>\n",
              "      <td>0.0</td>\n",
              "      <td>0.0</td>\n",
              "      <td>0.0</td>\n",
              "      <td>0.0</td>\n",
              "      <td>0.0</td>\n",
              "      <td>0.0</td>\n",
              "      <td>0.0</td>\n",
              "      <td>0.0</td>\n",
              "      <td>0.0</td>\n",
              "      <td>0.0</td>\n",
              "      <td>...</td>\n",
              "      <td>0.0</td>\n",
              "      <td>0.0</td>\n",
              "      <td>0.0</td>\n",
              "      <td>0.0</td>\n",
              "      <td>0.0</td>\n",
              "      <td>0.0</td>\n",
              "      <td>0.0</td>\n",
              "      <td>0.0</td>\n",
              "      <td>0.0</td>\n",
              "      <td>0.0</td>\n",
              "      <td>0.0</td>\n",
              "      <td>0.0</td>\n",
              "      <td>0.0</td>\n",
              "      <td>0.0</td>\n",
              "      <td>0.0</td>\n",
              "      <td>0.0</td>\n",
              "      <td>0.0</td>\n",
              "      <td>0.0</td>\n",
              "      <td>0.0</td>\n",
              "      <td>0.0</td>\n",
              "      <td>0.0</td>\n",
              "      <td>0.0</td>\n",
              "      <td>0.0</td>\n",
              "      <td>0.0</td>\n",
              "      <td>0.0</td>\n",
              "      <td>0.0</td>\n",
              "      <td>0.0</td>\n",
              "      <td>0.0</td>\n",
              "      <td>0.0</td>\n",
              "      <td>0.0</td>\n",
              "      <td>0.0</td>\n",
              "      <td>0.0</td>\n",
              "      <td>0.0</td>\n",
              "      <td>0.0</td>\n",
              "      <td>0.0</td>\n",
              "      <td>0.0</td>\n",
              "      <td>0.0</td>\n",
              "      <td>0.0</td>\n",
              "      <td>0.0</td>\n",
              "      <td>0.0</td>\n",
              "    </tr>\n",
              "    <tr>\n",
              "      <th>1</th>\n",
              "      <td>0.0</td>\n",
              "      <td>0.0</td>\n",
              "      <td>0.0</td>\n",
              "      <td>0.0</td>\n",
              "      <td>0.0</td>\n",
              "      <td>0.0</td>\n",
              "      <td>0.0</td>\n",
              "      <td>0.0</td>\n",
              "      <td>0.0</td>\n",
              "      <td>0.0</td>\n",
              "      <td>0.0</td>\n",
              "      <td>0.0</td>\n",
              "      <td>0.0</td>\n",
              "      <td>0.0</td>\n",
              "      <td>0.0</td>\n",
              "      <td>0.0</td>\n",
              "      <td>0.0</td>\n",
              "      <td>0.0</td>\n",
              "      <td>0.0</td>\n",
              "      <td>0.0</td>\n",
              "      <td>0.0</td>\n",
              "      <td>0.0</td>\n",
              "      <td>0.0</td>\n",
              "      <td>0.0</td>\n",
              "      <td>0.0</td>\n",
              "      <td>0.0</td>\n",
              "      <td>0.0</td>\n",
              "      <td>0.0</td>\n",
              "      <td>0.0</td>\n",
              "      <td>0.0</td>\n",
              "      <td>0.0</td>\n",
              "      <td>0.0</td>\n",
              "      <td>0.0</td>\n",
              "      <td>0.0</td>\n",
              "      <td>0.0</td>\n",
              "      <td>0.0</td>\n",
              "      <td>0.0</td>\n",
              "      <td>0.0</td>\n",
              "      <td>0.0</td>\n",
              "      <td>0.0</td>\n",
              "      <td>...</td>\n",
              "      <td>0.0</td>\n",
              "      <td>0.0</td>\n",
              "      <td>0.0</td>\n",
              "      <td>0.0</td>\n",
              "      <td>0.0</td>\n",
              "      <td>0.0</td>\n",
              "      <td>0.0</td>\n",
              "      <td>0.0</td>\n",
              "      <td>0.0</td>\n",
              "      <td>0.0</td>\n",
              "      <td>0.0</td>\n",
              "      <td>0.0</td>\n",
              "      <td>0.0</td>\n",
              "      <td>0.0</td>\n",
              "      <td>0.0</td>\n",
              "      <td>0.0</td>\n",
              "      <td>0.0</td>\n",
              "      <td>0.0</td>\n",
              "      <td>0.0</td>\n",
              "      <td>0.0</td>\n",
              "      <td>0.0</td>\n",
              "      <td>0.0</td>\n",
              "      <td>0.0</td>\n",
              "      <td>0.0</td>\n",
              "      <td>0.0</td>\n",
              "      <td>0.0</td>\n",
              "      <td>0.0</td>\n",
              "      <td>0.0</td>\n",
              "      <td>0.0</td>\n",
              "      <td>0.0</td>\n",
              "      <td>0.0</td>\n",
              "      <td>0.0</td>\n",
              "      <td>0.0</td>\n",
              "      <td>0.0</td>\n",
              "      <td>0.0</td>\n",
              "      <td>0.0</td>\n",
              "      <td>0.0</td>\n",
              "      <td>0.0</td>\n",
              "      <td>0.0</td>\n",
              "      <td>0.0</td>\n",
              "    </tr>\n",
              "    <tr>\n",
              "      <th>2</th>\n",
              "      <td>0.0</td>\n",
              "      <td>0.0</td>\n",
              "      <td>0.0</td>\n",
              "      <td>0.0</td>\n",
              "      <td>0.0</td>\n",
              "      <td>0.0</td>\n",
              "      <td>0.0</td>\n",
              "      <td>0.0</td>\n",
              "      <td>0.0</td>\n",
              "      <td>0.0</td>\n",
              "      <td>0.0</td>\n",
              "      <td>0.0</td>\n",
              "      <td>0.0</td>\n",
              "      <td>0.0</td>\n",
              "      <td>0.0</td>\n",
              "      <td>0.0</td>\n",
              "      <td>0.0</td>\n",
              "      <td>0.0</td>\n",
              "      <td>0.0</td>\n",
              "      <td>0.0</td>\n",
              "      <td>0.0</td>\n",
              "      <td>0.0</td>\n",
              "      <td>0.0</td>\n",
              "      <td>0.0</td>\n",
              "      <td>0.0</td>\n",
              "      <td>0.0</td>\n",
              "      <td>0.0</td>\n",
              "      <td>0.0</td>\n",
              "      <td>0.0</td>\n",
              "      <td>0.0</td>\n",
              "      <td>0.0</td>\n",
              "      <td>0.0</td>\n",
              "      <td>0.0</td>\n",
              "      <td>0.0</td>\n",
              "      <td>0.0</td>\n",
              "      <td>0.0</td>\n",
              "      <td>0.0</td>\n",
              "      <td>0.0</td>\n",
              "      <td>0.0</td>\n",
              "      <td>0.0</td>\n",
              "      <td>...</td>\n",
              "      <td>0.0</td>\n",
              "      <td>0.0</td>\n",
              "      <td>0.0</td>\n",
              "      <td>0.0</td>\n",
              "      <td>0.0</td>\n",
              "      <td>0.0</td>\n",
              "      <td>0.0</td>\n",
              "      <td>0.0</td>\n",
              "      <td>0.0</td>\n",
              "      <td>0.0</td>\n",
              "      <td>0.0</td>\n",
              "      <td>0.0</td>\n",
              "      <td>0.0</td>\n",
              "      <td>0.0</td>\n",
              "      <td>0.0</td>\n",
              "      <td>0.0</td>\n",
              "      <td>0.0</td>\n",
              "      <td>0.0</td>\n",
              "      <td>0.0</td>\n",
              "      <td>0.0</td>\n",
              "      <td>0.0</td>\n",
              "      <td>0.0</td>\n",
              "      <td>0.0</td>\n",
              "      <td>0.0</td>\n",
              "      <td>0.0</td>\n",
              "      <td>0.0</td>\n",
              "      <td>0.0</td>\n",
              "      <td>0.0</td>\n",
              "      <td>0.0</td>\n",
              "      <td>0.0</td>\n",
              "      <td>0.0</td>\n",
              "      <td>0.0</td>\n",
              "      <td>0.0</td>\n",
              "      <td>0.0</td>\n",
              "      <td>0.0</td>\n",
              "      <td>0.0</td>\n",
              "      <td>0.0</td>\n",
              "      <td>0.0</td>\n",
              "      <td>0.0</td>\n",
              "      <td>0.0</td>\n",
              "    </tr>\n",
              "    <tr>\n",
              "      <th>3</th>\n",
              "      <td>0.0</td>\n",
              "      <td>0.0</td>\n",
              "      <td>0.0</td>\n",
              "      <td>0.0</td>\n",
              "      <td>0.0</td>\n",
              "      <td>0.5</td>\n",
              "      <td>0.0</td>\n",
              "      <td>0.0</td>\n",
              "      <td>0.0</td>\n",
              "      <td>0.0</td>\n",
              "      <td>0.0</td>\n",
              "      <td>0.0</td>\n",
              "      <td>0.0</td>\n",
              "      <td>0.0</td>\n",
              "      <td>0.0</td>\n",
              "      <td>0.0</td>\n",
              "      <td>0.0</td>\n",
              "      <td>0.0</td>\n",
              "      <td>0.0</td>\n",
              "      <td>0.0</td>\n",
              "      <td>0.0</td>\n",
              "      <td>0.0</td>\n",
              "      <td>0.0</td>\n",
              "      <td>0.0</td>\n",
              "      <td>0.0</td>\n",
              "      <td>0.0</td>\n",
              "      <td>0.0</td>\n",
              "      <td>1.0</td>\n",
              "      <td>0.0</td>\n",
              "      <td>0.0</td>\n",
              "      <td>0.0</td>\n",
              "      <td>0.0</td>\n",
              "      <td>0.0</td>\n",
              "      <td>1.0</td>\n",
              "      <td>0.0</td>\n",
              "      <td>0.0</td>\n",
              "      <td>0.0</td>\n",
              "      <td>1.0</td>\n",
              "      <td>0.0</td>\n",
              "      <td>0.0</td>\n",
              "      <td>...</td>\n",
              "      <td>0.0</td>\n",
              "      <td>0.0</td>\n",
              "      <td>0.0</td>\n",
              "      <td>0.0</td>\n",
              "      <td>0.0</td>\n",
              "      <td>0.0</td>\n",
              "      <td>0.0</td>\n",
              "      <td>0.0</td>\n",
              "      <td>0.0</td>\n",
              "      <td>0.0</td>\n",
              "      <td>0.0</td>\n",
              "      <td>0.0</td>\n",
              "      <td>0.0</td>\n",
              "      <td>0.0</td>\n",
              "      <td>0.0</td>\n",
              "      <td>0.0</td>\n",
              "      <td>0.0</td>\n",
              "      <td>0.0</td>\n",
              "      <td>0.0</td>\n",
              "      <td>0.0</td>\n",
              "      <td>0.0</td>\n",
              "      <td>0.0</td>\n",
              "      <td>0.0</td>\n",
              "      <td>0.0</td>\n",
              "      <td>0.0</td>\n",
              "      <td>0.5</td>\n",
              "      <td>0.0</td>\n",
              "      <td>0.0</td>\n",
              "      <td>0.0</td>\n",
              "      <td>0.0</td>\n",
              "      <td>0.0</td>\n",
              "      <td>0.0</td>\n",
              "      <td>0.0</td>\n",
              "      <td>0.0</td>\n",
              "      <td>0.0</td>\n",
              "      <td>0.0</td>\n",
              "      <td>0.0</td>\n",
              "      <td>0.0</td>\n",
              "      <td>0.0</td>\n",
              "      <td>0.0</td>\n",
              "    </tr>\n",
              "    <tr>\n",
              "      <th>4</th>\n",
              "      <td>0.0</td>\n",
              "      <td>0.0</td>\n",
              "      <td>0.0</td>\n",
              "      <td>0.0</td>\n",
              "      <td>0.0</td>\n",
              "      <td>0.0</td>\n",
              "      <td>0.0</td>\n",
              "      <td>0.0</td>\n",
              "      <td>0.0</td>\n",
              "      <td>0.0</td>\n",
              "      <td>0.0</td>\n",
              "      <td>0.0</td>\n",
              "      <td>0.0</td>\n",
              "      <td>0.0</td>\n",
              "      <td>0.0</td>\n",
              "      <td>0.0</td>\n",
              "      <td>0.0</td>\n",
              "      <td>0.0</td>\n",
              "      <td>0.0</td>\n",
              "      <td>0.0</td>\n",
              "      <td>0.0</td>\n",
              "      <td>0.0</td>\n",
              "      <td>0.0</td>\n",
              "      <td>0.0</td>\n",
              "      <td>0.0</td>\n",
              "      <td>0.0</td>\n",
              "      <td>0.0</td>\n",
              "      <td>0.0</td>\n",
              "      <td>0.0</td>\n",
              "      <td>0.0</td>\n",
              "      <td>0.0</td>\n",
              "      <td>0.0</td>\n",
              "      <td>0.0</td>\n",
              "      <td>0.0</td>\n",
              "      <td>0.0</td>\n",
              "      <td>0.0</td>\n",
              "      <td>0.0</td>\n",
              "      <td>0.0</td>\n",
              "      <td>0.0</td>\n",
              "      <td>0.0</td>\n",
              "      <td>...</td>\n",
              "      <td>0.0</td>\n",
              "      <td>0.0</td>\n",
              "      <td>0.0</td>\n",
              "      <td>0.0</td>\n",
              "      <td>0.0</td>\n",
              "      <td>0.0</td>\n",
              "      <td>0.0</td>\n",
              "      <td>0.0</td>\n",
              "      <td>0.0</td>\n",
              "      <td>0.0</td>\n",
              "      <td>0.0</td>\n",
              "      <td>0.0</td>\n",
              "      <td>0.0</td>\n",
              "      <td>0.0</td>\n",
              "      <td>0.0</td>\n",
              "      <td>0.0</td>\n",
              "      <td>0.0</td>\n",
              "      <td>0.0</td>\n",
              "      <td>0.0</td>\n",
              "      <td>0.0</td>\n",
              "      <td>0.0</td>\n",
              "      <td>0.0</td>\n",
              "      <td>0.0</td>\n",
              "      <td>0.0</td>\n",
              "      <td>0.0</td>\n",
              "      <td>0.0</td>\n",
              "      <td>0.0</td>\n",
              "      <td>0.0</td>\n",
              "      <td>0.0</td>\n",
              "      <td>0.0</td>\n",
              "      <td>0.0</td>\n",
              "      <td>0.0</td>\n",
              "      <td>0.0</td>\n",
              "      <td>0.0</td>\n",
              "      <td>0.0</td>\n",
              "      <td>0.0</td>\n",
              "      <td>0.0</td>\n",
              "      <td>0.0</td>\n",
              "      <td>0.0</td>\n",
              "      <td>0.0</td>\n",
              "    </tr>\n",
              "    <tr>\n",
              "      <th>...</th>\n",
              "      <td>...</td>\n",
              "      <td>...</td>\n",
              "      <td>...</td>\n",
              "      <td>...</td>\n",
              "      <td>...</td>\n",
              "      <td>...</td>\n",
              "      <td>...</td>\n",
              "      <td>...</td>\n",
              "      <td>...</td>\n",
              "      <td>...</td>\n",
              "      <td>...</td>\n",
              "      <td>...</td>\n",
              "      <td>...</td>\n",
              "      <td>...</td>\n",
              "      <td>...</td>\n",
              "      <td>...</td>\n",
              "      <td>...</td>\n",
              "      <td>...</td>\n",
              "      <td>...</td>\n",
              "      <td>...</td>\n",
              "      <td>...</td>\n",
              "      <td>...</td>\n",
              "      <td>...</td>\n",
              "      <td>...</td>\n",
              "      <td>...</td>\n",
              "      <td>...</td>\n",
              "      <td>...</td>\n",
              "      <td>...</td>\n",
              "      <td>...</td>\n",
              "      <td>...</td>\n",
              "      <td>...</td>\n",
              "      <td>...</td>\n",
              "      <td>...</td>\n",
              "      <td>...</td>\n",
              "      <td>...</td>\n",
              "      <td>...</td>\n",
              "      <td>...</td>\n",
              "      <td>...</td>\n",
              "      <td>...</td>\n",
              "      <td>...</td>\n",
              "      <td>...</td>\n",
              "      <td>...</td>\n",
              "      <td>...</td>\n",
              "      <td>...</td>\n",
              "      <td>...</td>\n",
              "      <td>...</td>\n",
              "      <td>...</td>\n",
              "      <td>...</td>\n",
              "      <td>...</td>\n",
              "      <td>...</td>\n",
              "      <td>...</td>\n",
              "      <td>...</td>\n",
              "      <td>...</td>\n",
              "      <td>...</td>\n",
              "      <td>...</td>\n",
              "      <td>...</td>\n",
              "      <td>...</td>\n",
              "      <td>...</td>\n",
              "      <td>...</td>\n",
              "      <td>...</td>\n",
              "      <td>...</td>\n",
              "      <td>...</td>\n",
              "      <td>...</td>\n",
              "      <td>...</td>\n",
              "      <td>...</td>\n",
              "      <td>...</td>\n",
              "      <td>...</td>\n",
              "      <td>...</td>\n",
              "      <td>...</td>\n",
              "      <td>...</td>\n",
              "      <td>...</td>\n",
              "      <td>...</td>\n",
              "      <td>...</td>\n",
              "      <td>...</td>\n",
              "      <td>...</td>\n",
              "      <td>...</td>\n",
              "      <td>...</td>\n",
              "      <td>...</td>\n",
              "      <td>...</td>\n",
              "      <td>...</td>\n",
              "      <td>...</td>\n",
              "    </tr>\n",
              "    <tr>\n",
              "      <th>1377</th>\n",
              "      <td>0.0</td>\n",
              "      <td>0.0</td>\n",
              "      <td>0.0</td>\n",
              "      <td>0.0</td>\n",
              "      <td>0.0</td>\n",
              "      <td>0.0</td>\n",
              "      <td>0.0</td>\n",
              "      <td>0.0</td>\n",
              "      <td>0.0</td>\n",
              "      <td>0.0</td>\n",
              "      <td>0.0</td>\n",
              "      <td>0.0</td>\n",
              "      <td>0.0</td>\n",
              "      <td>0.0</td>\n",
              "      <td>0.0</td>\n",
              "      <td>0.0</td>\n",
              "      <td>0.0</td>\n",
              "      <td>0.0</td>\n",
              "      <td>0.0</td>\n",
              "      <td>0.0</td>\n",
              "      <td>0.0</td>\n",
              "      <td>0.0</td>\n",
              "      <td>0.0</td>\n",
              "      <td>0.0</td>\n",
              "      <td>0.0</td>\n",
              "      <td>0.0</td>\n",
              "      <td>0.0</td>\n",
              "      <td>0.0</td>\n",
              "      <td>0.0</td>\n",
              "      <td>0.0</td>\n",
              "      <td>0.0</td>\n",
              "      <td>0.0</td>\n",
              "      <td>0.0</td>\n",
              "      <td>0.0</td>\n",
              "      <td>0.0</td>\n",
              "      <td>0.0</td>\n",
              "      <td>0.0</td>\n",
              "      <td>0.0</td>\n",
              "      <td>0.0</td>\n",
              "      <td>0.0</td>\n",
              "      <td>...</td>\n",
              "      <td>0.0</td>\n",
              "      <td>0.0</td>\n",
              "      <td>0.0</td>\n",
              "      <td>0.0</td>\n",
              "      <td>0.0</td>\n",
              "      <td>0.0</td>\n",
              "      <td>0.0</td>\n",
              "      <td>0.0</td>\n",
              "      <td>0.0</td>\n",
              "      <td>0.0</td>\n",
              "      <td>0.0</td>\n",
              "      <td>0.0</td>\n",
              "      <td>0.0</td>\n",
              "      <td>0.0</td>\n",
              "      <td>0.0</td>\n",
              "      <td>0.0</td>\n",
              "      <td>0.0</td>\n",
              "      <td>0.0</td>\n",
              "      <td>0.0</td>\n",
              "      <td>0.0</td>\n",
              "      <td>0.0</td>\n",
              "      <td>0.0</td>\n",
              "      <td>0.0</td>\n",
              "      <td>0.0</td>\n",
              "      <td>0.0</td>\n",
              "      <td>0.0</td>\n",
              "      <td>0.0</td>\n",
              "      <td>0.0</td>\n",
              "      <td>0.0</td>\n",
              "      <td>0.0</td>\n",
              "      <td>0.0</td>\n",
              "      <td>0.0</td>\n",
              "      <td>0.0</td>\n",
              "      <td>0.0</td>\n",
              "      <td>0.0</td>\n",
              "      <td>0.0</td>\n",
              "      <td>0.0</td>\n",
              "      <td>0.0</td>\n",
              "      <td>0.0</td>\n",
              "      <td>0.0</td>\n",
              "    </tr>\n",
              "    <tr>\n",
              "      <th>1378</th>\n",
              "      <td>0.0</td>\n",
              "      <td>0.0</td>\n",
              "      <td>0.0</td>\n",
              "      <td>0.0</td>\n",
              "      <td>0.0</td>\n",
              "      <td>0.5</td>\n",
              "      <td>0.0</td>\n",
              "      <td>0.0</td>\n",
              "      <td>0.0</td>\n",
              "      <td>0.0</td>\n",
              "      <td>0.0</td>\n",
              "      <td>0.0</td>\n",
              "      <td>0.0</td>\n",
              "      <td>0.0</td>\n",
              "      <td>0.0</td>\n",
              "      <td>0.0</td>\n",
              "      <td>0.0</td>\n",
              "      <td>0.0</td>\n",
              "      <td>0.0</td>\n",
              "      <td>0.0</td>\n",
              "      <td>0.5</td>\n",
              "      <td>0.0</td>\n",
              "      <td>0.0</td>\n",
              "      <td>0.0</td>\n",
              "      <td>0.0</td>\n",
              "      <td>0.0</td>\n",
              "      <td>0.0</td>\n",
              "      <td>1.0</td>\n",
              "      <td>0.0</td>\n",
              "      <td>0.0</td>\n",
              "      <td>0.0</td>\n",
              "      <td>0.0</td>\n",
              "      <td>0.0</td>\n",
              "      <td>0.5</td>\n",
              "      <td>0.0</td>\n",
              "      <td>0.0</td>\n",
              "      <td>0.5</td>\n",
              "      <td>1.0</td>\n",
              "      <td>0.5</td>\n",
              "      <td>0.0</td>\n",
              "      <td>...</td>\n",
              "      <td>0.0</td>\n",
              "      <td>0.0</td>\n",
              "      <td>0.5</td>\n",
              "      <td>0.0</td>\n",
              "      <td>0.0</td>\n",
              "      <td>0.0</td>\n",
              "      <td>0.0</td>\n",
              "      <td>0.0</td>\n",
              "      <td>0.0</td>\n",
              "      <td>0.0</td>\n",
              "      <td>0.0</td>\n",
              "      <td>0.5</td>\n",
              "      <td>0.0</td>\n",
              "      <td>0.0</td>\n",
              "      <td>0.0</td>\n",
              "      <td>0.0</td>\n",
              "      <td>0.5</td>\n",
              "      <td>0.0</td>\n",
              "      <td>0.0</td>\n",
              "      <td>0.0</td>\n",
              "      <td>0.0</td>\n",
              "      <td>0.0</td>\n",
              "      <td>0.0</td>\n",
              "      <td>0.0</td>\n",
              "      <td>0.0</td>\n",
              "      <td>0.0</td>\n",
              "      <td>0.0</td>\n",
              "      <td>0.0</td>\n",
              "      <td>0.0</td>\n",
              "      <td>0.0</td>\n",
              "      <td>0.0</td>\n",
              "      <td>0.0</td>\n",
              "      <td>0.0</td>\n",
              "      <td>0.0</td>\n",
              "      <td>0.0</td>\n",
              "      <td>0.0</td>\n",
              "      <td>0.0</td>\n",
              "      <td>0.0</td>\n",
              "      <td>0.0</td>\n",
              "      <td>0.0</td>\n",
              "    </tr>\n",
              "    <tr>\n",
              "      <th>1379</th>\n",
              "      <td>0.0</td>\n",
              "      <td>0.0</td>\n",
              "      <td>0.0</td>\n",
              "      <td>0.0</td>\n",
              "      <td>0.0</td>\n",
              "      <td>0.0</td>\n",
              "      <td>0.0</td>\n",
              "      <td>0.0</td>\n",
              "      <td>0.0</td>\n",
              "      <td>0.0</td>\n",
              "      <td>0.0</td>\n",
              "      <td>0.0</td>\n",
              "      <td>0.0</td>\n",
              "      <td>0.0</td>\n",
              "      <td>0.0</td>\n",
              "      <td>0.0</td>\n",
              "      <td>0.0</td>\n",
              "      <td>0.0</td>\n",
              "      <td>0.0</td>\n",
              "      <td>0.0</td>\n",
              "      <td>0.0</td>\n",
              "      <td>0.0</td>\n",
              "      <td>0.0</td>\n",
              "      <td>0.0</td>\n",
              "      <td>0.0</td>\n",
              "      <td>0.0</td>\n",
              "      <td>0.0</td>\n",
              "      <td>0.0</td>\n",
              "      <td>0.0</td>\n",
              "      <td>0.0</td>\n",
              "      <td>0.0</td>\n",
              "      <td>0.0</td>\n",
              "      <td>0.0</td>\n",
              "      <td>0.0</td>\n",
              "      <td>0.0</td>\n",
              "      <td>0.0</td>\n",
              "      <td>0.0</td>\n",
              "      <td>0.0</td>\n",
              "      <td>0.0</td>\n",
              "      <td>0.0</td>\n",
              "      <td>...</td>\n",
              "      <td>0.0</td>\n",
              "      <td>0.0</td>\n",
              "      <td>0.0</td>\n",
              "      <td>0.0</td>\n",
              "      <td>0.0</td>\n",
              "      <td>0.0</td>\n",
              "      <td>0.0</td>\n",
              "      <td>0.0</td>\n",
              "      <td>0.0</td>\n",
              "      <td>0.0</td>\n",
              "      <td>0.0</td>\n",
              "      <td>0.0</td>\n",
              "      <td>0.0</td>\n",
              "      <td>0.0</td>\n",
              "      <td>0.0</td>\n",
              "      <td>0.0</td>\n",
              "      <td>0.0</td>\n",
              "      <td>0.0</td>\n",
              "      <td>0.0</td>\n",
              "      <td>0.0</td>\n",
              "      <td>0.0</td>\n",
              "      <td>0.0</td>\n",
              "      <td>0.0</td>\n",
              "      <td>0.0</td>\n",
              "      <td>0.0</td>\n",
              "      <td>0.0</td>\n",
              "      <td>0.0</td>\n",
              "      <td>0.0</td>\n",
              "      <td>0.0</td>\n",
              "      <td>0.0</td>\n",
              "      <td>0.0</td>\n",
              "      <td>0.0</td>\n",
              "      <td>0.0</td>\n",
              "      <td>0.0</td>\n",
              "      <td>0.0</td>\n",
              "      <td>0.0</td>\n",
              "      <td>0.0</td>\n",
              "      <td>0.0</td>\n",
              "      <td>0.0</td>\n",
              "      <td>0.0</td>\n",
              "    </tr>\n",
              "    <tr>\n",
              "      <th>1380</th>\n",
              "      <td>0.0</td>\n",
              "      <td>0.0</td>\n",
              "      <td>0.0</td>\n",
              "      <td>0.0</td>\n",
              "      <td>0.0</td>\n",
              "      <td>0.0</td>\n",
              "      <td>0.0</td>\n",
              "      <td>0.0</td>\n",
              "      <td>0.0</td>\n",
              "      <td>0.0</td>\n",
              "      <td>0.0</td>\n",
              "      <td>0.0</td>\n",
              "      <td>0.0</td>\n",
              "      <td>0.0</td>\n",
              "      <td>0.0</td>\n",
              "      <td>0.0</td>\n",
              "      <td>0.0</td>\n",
              "      <td>0.0</td>\n",
              "      <td>0.0</td>\n",
              "      <td>0.0</td>\n",
              "      <td>0.0</td>\n",
              "      <td>0.0</td>\n",
              "      <td>0.0</td>\n",
              "      <td>0.0</td>\n",
              "      <td>0.0</td>\n",
              "      <td>0.0</td>\n",
              "      <td>0.0</td>\n",
              "      <td>0.0</td>\n",
              "      <td>0.0</td>\n",
              "      <td>0.0</td>\n",
              "      <td>0.0</td>\n",
              "      <td>0.0</td>\n",
              "      <td>0.0</td>\n",
              "      <td>0.0</td>\n",
              "      <td>0.0</td>\n",
              "      <td>0.0</td>\n",
              "      <td>0.0</td>\n",
              "      <td>0.0</td>\n",
              "      <td>0.0</td>\n",
              "      <td>0.0</td>\n",
              "      <td>...</td>\n",
              "      <td>0.0</td>\n",
              "      <td>0.0</td>\n",
              "      <td>0.0</td>\n",
              "      <td>0.0</td>\n",
              "      <td>0.0</td>\n",
              "      <td>0.0</td>\n",
              "      <td>0.0</td>\n",
              "      <td>0.0</td>\n",
              "      <td>0.0</td>\n",
              "      <td>0.0</td>\n",
              "      <td>0.0</td>\n",
              "      <td>0.0</td>\n",
              "      <td>0.0</td>\n",
              "      <td>0.0</td>\n",
              "      <td>0.0</td>\n",
              "      <td>0.0</td>\n",
              "      <td>0.0</td>\n",
              "      <td>0.0</td>\n",
              "      <td>0.0</td>\n",
              "      <td>0.0</td>\n",
              "      <td>0.0</td>\n",
              "      <td>0.0</td>\n",
              "      <td>0.0</td>\n",
              "      <td>0.0</td>\n",
              "      <td>0.0</td>\n",
              "      <td>0.0</td>\n",
              "      <td>0.0</td>\n",
              "      <td>0.0</td>\n",
              "      <td>0.0</td>\n",
              "      <td>0.0</td>\n",
              "      <td>0.0</td>\n",
              "      <td>0.0</td>\n",
              "      <td>0.0</td>\n",
              "      <td>0.0</td>\n",
              "      <td>0.0</td>\n",
              "      <td>0.0</td>\n",
              "      <td>0.0</td>\n",
              "      <td>0.0</td>\n",
              "      <td>0.0</td>\n",
              "      <td>0.0</td>\n",
              "    </tr>\n",
              "    <tr>\n",
              "      <th>1381</th>\n",
              "      <td>0.0</td>\n",
              "      <td>0.0</td>\n",
              "      <td>0.0</td>\n",
              "      <td>0.0</td>\n",
              "      <td>0.0</td>\n",
              "      <td>0.0</td>\n",
              "      <td>0.0</td>\n",
              "      <td>0.0</td>\n",
              "      <td>0.0</td>\n",
              "      <td>0.0</td>\n",
              "      <td>0.0</td>\n",
              "      <td>0.0</td>\n",
              "      <td>0.0</td>\n",
              "      <td>0.0</td>\n",
              "      <td>0.0</td>\n",
              "      <td>0.0</td>\n",
              "      <td>0.0</td>\n",
              "      <td>0.0</td>\n",
              "      <td>0.0</td>\n",
              "      <td>0.0</td>\n",
              "      <td>0.0</td>\n",
              "      <td>0.0</td>\n",
              "      <td>0.0</td>\n",
              "      <td>0.0</td>\n",
              "      <td>0.0</td>\n",
              "      <td>0.0</td>\n",
              "      <td>0.0</td>\n",
              "      <td>0.0</td>\n",
              "      <td>0.0</td>\n",
              "      <td>0.0</td>\n",
              "      <td>0.0</td>\n",
              "      <td>0.0</td>\n",
              "      <td>0.0</td>\n",
              "      <td>0.0</td>\n",
              "      <td>0.0</td>\n",
              "      <td>0.0</td>\n",
              "      <td>0.0</td>\n",
              "      <td>0.0</td>\n",
              "      <td>0.0</td>\n",
              "      <td>0.0</td>\n",
              "      <td>...</td>\n",
              "      <td>0.0</td>\n",
              "      <td>0.0</td>\n",
              "      <td>0.0</td>\n",
              "      <td>0.0</td>\n",
              "      <td>0.0</td>\n",
              "      <td>0.0</td>\n",
              "      <td>0.0</td>\n",
              "      <td>0.0</td>\n",
              "      <td>0.0</td>\n",
              "      <td>0.0</td>\n",
              "      <td>0.0</td>\n",
              "      <td>0.0</td>\n",
              "      <td>0.0</td>\n",
              "      <td>0.0</td>\n",
              "      <td>0.0</td>\n",
              "      <td>0.0</td>\n",
              "      <td>0.0</td>\n",
              "      <td>0.0</td>\n",
              "      <td>0.0</td>\n",
              "      <td>0.0</td>\n",
              "      <td>0.0</td>\n",
              "      <td>0.0</td>\n",
              "      <td>0.0</td>\n",
              "      <td>0.0</td>\n",
              "      <td>0.0</td>\n",
              "      <td>0.0</td>\n",
              "      <td>0.0</td>\n",
              "      <td>0.0</td>\n",
              "      <td>0.0</td>\n",
              "      <td>0.0</td>\n",
              "      <td>0.0</td>\n",
              "      <td>0.0</td>\n",
              "      <td>0.0</td>\n",
              "      <td>0.0</td>\n",
              "      <td>0.0</td>\n",
              "      <td>0.0</td>\n",
              "      <td>0.0</td>\n",
              "      <td>0.0</td>\n",
              "      <td>0.0</td>\n",
              "      <td>0.0</td>\n",
              "    </tr>\n",
              "  </tbody>\n",
              "</table>\n",
              "<p>1382 rows × 69598 columns</p>\n",
              "</div>"
            ],
            "text/plain": [
              "song_id  10      28      30      32      ...  707934  707965  707969  707985\n",
              "tag_id                                   ...                                \n",
              "0           0.0     0.0     0.0     0.0  ...     0.0     0.0     0.0     0.0\n",
              "1           0.0     0.0     0.0     0.0  ...     0.0     0.0     0.0     0.0\n",
              "2           0.0     0.0     0.0     0.0  ...     0.0     0.0     0.0     0.0\n",
              "3           0.0     0.0     0.0     0.0  ...     0.0     0.0     0.0     0.0\n",
              "4           0.0     0.0     0.0     0.0  ...     0.0     0.0     0.0     0.0\n",
              "...         ...     ...     ...     ...  ...     ...     ...     ...     ...\n",
              "1377        0.0     0.0     0.0     0.0  ...     0.0     0.0     0.0     0.0\n",
              "1378        0.0     0.0     0.0     0.0  ...     0.0     0.0     0.0     0.0\n",
              "1379        0.0     0.0     0.0     0.0  ...     0.0     0.0     0.0     0.0\n",
              "1380        0.0     0.0     0.0     0.0  ...     0.0     0.0     0.0     0.0\n",
              "1381        0.0     0.0     0.0     0.0  ...     0.0     0.0     0.0     0.0\n",
              "\n",
              "[1382 rows x 69598 columns]"
            ]
          },
          "metadata": {
            "tags": []
          },
          "execution_count": 107
        }
      ]
    },
    {
      "cell_type": "code",
      "metadata": {
        "id": "_Pgoels8vYFO"
      },
      "source": [
        "df_result = pd.read_json(get_path('Result_v2.json'))"
      ],
      "execution_count": null,
      "outputs": []
    },
    {
      "cell_type": "code",
      "metadata": {
        "id": "buTvLHtNxpkc"
      },
      "source": [
        "good_tags = df_result[df_result.precision > 0].tag.map(lambda x: tag2idx.get(x)).values"
      ],
      "execution_count": null,
      "outputs": []
    },
    {
      "cell_type": "code",
      "metadata": {
        "colab": {
          "base_uri": "https://localhost:8080/",
          "height": 406
        },
        "id": "r2X5HWlVyYQG",
        "outputId": "bcaf8260-7e15-4cb8-c6cc-f5181e915952"
      },
      "source": [
        "df_test"
      ],
      "execution_count": null,
      "outputs": [
        {
          "output_type": "execute_result",
          "data": {
            "text/html": [
              "<div>\n",
              "<style scoped>\n",
              "    .dataframe tbody tr th:only-of-type {\n",
              "        vertical-align: middle;\n",
              "    }\n",
              "\n",
              "    .dataframe tbody tr th {\n",
              "        vertical-align: top;\n",
              "    }\n",
              "\n",
              "    .dataframe thead th {\n",
              "        text-align: right;\n",
              "    }\n",
              "</style>\n",
              "<table border=\"1\" class=\"dataframe\">\n",
              "  <thead>\n",
              "    <tr style=\"text-align: right;\">\n",
              "      <th></th>\n",
              "      <th>tag_id</th>\n",
              "      <th>level_1</th>\n",
              "      <th>song_id</th>\n",
              "      <th>freq</th>\n",
              "      <th>freq2</th>\n",
              "    </tr>\n",
              "  </thead>\n",
              "  <tbody>\n",
              "    <tr>\n",
              "      <th>0</th>\n",
              "      <td>1192</td>\n",
              "      <td>325263</td>\n",
              "      <td>138394</td>\n",
              "      <td>2.0</td>\n",
              "      <td>1.0</td>\n",
              "    </tr>\n",
              "    <tr>\n",
              "      <th>1</th>\n",
              "      <td>1284</td>\n",
              "      <td>668421</td>\n",
              "      <td>145080</td>\n",
              "      <td>3.0</td>\n",
              "      <td>1.0</td>\n",
              "    </tr>\n",
              "    <tr>\n",
              "      <th>2</th>\n",
              "      <td>370</td>\n",
              "      <td>403396</td>\n",
              "      <td>267224</td>\n",
              "      <td>9.0</td>\n",
              "      <td>1.0</td>\n",
              "    </tr>\n",
              "    <tr>\n",
              "      <th>3</th>\n",
              "      <td>332</td>\n",
              "      <td>994355</td>\n",
              "      <td>293236</td>\n",
              "      <td>8.0</td>\n",
              "      <td>1.0</td>\n",
              "    </tr>\n",
              "    <tr>\n",
              "      <th>4</th>\n",
              "      <td>1282</td>\n",
              "      <td>718866</td>\n",
              "      <td>212381</td>\n",
              "      <td>10.0</td>\n",
              "      <td>1.0</td>\n",
              "    </tr>\n",
              "    <tr>\n",
              "      <th>...</th>\n",
              "      <td>...</td>\n",
              "      <td>...</td>\n",
              "      <td>...</td>\n",
              "      <td>...</td>\n",
              "      <td>...</td>\n",
              "    </tr>\n",
              "    <tr>\n",
              "      <th>67043</th>\n",
              "      <td>318</td>\n",
              "      <td>1008995</td>\n",
              "      <td>177909</td>\n",
              "      <td>2.0</td>\n",
              "      <td>1.0</td>\n",
              "    </tr>\n",
              "    <tr>\n",
              "      <th>67044</th>\n",
              "      <td>1273</td>\n",
              "      <td>708195</td>\n",
              "      <td>198035</td>\n",
              "      <td>2.0</td>\n",
              "      <td>1.0</td>\n",
              "    </tr>\n",
              "    <tr>\n",
              "      <th>67045</th>\n",
              "      <td>370</td>\n",
              "      <td>454385</td>\n",
              "      <td>661549</td>\n",
              "      <td>2.0</td>\n",
              "      <td>1.0</td>\n",
              "    </tr>\n",
              "    <tr>\n",
              "      <th>67046</th>\n",
              "      <td>802</td>\n",
              "      <td>884829</td>\n",
              "      <td>608260</td>\n",
              "      <td>2.0</td>\n",
              "      <td>1.0</td>\n",
              "    </tr>\n",
              "    <tr>\n",
              "      <th>67047</th>\n",
              "      <td>63</td>\n",
              "      <td>248289</td>\n",
              "      <td>541439</td>\n",
              "      <td>2.0</td>\n",
              "      <td>1.0</td>\n",
              "    </tr>\n",
              "  </tbody>\n",
              "</table>\n",
              "<p>67048 rows × 5 columns</p>\n",
              "</div>"
            ],
            "text/plain": [
              "       tag_id  level_1  song_id  freq  freq2\n",
              "0        1192   325263   138394   2.0    1.0\n",
              "1        1284   668421   145080   3.0    1.0\n",
              "2         370   403396   267224   9.0    1.0\n",
              "3         332   994355   293236   8.0    1.0\n",
              "4        1282   718866   212381  10.0    1.0\n",
              "...       ...      ...      ...   ...    ...\n",
              "67043     318  1008995   177909   2.0    1.0\n",
              "67044    1273   708195   198035   2.0    1.0\n",
              "67045     370   454385   661549   2.0    1.0\n",
              "67046     802   884829   608260   2.0    1.0\n",
              "67047      63   248289   541439   2.0    1.0\n",
              "\n",
              "[67048 rows x 5 columns]"
            ]
          },
          "metadata": {
            "tags": []
          },
          "execution_count": 46
        }
      ]
    },
    {
      "cell_type": "code",
      "metadata": {
        "id": "HfuDTsjfyYM-"
      },
      "source": [
        "df_test2 = df_test[df_test.tag_id.isin(good_tags)]"
      ],
      "execution_count": null,
      "outputs": []
    },
    {
      "cell_type": "code",
      "metadata": {
        "id": "X80nz6DzyYKK"
      },
      "source": [
        "df_test2 = df_test2.reset_index(drop=True)"
      ],
      "execution_count": null,
      "outputs": []
    },
    {
      "cell_type": "code",
      "metadata": {
        "id": "BPw6RcEvyC8q"
      },
      "source": [
        "test_clusters = [df_test2[df_test2.tag_id.isin(tag_cluster_ids[key])] for key in range(15)]"
      ],
      "execution_count": null,
      "outputs": []
    },
    {
      "cell_type": "code",
      "metadata": {
        "id": "tXl4UvfyzWPd"
      },
      "source": [
        "import time"
      ],
      "execution_count": null,
      "outputs": []
    },
    {
      "cell_type": "code",
      "metadata": {
        "colab": {
          "base_uri": "https://localhost:8080/",
          "height": 406
        },
        "id": "vGL-Oizq9VVt",
        "outputId": "ebcf2f43-7484-4740-dde8-a967dc15a901"
      },
      "source": [
        "for i in range(df_test2.tag_id)"
      ],
      "execution_count": null,
      "outputs": [
        {
          "output_type": "execute_result",
          "data": {
            "text/html": [
              "<div>\n",
              "<style scoped>\n",
              "    .dataframe tbody tr th:only-of-type {\n",
              "        vertical-align: middle;\n",
              "    }\n",
              "\n",
              "    .dataframe tbody tr th {\n",
              "        vertical-align: top;\n",
              "    }\n",
              "\n",
              "    .dataframe thead th {\n",
              "        text-align: right;\n",
              "    }\n",
              "</style>\n",
              "<table border=\"1\" class=\"dataframe\">\n",
              "  <thead>\n",
              "    <tr style=\"text-align: right;\">\n",
              "      <th></th>\n",
              "      <th>tag_id</th>\n",
              "      <th>level_1</th>\n",
              "      <th>song_id</th>\n",
              "      <th>freq</th>\n",
              "      <th>freq2</th>\n",
              "    </tr>\n",
              "  </thead>\n",
              "  <tbody>\n",
              "    <tr>\n",
              "      <th>0</th>\n",
              "      <td>1192</td>\n",
              "      <td>325263</td>\n",
              "      <td>138394</td>\n",
              "      <td>2.0</td>\n",
              "      <td>1.0</td>\n",
              "    </tr>\n",
              "    <tr>\n",
              "      <th>1</th>\n",
              "      <td>1284</td>\n",
              "      <td>668421</td>\n",
              "      <td>145080</td>\n",
              "      <td>3.0</td>\n",
              "      <td>1.0</td>\n",
              "    </tr>\n",
              "    <tr>\n",
              "      <th>2</th>\n",
              "      <td>370</td>\n",
              "      <td>403396</td>\n",
              "      <td>267224</td>\n",
              "      <td>9.0</td>\n",
              "      <td>1.0</td>\n",
              "    </tr>\n",
              "    <tr>\n",
              "      <th>3</th>\n",
              "      <td>332</td>\n",
              "      <td>994355</td>\n",
              "      <td>293236</td>\n",
              "      <td>8.0</td>\n",
              "      <td>1.0</td>\n",
              "    </tr>\n",
              "    <tr>\n",
              "      <th>4</th>\n",
              "      <td>1282</td>\n",
              "      <td>718866</td>\n",
              "      <td>212381</td>\n",
              "      <td>10.0</td>\n",
              "      <td>1.0</td>\n",
              "    </tr>\n",
              "    <tr>\n",
              "      <th>...</th>\n",
              "      <td>...</td>\n",
              "      <td>...</td>\n",
              "      <td>...</td>\n",
              "      <td>...</td>\n",
              "      <td>...</td>\n",
              "    </tr>\n",
              "    <tr>\n",
              "      <th>60849</th>\n",
              "      <td>318</td>\n",
              "      <td>1008995</td>\n",
              "      <td>177909</td>\n",
              "      <td>2.0</td>\n",
              "      <td>1.0</td>\n",
              "    </tr>\n",
              "    <tr>\n",
              "      <th>60850</th>\n",
              "      <td>1273</td>\n",
              "      <td>708195</td>\n",
              "      <td>198035</td>\n",
              "      <td>2.0</td>\n",
              "      <td>1.0</td>\n",
              "    </tr>\n",
              "    <tr>\n",
              "      <th>60851</th>\n",
              "      <td>370</td>\n",
              "      <td>454385</td>\n",
              "      <td>661549</td>\n",
              "      <td>2.0</td>\n",
              "      <td>1.0</td>\n",
              "    </tr>\n",
              "    <tr>\n",
              "      <th>60852</th>\n",
              "      <td>802</td>\n",
              "      <td>884829</td>\n",
              "      <td>608260</td>\n",
              "      <td>2.0</td>\n",
              "      <td>1.0</td>\n",
              "    </tr>\n",
              "    <tr>\n",
              "      <th>60853</th>\n",
              "      <td>63</td>\n",
              "      <td>248289</td>\n",
              "      <td>541439</td>\n",
              "      <td>2.0</td>\n",
              "      <td>1.0</td>\n",
              "    </tr>\n",
              "  </tbody>\n",
              "</table>\n",
              "<p>60854 rows × 5 columns</p>\n",
              "</div>"
            ],
            "text/plain": [
              "       tag_id  level_1  song_id  freq  freq2\n",
              "0        1192   325263   138394   2.0    1.0\n",
              "1        1284   668421   145080   3.0    1.0\n",
              "2         370   403396   267224   9.0    1.0\n",
              "3         332   994355   293236   8.0    1.0\n",
              "4        1282   718866   212381  10.0    1.0\n",
              "...       ...      ...      ...   ...    ...\n",
              "60849     318  1008995   177909   2.0    1.0\n",
              "60850    1273   708195   198035   2.0    1.0\n",
              "60851     370   454385   661549   2.0    1.0\n",
              "60852     802   884829   608260   2.0    1.0\n",
              "60853      63   248289   541439   2.0    1.0\n",
              "\n",
              "[60854 rows x 5 columns]"
            ]
          },
          "metadata": {
            "tags": []
          },
          "execution_count": 84
        }
      ]
    },
    {
      "cell_type": "code",
      "metadata": {
        "colab": {
          "base_uri": "https://localhost:8080/",
          "height": 406
        },
        "id": "A8C_e62k9xmq",
        "outputId": "e57f44cf-04f6-40fe-a38e-d61daa3fe7d9"
      },
      "source": [
        ""
      ],
      "execution_count": null,
      "outputs": [
        {
          "output_type": "execute_result",
          "data": {
            "text/html": [
              "<div>\n",
              "<style scoped>\n",
              "    .dataframe tbody tr th:only-of-type {\n",
              "        vertical-align: middle;\n",
              "    }\n",
              "\n",
              "    .dataframe tbody tr th {\n",
              "        vertical-align: top;\n",
              "    }\n",
              "\n",
              "    .dataframe thead th {\n",
              "        text-align: right;\n",
              "    }\n",
              "</style>\n",
              "<table border=\"1\" class=\"dataframe\">\n",
              "  <thead>\n",
              "    <tr style=\"text-align: right;\">\n",
              "      <th></th>\n",
              "      <th>tag_id</th>\n",
              "      <th>song_id</th>\n",
              "      <th>freq</th>\n",
              "      <th>freq2</th>\n",
              "    </tr>\n",
              "  </thead>\n",
              "  <tbody>\n",
              "    <tr>\n",
              "      <th>0</th>\n",
              "      <td>528</td>\n",
              "      <td>447675</td>\n",
              "      <td>1.0</td>\n",
              "      <td>0.5</td>\n",
              "    </tr>\n",
              "    <tr>\n",
              "      <th>1</th>\n",
              "      <td>315</td>\n",
              "      <td>466751</td>\n",
              "      <td>3.0</td>\n",
              "      <td>1.0</td>\n",
              "    </tr>\n",
              "    <tr>\n",
              "      <th>2</th>\n",
              "      <td>1142</td>\n",
              "      <td>69113</td>\n",
              "      <td>1.0</td>\n",
              "      <td>0.5</td>\n",
              "    </tr>\n",
              "    <tr>\n",
              "      <th>3</th>\n",
              "      <td>305</td>\n",
              "      <td>203278</td>\n",
              "      <td>1.0</td>\n",
              "      <td>0.5</td>\n",
              "    </tr>\n",
              "    <tr>\n",
              "      <th>4</th>\n",
              "      <td>657</td>\n",
              "      <td>424843</td>\n",
              "      <td>3.0</td>\n",
              "      <td>1.0</td>\n",
              "    </tr>\n",
              "    <tr>\n",
              "      <th>...</th>\n",
              "      <td>...</td>\n",
              "      <td>...</td>\n",
              "      <td>...</td>\n",
              "      <td>...</td>\n",
              "    </tr>\n",
              "    <tr>\n",
              "      <th>1221439</th>\n",
              "      <td>969</td>\n",
              "      <td>443483</td>\n",
              "      <td>2.0</td>\n",
              "      <td>1.0</td>\n",
              "    </tr>\n",
              "    <tr>\n",
              "      <th>1221440</th>\n",
              "      <td>148</td>\n",
              "      <td>155113</td>\n",
              "      <td>1.0</td>\n",
              "      <td>0.5</td>\n",
              "    </tr>\n",
              "    <tr>\n",
              "      <th>1221441</th>\n",
              "      <td>381</td>\n",
              "      <td>300987</td>\n",
              "      <td>1.0</td>\n",
              "      <td>0.5</td>\n",
              "    </tr>\n",
              "    <tr>\n",
              "      <th>1221442</th>\n",
              "      <td>219</td>\n",
              "      <td>95505</td>\n",
              "      <td>17.0</td>\n",
              "      <td>1.0</td>\n",
              "    </tr>\n",
              "    <tr>\n",
              "      <th>1221443</th>\n",
              "      <td>985</td>\n",
              "      <td>636157</td>\n",
              "      <td>1.0</td>\n",
              "      <td>0.5</td>\n",
              "    </tr>\n",
              "  </tbody>\n",
              "</table>\n",
              "<p>1221444 rows × 4 columns</p>\n",
              "</div>"
            ],
            "text/plain": [
              "         tag_id  song_id  freq  freq2\n",
              "0           528   447675   1.0    0.5\n",
              "1           315   466751   3.0    1.0\n",
              "2          1142    69113   1.0    0.5\n",
              "3           305   203278   1.0    0.5\n",
              "4           657   424843   3.0    1.0\n",
              "...         ...      ...   ...    ...\n",
              "1221439     969   443483   2.0    1.0\n",
              "1221440     148   155113   1.0    0.5\n",
              "1221441     381   300987   1.0    0.5\n",
              "1221442     219    95505  17.0    1.0\n",
              "1221443     985   636157   1.0    0.5\n",
              "\n",
              "[1221444 rows x 4 columns]"
            ]
          },
          "metadata": {
            "tags": []
          },
          "execution_count": 86
        }
      ]
    },
    {
      "cell_type": "code",
      "metadata": {
        "id": "U9nZfuH_nWcq"
      },
      "source": [
        "good_tags_id = [tag2idx.get(tag) for tag in good_tags]"
      ],
      "execution_count": null,
      "outputs": []
    },
    {
      "cell_type": "code",
      "metadata": {
        "id": "BUwWoUXNnIve"
      },
      "source": [
        "df_test2 = df_test[df_test.tag_id.isin(good_tags_id)].reset_index(drop=True)"
      ],
      "execution_count": null,
      "outputs": []
    },
    {
      "cell_type": "code",
      "metadata": {
        "id": "bwI-oHFf9VTG"
      },
      "source": [
        "recall_result = []\n",
        "precision_result = []\n",
        "prediction_result = []\n",
        "\n",
        "true_result = []\n",
        "correct_result = []\n",
        "spent_result = []\n",
        "\n",
        "# x_test =  test_clusters[idx]\n",
        "test_tags = df_test2['tag_id'].unique()\n",
        "total_songs = np.intersect1d(df_test2.song_id.unique(), df_train.song_id.unique())\n",
        "\n",
        "k = 50"
      ],
      "execution_count": null,
      "outputs": []
    },
    {
      "cell_type": "code",
      "metadata": {
        "id": "BFwMgA2U1TcE"
      },
      "source": [
        "for _test_tag_id in tqdm(test_tags):\n",
        "    song_ids = np.intersect1d(x_test.song_id[x_test.tag_id == _test_tag_id].values, total_songs)\n",
        "\n",
        "    start_time = time.time()\n",
        "    \n",
        "    predicted = []\n",
        "    for key_id, weight in clusters_and_weight(_test_tag_id).items():\n",
        "      predicted.extend(Clusters[key_id].predict(idx2tag[_test_tag_id])[:int(k*weight)])\n",
        "    \n",
        "    spent_result.append(time.time() - start_time)\n",
        "    correct_count = np.intersect1d(song_ids, predicted).shape[0]\n",
        "\n",
        "    correct_result.append(correct_count)\n",
        "    prediction_result.append(predicted)\n",
        "    true_result.append(song_ids)\n",
        "\n",
        "    if len(song_ids) == 0:\n",
        "      recall_result.append(0)\n",
        "      precision_result.append(0)\n",
        "      continue\n",
        "    \n",
        "    recall_result.append(correct_count / len(song_ids))\n",
        "    precision_result.append(correct_count / k)\n",
        "\n",
        "tag_names = [idx2tag[tag_id] for tag_id in test_tags]\n",
        "df_result = pd.DataFrame([tag_names, recall_result, precision_result, prediction_result, true_result, correct_result, spent_result]).T\n",
        "df_result.columns = ['tag', 'recall', 'precision', 'prediction', 'true', 'correct', 'spent']"
      ],
      "execution_count": null,
      "outputs": []
    },
    {
      "cell_type": "code",
      "metadata": {
        "colab": {
          "base_uri": "https://localhost:8080/",
          "height": 82,
          "referenced_widgets": [
            "3e69fd8cee9f4526a1b2ae9e3d7380c4",
            "91aecbb55d21439893fbe55db1ff1d89",
            "c1ead837f03e4a6384d08a4349f60ffc",
            "9f605fecaf774635b01e90a0827b5d5b",
            "50fc73efa4ac4f24b13d71ec47ab82b3",
            "afeb072224864d23adddaebe1371bc39",
            "337bde2fbadd4548bb0e71da2674e323",
            "52d170ecf21948fe80934df91716b8f3"
          ]
        },
        "id": "WknLReVpuvB_",
        "outputId": "c6a7c325-c1a1-4003-da38-7ec3c1adf60b"
      },
      "source": [
        "len([\n",
        " clusters_and_weight(_test_tag_id)\n",
        " for _test_tag_id in tqdm(test_tags)\n",
        " if len(clusters_and_weight(_test_tag_id).items()) > 1\n",
        "])"
      ],
      "execution_count": null,
      "outputs": [
        {
          "output_type": "display_data",
          "data": {
            "application/vnd.jupyter.widget-view+json": {
              "model_id": "3e69fd8cee9f4526a1b2ae9e3d7380c4",
              "version_minor": 0,
              "version_major": 2
            },
            "text/plain": [
              "HBox(children=(FloatProgress(value=0.0, max=358.0), HTML(value='')))"
            ]
          },
          "metadata": {
            "tags": []
          }
        },
        {
          "output_type": "stream",
          "text": [
            "\n"
          ],
          "name": "stdout"
        },
        {
          "output_type": "execute_result",
          "data": {
            "text/plain": [
              "184"
            ]
          },
          "metadata": {
            "tags": []
          },
          "execution_count": 130
        }
      ]
    },
    {
      "cell_type": "code",
      "metadata": {
        "colab": {
          "base_uri": "https://localhost:8080/"
        },
        "id": "lAc7ghSRuu-e",
        "outputId": "892df628-c8f6-4bbd-9d10-871e113c4da2"
      },
      "source": [
        "test_tags"
      ],
      "execution_count": null,
      "outputs": [
        {
          "output_type": "execute_result",
          "data": {
            "text/plain": [
              "array([ 219,  611, 1284,  412,  179,  700, 1153, 1297, 1276,  226, 1296,\n",
              "        277,  315,   63, 1084,  514, 1052,  370,  710,  777,  356,   83,\n",
              "        857,  705, 1273,  863,  280,  423, 1203,  560,  113,  657,  188,\n",
              "        811,  504,  425,  738, 1192,  640, 1102,  148, 1065, 1037,  515,\n",
              "       1044,  804,  985, 1092,  262,  528,   70, 1299,  100,  740,  690,\n",
              "       1282,  225,    3,  130, 1142, 1351,  174, 1113,  726,  257,  259,\n",
              "        333, 1066, 1205,  289, 1298,   20,  293,  839,   43,  266, 1378,\n",
              "        332,  232,  808,  674,  459,  125,  435, 1280, 1221,  714, 1016,\n",
              "       1334,  388,  768,  271, 1322, 1295,  998,  364,   22,  502,  352,\n",
              "        832,  482,  314,  444,  783, 1371,  317,  860,  540,  548,  643,\n",
              "        619,  737,  201,  171, 1042,  180,  732,  977,  845,  948,  235,\n",
              "        719,  252,  751,  367,  116,  348,  739,  584,   10,  457,  387,\n",
              "        318,  577, 1293, 1115,   13, 1111,  645,  563, 1354,  338,  383,\n",
              "        906,  436, 1265,  151, 1107,  242,   29, 1290,  550,  840,  818,\n",
              "        202,   78,   30, 1130,  246, 1305,  717, 1150,  460,  662, 1292,\n",
              "        669, 1353, 1222,  664, 1029, 1243, 1249,  428,  543,  658,  997,\n",
              "        875,  137,  874,  120,  771,  666,  591, 1022,  802,  610,  656,\n",
              "       1336,  424,  654, 1218, 1289, 1175,  844,  406,  109,  245,  471,\n",
              "        320,  215,  622,  365,  959, 1119,   21, 1196,  976,  967,  193,\n",
              "        835,  340,  231, 1224,  629, 1118,  581,  701,   85,  613, 1061,\n",
              "        953,  774,  969,  665, 1213,  866,  443,  648,  675,  899, 1160,\n",
              "       1137, 1333,  652,  691, 1054, 1170, 1248,  853,  413,  337, 1239,\n",
              "         58,  312,   96,  361,  921,  284,  234,  283,  501,  952,  126,\n",
              "        393,   67,  525,  422, 1188,  430,  291, 1367,  593,  374,  466,\n",
              "        118, 1177,  729, 1190,  995,  618,  251,   53,  505, 1000,  677,\n",
              "        304,  308, 1024, 1143,  149,  256, 1251, 1053,  697,  249,  773,\n",
              "       1329,    2,  247,  400, 1286,  909,  798,  326,  991,  937, 1168,\n",
              "        473,  554, 1189,  224,  449,  456,  820,  894, 1087, 1109,   60,\n",
              "       1291,  311, 1266,  647,  105,  110,  847,  685, 1313,  992, 1215,\n",
              "        398,  946,  269,  359,  537,  821,  668,  897,  336,  873,  918,\n",
              "       1220,  478,  763, 1020,  856, 1176,  450,  228,  903, 1339, 1090,\n",
              "        493,  285,  499,  403,  321, 1262, 1244, 1294,  741,  405,  467,\n",
              "        490,  603,  585,   87,  339,  223])"
            ]
          },
          "metadata": {
            "tags": []
          },
          "execution_count": 198
        }
      ]
    },
    {
      "cell_type": "code",
      "metadata": {
        "id": "vLdWVy2luu7U"
      },
      "source": [
        "prediction_result = []"
      ],
      "execution_count": null,
      "outputs": []
    },
    {
      "cell_type": "code",
      "metadata": {
        "id": "a7SZ6WcU04m4"
      },
      "source": [
        ""
      ],
      "execution_count": null,
      "outputs": []
    },
    {
      "cell_type": "code",
      "metadata": {
        "colab": {
          "base_uri": "https://localhost:8080/",
          "height": 65,
          "referenced_widgets": [
            "260f1f311ce9495ea0f7fdc04c1ae2b9",
            "d8f12387f870470d834a2d2f581f41c3",
            "fbbef154c820446faf487ddc14dd2381",
            "3ec64614b941468e89bb7192f8dac5c7",
            "dc583ec239a84ac9bdb204a9eefa4775",
            "dacd5c876a49460993fb8dbac1136eaf",
            "0c74e89f5a39465f92d3df20f8a12b3c",
            "3b35c67743124ca2b039c8e29c5f4c2b"
          ]
        },
        "id": "yUJX_2Ny9VLP",
        "outputId": "75e9ec28-25df-4ffa-bd36-eb1539815c3a"
      },
      "source": [
        "k = 10\n",
        "for _test_tag_id in tqdm(test_tags):\n",
        "    song_ids = np.intersect1d(x_test.song_id[x_test.tag_id == _test_tag_id].values, total_songs)\n",
        "    predicted = []\n",
        "    for key_id, weight in clusters_and_weight(_test_tag_id).items():\n",
        "      predicted.extend(Clusters[key_id].predict(idx2tag[_test_tag_id], k=int(k*weight)))\n",
        "    prediction_result.append(predicted)"
      ],
      "execution_count": null,
      "outputs": [
        {
          "output_type": "display_data",
          "data": {
            "application/vnd.jupyter.widget-view+json": {
              "model_id": "260f1f311ce9495ea0f7fdc04c1ae2b9",
              "version_minor": 0,
              "version_major": 2
            },
            "text/plain": [
              "HBox(children=(FloatProgress(value=0.0, max=358.0), HTML(value='')))"
            ]
          },
          "metadata": {
            "tags": []
          }
        },
        {
          "output_type": "stream",
          "text": [
            "\n"
          ],
          "name": "stdout"
        }
      ]
    },
    {
      "cell_type": "code",
      "metadata": {
        "id": "lB_dq8ZhuBSe"
      },
      "source": [
        "df_result = df_result.merge(pd.DataFrame({'tag': tag_names, 'k10_prediction': prediction_result}), on='tag')"
      ],
      "execution_count": null,
      "outputs": []
    },
    {
      "cell_type": "code",
      "metadata": {
        "id": "SXwsvihl1lWH"
      },
      "source": [
        "df_result['k10'] = [np.intersect1d(pred, true).shape[0] for pred, true in zip(df_result.k10_prediction, df_result.true)]\n",
        "df_result['recall@10'] = df_result.k10 / df_result.true.map(lambda x: len(x))\n",
        "df_result['precision@10'] = df_result.k10 / 10"
      ],
      "execution_count": null,
      "outputs": []
    },
    {
      "cell_type": "code",
      "metadata": {
        "id": "CUpaoyiK1E4h"
      },
      "source": [
        ""
      ],
      "execution_count": null,
      "outputs": []
    },
    {
      "cell_type": "code",
      "metadata": {
        "colab": {
          "base_uri": "https://localhost:8080/"
        },
        "id": "NUml-Eh61bs-",
        "outputId": "b35089d8-8397-464d-fa73-913c7d91cd3b"
      },
      "source": [
        "df_result.k10.sum(), df_result_all2.k10.sum()"
      ],
      "execution_count": null,
      "outputs": [
        {
          "output_type": "execute_result",
          "data": {
            "text/plain": [
              "(243, 256)"
            ]
          },
          "metadata": {
            "tags": []
          },
          "execution_count": 196
        }
      ]
    },
    {
      "cell_type": "code",
      "metadata": {
        "colab": {
          "base_uri": "https://localhost:8080/"
        },
        "id": "Nqge7e3-2FQ7",
        "outputId": "77fad96a-ad1f-46d6-b497-969201ffca87"
      },
      "source": [
        "df_result.k25.sum(), df_result_all2.k25.sum()"
      ],
      "execution_count": null,
      "outputs": [
        {
          "output_type": "execute_result",
          "data": {
            "text/plain": [
              "(564, 561)"
            ]
          },
          "metadata": {
            "tags": []
          },
          "execution_count": 197
        }
      ]
    },
    {
      "cell_type": "code",
      "metadata": {
        "colab": {
          "base_uri": "https://localhost:8080/"
        },
        "id": "h9Jlgb8K0pjc",
        "outputId": "b1c1bec6-dde0-4a70-9392-ce34539a71d7"
      },
      "source": [
        "df_result.mean()"
      ],
      "execution_count": null,
      "outputs": [
        {
          "output_type": "execute_result",
          "data": {
            "text/plain": [
              "recall          0.008800\n",
              "precision       0.005642\n",
              "correct         0.282123\n",
              "spent           0.595391\n",
              "k50             2.885475\n",
              "k25             1.575419\n",
              "k10             0.678771\n",
              "recall@50       0.107077\n",
              "recall@25       0.067762\n",
              "recall@10       0.033256\n",
              "precision@50    0.057709\n",
              "precision@25    0.063017\n",
              "precision@10    0.067877\n",
              "dtype: float64"
            ]
          },
          "metadata": {
            "tags": []
          },
          "execution_count": 194
        }
      ]
    },
    {
      "cell_type": "code",
      "metadata": {
        "colab": {
          "base_uri": "https://localhost:8080/"
        },
        "id": "Y2A_lgl10U4q",
        "outputId": "5e482979-f56a-4d07-811e-7822dc73bf88"
      },
      "source": [
        "df_result_all2.mean()"
      ],
      "execution_count": null,
      "outputs": [
        {
          "output_type": "execute_result",
          "data": {
            "text/plain": [
              "recall          0.123601\n",
              "precision       0.058045\n",
              "correct         2.902235\n",
              "spent           0.390558\n",
              "cluster         8.000000\n",
              "k50             2.902235\n",
              "k25             1.567039\n",
              "k10             0.715084\n",
              "recall@50       0.103684\n",
              "recall@25       0.066429\n",
              "recall@10       0.038082\n",
              "precision@50    0.058045\n",
              "precision@25    0.062682\n",
              "precision@10    0.071508\n",
              "dtype: float64"
            ]
          },
          "metadata": {
            "tags": []
          },
          "execution_count": 195
        }
      ]
    },
    {
      "cell_type": "code",
      "metadata": {
        "colab": {
          "base_uri": "https://localhost:8080/"
        },
        "id": "L1OPAcJ7z3uh",
        "outputId": "55cf3f26-c400-4013-f5ec-a60a79c5aa6c"
      },
      "source": [
        "df_result.k25.mean()"
      ],
      "execution_count": null,
      "outputs": [
        {
          "output_type": "execute_result",
          "data": {
            "text/plain": [
              "1.5754189944134078"
            ]
          },
          "metadata": {
            "tags": []
          },
          "execution_count": 184
        }
      ]
    },
    {
      "cell_type": "code",
      "metadata": {
        "id": "R7iELxGrtn5J"
      },
      "source": [
        "# for idx, (v2_true, v1_true) in enumerate(zip(df_result.true, df_result_all2.true)):\n",
        "#   if set(v1_true) != set(v2_true):\n",
        "#     print(idx, len(v1_true), len(v2_true))"
      ],
      "execution_count": null,
      "outputs": []
    },
    {
      "cell_type": "code",
      "metadata": {
        "colab": {
          "base_uri": "https://localhost:8080/"
        },
        "id": "7W_-rRuYADQm",
        "outputId": "9d5358d7-4c95-4604-cfa8-8a9a4633c9b2"
      },
      "source": [
        "x_test.song_id[x_test.tag_id == _test_tag_id]"
      ],
      "execution_count": null,
      "outputs": [
        {
          "output_type": "execute_result",
          "data": {
            "text/plain": [
              "Series([], Name: song_id, dtype: int64)"
            ]
          },
          "metadata": {
            "tags": []
          },
          "execution_count": 97
        }
      ]
    },
    {
      "cell_type": "code",
      "metadata": {
        "colab": {
          "base_uri": "https://localhost:8080/",
          "height": 406
        },
        "id": "HG1DSxhwADN8",
        "outputId": "6eaec32c-d5a7-4804-bc10-90ccd894d120"
      },
      "source": [
        "df_result"
      ],
      "execution_count": null,
      "outputs": [
        {
          "output_type": "execute_result",
          "data": {
            "text/html": [
              "<div>\n",
              "<style scoped>\n",
              "    .dataframe tbody tr th:only-of-type {\n",
              "        vertical-align: middle;\n",
              "    }\n",
              "\n",
              "    .dataframe tbody tr th {\n",
              "        vertical-align: top;\n",
              "    }\n",
              "\n",
              "    .dataframe thead th {\n",
              "        text-align: right;\n",
              "    }\n",
              "</style>\n",
              "<table border=\"1\" class=\"dataframe\">\n",
              "  <thead>\n",
              "    <tr style=\"text-align: right;\">\n",
              "      <th></th>\n",
              "      <th>tag</th>\n",
              "      <th>recall</th>\n",
              "      <th>precision</th>\n",
              "      <th>prediction</th>\n",
              "      <th>true</th>\n",
              "      <th>correct</th>\n",
              "      <th>spent</th>\n",
              "    </tr>\n",
              "  </thead>\n",
              "  <tbody>\n",
              "    <tr>\n",
              "      <th>0</th>\n",
              "      <td>피아노</td>\n",
              "      <td>0.00578035</td>\n",
              "      <td>0.04</td>\n",
              "      <td>[125988, 77881, 309062, 435179, 38284, 696494,...</td>\n",
              "      <td>[580, 7298, 9055, 10652, 10679, 11648, 12474, ...</td>\n",
              "      <td>2</td>\n",
              "      <td>0.211855</td>\n",
              "    </tr>\n",
              "    <tr>\n",
              "      <th>1</th>\n",
              "      <td>분위기</td>\n",
              "      <td>0</td>\n",
              "      <td>0</td>\n",
              "      <td>[181759, 688285, 688721, 31231, 124410, 217091...</td>\n",
              "      <td>[]</td>\n",
              "      <td>0</td>\n",
              "      <td>0.375337</td>\n",
              "    </tr>\n",
              "    <tr>\n",
              "      <th>2</th>\n",
              "      <td>힐링</td>\n",
              "      <td>0</td>\n",
              "      <td>0</td>\n",
              "      <td>[616335, 298103, 591860, 576186, 4173, 706005,...</td>\n",
              "      <td>[]</td>\n",
              "      <td>0</td>\n",
              "      <td>0.657847</td>\n",
              "    </tr>\n",
              "    <tr>\n",
              "      <th>3</th>\n",
              "      <td>electronica</td>\n",
              "      <td>0</td>\n",
              "      <td>0</td>\n",
              "      <td>[527328, 526106, 159069, 637149, 29308, 286258...</td>\n",
              "      <td>[]</td>\n",
              "      <td>0</td>\n",
              "      <td>0.513813</td>\n",
              "    </tr>\n",
              "    <tr>\n",
              "      <th>4</th>\n",
              "      <td>드라이브</td>\n",
              "      <td>0</td>\n",
              "      <td>0</td>\n",
              "      <td>[93143, 37748, 24087, 75971, 682446, 693110, 3...</td>\n",
              "      <td>[]</td>\n",
              "      <td>0</td>\n",
              "      <td>0.545076</td>\n",
              "    </tr>\n",
              "    <tr>\n",
              "      <th>...</th>\n",
              "      <td>...</td>\n",
              "      <td>...</td>\n",
              "      <td>...</td>\n",
              "      <td>...</td>\n",
              "      <td>...</td>\n",
              "      <td>...</td>\n",
              "      <td>...</td>\n",
              "    </tr>\n",
              "    <tr>\n",
              "      <th>353</th>\n",
              "      <td>장르구분없이</td>\n",
              "      <td>0</td>\n",
              "      <td>0</td>\n",
              "      <td>[368304, 382751, 322130, 642526, 180068, 54415...</td>\n",
              "      <td>[]</td>\n",
              "      <td>0</td>\n",
              "      <td>0.781294</td>\n",
              "    </tr>\n",
              "    <tr>\n",
              "      <th>354</th>\n",
              "      <td>따뜻하게</td>\n",
              "      <td>0</td>\n",
              "      <td>0</td>\n",
              "      <td>[116573, 235522, 144663, 399907, 146922, 37748...</td>\n",
              "      <td>[]</td>\n",
              "      <td>0</td>\n",
              "      <td>1.1336</td>\n",
              "    </tr>\n",
              "    <tr>\n",
              "      <th>355</th>\n",
              "      <td>비오는</td>\n",
              "      <td>0</td>\n",
              "      <td>0</td>\n",
              "      <td>[144663, 553171, 174749, 232874, 357367, 56490...</td>\n",
              "      <td>[]</td>\n",
              "      <td>0</td>\n",
              "      <td>0.995073</td>\n",
              "    </tr>\n",
              "    <tr>\n",
              "      <th>356</th>\n",
              "      <td>찾아오는DJ</td>\n",
              "      <td>0</td>\n",
              "      <td>0</td>\n",
              "      <td>[368304, 382751, 322130, 642526, 228093, 54415...</td>\n",
              "      <td>[]</td>\n",
              "      <td>0</td>\n",
              "      <td>0.761504</td>\n",
              "    </tr>\n",
              "    <tr>\n",
              "      <th>357</th>\n",
              "      <td>발랄</td>\n",
              "      <td>0</td>\n",
              "      <td>0</td>\n",
              "      <td>[308045, 490417, 25628, 192555, 9604, 94081, 4...</td>\n",
              "      <td>[]</td>\n",
              "      <td>0</td>\n",
              "      <td>0.802104</td>\n",
              "    </tr>\n",
              "  </tbody>\n",
              "</table>\n",
              "<p>358 rows × 7 columns</p>\n",
              "</div>"
            ],
            "text/plain": [
              "             tag      recall  ... correct     spent\n",
              "0            피아노  0.00578035  ...       2  0.211855\n",
              "1            분위기           0  ...       0  0.375337\n",
              "2             힐링           0  ...       0  0.657847\n",
              "3    electronica           0  ...       0  0.513813\n",
              "4           드라이브           0  ...       0  0.545076\n",
              "..           ...         ...  ...     ...       ...\n",
              "353       장르구분없이           0  ...       0  0.781294\n",
              "354         따뜻하게           0  ...       0    1.1336\n",
              "355          비오는           0  ...       0  0.995073\n",
              "356       찾아오는DJ           0  ...       0  0.761504\n",
              "357           발랄           0  ...       0  0.802104\n",
              "\n",
              "[358 rows x 7 columns]"
            ]
          },
          "metadata": {
            "tags": []
          },
          "execution_count": 73
        }
      ]
    },
    {
      "cell_type": "code",
      "metadata": {
        "id": "WksdLWqHAg1W"
      },
      "source": [
        "df_result.true = df_result.tag.map(lambda x: np.intersect1d(df_test.song_id[df_test.tag_id == tag2idx.get(x)].values, total_songs))"
      ],
      "execution_count": null,
      "outputs": []
    },
    {
      "cell_type": "code",
      "metadata": {
        "id": "twi2YSpYAJcA"
      },
      "source": [
        "df_result['k50'] = [np.intersect1d(pred, true).shape[0] for pred, true in zip(df_result.prediction, df_result.true)]\n",
        "df_result['k25'] = [np.intersect1d(pred[:25], true).shape[0] for pred, true in zip(df_result.prediction, df_result.true)]\n",
        "df_result['k10'] = [np.intersect1d(pred[:10], true).shape[0] for pred, true in zip(df_result.prediction, df_result.true)]"
      ],
      "execution_count": null,
      "outputs": []
    },
    {
      "cell_type": "code",
      "metadata": {
        "id": "Zh3vO9bZ9VIX"
      },
      "source": [
        "df_result['recall@50'] = df_result.k50 / df_result.true.map(lambda x: len(x))\n",
        "df_result['recall@25'] = df_result.k25 / df_result.true.map(lambda x: len(x))\n",
        "df_result['recall@10'] = df_result.k10 / df_result.true.map( lambda x: len(x))"
      ],
      "execution_count": null,
      "outputs": []
    },
    {
      "cell_type": "code",
      "metadata": {
        "id": "jj-8o-2EBbDu"
      },
      "source": [
        "df_result['precision@50'] = df_result.k50 / 50\n",
        "df_result['precision@25'] = df_result.k25 / 25\n",
        "df_result['precision@10'] = df_result.k10 / 10"
      ],
      "execution_count": null,
      "outputs": []
    },
    {
      "cell_type": "code",
      "metadata": {
        "id": "h8VA9-YbwfNk"
      },
      "source": [
        "# df_result.k50.sum(), df_result_all2.k50.sum()"
      ],
      "execution_count": null,
      "outputs": []
    },
    {
      "cell_type": "code",
      "metadata": {
        "colab": {
          "base_uri": "https://localhost:8080/"
        },
        "id": "xx6ITmQJG-i6",
        "outputId": "9774d0c9-5601-492b-fa8f-260066fd8f70"
      },
      "source": [
        "df_result.k50.sum() / (df_result.shape[0] * 50)"
      ],
      "execution_count": null,
      "outputs": [
        {
          "output_type": "execute_result",
          "data": {
            "text/plain": [
              "0.05770949720670391"
            ]
          },
          "metadata": {
            "tags": []
          },
          "execution_count": 199
        }
      ]
    },
    {
      "cell_type": "code",
      "metadata": {
        "colab": {
          "base_uri": "https://localhost:8080/"
        },
        "id": "RAk-5AWzqpVg",
        "outputId": "d14929c4-112b-4dac-8c5c-7509392a0235"
      },
      "source": [
        "df_result.k25.sum() / (df_result.shape[0] * 25)"
      ],
      "execution_count": null,
      "outputs": [
        {
          "output_type": "execute_result",
          "data": {
            "text/plain": [
              "0.06301675977653631"
            ]
          },
          "metadata": {
            "tags": []
          },
          "execution_count": 200
        }
      ]
    },
    {
      "cell_type": "code",
      "metadata": {
        "colab": {
          "base_uri": "https://localhost:8080/"
        },
        "id": "l53s26w2qpS1",
        "outputId": "a2cc016b-58ea-450c-e0c5-19e9e1ca863b"
      },
      "source": [
        "df_result.k10.sum() / (df_result.shape[0] * 10)"
      ],
      "execution_count": null,
      "outputs": [
        {
          "output_type": "execute_result",
          "data": {
            "text/plain": [
              "0.06787709497206704"
            ]
          },
          "metadata": {
            "tags": []
          },
          "execution_count": 201
        }
      ]
    },
    {
      "cell_type": "code",
      "metadata": {
        "colab": {
          "base_uri": "https://localhost:8080/"
        },
        "id": "3ra9BqQbqpMO",
        "outputId": "5f922993-0c66-4b5e-f276-50e2131bdd1f"
      },
      "source": [
        "df_result_all2.k10.sum() / (df_result_all2.shape[0] * 10)"
      ],
      "execution_count": null,
      "outputs": [
        {
          "output_type": "execute_result",
          "data": {
            "text/plain": [
              "0.07150837988826815"
            ]
          },
          "metadata": {
            "tags": []
          },
          "execution_count": 202
        }
      ]
    },
    {
      "cell_type": "code",
      "metadata": {
        "id": "CsXVMl9w9VFp"
      },
      "source": [
        "df_result_all2['true2'] = df_result.true"
      ],
      "execution_count": null,
      "outputs": []
    },
    {
      "cell_type": "code",
      "metadata": {
        "colab": {
          "base_uri": "https://localhost:8080/",
          "height": 406
        },
        "id": "yV9r2lH5n2hh",
        "outputId": "db2ff1b7-76eb-4f0f-f412-e4fea583249b"
      },
      "source": [
        "df_result_all2"
      ],
      "execution_count": null,
      "outputs": [
        {
          "output_type": "execute_result",
          "data": {
            "text/html": [
              "<div>\n",
              "<style scoped>\n",
              "    .dataframe tbody tr th:only-of-type {\n",
              "        vertical-align: middle;\n",
              "    }\n",
              "\n",
              "    .dataframe tbody tr th {\n",
              "        vertical-align: top;\n",
              "    }\n",
              "\n",
              "    .dataframe thead th {\n",
              "        text-align: right;\n",
              "    }\n",
              "</style>\n",
              "<table border=\"1\" class=\"dataframe\">\n",
              "  <thead>\n",
              "    <tr style=\"text-align: right;\">\n",
              "      <th></th>\n",
              "      <th>tag</th>\n",
              "      <th>recall</th>\n",
              "      <th>precision</th>\n",
              "      <th>prediction</th>\n",
              "      <th>true</th>\n",
              "      <th>correct</th>\n",
              "      <th>spent</th>\n",
              "      <th>cluster</th>\n",
              "    </tr>\n",
              "  </thead>\n",
              "  <tbody>\n",
              "    <tr>\n",
              "      <th>0</th>\n",
              "      <td>아침</td>\n",
              "      <td>0.029851</td>\n",
              "      <td>0.12</td>\n",
              "      <td>[13896, 475956, 564640, 581799, 608386, 656648...</td>\n",
              "      <td>[1233, 5684, 9761, 10556, 10961, 12159, 13198,...</td>\n",
              "      <td>6</td>\n",
              "      <td>0.329007</td>\n",
              "      <td>0</td>\n",
              "    </tr>\n",
              "    <tr>\n",
              "      <th>1</th>\n",
              "      <td>퇴근</td>\n",
              "      <td>0.043478</td>\n",
              "      <td>0.04</td>\n",
              "      <td>[531820, 379112, 549392, 415017, 118788, 22169...</td>\n",
              "      <td>[250, 8749, 35575, 40591, 91246, 116114, 12236...</td>\n",
              "      <td>2</td>\n",
              "      <td>0.214808</td>\n",
              "      <td>0</td>\n",
              "    </tr>\n",
              "    <tr>\n",
              "      <th>2</th>\n",
              "      <td>출근길</td>\n",
              "      <td>0.021127</td>\n",
              "      <td>0.06</td>\n",
              "      <td>[13896, 564640, 270330, 516653, 538777, 475956...</td>\n",
              "      <td>[642, 1233, 6082, 6526, 6546, 9295, 9825, 2355...</td>\n",
              "      <td>3</td>\n",
              "      <td>0.216885</td>\n",
              "      <td>0</td>\n",
              "    </tr>\n",
              "    <tr>\n",
              "      <th>3</th>\n",
              "      <td>일상</td>\n",
              "      <td>0.017241</td>\n",
              "      <td>0.04</td>\n",
              "      <td>[475956, 267854, 641599, 656648, 219455, 75971...</td>\n",
              "      <td>[580, 2607, 6546, 15211, 17382, 21125, 23997, ...</td>\n",
              "      <td>2</td>\n",
              "      <td>0.226156</td>\n",
              "      <td>0</td>\n",
              "    </tr>\n",
              "    <tr>\n",
              "      <th>4</th>\n",
              "      <td>지하철</td>\n",
              "      <td>0.000000</td>\n",
              "      <td>0.00</td>\n",
              "      <td>[575964, 516653, 643082, 251543, 588645, 53182...</td>\n",
              "      <td>[21842, 25885, 32385, 40896, 64052, 81213, 122...</td>\n",
              "      <td>0</td>\n",
              "      <td>0.213872</td>\n",
              "      <td>0</td>\n",
              "    </tr>\n",
              "    <tr>\n",
              "      <th>...</th>\n",
              "      <td>...</td>\n",
              "      <td>...</td>\n",
              "      <td>...</td>\n",
              "      <td>...</td>\n",
              "      <td>...</td>\n",
              "      <td>...</td>\n",
              "      <td>...</td>\n",
              "      <td>...</td>\n",
              "    </tr>\n",
              "    <tr>\n",
              "      <th>353</th>\n",
              "      <td>잠잘때</td>\n",
              "      <td>0.250000</td>\n",
              "      <td>0.06</td>\n",
              "      <td>[308473, 570349, 125988, 77881, 309062, 375168...</td>\n",
              "      <td>[83019, 176298, 216418, 267206, 313224, 375168...</td>\n",
              "      <td>3</td>\n",
              "      <td>0.190332</td>\n",
              "      <td>14</td>\n",
              "    </tr>\n",
              "    <tr>\n",
              "      <th>354</th>\n",
              "      <td>책읽을때</td>\n",
              "      <td>0.111111</td>\n",
              "      <td>0.02</td>\n",
              "      <td>[208359, 27731, 125988, 435179, 308473, 375168...</td>\n",
              "      <td>[26590, 76375, 208359, 224568, 304758, 416950,...</td>\n",
              "      <td>1</td>\n",
              "      <td>0.185771</td>\n",
              "      <td>14</td>\n",
              "    </tr>\n",
              "    <tr>\n",
              "      <th>355</th>\n",
              "      <td>시험</td>\n",
              "      <td>0.150000</td>\n",
              "      <td>0.06</td>\n",
              "      <td>[154648, 27731, 416950, 656648, 428754, 311091...</td>\n",
              "      <td>[46234, 55184, 63926, 99960, 104716, 110905, 1...</td>\n",
              "      <td>3</td>\n",
              "      <td>0.186791</td>\n",
              "      <td>14</td>\n",
              "    </tr>\n",
              "    <tr>\n",
              "      <th>356</th>\n",
              "      <td>낮잠</td>\n",
              "      <td>0.411765</td>\n",
              "      <td>0.14</td>\n",
              "      <td>[125988, 77881, 435179, 309062, 375168, 570349...</td>\n",
              "      <td>[6945, 46549, 94701, 109493, 118155, 137348, 2...</td>\n",
              "      <td>7</td>\n",
              "      <td>0.189379</td>\n",
              "      <td>14</td>\n",
              "    </tr>\n",
              "    <tr>\n",
              "      <th>357</th>\n",
              "      <td>치유</td>\n",
              "      <td>0.000000</td>\n",
              "      <td>0.00</td>\n",
              "      <td>[208359, 435179, 77881, 125988, 309062, 570349...</td>\n",
              "      <td>[6945, 142639, 273170, 362866, 364040]</td>\n",
              "      <td>0</td>\n",
              "      <td>0.187322</td>\n",
              "      <td>14</td>\n",
              "    </tr>\n",
              "  </tbody>\n",
              "</table>\n",
              "<p>358 rows × 8 columns</p>\n",
              "</div>"
            ],
            "text/plain": [
              "      tag    recall  precision  ... correct     spent cluster\n",
              "0      아침  0.029851       0.12  ...       6  0.329007       0\n",
              "1      퇴근  0.043478       0.04  ...       2  0.214808       0\n",
              "2     출근길  0.021127       0.06  ...       3  0.216885       0\n",
              "3      일상  0.017241       0.04  ...       2  0.226156       0\n",
              "4     지하철  0.000000       0.00  ...       0  0.213872       0\n",
              "..    ...       ...        ...  ...     ...       ...     ...\n",
              "353   잠잘때  0.250000       0.06  ...       3  0.190332      14\n",
              "354  책읽을때  0.111111       0.02  ...       1  0.185771      14\n",
              "355    시험  0.150000       0.06  ...       3  0.186791      14\n",
              "356    낮잠  0.411765       0.14  ...       7  0.189379      14\n",
              "357    치유  0.000000       0.00  ...       0  0.187322      14\n",
              "\n",
              "[358 rows x 8 columns]"
            ]
          },
          "metadata": {
            "tags": []
          },
          "execution_count": 64
        }
      ]
    },
    {
      "cell_type": "code",
      "metadata": {
        "id": "lUyNHf1vBvWA"
      },
      "source": [
        "df_result_all2['k50'] = [np.intersect1d(pred, true).shape[0] for pred, true in zip(df_result_all2.prediction, df_result_all2.true)]\n",
        "df_result_all2['k25'] = [np.intersect1d(pred[:25], true).shape[0] for pred, true in zip(df_result_all2.prediction, df_result_all2.true)]\n",
        "df_result_all2['k10'] = [np.intersect1d(pred[:10], true).shape[0] for pred, true in zip(df_result_all2.prediction, df_result_all2.true)]"
      ],
      "execution_count": null,
      "outputs": []
    },
    {
      "cell_type": "code",
      "metadata": {
        "id": "UZLYb_c6B5Kr"
      },
      "source": [
        "df_result_all2['recall@50'] = df_result_all2.k50 / df_result_all2.true.map(lambda x: len(x))\n",
        "df_result_all2['recall@25'] = df_result_all2.k25 / df_result_all2.true.map(lambda x: len(x))\n",
        "df_result_all2['recall@10'] = df_result_all2.k10 / df_result_all2.true.map(lambda x: len(x))"
      ],
      "execution_count": null,
      "outputs": []
    },
    {
      "cell_type": "code",
      "metadata": {
        "id": "oK4XqhhYw05Z"
      },
      "source": [
        "df_result_all2['k50'] = [np.intersect1d(pred, true).shape[0] for pred, true in zip(df_result_all2.prediction, df_result_all2.true2)]\n",
        "df_result_all2['k25'] = [np.intersect1d(pred[:25], true).shape[0] for pred, true in zip(df_result_all2.prediction, df_result_all2.true2)]\n",
        "df_result_all2['k10'] = [np.intersect1d(pred[:10], true).shape[0] for pred, true in zip(df_result_all2.prediction, df_result_all2.true2)]\n",
        "\n",
        "df_result_all2['recall@50'] = df_result_all2.k50 / df_result_all2.true2.map(lambda x: len(x))\n",
        "df_result_all2['recall@25'] = df_result_all2.k25 / df_result_all2.true2.map(lambda x: len(x))\n",
        "df_result_all2['recall@10'] = df_result_all2.k10 / df_result_all2.true2.map(lambda x: len(x))"
      ],
      "execution_count": null,
      "outputs": []
    },
    {
      "cell_type": "code",
      "metadata": {
        "id": "nT8090tO45s_"
      },
      "source": [
        ""
      ],
      "execution_count": null,
      "outputs": []
    },
    {
      "cell_type": "code",
      "metadata": {
        "colab": {
          "base_uri": "https://localhost:8080/"
        },
        "id": "GUbxPql7wMex",
        "outputId": "2532b61a-2fa7-412d-f747-88bfbe58b433"
      },
      "source": [
        ""
      ],
      "execution_count": null,
      "outputs": [
        {
          "output_type": "execute_result",
          "data": {
            "text/plain": [
              "recall          0.123601\n",
              "precision       0.058045\n",
              "correct         2.902235\n",
              "spent           0.390558\n",
              "cluster         8.000000\n",
              "k50             2.902235\n",
              "k25             1.567039\n",
              "k10             0.715084\n",
              "recall@50       0.103684\n",
              "recall@25       0.066429\n",
              "recall@10       0.038082\n",
              "precision@50    0.058045\n",
              "precision@25    0.062682\n",
              "precision@10    0.071508\n",
              "dtype: float64"
            ]
          },
          "metadata": {
            "tags": []
          },
          "execution_count": 146
        }
      ]
    },
    {
      "cell_type": "code",
      "metadata": {
        "colab": {
          "base_uri": "https://localhost:8080/"
        },
        "id": "RMXW4YCSw91f",
        "outputId": "0b6568ea-70cf-442c-fd3c-6b6537a527f4"
      },
      "source": [
        "df_result.mean() - df_result_all2.mean()"
      ],
      "execution_count": null,
      "outputs": [
        {
          "output_type": "execute_result",
          "data": {
            "text/plain": [
              "cluster              NaN\n",
              "correct        -2.620112\n",
              "k10            -0.036313\n",
              "k25             0.008380\n",
              "k50            -0.016760\n",
              "precision      -0.052402\n",
              "precision@10   -0.003631\n",
              "precision@25    0.000335\n",
              "precision@50   -0.000335\n",
              "recall         -0.114801\n",
              "recall@10      -0.004825\n",
              "recall@25       0.001333\n",
              "recall@50       0.003393\n",
              "spent           0.204833\n",
              "dtype: float64"
            ]
          },
          "metadata": {
            "tags": []
          },
          "execution_count": 235
        }
      ]
    },
    {
      "cell_type": "code",
      "metadata": {
        "id": "-VkHma4IB9V5"
      },
      "source": [
        "df_result_all2['precision@50'] = df_result_all2.k50 / 50\n",
        "df_result_all2['precision@25'] = df_result_all2.k25 / 25\n",
        "df_result_all2['precision@10'] = df_result_all2.k10 / 10"
      ],
      "execution_count": null,
      "outputs": []
    },
    {
      "cell_type": "code",
      "metadata": {
        "colab": {
          "base_uri": "https://localhost:8080/"
        },
        "id": "HG4Aq88KqNSA",
        "outputId": "93044ed5-0036-4edc-a6ce-f4292e58d170"
      },
      "source": [
        "df_result.k50 == df_result_all2.k50"
      ],
      "execution_count": null,
      "outputs": [
        {
          "output_type": "execute_result",
          "data": {
            "text/plain": [
              "0       True\n",
              "1      False\n",
              "2      False\n",
              "3      False\n",
              "4       True\n",
              "       ...  \n",
              "353    False\n",
              "354     True\n",
              "355     True\n",
              "356     True\n",
              "357     True\n",
              "Name: k50, Length: 358, dtype: bool"
            ]
          },
          "metadata": {
            "tags": []
          },
          "execution_count": 145
        }
      ]
    },
    {
      "cell_type": "code",
      "metadata": {
        "colab": {
          "base_uri": "https://localhost:8080/"
        },
        "id": "qKsJnvrx5JQv",
        "outputId": "1569e757-16ef-45ab-a92c-6f71be2da0d2"
      },
      "source": [
        "for i in range(15):\n",
        "  Clusters[i].model.save(get_path(f'cluster_model_{i}'))\n",
        "  write_data_to_pickle(Clusters[i]._new_idx2song_idx, get_path(f'cluster_model_{i}_new2idx2songidx.pickle'))"
      ],
      "execution_count": null,
      "outputs": [
        {
          "output_type": "stream",
          "text": [
            "INFO:tensorflow:Assets written to: /content/drive/MyDrive/Data/cluster_model_0/assets\n",
            "INFO:tensorflow:Assets written to: /content/drive/MyDrive/Data/cluster_model_1/assets\n",
            "INFO:tensorflow:Assets written to: /content/drive/MyDrive/Data/cluster_model_2/assets\n",
            "INFO:tensorflow:Assets written to: /content/drive/MyDrive/Data/cluster_model_3/assets\n",
            "INFO:tensorflow:Assets written to: /content/drive/MyDrive/Data/cluster_model_4/assets\n",
            "INFO:tensorflow:Assets written to: /content/drive/MyDrive/Data/cluster_model_5/assets\n",
            "INFO:tensorflow:Assets written to: /content/drive/MyDrive/Data/cluster_model_6/assets\n",
            "INFO:tensorflow:Assets written to: /content/drive/MyDrive/Data/cluster_model_7/assets\n",
            "INFO:tensorflow:Assets written to: /content/drive/MyDrive/Data/cluster_model_8/assets\n",
            "INFO:tensorflow:Assets written to: /content/drive/MyDrive/Data/cluster_model_9/assets\n",
            "INFO:tensorflow:Assets written to: /content/drive/MyDrive/Data/cluster_model_10/assets\n",
            "INFO:tensorflow:Assets written to: /content/drive/MyDrive/Data/cluster_model_11/assets\n",
            "INFO:tensorflow:Assets written to: /content/drive/MyDrive/Data/cluster_model_12/assets\n",
            "INFO:tensorflow:Assets written to: /content/drive/MyDrive/Data/cluster_model_13/assets\n",
            "INFO:tensorflow:Assets written to: /content/drive/MyDrive/Data/cluster_model_14/assets\n"
          ],
          "name": "stdout"
        }
      ]
    },
    {
      "cell_type": "code",
      "metadata": {
        "id": "huenk9g0798W"
      },
      "source": [
        "df_result_all2.to_json(get_path('cluster_v1_final_result.json'))\n",
        "df_result.to_json(get_path('cluster_v2_final_result.json'))"
      ],
      "execution_count": null,
      "outputs": []
    },
    {
      "cell_type": "code",
      "metadata": {
        "id": "5lK6EB4MsN4t"
      },
      "source": [
        "new_model = tf.keras.models.load_model(get_path('cluster_model_8'))\n",
        "new_new_idx2song_idx = get_data_from_pickle(get_path('cluster_model_8_new2idx2songidx.pickle'))"
      ],
      "execution_count": null,
      "outputs": []
    },
    {
      "cell_type": "code",
      "metadata": {
        "id": "0z0jmsEO5wYb"
      },
      "source": [
        "# new_new_idx2song_idx"
      ],
      "execution_count": null,
      "outputs": []
    },
    {
      "cell_type": "code",
      "metadata": {
        "colab": {
          "base_uri": "https://localhost:8080/",
          "height": 278
        },
        "id": "LeybLbrnmTSc",
        "outputId": "94b9c666-c656-45a3-d12c-c04d1cfdb81e"
      },
      "source": [
        "new_model.predict()"
      ],
      "execution_count": null,
      "outputs": [
        {
          "output_type": "error",
          "ename": "TypeError",
          "evalue": "ignored",
          "traceback": [
            "\u001b[0;31m---------------------------------------------------------------------------\u001b[0m",
            "\u001b[0;31mTypeError\u001b[0m                                 Traceback (most recent call last)",
            "\u001b[0;32m<ipython-input-9-69e8e08cdfe4>\u001b[0m in \u001b[0;36m<module>\u001b[0;34m()\u001b[0m\n\u001b[0;32m----> 1\u001b[0;31m \u001b[0mnew_model\u001b[0m\u001b[0;34m.\u001b[0m\u001b[0mpredict\u001b[0m\u001b[0;34m(\u001b[0m\u001b[0;34m)\u001b[0m\u001b[0;34m\u001b[0m\u001b[0;34m\u001b[0m\u001b[0m\n\u001b[0m",
            "\u001b[0;32m/usr/local/lib/python3.6/dist-packages/tensorflow/python/keras/engine/training.py\u001b[0m in \u001b[0;36m_method_wrapper\u001b[0;34m(self, *args, **kwargs)\u001b[0m\n\u001b[1;32m    128\u001b[0m       raise ValueError('{} is not supported in multi-worker mode.'.format(\n\u001b[1;32m    129\u001b[0m           method.__name__))\n\u001b[0;32m--> 130\u001b[0;31m     \u001b[0;32mreturn\u001b[0m \u001b[0mmethod\u001b[0m\u001b[0;34m(\u001b[0m\u001b[0mself\u001b[0m\u001b[0;34m,\u001b[0m \u001b[0;34m*\u001b[0m\u001b[0margs\u001b[0m\u001b[0;34m,\u001b[0m \u001b[0;34m**\u001b[0m\u001b[0mkwargs\u001b[0m\u001b[0;34m)\u001b[0m\u001b[0;34m\u001b[0m\u001b[0;34m\u001b[0m\u001b[0m\n\u001b[0m\u001b[1;32m    131\u001b[0m \u001b[0;34m\u001b[0m\u001b[0m\n\u001b[1;32m    132\u001b[0m   return tf_decorator.make_decorator(\n",
            "\u001b[0;31mTypeError\u001b[0m: predict() missing 1 required positional argument: 'x'"
          ]
        }
      ]
    },
    {
      "cell_type": "code",
      "metadata": {
        "id": "rypsgv3p7Hyc"
      },
      "source": [
        "_test_tag_id = tag2idx.get('눈오는날')"
      ],
      "execution_count": null,
      "outputs": []
    },
    {
      "cell_type": "code",
      "metadata": {
        "colab": {
          "base_uri": "https://localhost:8080/"
        },
        "id": "RgTgqwF07IuQ",
        "outputId": "753f230c-685e-4eaa-d6d8-aa08283e2331"
      },
      "source": [
        "_test_tag_id"
      ],
      "execution_count": null,
      "outputs": [
        {
          "output_type": "execute_result",
          "data": {
            "text/plain": [
              "388"
            ]
          },
          "metadata": {
            "tags": []
          },
          "execution_count": 230
        }
      ]
    },
    {
      "cell_type": "code",
      "metadata": {
        "id": "7v3b2sgv5wV6"
      },
      "source": [
        "_max_song_len = len(new_new_idx2song_idx)\n",
        "tags_input = np.array([_test_tag_id] * _max_song_len).reshape(-1, 1)\n",
        "songs_input = np.array([*range(_max_song_len)]).reshape(-1, 1)\n",
        "predicted = new_model.predict([tags_input, songs_input]).flatten()"
      ],
      "execution_count": null,
      "outputs": []
    },
    {
      "cell_type": "code",
      "metadata": {
        "id": "W4sAWXjV5wT2"
      },
      "source": [
        "predicted = predicted.argsort()[-50:][::-1]"
      ],
      "execution_count": null,
      "outputs": []
    },
    {
      "cell_type": "code",
      "metadata": {
        "colab": {
          "base_uri": "https://localhost:8080/",
          "height": 1000
        },
        "id": "YLhj776k5wRC",
        "outputId": "919f2f9b-3d0e-4ab7-fe96-0ed887ed41ef"
      },
      "source": [
        "df_meta[df_meta.id.isin([new_new_idx2song_idx.get(new_id) for new_id in predicted])]"
      ],
      "execution_count": null,
      "outputs": [
        {
          "output_type": "execute_result",
          "data": {
            "text/html": [
              "<div>\n",
              "<style scoped>\n",
              "    .dataframe tbody tr th:only-of-type {\n",
              "        vertical-align: middle;\n",
              "    }\n",
              "\n",
              "    .dataframe tbody tr th {\n",
              "        vertical-align: top;\n",
              "    }\n",
              "\n",
              "    .dataframe thead th {\n",
              "        text-align: right;\n",
              "    }\n",
              "</style>\n",
              "<table border=\"1\" class=\"dataframe\">\n",
              "  <thead>\n",
              "    <tr style=\"text-align: right;\">\n",
              "      <th></th>\n",
              "      <th>song_gn_dtl_gnr_basket</th>\n",
              "      <th>issue_date</th>\n",
              "      <th>album_name</th>\n",
              "      <th>album_id</th>\n",
              "      <th>artist_id_basket</th>\n",
              "      <th>song_name</th>\n",
              "      <th>song_gn_gnr_basket</th>\n",
              "      <th>artist_name_basket</th>\n",
              "      <th>id</th>\n",
              "      <th>gnrs</th>\n",
              "      <th>new_id</th>\n",
              "    </tr>\n",
              "  </thead>\n",
              "  <tbody>\n",
              "    <tr>\n",
              "      <th>613</th>\n",
              "      <td>['GN1701', 'GN1702', 'GN1705']</td>\n",
              "      <td>20130729</td>\n",
              "      <td>The Changing Lights</td>\n",
              "      <td>2209950</td>\n",
              "      <td>[29851]</td>\n",
              "      <td>This Happy Madness</td>\n",
              "      <td>['GN1700']</td>\n",
              "      <td>['Stacey Kent']</td>\n",
              "      <td>6054</td>\n",
              "      <td>['재즈']</td>\n",
              "      <td>3606</td>\n",
              "    </tr>\n",
              "    <tr>\n",
              "      <th>3234</th>\n",
              "      <td>['GN0805', 'GN0509', 'GN0502', 'GN0801', 'GN05...</td>\n",
              "      <td>20160524</td>\n",
              "      <td>When I Begin</td>\n",
              "      <td>2683581</td>\n",
              "      <td>[968452]</td>\n",
              "      <td>오늘</td>\n",
              "      <td>['GN0500', 'GN0800']</td>\n",
              "      <td>['오왠 (O.WHEN)']</td>\n",
              "      <td>32385</td>\n",
              "      <td>['인디음악', '포크/블루스']</td>\n",
              "      <td>19237</td>\n",
              "    </tr>\n",
              "    <tr>\n",
              "      <th>5482</th>\n",
              "      <td>['GN2502', 'GN0105', 'GN2501', 'GN0101', 'GN25...</td>\n",
              "      <td>20131209</td>\n",
              "      <td>겨울 스페셜 앨범 `12월의 기적 (Miracles In December)`</td>\n",
              "      <td>2219671</td>\n",
              "      <td>[724619]</td>\n",
              "      <td>12월의 기적 (Miracles In December)</td>\n",
              "      <td>['GN2500', 'GN0100']</td>\n",
              "      <td>['EXO']</td>\n",
              "      <td>55791</td>\n",
              "      <td>['아이돌', '발라드']</td>\n",
              "      <td>32582</td>\n",
              "    </tr>\n",
              "    <tr>\n",
              "      <th>9469</th>\n",
              "      <td>['GN0401', 'GN2503', 'GN0403', 'GN2501']</td>\n",
              "      <td>20150922</td>\n",
              "      <td>어깨</td>\n",
              "      <td>2640930</td>\n",
              "      <td>[490981, 607226]</td>\n",
              "      <td>어깨</td>\n",
              "      <td>['GN0400', 'GN2500']</td>\n",
              "      <td>['소유 (SOYOU)', '권정열']</td>\n",
              "      <td>96310</td>\n",
              "      <td>['R&amp;B/Soul', '아이돌']</td>\n",
              "      <td>52602</td>\n",
              "    </tr>\n",
              "    <tr>\n",
              "      <th>10639</th>\n",
              "      <td>['GN0105', 'GN2505', 'GN2501', 'GN0101', 'GN25...</td>\n",
              "      <td>20170226</td>\n",
              "      <td>Lovelyz 2nd Album `R U Ready?`</td>\n",
              "      <td>10041929</td>\n",
              "      <td>[789331]</td>\n",
              "      <td>첫눈</td>\n",
              "      <td>['GN2500', 'GN0100']</td>\n",
              "      <td>['러블리즈']</td>\n",
              "      <td>108577</td>\n",
              "      <td>['아이돌', '발라드']</td>\n",
              "      <td>58752</td>\n",
              "    </tr>\n",
              "    <tr>\n",
              "      <th>11007</th>\n",
              "      <td>['GN2502', 'GN0105', 'GN2501', 'GN0101', 'GN25...</td>\n",
              "      <td>20150917</td>\n",
              "      <td>종현 소품집 `이야기 Op.1`</td>\n",
              "      <td>2640645</td>\n",
              "      <td>[544520]</td>\n",
              "      <td>하루의 끝 (End of a day)</td>\n",
              "      <td>['GN2500', 'GN0100']</td>\n",
              "      <td>['종현 (JONGHYUN)']</td>\n",
              "      <td>112153</td>\n",
              "      <td>['아이돌', '발라드']</td>\n",
              "      <td>60488</td>\n",
              "    </tr>\n",
              "    <tr>\n",
              "      <th>11503</th>\n",
              "      <td>['GN0901']</td>\n",
              "      <td>20141117</td>\n",
              "      <td>Under The Influence: Holiday Edition</td>\n",
              "      <td>2293888</td>\n",
              "      <td>[593338]</td>\n",
              "      <td>Text Me Merry Christmas (Feat. Kristen Bell)</td>\n",
              "      <td>['GN0900']</td>\n",
              "      <td>['Straight No Chaser']</td>\n",
              "      <td>117323</td>\n",
              "      <td>['POP']</td>\n",
              "      <td>62972</td>\n",
              "    </tr>\n",
              "    <tr>\n",
              "      <th>14266</th>\n",
              "      <td>['GN0105', 'GN0101']</td>\n",
              "      <td>20170324</td>\n",
              "      <td>밤편지</td>\n",
              "      <td>10047890</td>\n",
              "      <td>[261143]</td>\n",
              "      <td>밤편지</td>\n",
              "      <td>['GN0100']</td>\n",
              "      <td>['아이유']</td>\n",
              "      <td>144663</td>\n",
              "      <td>['발라드']</td>\n",
              "      <td>8126</td>\n",
              "    </tr>\n",
              "    <tr>\n",
              "      <th>14997</th>\n",
              "      <td>['GN0105', 'GN1501', 'GN0101', 'GN1504']</td>\n",
              "      <td>20151107</td>\n",
              "      <td>응답하라 1988 OST Part.2</td>\n",
              "      <td>2649434</td>\n",
              "      <td>[1088]</td>\n",
              "      <td>걱정말아요 그대</td>\n",
              "      <td>['GN1500', 'GN0100']</td>\n",
              "      <td>['이적']</td>\n",
              "      <td>152475</td>\n",
              "      <td>['OST', '발라드']</td>\n",
              "      <td>12725</td>\n",
              "    </tr>\n",
              "    <tr>\n",
              "      <th>15577</th>\n",
              "      <td>['GN2502', 'GN0203', 'GN2501', 'GN2506', 'GN02...</td>\n",
              "      <td>19981003</td>\n",
              "      <td>Special</td>\n",
              "      <td>5360</td>\n",
              "      <td>[100052]</td>\n",
              "      <td>커플</td>\n",
              "      <td>['GN2500', 'GN0200']</td>\n",
              "      <td>['젝스키스']</td>\n",
              "      <td>158153</td>\n",
              "      <td>['아이돌', '댄스']</td>\n",
              "      <td>16096</td>\n",
              "    </tr>\n",
              "    <tr>\n",
              "      <th>18608</th>\n",
              "      <td>['GN0201']</td>\n",
              "      <td>20151216</td>\n",
              "      <td>D-MAKE</td>\n",
              "      <td>2657061</td>\n",
              "      <td>[236815]</td>\n",
              "      <td>화이트(WHITE) (Feat. 박재범)</td>\n",
              "      <td>['GN0200']</td>\n",
              "      <td>['다비치']</td>\n",
              "      <td>188996</td>\n",
              "      <td>['댄스']</td>\n",
              "      <td>33595</td>\n",
              "    </tr>\n",
              "    <tr>\n",
              "      <th>19115</th>\n",
              "      <td>['GN0101']</td>\n",
              "      <td>20121211</td>\n",
              "      <td>From me To you</td>\n",
              "      <td>2169791</td>\n",
              "      <td>[511108]</td>\n",
              "      <td>네게 난</td>\n",
              "      <td>['GN0100']</td>\n",
              "      <td>['주영']</td>\n",
              "      <td>194435</td>\n",
              "      <td>['발라드']</td>\n",
              "      <td>36265</td>\n",
              "    </tr>\n",
              "    <tr>\n",
              "      <th>20183</th>\n",
              "      <td>['GN0702', 'GN0708', 'GN0701']</td>\n",
              "      <td>20190815</td>\n",
              "      <td>꿀맛</td>\n",
              "      <td>10318100</td>\n",
              "      <td>[2640648]</td>\n",
              "      <td>꿀맛</td>\n",
              "      <td>['GN0700']</td>\n",
              "      <td>['정미애']</td>\n",
              "      <td>205179</td>\n",
              "      <td>['성인가요']</td>\n",
              "      <td>41603</td>\n",
              "    </tr>\n",
              "    <tr>\n",
              "      <th>22383</th>\n",
              "      <td>['GN0501', 'GN0601', 'GN0503', 'GN0606', 'GN05...</td>\n",
              "      <td>20111123</td>\n",
              "      <td>Lo9ve3r4s</td>\n",
              "      <td>2038488</td>\n",
              "      <td>[242988]</td>\n",
              "      <td>겨울</td>\n",
              "      <td>['GN0500', 'GN0600']</td>\n",
              "      <td>['정준일']</td>\n",
              "      <td>227000</td>\n",
              "      <td>['인디음악', '록/메탈']</td>\n",
              "      <td>52402</td>\n",
              "    </tr>\n",
              "    <tr>\n",
              "      <th>23571</th>\n",
              "      <td>['GN0105', 'GN0101']</td>\n",
              "      <td>20171204</td>\n",
              "      <td>눈</td>\n",
              "      <td>10114798</td>\n",
              "      <td>[537920]</td>\n",
              "      <td>눈 (Feat. 이문세)</td>\n",
              "      <td>['GN0100']</td>\n",
              "      <td>['Zion.T']</td>\n",
              "      <td>238699</td>\n",
              "      <td>['발라드']</td>\n",
              "      <td>58284</td>\n",
              "    </tr>\n",
              "    <tr>\n",
              "      <th>25554</th>\n",
              "      <td>['GN0105', 'GN0101']</td>\n",
              "      <td>20180219</td>\n",
              "      <td>그리고 봄</td>\n",
              "      <td>10136251</td>\n",
              "      <td>[792091]</td>\n",
              "      <td>눈사람</td>\n",
              "      <td>['GN0100']</td>\n",
              "      <td>['정승환']</td>\n",
              "      <td>259163</td>\n",
              "      <td>['발라드']</td>\n",
              "      <td>68383</td>\n",
              "    </tr>\n",
              "    <tr>\n",
              "      <th>27016</th>\n",
              "      <td>['GN1806', 'GN1801']</td>\n",
              "      <td>19990900</td>\n",
              "      <td>보내지 못한 편지</td>\n",
              "      <td>8332</td>\n",
              "      <td>[1379]</td>\n",
              "      <td>지금은 우리가 멀리 있을지라도</td>\n",
              "      <td>['GN1800']</td>\n",
              "      <td>['김광민']</td>\n",
              "      <td>273170</td>\n",
              "      <td>['뉴에이지']</td>\n",
              "      <td>6584</td>\n",
              "    </tr>\n",
              "    <tr>\n",
              "      <th>29962</th>\n",
              "      <td>['GN0401', 'GN0403', 'GN0402']</td>\n",
              "      <td>20120920</td>\n",
              "      <td>Principle Of My Soul</td>\n",
              "      <td>2150856</td>\n",
              "      <td>[3959]</td>\n",
              "      <td>바람기억</td>\n",
              "      <td>['GN0400']</td>\n",
              "      <td>['나얼']</td>\n",
              "      <td>302646</td>\n",
              "      <td>['R&amp;B/Soul']</td>\n",
              "      <td>23924</td>\n",
              "    </tr>\n",
              "    <tr>\n",
              "      <th>30146</th>\n",
              "      <td>['GN0105', 'GN0101']</td>\n",
              "      <td>20121130</td>\n",
              "      <td>하얀 겨울</td>\n",
              "      <td>2168716</td>\n",
              "      <td>[6502, 1099]</td>\n",
              "      <td>하얀 겨울</td>\n",
              "      <td>['GN0100']</td>\n",
              "      <td>['김범수', '박정현']</td>\n",
              "      <td>304532</td>\n",
              "      <td>['발라드']</td>\n",
              "      <td>25075</td>\n",
              "    </tr>\n",
              "    <tr>\n",
              "      <th>30450</th>\n",
              "      <td>['GN0105', 'GN1501', 'GN0101', 'GN1504']</td>\n",
              "      <td>20170101</td>\n",
              "      <td>도깨비 OST Part.8</td>\n",
              "      <td>10027400</td>\n",
              "      <td>[242988]</td>\n",
              "      <td>첫 눈</td>\n",
              "      <td>['GN1500', 'GN0100']</td>\n",
              "      <td>['정준일']</td>\n",
              "      <td>307896</td>\n",
              "      <td>['OST', '발라드']</td>\n",
              "      <td>27027</td>\n",
              "    </tr>\n",
              "    <tr>\n",
              "      <th>32266</th>\n",
              "      <td>['GN0205', 'GN0201']</td>\n",
              "      <td>20101209</td>\n",
              "      <td>Real</td>\n",
              "      <td>1093562</td>\n",
              "      <td>[261143]</td>\n",
              "      <td>미리 메리 크리스마스 (Feat. 천둥 Of MBLAQ)</td>\n",
              "      <td>['GN0200']</td>\n",
              "      <td>['아이유']</td>\n",
              "      <td>326204</td>\n",
              "      <td>['댄스']</td>\n",
              "      <td>36614</td>\n",
              "    </tr>\n",
              "    <tr>\n",
              "      <th>33443</th>\n",
              "      <td>['GN0105', 'GN0101']</td>\n",
              "      <td>20161201</td>\n",
              "      <td>술 한잔해요 오늘</td>\n",
              "      <td>10019853</td>\n",
              "      <td>[227595]</td>\n",
              "      <td>술 한잔해요 오늘</td>\n",
              "      <td>['GN0100']</td>\n",
              "      <td>['지아']</td>\n",
              "      <td>338070</td>\n",
              "      <td>['발라드']</td>\n",
              "      <td>42490</td>\n",
              "    </tr>\n",
              "    <tr>\n",
              "      <th>34733</th>\n",
              "      <td>['GN0805', 'GN0501', 'GN0502', 'GN0801', 'GN05...</td>\n",
              "      <td>20170220</td>\n",
              "      <td>니가 보고싶은 밤</td>\n",
              "      <td>10039982</td>\n",
              "      <td>[756963]</td>\n",
              "      <td>니가 보고싶은 밤</td>\n",
              "      <td>['GN0500', 'GN0800']</td>\n",
              "      <td>['윤딴딴']</td>\n",
              "      <td>351888</td>\n",
              "      <td>['인디음악', '포크/블루스']</td>\n",
              "      <td>49303</td>\n",
              "    </tr>\n",
              "    <tr>\n",
              "      <th>35308</th>\n",
              "      <td>['GN0401', 'GN0403']</td>\n",
              "      <td>20160621</td>\n",
              "      <td>비</td>\n",
              "      <td>2692501</td>\n",
              "      <td>[752425]</td>\n",
              "      <td>비</td>\n",
              "      <td>['GN0400']</td>\n",
              "      <td>['폴킴']</td>\n",
              "      <td>357367</td>\n",
              "      <td>['R&amp;B/Soul']</td>\n",
              "      <td>52056</td>\n",
              "    </tr>\n",
              "    <tr>\n",
              "      <th>35385</th>\n",
              "      <td>['GN0901']</td>\n",
              "      <td>20141124</td>\n",
              "      <td>Santa Tell Me</td>\n",
              "      <td>2292117</td>\n",
              "      <td>[597451]</td>\n",
              "      <td>Santa Tell Me</td>\n",
              "      <td>['GN0900']</td>\n",
              "      <td>['Ariana Grande']</td>\n",
              "      <td>358186</td>\n",
              "      <td>['POP']</td>\n",
              "      <td>52458</td>\n",
              "    </tr>\n",
              "    <tr>\n",
              "      <th>38381</th>\n",
              "      <td>['GN1306', 'GN1301', 'GN1302']</td>\n",
              "      <td>20191101</td>\n",
              "      <td>Merry Christmas (Deluxe Anniversary Edition)</td>\n",
              "      <td>829</td>\n",
              "      <td>[2274]</td>\n",
              "      <td>All I Want For Christmas Is You</td>\n",
              "      <td>['GN1300']</td>\n",
              "      <td>['Mariah Carey']</td>\n",
              "      <td>387859</td>\n",
              "      <td>['R&amp;B/Soul']</td>\n",
              "      <td>67164</td>\n",
              "    </tr>\n",
              "    <tr>\n",
              "      <th>40592</th>\n",
              "      <td>['GN0105', 'GN0101']</td>\n",
              "      <td>20151215</td>\n",
              "      <td>Jelly Christmas 2015 - 4랑</td>\n",
              "      <td>2656709</td>\n",
              "      <td>[436700, 672560, 5365, 792380]</td>\n",
              "      <td>사랑난로</td>\n",
              "      <td>['GN0100']</td>\n",
              "      <td>['서인국', 'VIXX (빅스)', '박정아', '박윤하']</td>\n",
              "      <td>409911</td>\n",
              "      <td>['발라드']</td>\n",
              "      <td>9941</td>\n",
              "    </tr>\n",
              "    <tr>\n",
              "      <th>41800</th>\n",
              "      <td>['GN2503', 'GN0205', 'GN2501', 'GN2506', 'GN02...</td>\n",
              "      <td>20151204</td>\n",
              "      <td>Dear Santa - X-Mas Special</td>\n",
              "      <td>2654730</td>\n",
              "      <td>[663691]</td>\n",
              "      <td>Dear Santa</td>\n",
              "      <td>['GN2500', 'GN0200']</td>\n",
              "      <td>['소녀시대-태티서 (Girls` Generation-TTS)']</td>\n",
              "      <td>422176</td>\n",
              "      <td>['아이돌', '댄스']</td>\n",
              "      <td>17202</td>\n",
              "    </tr>\n",
              "    <tr>\n",
              "      <th>42484</th>\n",
              "      <td>['GN1701', 'GN1706']</td>\n",
              "      <td>20170406</td>\n",
              "      <td>Jazz Cinema Nostalgia</td>\n",
              "      <td>10052108</td>\n",
              "      <td>[1625224]</td>\n",
              "      <td>More</td>\n",
              "      <td>['GN1700']</td>\n",
              "      <td>['Tokyo Cinema Jazz Trio']</td>\n",
              "      <td>428934</td>\n",
              "      <td>['재즈']</td>\n",
              "      <td>21190</td>\n",
              "    </tr>\n",
              "    <tr>\n",
              "      <th>44981</th>\n",
              "      <td>['GN0105', 'GN0101']</td>\n",
              "      <td>20101130</td>\n",
              "      <td>두 번째, 방</td>\n",
              "      <td>1086280</td>\n",
              "      <td>[177241, 181716]</td>\n",
              "      <td>부디</td>\n",
              "      <td>['GN0100']</td>\n",
              "      <td>['심규선 (Lucia)', '에피톤 프로젝트']</td>\n",
              "      <td>454528</td>\n",
              "      <td>['발라드']</td>\n",
              "      <td>35263</td>\n",
              "    </tr>\n",
              "    <tr>\n",
              "      <th>45194</th>\n",
              "      <td>['GN0401', 'GN0403']</td>\n",
              "      <td>20151214</td>\n",
              "      <td>넌 나의 크리스마스 (Made in THE VIBE)</td>\n",
              "      <td>2656464</td>\n",
              "      <td>[160080, 510537, 655051, 622112, 197910]</td>\n",
              "      <td>넌 나의 크리스마스</td>\n",
              "      <td>['GN0400']</td>\n",
              "      <td>['바이브', '신용재', '벤', '임세준', '미(MIIII)']</td>\n",
              "      <td>456704</td>\n",
              "      <td>['R&amp;B/Soul']</td>\n",
              "      <td>36331</td>\n",
              "    </tr>\n",
              "    <tr>\n",
              "      <th>46506</th>\n",
              "      <td>['GN0105', 'GN1501', 'GN0101', 'GN1504']</td>\n",
              "      <td>20130220</td>\n",
              "      <td>그 겨울, 바람이 분다 OST Part.2</td>\n",
              "      <td>2175837</td>\n",
              "      <td>[160816]</td>\n",
              "      <td>겨울사랑</td>\n",
              "      <td>['GN1500', 'GN0100']</td>\n",
              "      <td>['The One (더원)']</td>\n",
              "      <td>470207</td>\n",
              "      <td>['OST', '발라드']</td>\n",
              "      <td>43043</td>\n",
              "    </tr>\n",
              "    <tr>\n",
              "      <th>47017</th>\n",
              "      <td>['GN1701', 'GN1706']</td>\n",
              "      <td>20161025</td>\n",
              "      <td>Call Me</td>\n",
              "      <td>10009032</td>\n",
              "      <td>[526024]</td>\n",
              "      <td>Lovin` You</td>\n",
              "      <td>['GN1700']</td>\n",
              "      <td>['Ryu Miho']</td>\n",
              "      <td>475142</td>\n",
              "      <td>['재즈']</td>\n",
              "      <td>45469</td>\n",
              "    </tr>\n",
              "    <tr>\n",
              "      <th>51292</th>\n",
              "      <td>['GN0101']</td>\n",
              "      <td>20170206</td>\n",
              "      <td>Love Again</td>\n",
              "      <td>10036063</td>\n",
              "      <td>[523900]</td>\n",
              "      <td>Love Again</td>\n",
              "      <td>['GN0100']</td>\n",
              "      <td>['김제훈']</td>\n",
              "      <td>519391</td>\n",
              "      <td>['발라드']</td>\n",
              "      <td>67392</td>\n",
              "    </tr>\n",
              "    <tr>\n",
              "      <th>51540</th>\n",
              "      <td>['GN0105', 'GN0101']</td>\n",
              "      <td>20131203</td>\n",
              "      <td>[03]</td>\n",
              "      <td>2217893</td>\n",
              "      <td>[420527]</td>\n",
              "      <td>코끝에 겨울</td>\n",
              "      <td>['GN0100']</td>\n",
              "      <td>['어반자카파']</td>\n",
              "      <td>521739</td>\n",
              "      <td>['발라드']</td>\n",
              "      <td>68558</td>\n",
              "    </tr>\n",
              "    <tr>\n",
              "      <th>55573</th>\n",
              "      <td>['GN0401', 'GN0403']</td>\n",
              "      <td>20171208</td>\n",
              "      <td>STARSHIP PLANET 2017 (스타쉽플래닛)</td>\n",
              "      <td>10117008</td>\n",
              "      <td>[175139, 490981, 541500, 791216, 943959, 21962...</td>\n",
              "      <td>크리스마스데이 (Christmas Day)</td>\n",
              "      <td>['GN0400']</td>\n",
              "      <td>['케이윌', '소유 (SOYOU)', '보이프렌드', '몬스타엑스', '우주소녀'...</td>\n",
              "      <td>562860</td>\n",
              "      <td>['R&amp;B/Soul']</td>\n",
              "      <td>22803</td>\n",
              "    </tr>\n",
              "    <tr>\n",
              "      <th>57491</th>\n",
              "      <td>['GN0105', 'GN0101']</td>\n",
              "      <td>20170221</td>\n",
              "      <td>준비된 이별</td>\n",
              "      <td>10040569</td>\n",
              "      <td>[1134286]</td>\n",
              "      <td>준비된 이별 (With 박은옥)</td>\n",
              "      <td>['GN0100']</td>\n",
              "      <td>['아재']</td>\n",
              "      <td>582252</td>\n",
              "      <td>['발라드']</td>\n",
              "      <td>33614</td>\n",
              "    </tr>\n",
              "    <tr>\n",
              "      <th>58791</th>\n",
              "      <td>['GN0105', 'GN0101']</td>\n",
              "      <td>20161129</td>\n",
              "      <td>목소리</td>\n",
              "      <td>10018979</td>\n",
              "      <td>[792091]</td>\n",
              "      <td>그 겨울</td>\n",
              "      <td>['GN0100']</td>\n",
              "      <td>['정승환']</td>\n",
              "      <td>595172</td>\n",
              "      <td>['발라드']</td>\n",
              "      <td>39951</td>\n",
              "    </tr>\n",
              "    <tr>\n",
              "      <th>63188</th>\n",
              "      <td>['GN0105', 'GN0101']</td>\n",
              "      <td>20160204</td>\n",
              "      <td>벌써 겨울</td>\n",
              "      <td>2665810</td>\n",
              "      <td>[28801, 945262]</td>\n",
              "      <td>벌써 겨울</td>\n",
              "      <td>['GN0100']</td>\n",
              "      <td>['허각', '브로맨스 (VROMANCE)']</td>\n",
              "      <td>639365</td>\n",
              "      <td>['발라드']</td>\n",
              "      <td>61898</td>\n",
              "    </tr>\n",
              "    <tr>\n",
              "      <th>63316</th>\n",
              "      <td>['GN0105', 'GN0101']</td>\n",
              "      <td>20160905</td>\n",
              "      <td>내가 말하고 싶은건</td>\n",
              "      <td>2708791</td>\n",
              "      <td>[523900]</td>\n",
              "      <td>내가 말하고 싶은건</td>\n",
              "      <td>['GN0100']</td>\n",
              "      <td>['김제훈']</td>\n",
              "      <td>640657</td>\n",
              "      <td>['발라드']</td>\n",
              "      <td>62504</td>\n",
              "    </tr>\n",
              "    <tr>\n",
              "      <th>64723</th>\n",
              "      <td>['GN1501', 'GN1504']</td>\n",
              "      <td>20041115</td>\n",
              "      <td>미안하다 사랑한다 OST</td>\n",
              "      <td>43841</td>\n",
              "      <td>[1191]</td>\n",
              "      <td>눈의 꽃</td>\n",
              "      <td>['GN1500']</td>\n",
              "      <td>['박효신']</td>\n",
              "      <td>654757</td>\n",
              "      <td>['OST']</td>\n",
              "      <td>69547</td>\n",
              "    </tr>\n",
              "    <tr>\n",
              "      <th>66122</th>\n",
              "      <td>['GN0401', 'GN0403']</td>\n",
              "      <td>20171218</td>\n",
              "      <td>연애는 하니..?</td>\n",
              "      <td>10120652</td>\n",
              "      <td>[10577]</td>\n",
              "      <td>연애는 하니..?</td>\n",
              "      <td>['GN0400']</td>\n",
              "      <td>['휘성 (Realslow)']</td>\n",
              "      <td>668928</td>\n",
              "      <td>['R&amp;B/Soul']</td>\n",
              "      <td>8112</td>\n",
              "    </tr>\n",
              "    <tr>\n",
              "      <th>68649</th>\n",
              "      <td>['GN1806', 'GN1801']</td>\n",
              "      <td>20091216</td>\n",
              "      <td>Music Loves Me</td>\n",
              "      <td>743416</td>\n",
              "      <td>[405580]</td>\n",
              "      <td>난 니가 참 마음에 든다</td>\n",
              "      <td>['GN1800']</td>\n",
              "      <td>['피아노 포엠']</td>\n",
              "      <td>694807</td>\n",
              "      <td>['뉴에이지']</td>\n",
              "      <td>23340</td>\n",
              "    </tr>\n",
              "    <tr>\n",
              "      <th>68670</th>\n",
              "      <td>['GN0101']</td>\n",
              "      <td>20121206</td>\n",
              "      <td>Jelly Christmas 2012 HEART PROJECT</td>\n",
              "      <td>2168409</td>\n",
              "      <td>[3305, 1191, 205858, 436700, 672560]</td>\n",
              "      <td>크리스마스니까</td>\n",
              "      <td>['GN0100']</td>\n",
              "      <td>['성시경', '박효신', '이석훈', '서인국', 'VIXX (빅스)']</td>\n",
              "      <td>695032</td>\n",
              "      <td>['발라드']</td>\n",
              "      <td>23465</td>\n",
              "    </tr>\n",
              "    <tr>\n",
              "      <th>68924</th>\n",
              "      <td>['GN0105', 'GN0101']</td>\n",
              "      <td>20160308</td>\n",
              "      <td>너 라는 계절</td>\n",
              "      <td>2671546</td>\n",
              "      <td>[436700]</td>\n",
              "      <td>너 라는 계절</td>\n",
              "      <td>['GN0100']</td>\n",
              "      <td>['서인국']</td>\n",
              "      <td>697696</td>\n",
              "      <td>['발라드']</td>\n",
              "      <td>25051</td>\n",
              "    </tr>\n",
              "    <tr>\n",
              "      <th>68959</th>\n",
              "      <td>['GN0105', 'GN0101']</td>\n",
              "      <td>20131211</td>\n",
              "      <td>2013 월간 윤종신 Repair 12월호</td>\n",
              "      <td>2220747</td>\n",
              "      <td>[437, 1088]</td>\n",
              "      <td>오래전 그날</td>\n",
              "      <td>['GN0100']</td>\n",
              "      <td>['윤종신', '이적']</td>\n",
              "      <td>698058</td>\n",
              "      <td>['발라드']</td>\n",
              "      <td>25249</td>\n",
              "    </tr>\n",
              "    <tr>\n",
              "      <th>68978</th>\n",
              "      <td>['GN0105', 'GN0101']</td>\n",
              "      <td>20160128</td>\n",
              "      <td>pathos</td>\n",
              "      <td>2664299</td>\n",
              "      <td>[161636]</td>\n",
              "      <td>어디에도</td>\n",
              "      <td>['GN0100']</td>\n",
              "      <td>['엠씨더맥스 (M.C the MAX)']</td>\n",
              "      <td>698250</td>\n",
              "      <td>['발라드']</td>\n",
              "      <td>25381</td>\n",
              "    </tr>\n",
              "    <tr>\n",
              "      <th>69002</th>\n",
              "      <td>['GN0105', 'GN0101']</td>\n",
              "      <td>20180129</td>\n",
              "      <td>너만 생각하면</td>\n",
              "      <td>10133463</td>\n",
              "      <td>[523900]</td>\n",
              "      <td>너만 생각하면</td>\n",
              "      <td>['GN0100']</td>\n",
              "      <td>['김제훈']</td>\n",
              "      <td>698536</td>\n",
              "      <td>['발라드']</td>\n",
              "      <td>25534</td>\n",
              "    </tr>\n",
              "    <tr>\n",
              "      <th>69153</th>\n",
              "      <td>['GN0401', 'GN0501', 'GN0509']</td>\n",
              "      <td>20170719</td>\n",
              "      <td>Walking in the Moonlight</td>\n",
              "      <td>10080593</td>\n",
              "      <td>[995101]</td>\n",
              "      <td>Walking in the Moonlight (Feat. 다원, Lazier)</td>\n",
              "      <td>['GN0500', 'GN0400']</td>\n",
              "      <td>['서교동의 밤']</td>\n",
              "      <td>700348</td>\n",
              "      <td>['인디음악', 'R&amp;B/Soul']</td>\n",
              "      <td>26596</td>\n",
              "    </tr>\n",
              "    <tr>\n",
              "      <th>69775</th>\n",
              "      <td>['GN2502', 'GN2501', 'GN0101', 'GN2505']</td>\n",
              "      <td>20171226</td>\n",
              "      <td>Universe - 겨울 스페셜 앨범, 2017</td>\n",
              "      <td>10122917</td>\n",
              "      <td>[724619]</td>\n",
              "      <td>Universe</td>\n",
              "      <td>['GN2500', 'GN0100']</td>\n",
              "      <td>['EXO']</td>\n",
              "      <td>706529</td>\n",
              "      <td>['아이돌', '발라드']</td>\n",
              "      <td>30191</td>\n",
              "    </tr>\n",
              "  </tbody>\n",
              "</table>\n",
              "</div>"
            ],
            "text/plain": [
              "                                  song_gn_dtl_gnr_basket  ...  new_id\n",
              "613                       ['GN1701', 'GN1702', 'GN1705']  ...    3606\n",
              "3234   ['GN0805', 'GN0509', 'GN0502', 'GN0801', 'GN05...  ...   19237\n",
              "5482   ['GN2502', 'GN0105', 'GN2501', 'GN0101', 'GN25...  ...   32582\n",
              "9469            ['GN0401', 'GN2503', 'GN0403', 'GN2501']  ...   52602\n",
              "10639  ['GN0105', 'GN2505', 'GN2501', 'GN0101', 'GN25...  ...   58752\n",
              "11007  ['GN2502', 'GN0105', 'GN2501', 'GN0101', 'GN25...  ...   60488\n",
              "11503                                         ['GN0901']  ...   62972\n",
              "14266                               ['GN0105', 'GN0101']  ...    8126\n",
              "14997           ['GN0105', 'GN1501', 'GN0101', 'GN1504']  ...   12725\n",
              "15577  ['GN2502', 'GN0203', 'GN2501', 'GN2506', 'GN02...  ...   16096\n",
              "18608                                         ['GN0201']  ...   33595\n",
              "19115                                         ['GN0101']  ...   36265\n",
              "20183                     ['GN0702', 'GN0708', 'GN0701']  ...   41603\n",
              "22383  ['GN0501', 'GN0601', 'GN0503', 'GN0606', 'GN05...  ...   52402\n",
              "23571                               ['GN0105', 'GN0101']  ...   58284\n",
              "25554                               ['GN0105', 'GN0101']  ...   68383\n",
              "27016                               ['GN1806', 'GN1801']  ...    6584\n",
              "29962                     ['GN0401', 'GN0403', 'GN0402']  ...   23924\n",
              "30146                               ['GN0105', 'GN0101']  ...   25075\n",
              "30450           ['GN0105', 'GN1501', 'GN0101', 'GN1504']  ...   27027\n",
              "32266                               ['GN0205', 'GN0201']  ...   36614\n",
              "33443                               ['GN0105', 'GN0101']  ...   42490\n",
              "34733  ['GN0805', 'GN0501', 'GN0502', 'GN0801', 'GN05...  ...   49303\n",
              "35308                               ['GN0401', 'GN0403']  ...   52056\n",
              "35385                                         ['GN0901']  ...   52458\n",
              "38381                     ['GN1306', 'GN1301', 'GN1302']  ...   67164\n",
              "40592                               ['GN0105', 'GN0101']  ...    9941\n",
              "41800  ['GN2503', 'GN0205', 'GN2501', 'GN2506', 'GN02...  ...   17202\n",
              "42484                               ['GN1701', 'GN1706']  ...   21190\n",
              "44981                               ['GN0105', 'GN0101']  ...   35263\n",
              "45194                               ['GN0401', 'GN0403']  ...   36331\n",
              "46506           ['GN0105', 'GN1501', 'GN0101', 'GN1504']  ...   43043\n",
              "47017                               ['GN1701', 'GN1706']  ...   45469\n",
              "51292                                         ['GN0101']  ...   67392\n",
              "51540                               ['GN0105', 'GN0101']  ...   68558\n",
              "55573                               ['GN0401', 'GN0403']  ...   22803\n",
              "57491                               ['GN0105', 'GN0101']  ...   33614\n",
              "58791                               ['GN0105', 'GN0101']  ...   39951\n",
              "63188                               ['GN0105', 'GN0101']  ...   61898\n",
              "63316                               ['GN0105', 'GN0101']  ...   62504\n",
              "64723                               ['GN1501', 'GN1504']  ...   69547\n",
              "66122                               ['GN0401', 'GN0403']  ...    8112\n",
              "68649                               ['GN1806', 'GN1801']  ...   23340\n",
              "68670                                         ['GN0101']  ...   23465\n",
              "68924                               ['GN0105', 'GN0101']  ...   25051\n",
              "68959                               ['GN0105', 'GN0101']  ...   25249\n",
              "68978                               ['GN0105', 'GN0101']  ...   25381\n",
              "69002                               ['GN0105', 'GN0101']  ...   25534\n",
              "69153                     ['GN0401', 'GN0501', 'GN0509']  ...   26596\n",
              "69775           ['GN2502', 'GN2501', 'GN0101', 'GN2505']  ...   30191\n",
              "\n",
              "[50 rows x 11 columns]"
            ]
          },
          "metadata": {
            "tags": []
          },
          "execution_count": 233
        }
      ]
    },
    {
      "cell_type": "code",
      "metadata": {
        "id": "cGSwSvSzsUUp"
      },
      "source": [
        "df_result = df_result.sort_values('tag').reset_index(drop=True)"
      ],
      "execution_count": null,
      "outputs": []
    },
    {
      "cell_type": "code",
      "metadata": {
        "id": "iGDqWidBscC6"
      },
      "source": [
        "df_result_all2 = df_result_all2.sort_values('tag').reset_index(drop=True)"
      ],
      "execution_count": null,
      "outputs": []
    },
    {
      "cell_type": "code",
      "metadata": {
        "colab": {
          "base_uri": "https://localhost:8080/",
          "height": 540
        },
        "id": "mxObMh73st-r",
        "outputId": "7cde176b-364a-4e7c-de85-9e70e0208f6d"
      },
      "source": [
        "df_result_all2"
      ],
      "execution_count": null,
      "outputs": [
        {
          "output_type": "execute_result",
          "data": {
            "text/html": [
              "<div>\n",
              "<style scoped>\n",
              "    .dataframe tbody tr th:only-of-type {\n",
              "        vertical-align: middle;\n",
              "    }\n",
              "\n",
              "    .dataframe tbody tr th {\n",
              "        vertical-align: top;\n",
              "    }\n",
              "\n",
              "    .dataframe thead th {\n",
              "        text-align: right;\n",
              "    }\n",
              "</style>\n",
              "<table border=\"1\" class=\"dataframe\">\n",
              "  <thead>\n",
              "    <tr style=\"text-align: right;\">\n",
              "      <th></th>\n",
              "      <th>tag</th>\n",
              "      <th>recall</th>\n",
              "      <th>precision</th>\n",
              "      <th>prediction</th>\n",
              "      <th>true</th>\n",
              "      <th>correct</th>\n",
              "      <th>spent</th>\n",
              "      <th>cluster</th>\n",
              "      <th>k50</th>\n",
              "      <th>k25</th>\n",
              "      <th>k10</th>\n",
              "      <th>recall@50</th>\n",
              "      <th>recall@25</th>\n",
              "      <th>recall@10</th>\n",
              "      <th>precision@50</th>\n",
              "      <th>precision@25</th>\n",
              "      <th>precision@10</th>\n",
              "    </tr>\n",
              "  </thead>\n",
              "  <tbody>\n",
              "    <tr>\n",
              "      <th>0</th>\n",
              "      <td>12월</td>\n",
              "      <td>0.400000</td>\n",
              "      <td>0.08</td>\n",
              "      <td>[695032, 158153, 326204, 358186, 205179, 38785...</td>\n",
              "      <td>[62574, 112399, 205179, 207232, 226670, 298103...</td>\n",
              "      <td>4</td>\n",
              "      <td>0.131616</td>\n",
              "      <td>8</td>\n",
              "      <td>4</td>\n",
              "      <td>3</td>\n",
              "      <td>2</td>\n",
              "      <td>0.400000</td>\n",
              "      <td>0.300000</td>\n",
              "      <td>0.200000</td>\n",
              "      <td>0.08</td>\n",
              "      <td>0.12</td>\n",
              "      <td>0.2</td>\n",
              "    </tr>\n",
              "    <tr>\n",
              "      <th>1</th>\n",
              "      <td>1990</td>\n",
              "      <td>0.190476</td>\n",
              "      <td>0.08</td>\n",
              "      <td>[615198, 473570, 192042, 395220, 256691, 46712...</td>\n",
              "      <td>[48754, 55035, 74012, 89620, 109632, 155074, 1...</td>\n",
              "      <td>4</td>\n",
              "      <td>0.274631</td>\n",
              "      <td>5</td>\n",
              "      <td>4</td>\n",
              "      <td>1</td>\n",
              "      <td>0</td>\n",
              "      <td>0.190476</td>\n",
              "      <td>0.047619</td>\n",
              "      <td>0.000000</td>\n",
              "      <td>0.08</td>\n",
              "      <td>0.04</td>\n",
              "      <td>0.0</td>\n",
              "    </tr>\n",
              "    <tr>\n",
              "      <th>2</th>\n",
              "      <td>2000</td>\n",
              "      <td>0.250000</td>\n",
              "      <td>0.04</td>\n",
              "      <td>[540123, 584782, 248927, 372175, 120846, 29214...</td>\n",
              "      <td>[48754, 106214, 230640, 283930, 330540, 345515...</td>\n",
              "      <td>2</td>\n",
              "      <td>0.321818</td>\n",
              "      <td>5</td>\n",
              "      <td>2</td>\n",
              "      <td>0</td>\n",
              "      <td>0</td>\n",
              "      <td>0.250000</td>\n",
              "      <td>0.000000</td>\n",
              "      <td>0.000000</td>\n",
              "      <td>0.04</td>\n",
              "      <td>0.00</td>\n",
              "      <td>0.0</td>\n",
              "    </tr>\n",
              "    <tr>\n",
              "      <th>3</th>\n",
              "      <td>2000년대</td>\n",
              "      <td>0.037037</td>\n",
              "      <td>0.02</td>\n",
              "      <td>[473570, 237407, 545007, 430005, 349270, 21143...</td>\n",
              "      <td>[11777, 74403, 86130, 88503, 98472, 118973, 14...</td>\n",
              "      <td>1</td>\n",
              "      <td>0.267353</td>\n",
              "      <td>5</td>\n",
              "      <td>1</td>\n",
              "      <td>0</td>\n",
              "      <td>0</td>\n",
              "      <td>0.037037</td>\n",
              "      <td>0.000000</td>\n",
              "      <td>0.000000</td>\n",
              "      <td>0.02</td>\n",
              "      <td>0.00</td>\n",
              "      <td>0.0</td>\n",
              "    </tr>\n",
              "    <tr>\n",
              "      <th>4</th>\n",
              "      <td>2016</td>\n",
              "      <td>0.250000</td>\n",
              "      <td>0.02</td>\n",
              "      <td>[419730, 311071, 488946, 335338, 354197, 22907...</td>\n",
              "      <td>[2748, 133190, 360825, 518420]</td>\n",
              "      <td>1</td>\n",
              "      <td>0.129392</td>\n",
              "      <td>1</td>\n",
              "      <td>1</td>\n",
              "      <td>1</td>\n",
              "      <td>0</td>\n",
              "      <td>0.250000</td>\n",
              "      <td>0.250000</td>\n",
              "      <td>0.000000</td>\n",
              "      <td>0.02</td>\n",
              "      <td>0.04</td>\n",
              "      <td>0.0</td>\n",
              "    </tr>\n",
              "    <tr>\n",
              "      <th>...</th>\n",
              "      <td>...</td>\n",
              "      <td>...</td>\n",
              "      <td>...</td>\n",
              "      <td>...</td>\n",
              "      <td>...</td>\n",
              "      <td>...</td>\n",
              "      <td>...</td>\n",
              "      <td>...</td>\n",
              "      <td>...</td>\n",
              "      <td>...</td>\n",
              "      <td>...</td>\n",
              "      <td>...</td>\n",
              "      <td>...</td>\n",
              "      <td>...</td>\n",
              "      <td>...</td>\n",
              "      <td>...</td>\n",
              "      <td>...</td>\n",
              "    </tr>\n",
              "    <tr>\n",
              "      <th>353</th>\n",
              "      <td>힘들때</td>\n",
              "      <td>0.039216</td>\n",
              "      <td>0.04</td>\n",
              "      <td>[640753, 19533, 131901, 152475, 531820, 124485...</td>\n",
              "      <td>[8719, 10427, 10961, 18603, 27469, 32385, 3571...</td>\n",
              "      <td>2</td>\n",
              "      <td>0.974416</td>\n",
              "      <td>9</td>\n",
              "      <td>2</td>\n",
              "      <td>1</td>\n",
              "      <td>1</td>\n",
              "      <td>0.039216</td>\n",
              "      <td>0.019608</td>\n",
              "      <td>0.019608</td>\n",
              "      <td>0.04</td>\n",
              "      <td>0.04</td>\n",
              "      <td>0.1</td>\n",
              "    </tr>\n",
              "    <tr>\n",
              "      <th>354</th>\n",
              "      <td>힘이_나는</td>\n",
              "      <td>0.000000</td>\n",
              "      <td>0.00</td>\n",
              "      <td>[509484, 205179, 338292, 515405, 95485, 698296...</td>\n",
              "      <td>[]</td>\n",
              "      <td>0</td>\n",
              "      <td>0.301828</td>\n",
              "      <td>13</td>\n",
              "      <td>0</td>\n",
              "      <td>0</td>\n",
              "      <td>0</td>\n",
              "      <td>NaN</td>\n",
              "      <td>NaN</td>\n",
              "      <td>NaN</td>\n",
              "      <td>0.00</td>\n",
              "      <td>0.00</td>\n",
              "      <td>0.0</td>\n",
              "    </tr>\n",
              "    <tr>\n",
              "      <th>355</th>\n",
              "      <td>힙한</td>\n",
              "      <td>0.000000</td>\n",
              "      <td>0.00</td>\n",
              "      <td>[27654, 292434, 16083, 592049, 701801, 423150,...</td>\n",
              "      <td>[238, 24553, 158554, 164018, 184722, 677040]</td>\n",
              "      <td>0</td>\n",
              "      <td>0.115869</td>\n",
              "      <td>2</td>\n",
              "      <td>0</td>\n",
              "      <td>0</td>\n",
              "      <td>0</td>\n",
              "      <td>0.000000</td>\n",
              "      <td>0.000000</td>\n",
              "      <td>0.000000</td>\n",
              "      <td>0.00</td>\n",
              "      <td>0.00</td>\n",
              "      <td>0.0</td>\n",
              "    </tr>\n",
              "    <tr>\n",
              "      <th>356</th>\n",
              "      <td>힙합</td>\n",
              "      <td>0.019868</td>\n",
              "      <td>0.12</td>\n",
              "      <td>[175247, 701801, 423150, 565326, 16083, 27654,...</td>\n",
              "      <td>[249, 907, 2514, 7370, 9942, 10760, 16847, 173...</td>\n",
              "      <td>6</td>\n",
              "      <td>0.127781</td>\n",
              "      <td>2</td>\n",
              "      <td>6</td>\n",
              "      <td>2</td>\n",
              "      <td>0</td>\n",
              "      <td>0.019868</td>\n",
              "      <td>0.006623</td>\n",
              "      <td>0.000000</td>\n",
              "      <td>0.12</td>\n",
              "      <td>0.08</td>\n",
              "      <td>0.0</td>\n",
              "    </tr>\n",
              "    <tr>\n",
              "      <th>357</th>\n",
              "      <td>힙합엘이</td>\n",
              "      <td>0.062500</td>\n",
              "      <td>0.10</td>\n",
              "      <td>[7311, 175247, 14430, 663627, 423150, 565326, ...</td>\n",
              "      <td>[6201, 17326, 24428, 36908, 40937, 44752, 6039...</td>\n",
              "      <td>5</td>\n",
              "      <td>0.121282</td>\n",
              "      <td>2</td>\n",
              "      <td>5</td>\n",
              "      <td>3</td>\n",
              "      <td>2</td>\n",
              "      <td>0.062500</td>\n",
              "      <td>0.037500</td>\n",
              "      <td>0.025000</td>\n",
              "      <td>0.10</td>\n",
              "      <td>0.12</td>\n",
              "      <td>0.2</td>\n",
              "    </tr>\n",
              "  </tbody>\n",
              "</table>\n",
              "<p>358 rows × 17 columns</p>\n",
              "</div>"
            ],
            "text/plain": [
              "        tag    recall  precision  ... precision@50 precision@25 precision@10\n",
              "0       12월  0.400000       0.08  ...         0.08         0.12          0.2\n",
              "1      1990  0.190476       0.08  ...         0.08         0.04          0.0\n",
              "2      2000  0.250000       0.04  ...         0.04         0.00          0.0\n",
              "3    2000년대  0.037037       0.02  ...         0.02         0.00          0.0\n",
              "4      2016  0.250000       0.02  ...         0.02         0.04          0.0\n",
              "..      ...       ...        ...  ...          ...          ...          ...\n",
              "353     힘들때  0.039216       0.04  ...         0.04         0.04          0.1\n",
              "354   힘이_나는  0.000000       0.00  ...         0.00         0.00          0.0\n",
              "355      힙한  0.000000       0.00  ...         0.00         0.00          0.0\n",
              "356      힙합  0.019868       0.12  ...         0.12         0.08          0.0\n",
              "357    힙합엘이  0.062500       0.10  ...         0.10         0.12          0.2\n",
              "\n",
              "[358 rows x 17 columns]"
            ]
          },
          "metadata": {
            "tags": []
          },
          "execution_count": 133
        }
      ]
    },
    {
      "cell_type": "code",
      "metadata": {
        "colab": {
          "base_uri": "https://localhost:8080/"
        },
        "id": "Yd7s39pptFSw",
        "outputId": "4aafd873-3562-4873-ab97-055147c68f25"
      },
      "source": [
        "not_same_count = 0\n",
        "for v1_pred, v2_pred in zip(df_result_all2.prediction, df_result.prediction):\n",
        "  if set(v1_pred) != set(v2_pred):\n",
        "    not_same_count += 1\n",
        "print(not_same_count)"
      ],
      "execution_count": null,
      "outputs": [
        {
          "output_type": "stream",
          "text": [
            "184\n"
          ],
          "name": "stdout"
        }
      ]
    },
    {
      "cell_type": "code",
      "metadata": {
        "colab": {
          "base_uri": "https://localhost:8080/"
        },
        "id": "nL-Ofmtlst8I",
        "outputId": "bc01f992-f7b3-4665-dd82-be897a71a06f"
      },
      "source": [
        ""
      ],
      "execution_count": null,
      "outputs": [
        {
          "output_type": "execute_result",
          "data": {
            "text/plain": [
              "0      [5049, 6054, 25253, 55791, 96310, 108577, 1121...\n",
              "1      [15124, 21720, 21988, 51557, 55035, 153807, 15...\n",
              "2      [997, 6888, 15124, 17107, 43471, 51557, 64813,...\n",
              "3      [55791, 72082, 90947, 97573, 142766, 187823, 2...\n",
              "4      [22643, 22907, 23443, 31529, 32570, 81523, 925...\n",
              "                             ...                        \n",
              "353    [6526, 6855, 8719, 19533, 32080, 42479, 65942,...\n",
              "354    [1885, 4096, 35713, 51557, 65942, 72609, 95485...\n",
              "355    [14641, 16083, 27654, 61505, 99635, 124528, 13...\n",
              "356    [7311, 11914, 14430, 15074, 16083, 27654, 8851...\n",
              "357    [7311, 14430, 15074, 16083, 27654, 88513, 1011...\n",
              "Name: prediction, Length: 358, dtype: object"
            ]
          },
          "metadata": {
            "tags": []
          },
          "execution_count": 120
        }
      ]
    },
    {
      "cell_type": "code",
      "metadata": {
        "colab": {
          "base_uri": "https://localhost:8080/"
        },
        "id": "MSeviJz2vdGE",
        "outputId": "afe4c2b0-3cb5-437d-9979-6d1314d14e31"
      },
      "source": [
        "df_result.mean()"
      ],
      "execution_count": null,
      "outputs": [
        {
          "output_type": "execute_result",
          "data": {
            "text/plain": [
              "recall          0.008800\n",
              "precision       0.005642\n",
              "correct         0.282123\n",
              "spent           0.595391\n",
              "k50             2.885475\n",
              "k25             1.567039\n",
              "k10             0.715084\n",
              "recall@50       0.107077\n",
              "recall@25       0.066429\n",
              "recall@10       0.038082\n",
              "precision@50    0.057709\n",
              "precision@25    0.062682\n",
              "precision@10    0.071508\n",
              "dtype: float64"
            ]
          },
          "metadata": {
            "tags": []
          },
          "execution_count": 131
        }
      ]
    },
    {
      "cell_type": "code",
      "metadata": {
        "colab": {
          "base_uri": "https://localhost:8080/"
        },
        "id": "ncE4Zgh2BvTU",
        "outputId": "741245ed-c8c8-4df8-eda2-61b183eeb913"
      },
      "source": [
        "df_result_all2.mean()"
      ],
      "execution_count": null,
      "outputs": [
        {
          "output_type": "execute_result",
          "data": {
            "text/plain": [
              "recall          0.123601\n",
              "precision       0.058045\n",
              "correct         2.902235\n",
              "spent           0.390558\n",
              "cluster         8.000000\n",
              "k50             2.902235\n",
              "k25             1.567039\n",
              "k10             0.715084\n",
              "recall@50       0.125352\n",
              "recall@25       0.080419\n",
              "recall@10       0.043196\n",
              "precision@50    0.058045\n",
              "precision@25    0.062682\n",
              "precision@10    0.071508\n",
              "dtype: float64"
            ]
          },
          "metadata": {
            "tags": []
          },
          "execution_count": 95
        }
      ]
    },
    {
      "cell_type": "code",
      "metadata": {
        "colab": {
          "base_uri": "https://localhost:8080/",
          "height": 540
        },
        "id": "F-mYWGmVq52q",
        "outputId": "0d9f4b79-0a8a-4e72-d9de-648f2e896eb5"
      },
      "source": [
        "df_result_all2"
      ],
      "execution_count": null,
      "outputs": [
        {
          "output_type": "execute_result",
          "data": {
            "text/html": [
              "<div>\n",
              "<style scoped>\n",
              "    .dataframe tbody tr th:only-of-type {\n",
              "        vertical-align: middle;\n",
              "    }\n",
              "\n",
              "    .dataframe tbody tr th {\n",
              "        vertical-align: top;\n",
              "    }\n",
              "\n",
              "    .dataframe thead th {\n",
              "        text-align: right;\n",
              "    }\n",
              "</style>\n",
              "<table border=\"1\" class=\"dataframe\">\n",
              "  <thead>\n",
              "    <tr style=\"text-align: right;\">\n",
              "      <th></th>\n",
              "      <th>tag</th>\n",
              "      <th>recall</th>\n",
              "      <th>precision</th>\n",
              "      <th>prediction</th>\n",
              "      <th>true</th>\n",
              "      <th>correct</th>\n",
              "      <th>spent</th>\n",
              "      <th>cluster</th>\n",
              "      <th>k50</th>\n",
              "      <th>k25</th>\n",
              "      <th>k10</th>\n",
              "      <th>recall@50</th>\n",
              "      <th>recall@25</th>\n",
              "      <th>recall@10</th>\n",
              "      <th>precision@50</th>\n",
              "      <th>precision@25</th>\n",
              "      <th>precision@10</th>\n",
              "    </tr>\n",
              "  </thead>\n",
              "  <tbody>\n",
              "    <tr>\n",
              "      <th>0</th>\n",
              "      <td>아침</td>\n",
              "      <td>0.029851</td>\n",
              "      <td>0.12</td>\n",
              "      <td>[13896, 475956, 564640, 581799, 608386, 656648...</td>\n",
              "      <td>[1233, 5684, 9761, 10556, 10961, 12159, 13198,...</td>\n",
              "      <td>6</td>\n",
              "      <td>0.329007</td>\n",
              "      <td>0</td>\n",
              "      <td>6</td>\n",
              "      <td>3</td>\n",
              "      <td>1</td>\n",
              "      <td>0.029851</td>\n",
              "      <td>0.014925</td>\n",
              "      <td>0.004975</td>\n",
              "      <td>0.12</td>\n",
              "      <td>0.12</td>\n",
              "      <td>0.1</td>\n",
              "    </tr>\n",
              "    <tr>\n",
              "      <th>1</th>\n",
              "      <td>퇴근</td>\n",
              "      <td>0.043478</td>\n",
              "      <td>0.04</td>\n",
              "      <td>[531820, 379112, 549392, 415017, 118788, 22169...</td>\n",
              "      <td>[250, 8749, 35575, 40591, 91246, 116114, 12236...</td>\n",
              "      <td>2</td>\n",
              "      <td>0.214808</td>\n",
              "      <td>0</td>\n",
              "      <td>2</td>\n",
              "      <td>1</td>\n",
              "      <td>1</td>\n",
              "      <td>0.043478</td>\n",
              "      <td>0.021739</td>\n",
              "      <td>0.021739</td>\n",
              "      <td>0.04</td>\n",
              "      <td>0.04</td>\n",
              "      <td>0.1</td>\n",
              "    </tr>\n",
              "    <tr>\n",
              "      <th>2</th>\n",
              "      <td>출근길</td>\n",
              "      <td>0.021127</td>\n",
              "      <td>0.06</td>\n",
              "      <td>[13896, 564640, 270330, 516653, 538777, 475956...</td>\n",
              "      <td>[642, 1233, 6082, 6526, 6546, 9295, 9825, 2355...</td>\n",
              "      <td>3</td>\n",
              "      <td>0.216885</td>\n",
              "      <td>0</td>\n",
              "      <td>3</td>\n",
              "      <td>1</td>\n",
              "      <td>0</td>\n",
              "      <td>0.021127</td>\n",
              "      <td>0.007042</td>\n",
              "      <td>0.000000</td>\n",
              "      <td>0.06</td>\n",
              "      <td>0.04</td>\n",
              "      <td>0.0</td>\n",
              "    </tr>\n",
              "    <tr>\n",
              "      <th>3</th>\n",
              "      <td>일상</td>\n",
              "      <td>0.017241</td>\n",
              "      <td>0.04</td>\n",
              "      <td>[475956, 267854, 641599, 656648, 219455, 75971...</td>\n",
              "      <td>[580, 2607, 6546, 15211, 17382, 21125, 23997, ...</td>\n",
              "      <td>2</td>\n",
              "      <td>0.226156</td>\n",
              "      <td>0</td>\n",
              "      <td>2</td>\n",
              "      <td>2</td>\n",
              "      <td>1</td>\n",
              "      <td>0.017241</td>\n",
              "      <td>0.017241</td>\n",
              "      <td>0.008621</td>\n",
              "      <td>0.04</td>\n",
              "      <td>0.08</td>\n",
              "      <td>0.1</td>\n",
              "    </tr>\n",
              "    <tr>\n",
              "      <th>4</th>\n",
              "      <td>지하철</td>\n",
              "      <td>0.000000</td>\n",
              "      <td>0.00</td>\n",
              "      <td>[575964, 516653, 643082, 251543, 588645, 53182...</td>\n",
              "      <td>[21842, 25885, 32385, 40896, 64052, 81213, 122...</td>\n",
              "      <td>0</td>\n",
              "      <td>0.213872</td>\n",
              "      <td>0</td>\n",
              "      <td>0</td>\n",
              "      <td>0</td>\n",
              "      <td>0</td>\n",
              "      <td>0.000000</td>\n",
              "      <td>0.000000</td>\n",
              "      <td>0.000000</td>\n",
              "      <td>0.00</td>\n",
              "      <td>0.00</td>\n",
              "      <td>0.0</td>\n",
              "    </tr>\n",
              "    <tr>\n",
              "      <th>...</th>\n",
              "      <td>...</td>\n",
              "      <td>...</td>\n",
              "      <td>...</td>\n",
              "      <td>...</td>\n",
              "      <td>...</td>\n",
              "      <td>...</td>\n",
              "      <td>...</td>\n",
              "      <td>...</td>\n",
              "      <td>...</td>\n",
              "      <td>...</td>\n",
              "      <td>...</td>\n",
              "      <td>...</td>\n",
              "      <td>...</td>\n",
              "      <td>...</td>\n",
              "      <td>...</td>\n",
              "      <td>...</td>\n",
              "      <td>...</td>\n",
              "    </tr>\n",
              "    <tr>\n",
              "      <th>353</th>\n",
              "      <td>잠잘때</td>\n",
              "      <td>0.250000</td>\n",
              "      <td>0.06</td>\n",
              "      <td>[308473, 570349, 125988, 77881, 309062, 375168...</td>\n",
              "      <td>[83019, 176298, 216418, 267206, 313224, 375168...</td>\n",
              "      <td>3</td>\n",
              "      <td>0.190332</td>\n",
              "      <td>14</td>\n",
              "      <td>3</td>\n",
              "      <td>1</td>\n",
              "      <td>1</td>\n",
              "      <td>0.250000</td>\n",
              "      <td>0.083333</td>\n",
              "      <td>0.083333</td>\n",
              "      <td>0.06</td>\n",
              "      <td>0.04</td>\n",
              "      <td>0.1</td>\n",
              "    </tr>\n",
              "    <tr>\n",
              "      <th>354</th>\n",
              "      <td>책읽을때</td>\n",
              "      <td>0.111111</td>\n",
              "      <td>0.02</td>\n",
              "      <td>[208359, 27731, 125988, 435179, 308473, 375168...</td>\n",
              "      <td>[26590, 76375, 208359, 224568, 304758, 416950,...</td>\n",
              "      <td>1</td>\n",
              "      <td>0.185771</td>\n",
              "      <td>14</td>\n",
              "      <td>1</td>\n",
              "      <td>1</td>\n",
              "      <td>1</td>\n",
              "      <td>0.111111</td>\n",
              "      <td>0.111111</td>\n",
              "      <td>0.111111</td>\n",
              "      <td>0.02</td>\n",
              "      <td>0.04</td>\n",
              "      <td>0.1</td>\n",
              "    </tr>\n",
              "    <tr>\n",
              "      <th>355</th>\n",
              "      <td>시험</td>\n",
              "      <td>0.150000</td>\n",
              "      <td>0.06</td>\n",
              "      <td>[154648, 27731, 416950, 656648, 428754, 311091...</td>\n",
              "      <td>[46234, 55184, 63926, 99960, 104716, 110905, 1...</td>\n",
              "      <td>3</td>\n",
              "      <td>0.186791</td>\n",
              "      <td>14</td>\n",
              "      <td>3</td>\n",
              "      <td>2</td>\n",
              "      <td>2</td>\n",
              "      <td>0.150000</td>\n",
              "      <td>0.100000</td>\n",
              "      <td>0.100000</td>\n",
              "      <td>0.06</td>\n",
              "      <td>0.08</td>\n",
              "      <td>0.2</td>\n",
              "    </tr>\n",
              "    <tr>\n",
              "      <th>356</th>\n",
              "      <td>낮잠</td>\n",
              "      <td>0.411765</td>\n",
              "      <td>0.14</td>\n",
              "      <td>[125988, 77881, 435179, 309062, 375168, 570349...</td>\n",
              "      <td>[6945, 46549, 94701, 109493, 118155, 137348, 2...</td>\n",
              "      <td>7</td>\n",
              "      <td>0.189379</td>\n",
              "      <td>14</td>\n",
              "      <td>7</td>\n",
              "      <td>4</td>\n",
              "      <td>0</td>\n",
              "      <td>0.411765</td>\n",
              "      <td>0.235294</td>\n",
              "      <td>0.000000</td>\n",
              "      <td>0.14</td>\n",
              "      <td>0.16</td>\n",
              "      <td>0.0</td>\n",
              "    </tr>\n",
              "    <tr>\n",
              "      <th>357</th>\n",
              "      <td>치유</td>\n",
              "      <td>0.000000</td>\n",
              "      <td>0.00</td>\n",
              "      <td>[208359, 435179, 77881, 125988, 309062, 570349...</td>\n",
              "      <td>[6945, 142639, 273170, 362866, 364040]</td>\n",
              "      <td>0</td>\n",
              "      <td>0.187322</td>\n",
              "      <td>14</td>\n",
              "      <td>0</td>\n",
              "      <td>0</td>\n",
              "      <td>0</td>\n",
              "      <td>0.000000</td>\n",
              "      <td>0.000000</td>\n",
              "      <td>0.000000</td>\n",
              "      <td>0.00</td>\n",
              "      <td>0.00</td>\n",
              "      <td>0.0</td>\n",
              "    </tr>\n",
              "  </tbody>\n",
              "</table>\n",
              "<p>358 rows × 17 columns</p>\n",
              "</div>"
            ],
            "text/plain": [
              "      tag    recall  precision  ... precision@50 precision@25 precision@10\n",
              "0      아침  0.029851       0.12  ...         0.12         0.12          0.1\n",
              "1      퇴근  0.043478       0.04  ...         0.04         0.04          0.1\n",
              "2     출근길  0.021127       0.06  ...         0.06         0.04          0.0\n",
              "3      일상  0.017241       0.04  ...         0.04         0.08          0.1\n",
              "4     지하철  0.000000       0.00  ...         0.00         0.00          0.0\n",
              "..    ...       ...        ...  ...          ...          ...          ...\n",
              "353   잠잘때  0.250000       0.06  ...         0.06         0.04          0.1\n",
              "354  책읽을때  0.111111       0.02  ...         0.02         0.04          0.1\n",
              "355    시험  0.150000       0.06  ...         0.06         0.08          0.2\n",
              "356    낮잠  0.411765       0.14  ...         0.14         0.16          0.0\n",
              "357    치유  0.000000       0.00  ...         0.00         0.00          0.0\n",
              "\n",
              "[358 rows x 17 columns]"
            ]
          },
          "metadata": {
            "tags": []
          },
          "execution_count": 93
        }
      ]
    },
    {
      "cell_type": "code",
      "metadata": {
        "colab": {
          "base_uri": "https://localhost:8080/",
          "height": 604
        },
        "id": "w2YWEo43BvQg",
        "outputId": "096a0300-b556-4a29-a550-4a830088bcd7"
      },
      "source": [
        "df_result_all2.groupby('cluster')['recall@50','recall@25','recall@10'].mean().plot.bar(figsize=(16,9))"
      ],
      "execution_count": null,
      "outputs": [
        {
          "output_type": "stream",
          "text": [
            "/usr/local/lib/python3.6/dist-packages/ipykernel_launcher.py:1: FutureWarning: Indexing with multiple keys (implicitly converted to a tuple of keys) will be deprecated, use a list instead.\n",
            "  \"\"\"Entry point for launching an IPython kernel.\n"
          ],
          "name": "stderr"
        },
        {
          "output_type": "execute_result",
          "data": {
            "text/plain": [
              "<matplotlib.axes._subplots.AxesSubplot at 0x7f46a30f89b0>"
            ]
          },
          "metadata": {
            "tags": []
          },
          "execution_count": 71
        },
        {
          "output_type": "display_data",
          "data": {
            "image/png": "[encoded data removed]",
            "text/plain": [
              "<Figure size 1152x648 with 1 Axes>"
            ]
          },
          "metadata": {
            "tags": [],
            "needs_background": "light"
          }
        }
      ]
    },
    {
      "cell_type": "code",
      "metadata": {
        "colab": {
          "base_uri": "https://localhost:8080/",
          "height": 604
        },
        "id": "4XGI4fnkC3cD",
        "outputId": "e1da00c9-13e7-484b-c7b8-f64bdad0112c"
      },
      "source": [
        "df_result_all2.groupby('cluster')['precision@50','precision@25','precision@10'].mean().plot.bar(figsize=(16,9))"
      ],
      "execution_count": null,
      "outputs": [
        {
          "output_type": "stream",
          "text": [
            "/usr/local/lib/python3.6/dist-packages/ipykernel_launcher.py:1: FutureWarning: Indexing with multiple keys (implicitly converted to a tuple of keys) will be deprecated, use a list instead.\n",
            "  \"\"\"Entry point for launching an IPython kernel.\n"
          ],
          "name": "stderr"
        },
        {
          "output_type": "execute_result",
          "data": {
            "text/plain": [
              "<matplotlib.axes._subplots.AxesSubplot at 0x7f46a3107a58>"
            ]
          },
          "metadata": {
            "tags": []
          },
          "execution_count": 72
        },
        {
          "output_type": "display_data",
          "data": {
            "image/png": "[encoded data removed]",
            "text/plain": [
              "<Figure size 1152x648 with 1 Axes>"
            ]
          },
          "metadata": {
            "tags": [],
            "needs_background": "light"
          }
        }
      ]
    },
    {
      "cell_type": "code",
      "metadata": {
        "colab": {
          "base_uri": "https://localhost:8080/"
        },
        "id": "-PtYHkiPCtPl",
        "outputId": "ffb438d8-95f0-483a-ccd3-9768fb335129"
      },
      "source": [
        ""
      ],
      "execution_count": null,
      "outputs": [
        {
          "output_type": "execute_result",
          "data": {
            "text/plain": [
              "0.8228486934178312"
            ]
          },
          "metadata": {
            "tags": []
          },
          "execution_count": 139
        }
      ]
    },
    {
      "cell_type": "code",
      "metadata": {
        "colab": {
          "base_uri": "https://localhost:8080/",
          "height": 571
        },
        "id": "VEWiMeXhCpgr",
        "outputId": "db201284-9556-4a7a-bb9d-8eb91ada7b79"
      },
      "source": [
        "df_result_all2.groupby('cluster')['spent'].mean().plot.bar(figsize=(16,9))"
      ],
      "execution_count": null,
      "outputs": [
        {
          "output_type": "execute_result",
          "data": {
            "text/plain": [
              "<matplotlib.axes._subplots.AxesSubplot at 0x7f75c988f208>"
            ]
          },
          "metadata": {
            "tags": []
          },
          "execution_count": 137
        },
        {
          "output_type": "display_data",
          "data": {
            "image/png": "[encoded data removed]",
            "text/plain": [
              "<Figure size 1152x648 with 1 Axes>"
            ]
          },
          "metadata": {
            "tags": [],
            "needs_background": "light"
          }
        }
      ]
    },
    {
      "cell_type": "code",
      "metadata": {
        "colab": {
          "base_uri": "https://localhost:8080/",
          "height": 593
        },
        "id": "WBN_-L8pBvN9",
        "outputId": "cfe21837-2c78-439d-bce5-fb0a6e1072e7"
      },
      "source": [
        "df_result[['recall@50','recall@25','recall@10']].mean().plot.bar(figsize=(16,9))"
      ],
      "execution_count": null,
      "outputs": [
        {
          "output_type": "execute_result",
          "data": {
            "text/plain": [
              "<matplotlib.axes._subplots.AxesSubplot at 0x7f75c991d978>"
            ]
          },
          "metadata": {
            "tags": []
          },
          "execution_count": 136
        },
        {
          "output_type": "display_data",
          "data": {
            "image/png": "[encoded data removed]",
            "text/plain": [
              "<Figure size 1152x648 with 1 Axes>"
            ]
          },
          "metadata": {
            "tags": [],
            "needs_background": "light"
          }
        }
      ]
    },
    {
      "cell_type": "code",
      "metadata": {
        "colab": {
          "base_uri": "https://localhost:8080/",
          "height": 611
        },
        "id": "dfqb_qokBvLt",
        "outputId": "946e7c79-9596-4035-c806-85fd24c1a8f6"
      },
      "source": [
        "df_result[['precision@50','precision@25','precision@10']].mean().plot.bar(figsize=(16,9))"
      ],
      "execution_count": null,
      "outputs": [
        {
          "output_type": "execute_result",
          "data": {
            "text/plain": [
              "<matplotlib.axes._subplots.AxesSubplot at 0x7f75c5e4fc50>"
            ]
          },
          "metadata": {
            "tags": []
          },
          "execution_count": 141
        },
        {
          "output_type": "display_data",
          "data": {
            "image/png": "[encoded data removed]",
            "text/plain": [
              "<Figure size 1152x648 with 1 Axes>"
            ]
          },
          "metadata": {
            "tags": [],
            "needs_background": "light"
          }
        }
      ]
    },
    {
      "cell_type": "code",
      "metadata": {
        "id": "Yrm-pSxrBvIp"
      },
      "source": [
        ""
      ],
      "execution_count": null,
      "outputs": []
    },
    {
      "cell_type": "code",
      "metadata": {
        "id": "8G7YjMOT9VDX"
      },
      "source": [
        "import time"
      ],
      "execution_count": null,
      "outputs": []
    },
    {
      "cell_type": "code",
      "metadata": {
        "colab": {
          "base_uri": "https://localhost:8080/",
          "height": 795,
          "referenced_widgets": [
            "807e8497dd974c24963c054729e8d9fb",
            "462950ed5ecd4a578c0adfbbcb67840b",
            "eb2c3a756b9c431194a06c582567781f",
            "fe5ff748b76b4cb28db047e7664de6ab",
            "802296d27a2a4dc89d175e541dd97d54",
            "8083d66b76b448afa748defa2f112dc1",
            "ef232042d25c49e78c58f2d52ef26e81",
            "17ce72154c864b7cabe1b8cbb9bbcc25",
            "c5fb35c9fb80404882fe53e3667f0738",
            "72b67793faf14869a6f3c26f8da12670",
            "fdb10b780a5e430098da2cd751603aa4",
            "ff95fef4064248e68438187fc0e933e5",
            "d54bef96879c44f593df0691da0e10e0",
            "f5cb0e47392a48a29d24284b5df63f18",
            "0d983e3c271e4e6289bf27b6f1ecf6e2",
            "e4a1985ec7234b428189b43fcb0af370",
            "33329b834e1e4bd8a12d4ead56c2bea6",
            "6bbdf2bc708143359b3dc581cbe5d760",
            "5ee5b4297ee14cac855c57b26a119dba",
            "aa18d0f6e9974cc29996b26bf53daef2",
            "939d0abc2c224f1bb5d26a7d22394196",
            "43eb7ada4e054eb6b95a57b23e2aa31b",
            "de9e120933e74398bcc3231a2634f2cf",
            "7a1733c4ab40424485de3d4e0afca7c4",
            "3a0e447f40074115a07154ed6d276683",
            "ecb268695c3e42c583509e0e7d341002",
            "401bf6455e954c7db334bd8845b5152d",
            "dacd994947aa4e1786cb5a1b62eb5b98",
            "28ac2eeae59044509816a2deefcd244d",
            "86c41033779b46b08d07f3e9d6ef47ca",
            "acf1c2e84dc2412ba5e896e032ec375a",
            "64a34bf4d9cc45cc8775b5afe44ce778",
            "6c7cd1b37a244abfa7143006a42da4f0",
            "8894204c95a845c48f92541d9d27896d",
            "cbd9d90ede784adeba7fa50900ec20eb",
            "5e43aa2dfa394ef6a80ddbe7ab3cbd4b",
            "c4a7cfb92baf4c3db254792d65b5dffb",
            "a7217d311e184b76b3445ed05d7f55bf",
            "7d0642b364754e61bc53aeafeb82d366",
            "ab09ca8f2b2547b5b11be2bbe8972c95",
            "8ab6967ae56844efb209483e93bf0666",
            "a043d79328814721b5f02e0a4e014929",
            "c64101a34c694361ad3471aa091e0ea8",
            "8a496f42606e49c6aed7e28316dc8e63",
            "399236c2920f465c846ffb032ee03b1c",
            "e985409a817d48cc882b8126d844a129",
            "67dd6deb1cca4b34bc320a61d772ec04",
            "60b0d6cdb2f64807825ceee27d2ae2f4",
            "efa4484aec5e4f7b904ef4c6b5528b8f",
            "1b7adcff3f8e4f4db6649a1845989285",
            "8c686fac1805421195ac0a281a141add",
            "3c4d44c090d344d58d1aca6f2292fd68",
            "93ef93494bc24bad96d6f38f00479cb6",
            "4dc3b12c10ac40bbbfe74493b45a7b20",
            "d789cd71a3d84477b2fe6908282d90d4",
            "ea8a1a764b804914998bb2d03a1818d2",
            "9ee716bcbc1944269ae9145a095f57bd",
            "85e1c8b9471b474f86d10358e8e9a82e",
            "420a23cbecf34e80946bfdc90b65c7d0",
            "db9e1d7a21d94bf4bff75f87b8400d0e",
            "867179dd6a394c5691307e5d5bfced45",
            "fce7f9534989430884fc4e5e180e1408",
            "97102984e462477a9c362f8a6751d536",
            "b4bfdb7efbb44ae2872841ea87800f29",
            "ff0a653b4ded459482e8f65a202e7d7d",
            "52c12e645993436787892bc12159bdc1",
            "ce4223635384464c90cd8de72f5659da",
            "2a69bc42002044e0a567b3afcd8b4ba1",
            "a5c4474093eb4fe5b40be8c8127e9f19",
            "311e3ccf9ff84ce796f4310accb2fe12",
            "86a07fec701c432284f135b9348fea96",
            "62a1158014244b51a934366a8c75876a",
            "9420843b16834075a61c85c1dbb84f9f",
            "efa8373cfc1f4c4593f402ed3afbf3eb",
            "4e0da210f2cf46c5acf817094c7f1bb4",
            "9fabab938e344bed8efe7a59c990ba4a",
            "405d0cbafccd47f9b247651bc6ade8b0",
            "cfa6ec9a65b94838af0f5d54945ff753",
            "fd43e65610ce4852a501cd27a17c690f",
            "26aa1435f77a4e768ac306640b43bb31",
            "67461df7baa948e18fc9da1b83a12a15",
            "0f357b2091df43dba420b0f419b16ff5",
            "c043bf1df419429d9dee61112e922d42",
            "f9ecd35e3c9e4546bdd82c06e53064ab",
            "854f8d369463416fa598d5f616354cd8",
            "9494cabb176f45d69dab6c5f16d77a17",
            "20851ae598234664865cef0296b5c212",
            "21bf52bc9dc24ec68cfccae1e4835ffc",
            "af668a8a408643f79d46b00e79ca4c1c",
            "79953a4d4ecf4ec680f9e4cd3a169543",
            "6e3da0f7b2e0416ca3ebfa4beb78a794",
            "e60c5a5614c34267a1afa1a3c2a4d76a",
            "ccf4008aa07042518f2ce2f162f50c08",
            "0faa301922714a21918e29e28d0673f4",
            "d16cc9fd8f664d6fa1fb165b43ac4471",
            "b32417214ff847458edcea0e7c7581b9",
            "8ff334cf30a0449685b0a8929deedc88",
            "99dbac3f93e94062879713b736a6ae11",
            "3fbf1e64907e4dfea3b756788fc5c6fa",
            "b5b3fd4335fe49b9a3d2bccfa5833b70",
            "4d31e1d471424ccbb4226a37247f010b",
            "9a2c918a395e475f94d85631abd666b2",
            "62a5ee8c01c2465f8893db97dfa84f16",
            "0b768ce023654dfda9a143a1c37d5b10",
            "1ffcef3f6bc7468393890f6c7e3beed8",
            "4ebf0d0d8d464b2aa8150453f8e3e510",
            "b05e5ad96b0a4b10bd55c2daefbf1858",
            "b3ee02a57a8a41a1a4b420a75235e2bd",
            "a6825e1dd3c7488fb43e36e374c3cab3",
            "be7586ecbfed42ff96b7d56af14700db",
            "90b4c649dd2d431e9bbea9543039f9b3",
            "3d31a76305cc4fef83e6ff0e1d0b591d",
            "3e17ce32592b4f098cf0c80ae41d364b",
            "a3de12d59fdb4205b77c7ca1c2e4ddba",
            "55d15d5e084d4fe3b2aa78947b800049",
            "fddd59e7f4eb4264b0d7b8617f9a3324",
            "05e58e332db346c4898e3d8a6eddf7e0",
            "a5a698681c8949bfb195982fb6e64460",
            "64949bf192444cb7b2bde4da00a66e04",
            "d43aa41b13ce44a1b8c5730ba5c77013",
            "9fb13e68f1e342c4bd86b7394c87f246",
            "7fd51a51a87947f39f63653e3cde8f78",
            "e8db6122f8ec44c8aff4c6d3760f92d9",
            "d9e8e38d1147465da17691fb052c72cc",
            "01f8a8bcb47c412894c84adb8b58f73e",
            "b2509986a4ef431992c6aa4234fb0fa9",
            "1a4dda5554884bb08479892ea560c512",
            "d0b34b9254e74ca89c66c99bd36bbab8"
          ]
        },
        "id": "kGwkUxNVvYCs",
        "outputId": "b322945f-2de7-4779-f90b-a514c2e81a5f"
      },
      "source": [
        "df_arr = []\n",
        "for idx in tqdm(range(15)):\n",
        "    recall_result = []\n",
        "    precision_result = []\n",
        "    prediction_result = []\n",
        "\n",
        "    true_result = []\n",
        "    correct_result = []\n",
        "    spent_result = []\n",
        "\n",
        "    x_test =  test_clusters[idx]\n",
        "    test_tags = x_test['tag_id'].unique()\n",
        "    total_songs = np.intersect1d(test_clusters[idx].song_id.unique(), Clusters[idx]._unique_songs)\n",
        "\n",
        "    k = 50\n",
        "\n",
        "    for _test_tag_id in tqdm(test_tags):\n",
        "        song_ids = np.intersect1d(x_test.song_id[x_test.tag_id == _test_tag_id].values, total_songs)\n",
        "\n",
        "        start_time = time.time()\n",
        "        predicted = Clusters[idx].predict(idx2tag[_test_tag_id])\n",
        "        spent_result.append(time.time() - start_time)\n",
        "\n",
        "        correct_count = np.intersect1d(song_ids, predicted).shape[0]\n",
        "\n",
        "        correct_result.append(correct_count)\n",
        "        prediction_result.append(predicted)\n",
        "        true_result.append(song_ids)\n",
        "\n",
        "        if len(song_ids) == 0:\n",
        "          recall_result.append(0)\n",
        "          precision_result.append(0)\n",
        "          continue\n",
        "        \n",
        "        recall_result.append(correct_count / len(song_ids))\n",
        "        precision_result.append(correct_count / k)\n",
        "\n",
        "    tag_names = [idx2tag[tag_id] for tag_id in test_tags]\n",
        "    df_result = pd.DataFrame([tag_names, recall_result, precision_result, prediction_result, true_result, correct_result, spent_result]).T\n",
        "    df_result.columns = ['tag', 'recall', 'precision', 'prediction', 'true', 'correct', 'spent']\n",
        "    df_result['cluster'] = idx\n",
        "    df_arr.append(df_result)"
      ],
      "execution_count": null,
      "outputs": [
        {
          "output_type": "display_data",
          "data": {
            "application/vnd.jupyter.widget-view+json": {
              "model_id": "807e8497dd974c24963c054729e8d9fb",
              "version_minor": 0,
              "version_major": 2
            },
            "text/plain": [
              "HBox(children=(FloatProgress(value=0.0, max=15.0), HTML(value='')))"
            ]
          },
          "metadata": {
            "tags": []
          }
        },
        {
          "output_type": "display_data",
          "data": {
            "application/vnd.jupyter.widget-view+json": {
              "model_id": "c5fb35c9fb80404882fe53e3667f0738",
              "version_minor": 0,
              "version_major": 2
            },
            "text/plain": [
              "HBox(children=(FloatProgress(value=0.0, max=52.0), HTML(value='')))"
            ]
          },
          "metadata": {
            "tags": []
          }
        },
        {
          "output_type": "stream",
          "text": [
            "\n"
          ],
          "name": "stdout"
        },
        {
          "output_type": "display_data",
          "data": {
            "application/vnd.jupyter.widget-view+json": {
              "model_id": "33329b834e1e4bd8a12d4ead56c2bea6",
              "version_minor": 0,
              "version_major": 2
            },
            "text/plain": [
              "HBox(children=(FloatProgress(value=0.0, max=121.0), HTML(value='')))"
            ]
          },
          "metadata": {
            "tags": []
          }
        },
        {
          "output_type": "stream",
          "text": [
            "\n"
          ],
          "name": "stdout"
        },
        {
          "output_type": "display_data",
          "data": {
            "application/vnd.jupyter.widget-view+json": {
              "model_id": "3a0e447f40074115a07154ed6d276683",
              "version_minor": 0,
              "version_major": 2
            },
            "text/plain": [
              "HBox(children=(FloatProgress(value=0.0, max=34.0), HTML(value='')))"
            ]
          },
          "metadata": {
            "tags": []
          }
        },
        {
          "output_type": "stream",
          "text": [
            "\n"
          ],
          "name": "stdout"
        },
        {
          "output_type": "display_data",
          "data": {
            "application/vnd.jupyter.widget-view+json": {
              "model_id": "6c7cd1b37a244abfa7143006a42da4f0",
              "version_minor": 0,
              "version_major": 2
            },
            "text/plain": [
              "HBox(children=(FloatProgress(value=0.0, max=26.0), HTML(value='')))"
            ]
          },
          "metadata": {
            "tags": []
          }
        },
        {
          "output_type": "stream",
          "text": [
            "\n"
          ],
          "name": "stdout"
        },
        {
          "output_type": "display_data",
          "data": {
            "application/vnd.jupyter.widget-view+json": {
              "model_id": "8ab6967ae56844efb209483e93bf0666",
              "version_minor": 0,
              "version_major": 2
            },
            "text/plain": [
              "HBox(children=(FloatProgress(value=0.0, max=116.0), HTML(value='')))"
            ]
          },
          "metadata": {
            "tags": []
          }
        },
        {
          "output_type": "stream",
          "text": [
            "\n"
          ],
          "name": "stdout"
        },
        {
          "output_type": "display_data",
          "data": {
            "application/vnd.jupyter.widget-view+json": {
              "model_id": "efa4484aec5e4f7b904ef4c6b5528b8f",
              "version_minor": 0,
              "version_major": 2
            },
            "text/plain": [
              "HBox(children=(FloatProgress(value=0.0, max=138.0), HTML(value='')))"
            ]
          },
          "metadata": {
            "tags": []
          }
        },
        {
          "output_type": "stream",
          "text": [
            "\n"
          ],
          "name": "stdout"
        },
        {
          "output_type": "display_data",
          "data": {
            "application/vnd.jupyter.widget-view+json": {
              "model_id": "9ee716bcbc1944269ae9145a095f57bd",
              "version_minor": 0,
              "version_major": 2
            },
            "text/plain": [
              "HBox(children=(FloatProgress(value=0.0, max=74.0), HTML(value='')))"
            ]
          },
          "metadata": {
            "tags": []
          }
        },
        {
          "output_type": "stream",
          "text": [
            "\n"
          ],
          "name": "stdout"
        },
        {
          "output_type": "display_data",
          "data": {
            "application/vnd.jupyter.widget-view+json": {
              "model_id": "ff0a653b4ded459482e8f65a202e7d7d",
              "version_minor": 0,
              "version_major": 2
            },
            "text/plain": [
              "HBox(children=(FloatProgress(value=0.0, max=58.0), HTML(value='')))"
            ]
          },
          "metadata": {
            "tags": []
          }
        },
        {
          "output_type": "stream",
          "text": [
            "\n"
          ],
          "name": "stdout"
        },
        {
          "output_type": "display_data",
          "data": {
            "application/vnd.jupyter.widget-view+json": {
              "model_id": "9420843b16834075a61c85c1dbb84f9f",
              "version_minor": 0,
              "version_major": 2
            },
            "text/plain": [
              "HBox(children=(FloatProgress(value=0.0, max=29.0), HTML(value='')))"
            ]
          },
          "metadata": {
            "tags": []
          }
        },
        {
          "output_type": "stream",
          "text": [
            "\n"
          ],
          "name": "stdout"
        },
        {
          "output_type": "display_data",
          "data": {
            "application/vnd.jupyter.widget-view+json": {
              "model_id": "67461df7baa948e18fc9da1b83a12a15",
              "version_minor": 0,
              "version_major": 2
            },
            "text/plain": [
              "HBox(children=(FloatProgress(value=0.0, max=127.0), HTML(value='')))"
            ]
          },
          "metadata": {
            "tags": []
          }
        },
        {
          "output_type": "stream",
          "text": [
            "\n"
          ],
          "name": "stdout"
        },
        {
          "output_type": "display_data",
          "data": {
            "application/vnd.jupyter.widget-view+json": {
              "model_id": "af668a8a408643f79d46b00e79ca4c1c",
              "version_minor": 0,
              "version_major": 2
            },
            "text/plain": [
              "HBox(children=(FloatProgress(value=0.0, max=93.0), HTML(value='')))"
            ]
          },
          "metadata": {
            "tags": []
          }
        },
        {
          "output_type": "stream",
          "text": [
            "\n"
          ],
          "name": "stdout"
        },
        {
          "output_type": "display_data",
          "data": {
            "application/vnd.jupyter.widget-view+json": {
              "model_id": "8ff334cf30a0449685b0a8929deedc88",
              "version_minor": 0,
              "version_major": 2
            },
            "text/plain": [
              "HBox(children=(FloatProgress(value=0.0, max=81.0), HTML(value='')))"
            ]
          },
          "metadata": {
            "tags": []
          }
        },
        {
          "output_type": "stream",
          "text": [
            "\n"
          ],
          "name": "stdout"
        },
        {
          "output_type": "display_data",
          "data": {
            "application/vnd.jupyter.widget-view+json": {
              "model_id": "1ffcef3f6bc7468393890f6c7e3beed8",
              "version_minor": 0,
              "version_major": 2
            },
            "text/plain": [
              "HBox(children=(FloatProgress(value=0.0, max=15.0), HTML(value='')))"
            ]
          },
          "metadata": {
            "tags": []
          }
        },
        {
          "output_type": "stream",
          "text": [
            "\n"
          ],
          "name": "stdout"
        },
        {
          "output_type": "display_data",
          "data": {
            "application/vnd.jupyter.widget-view+json": {
              "model_id": "3e17ce32592b4f098cf0c80ae41d364b",
              "version_minor": 0,
              "version_major": 2
            },
            "text/plain": [
              "HBox(children=(FloatProgress(value=0.0, max=76.0), HTML(value='')))"
            ]
          },
          "metadata": {
            "tags": []
          }
        },
        {
          "output_type": "stream",
          "text": [
            "\n"
          ],
          "name": "stdout"
        },
        {
          "output_type": "display_data",
          "data": {
            "application/vnd.jupyter.widget-view+json": {
              "model_id": "9fb13e68f1e342c4bd86b7394c87f246",
              "version_minor": 0,
              "version_major": 2
            },
            "text/plain": [
              "HBox(children=(FloatProgress(value=0.0, max=53.0), HTML(value='')))"
            ]
          },
          "metadata": {
            "tags": []
          }
        },
        {
          "output_type": "stream",
          "text": [
            "\n",
            "\n"
          ],
          "name": "stdout"
        }
      ]
    },
    {
      "cell_type": "code",
      "metadata": {
        "id": "t9-tuIws1JtU"
      },
      "source": [
        "df_result_all = pd.concat(df_arr)"
      ],
      "execution_count": null,
      "outputs": []
    },
    {
      "cell_type": "code",
      "metadata": {
        "colab": {
          "base_uri": "https://localhost:8080/"
        },
        "id": "QZ9pCZ1y1JqI",
        "outputId": "7182f055-fc16-4dad-ed04-fe9b1f32e610"
      },
      "source": [
        "df_result_all.correct"
      ],
      "execution_count": null,
      "outputs": [
        {
          "output_type": "execute_result",
          "data": {
            "text/plain": [
              "0     6\n",
              "1     2\n",
              "2     3\n",
              "3     2\n",
              "4     0\n",
              "     ..\n",
              "48    0\n",
              "49    0\n",
              "50    2\n",
              "51    0\n",
              "52    0\n",
              "Name: correct, Length: 1093, dtype: object"
            ]
          },
          "metadata": {
            "tags": []
          },
          "execution_count": 33
        }
      ]
    },
    {
      "cell_type": "code",
      "metadata": {
        "id": "hKEY2xk51hqe"
      },
      "source": [
        "df_result_all.recall = df_result_all.recall.astype(float)\n",
        "df_result_all.spent = df_result_all.spent.astype(float)\n",
        "df_result_all.precision = df_result_all.precision.astype(float)"
      ],
      "execution_count": null,
      "outputs": []
    },
    {
      "cell_type": "code",
      "metadata": {
        "id": "mZRg043p4u3W"
      },
      "source": [
        "df_result_all = df_result_all.reset_index(drop=True)\n",
        "df_result_all.to_json(get_path('Result_Cluster_v2.json'))"
      ],
      "execution_count": null,
      "outputs": []
    },
    {
      "cell_type": "code",
      "metadata": {
        "colab": {
          "base_uri": "https://localhost:8080/",
          "height": 604
        },
        "id": "MWNfcVlO5gue",
        "outputId": "6d0b6e85-598a-4bd6-b4b7-174648381afd"
      },
      "source": [
        "df_result_all.groupby('cluster')['recall','precision'].mean().plot.bar(figsize=(16,9))"
      ],
      "execution_count": null,
      "outputs": [
        {
          "output_type": "stream",
          "text": [
            "/usr/local/lib/python3.6/dist-packages/ipykernel_launcher.py:1: FutureWarning: Indexing with multiple keys (implicitly converted to a tuple of keys) will be deprecated, use a list instead.\n",
            "  \"\"\"Entry point for launching an IPython kernel.\n"
          ],
          "name": "stderr"
        },
        {
          "output_type": "execute_result",
          "data": {
            "text/plain": [
              "<matplotlib.axes._subplots.AxesSubplot at 0x7f469fc32c88>"
            ]
          },
          "metadata": {
            "tags": []
          },
          "execution_count": 50
        },
        {
          "output_type": "display_data",
          "data": {
            "image/png": "[encoded data removed]",
            "text/plain": [
              "<Figure size 1152x648 with 1 Axes>"
            ]
          },
          "metadata": {
            "tags": [],
            "needs_background": "light"
          }
        }
      ]
    },
    {
      "cell_type": "code",
      "metadata": {
        "id": "jkA2xo2b5aXJ"
      },
      "source": [
        "df_result_all.recall.mean(), df_result_all.precision.mean(), df_result_all.spent.mean()"
      ],
      "execution_count": null,
      "outputs": []
    },
    {
      "cell_type": "code",
      "metadata": {
        "id": "22_ZK72o1Jl7"
      },
      "source": [
        "good_tags = ['디즈니', '연애', '유재석', '고막남친', '포근한', '연말', '짝사랑', '운전', '봄바람',\n",
        "       '잠들기전', '힘', '흥겨운', '신곡', '산책', '듣기좋은', '걸그룹', '파티', '비오는날', '추위',\n",
        "       '비오는', '불토', '재즈', '이브', 'UK', '연애세포', '여행', '가을밤', '센치한', '록',\n",
        "       '행복', '배경음악', '감성힙합', '추석', '추억', '지친', '집', '어쿠스틱', '감성곡', '드라이브',\n",
        "       '고속도로', '신나는', '가을비', '트로트', '눈', '불금', '피아노', '발랄', '성인가요', '댄스',\n",
        "       '주말', '패션', '우울한', '벚꽃', '날씨', '커피', '노동요', '수록곡', '힘내', '경쾌한',\n",
        "       '정미애', '따뜻함', '노래', 'OfficialCharts', '헤어짐', '남자아이돌', '팝', '댄스곡',\n",
        "       '정다경', '여유', '휴식', '새벽', '잔잔함', '2000년대', '나른', '우울', '12월',\n",
        "       '뉴에이지', '우울할때', '명절', '2019년', '중독성', '엄마아리랑', '인디', '비', '자장가',\n",
        "       '버스', '스타일', '축하', '까페', '퇴근', '2016', '상큼한', '노래방', '찾아오는DJ',\n",
        "       'RNBSOUL', '상큼', '청량한', 'EDM', 'deep', '한국힙합', '아픔', '밝은', '혼자',\n",
        "       '기분전환', '찬양', '아이돌', '부드러운', '눈오는날', '귀르가즘', '여름노래', '댄스댄스', 'bar',\n",
        "       '크리스마스캐롤', '테라스', 'electronica', '연휴', '봄비', '가을', '북카페', '알앤비',\n",
        "       '토닥토닥', '장마', '트렌디', '꿀잠', '잔잔', '하우스', '와인', '생일', '국외', '고백',\n",
        "       '신남', '봄노래', '쓸쓸', '얼터너티브', '느낌있는', '성탄절', '브금', '불면증', '귀성길',\n",
        "       '에이핑크', '디스코', '인기', '달달', '소울', '책읽을때', '슬픔', '운동', '사랑노래', '락',\n",
        "       '잔잔한노래', '여름밤', '쌀쌀한', '시원한', '저녁', '낮잠', '일렉', '캐롤', '방콕',\n",
        "       '메리크리스마스', '기분좋은', '따뜻하게', '빌로우', '아무로나미에', '장르구분없이', '월요병', '분위기',\n",
        "       '청량', '페스티벌', '추천곡', '내적댄스', '국힙', '외로움', '클럽', '즐거운', '맑은', '스포츠',\n",
        "       '열대야', '오르골', '감성발라드', '밤', '시작', '브릿팝', '산뜻한', 'EDMFloor', '빗소리',\n",
        "       '쓸쓸함', '조용한', '낙엽', '겨울밤', '좋아요', '2019', '몽환', '블랙뮤직', '겨울노래',\n",
        "       '겨울', '휴일', '태교', '팝송', '새벽감성', '바캉스', '그리움', '추천', 'Lounge',\n",
        "       '플레이리스트', 'dance', '달달한', '신나는노래', '하늘', 'Instrumental', '그루브',\n",
        "       '치유', '봄', '퓨전재즈', '회식', '일렉트로니카', '잔잔한', '힙합엘이', '힙한', '힘들때',\n",
        "       '설렘', '취향저격', '독서', '썸', '차분', '목소리', '마음', '내한', '랩', '더위', '따듯한',\n",
        "       '띵곡들', '베스트', '봄나들이', '인디팝', '연주곡', '셋리스트', '감성', '장윤정', '후회',\n",
        "       '바람', '헬스', '지칠때', '흐린날', '감성적인', '유산슬', '임영웅', '집콕', '에너지',\n",
        "       '몽환적인', 'Christmas', '해외일렉트로니카', '크리스마스', '바다', '케이팝', '기분업',\n",
        "       '흥폭발', '겨울감성', '어린이집', '숨은명곡', 'OST', '2000', '고막여친', '춤', '휴가',\n",
        "       'bgm', '트랩', '연인', '비오는날듣기좋은노래', '하루', '가족', '슬픈', 'Pop', '집중',\n",
        "       '눈물', '아침', '카페뮤직', '두근두근', 'Rock', '차분한', '출근길', '이별', 'house',\n",
        "       '기분', '스트레스', '봄날', '잠', 'ballad', '음색', '달콤', '인디음악', '기타',\n",
        "       '다이어트', '띵곡', '떼창', '오후', '시험', '숙면', '회상', '대세', '캐럴', '취저',\n",
        "       '달달한노래', '꿀성대', '희망', '팝송모음', '흥', '설레임', '힙합', '애창곡', '카페', '매장',\n",
        "       '음색깡패', '크리스마스노래', '스웩', '오늘', '음악', '1990', '신나는음악', '유니크', '퇴근길',\n",
        "       '신나', '잠잘때', '공부', '설날', '힘이_나는', '달콤한', '주제곡', '사랑', '발라드', '생각',\n",
        "       '여름', '힐링', '여자아이돌', '방탄', '센치', '고백송', '커플', '첫사랑', '조깅', '지하철',\n",
        "       '위로', '매장음악', '좋은노래', '가사', '데이트', '유산소', '트로피컬', '리드미컬', '솔로',\n",
        "       '세련된', '비트', '스타일리시', '야경', '나들이', '편안한', '휘트니스', '영국', '일상']"
      ],
      "execution_count": null,
      "outputs": []
    },
    {
      "cell_type": "code",
      "metadata": {
        "id": "PFpGiX02lhzN"
      },
      "source": [
        "df_result_all2 = df_result_all[df_result_all.tag.isin(good_tags)].reset_index(drop=True)"
      ],
      "execution_count": null,
      "outputs": []
    },
    {
      "cell_type": "code",
      "metadata": {
        "colab": {
          "base_uri": "https://localhost:8080/"
        },
        "id": "FozK4o5Vlhwi",
        "outputId": "6c1a7984-285e-4d70-d0af-9cde3e093eca"
      },
      "source": [
        "df_result_all.recall.mean(), df_result_all.precision.mean(), df_result_all.spent.mean()"
      ],
      "execution_count": null,
      "outputs": [
        {
          "output_type": "execute_result",
          "data": {
            "text/plain": [
              "(0.07731164831340281, 0.02417200365965222, 0.3457210925556822)"
            ]
          },
          "metadata": {
            "tags": []
          },
          "execution_count": 45
        }
      ]
    },
    {
      "cell_type": "code",
      "metadata": {
        "colab": {
          "base_uri": "https://localhost:8080/"
        },
        "id": "Y-yvrBCilhud",
        "outputId": "3db382ea-aeb7-49d4-c8fe-a8422e657819"
      },
      "source": [
        "df_result_all2.recall.mean(), df_result_all2.precision.mean(), df_result_all2.spent.mean()"
      ],
      "execution_count": null,
      "outputs": [
        {
          "output_type": "execute_result",
          "data": {
            "text/plain": [
              "(0.12360094823029542, 0.05804469273742998, 0.390558222818641)"
            ]
          },
          "metadata": {
            "tags": []
          },
          "execution_count": 44
        }
      ]
    },
    {
      "cell_type": "code",
      "metadata": {
        "id": "TraNtBW5lhrp"
      },
      "source": [
        "df_result_all2.to_json(get_path('final_result_cluster_v1.json'))"
      ],
      "execution_count": null,
      "outputs": []
    },
    {
      "cell_type": "code",
      "metadata": {
        "id": "p7iI-TPNlho5"
      },
      "source": [
        ""
      ],
      "execution_count": null,
      "outputs": []
    },
    {
      "cell_type": "code",
      "metadata": {
        "id": "LhczTrwxlhmN"
      },
      "source": [
        ""
      ],
      "execution_count": null,
      "outputs": []
    },
    {
      "cell_type": "code",
      "metadata": {
        "id": "XW4dbM-F1Jik"
      },
      "source": [
        ""
      ],
      "execution_count": null,
      "outputs": []
    },
    {
      "cell_type": "code",
      "metadata": {
        "id": "aZvoWn_61vI-"
      },
      "source": [
        ""
      ],
      "execution_count": null,
      "outputs": []
    },
    {
      "cell_type": "code",
      "metadata": {
        "id": "fEfMouh61vGT"
      },
      "source": [
        ""
      ],
      "execution_count": null,
      "outputs": []
    },
    {
      "cell_type": "code",
      "metadata": {
        "id": "1C8bORMo1vEO"
      },
      "source": [
        ""
      ],
      "execution_count": null,
      "outputs": []
    },
    {
      "cell_type": "code",
      "metadata": {
        "colab": {
          "base_uri": "https://localhost:8080/"
        },
        "id": "2yG0LZJ_1vBQ",
        "outputId": "d74833eb-8ff4-4941-9675-960d32c52c96"
      },
      "source": [
        ""
      ],
      "execution_count": null,
      "outputs": [
        {
          "output_type": "execute_result",
          "data": {
            "text/plain": [
              "{3: 1.0}"
            ]
          },
          "metadata": {
            "tags": []
          },
          "execution_count": 83
        }
      ]
    },
    {
      "cell_type": "code",
      "metadata": {
        "id": "pvXDQBDQ1u-5"
      },
      "source": [
        ""
      ],
      "execution_count": null,
      "outputs": []
    },
    {
      "cell_type": "code",
      "metadata": {
        "id": "zm8zYNQB1u8q"
      },
      "source": [
        ""
      ],
      "execution_count": null,
      "outputs": []
    },
    {
      "cell_type": "code",
      "metadata": {
        "id": "koKOMdsd1u53"
      },
      "source": [
        ""
      ],
      "execution_count": null,
      "outputs": []
    },
    {
      "cell_type": "code",
      "metadata": {
        "colab": {
          "base_uri": "https://localhost:8080/"
        },
        "id": "j0-EvYaQvX_s",
        "outputId": "734a76e5-6fda-4c9c-c54c-cd5fd0fcd6b8"
      },
      "source": [
        "recall_sum = 0\n",
        "for i, result in enumerate(df_arr):\n",
        "  recall_sum += result[1].mean()\n",
        "  print(f\"{i}: {result[1].mean()}\")"
      ],
      "execution_count": null,
      "outputs": [
        {
          "output_type": "stream",
          "text": [
            "0: 0.07196991041892681\n",
            "1: 0.03616850321395775\n",
            "2: 0.10131510248826124\n",
            "3: 0.3097004847004847\n",
            "4: 0.04088337951457655\n",
            "5: 0.03541757665743019\n",
            "6: 0.029776676798917674\n",
            "7: 0.1440690799594905\n",
            "8: 0.1999840275605478\n",
            "9: 0.07917766494995254\n",
            "10: 0.05018722808577115\n",
            "11: 0.05777204558316362\n",
            "12: 0.36499944499944503\n",
            "13: 0.09036851956241895\n",
            "14: 0.11567236771557138\n"
          ],
          "name": "stdout"
        }
      ]
    },
    {
      "cell_type": "code",
      "metadata": {
        "colab": {
          "base_uri": "https://localhost:8080/",
          "height": 947
        },
        "id": "WoPl5AbL1VE4",
        "outputId": "1a0e20f0-352e-4fcd-b6dc-47959b5a43d2"
      },
      "source": [
        "df_arr[1].sort_values(1, ascending=0).head(30)"
      ],
      "execution_count": null,
      "outputs": [
        {
          "output_type": "execute_result",
          "data": {
            "text/html": [
              "<div>\n",
              "<style scoped>\n",
              "    .dataframe tbody tr th:only-of-type {\n",
              "        vertical-align: middle;\n",
              "    }\n",
              "\n",
              "    .dataframe tbody tr th {\n",
              "        vertical-align: top;\n",
              "    }\n",
              "\n",
              "    .dataframe thead th {\n",
              "        text-align: right;\n",
              "    }\n",
              "</style>\n",
              "<table border=\"1\" class=\"dataframe\">\n",
              "  <thead>\n",
              "    <tr style=\"text-align: right;\">\n",
              "      <th></th>\n",
              "      <th>0</th>\n",
              "      <th>1</th>\n",
              "      <th>2</th>\n",
              "    </tr>\n",
              "  </thead>\n",
              "  <tbody>\n",
              "    <tr>\n",
              "      <th>29</th>\n",
              "      <td>기도</td>\n",
              "      <td>1</td>\n",
              "      <td>0.02</td>\n",
              "    </tr>\n",
              "    <tr>\n",
              "      <th>51</th>\n",
              "      <td>취저</td>\n",
              "      <td>1</td>\n",
              "      <td>0.02</td>\n",
              "    </tr>\n",
              "    <tr>\n",
              "      <th>43</th>\n",
              "      <td>명절</td>\n",
              "      <td>0.75</td>\n",
              "      <td>0.06</td>\n",
              "    </tr>\n",
              "    <tr>\n",
              "      <th>39</th>\n",
              "      <td>감성충전</td>\n",
              "      <td>0.333333</td>\n",
              "      <td>0.02</td>\n",
              "    </tr>\n",
              "    <tr>\n",
              "      <th>98</th>\n",
              "      <td>추천음악</td>\n",
              "      <td>0.333333</td>\n",
              "      <td>0.02</td>\n",
              "    </tr>\n",
              "    <tr>\n",
              "      <th>64</th>\n",
              "      <td>부모님</td>\n",
              "      <td>0.333333</td>\n",
              "      <td>0.02</td>\n",
              "    </tr>\n",
              "    <tr>\n",
              "      <th>21</th>\n",
              "      <td>2016</td>\n",
              "      <td>0.25</td>\n",
              "      <td>0.02</td>\n",
              "    </tr>\n",
              "    <tr>\n",
              "      <th>6</th>\n",
              "      <td>자존감</td>\n",
              "      <td>0.166667</td>\n",
              "      <td>0.02</td>\n",
              "    </tr>\n",
              "    <tr>\n",
              "      <th>25</th>\n",
              "      <td>좋아요</td>\n",
              "      <td>0.125</td>\n",
              "      <td>0.02</td>\n",
              "    </tr>\n",
              "    <tr>\n",
              "      <th>3</th>\n",
              "      <td>보컬</td>\n",
              "      <td>0.0625</td>\n",
              "      <td>0.02</td>\n",
              "    </tr>\n",
              "    <tr>\n",
              "      <th>2</th>\n",
              "      <td>노래</td>\n",
              "      <td>0.0222222</td>\n",
              "      <td>0.02</td>\n",
              "    </tr>\n",
              "    <tr>\n",
              "      <th>88</th>\n",
              "      <td>이지리스닝</td>\n",
              "      <td>0</td>\n",
              "      <td>0</td>\n",
              "    </tr>\n",
              "    <tr>\n",
              "      <th>87</th>\n",
              "      <td>용기</td>\n",
              "      <td>0</td>\n",
              "      <td>0</td>\n",
              "    </tr>\n",
              "    <tr>\n",
              "      <th>86</th>\n",
              "      <td>크리스마스이브</td>\n",
              "      <td>0</td>\n",
              "      <td>0</td>\n",
              "    </tr>\n",
              "    <tr>\n",
              "      <th>81</th>\n",
              "      <td>우아한</td>\n",
              "      <td>0</td>\n",
              "      <td>0</td>\n",
              "    </tr>\n",
              "    <tr>\n",
              "      <th>89</th>\n",
              "      <td>힘든날</td>\n",
              "      <td>0</td>\n",
              "      <td>0</td>\n",
              "    </tr>\n",
              "    <tr>\n",
              "      <th>85</th>\n",
              "      <td>쌀쌀</td>\n",
              "      <td>0</td>\n",
              "      <td>0</td>\n",
              "    </tr>\n",
              "    <tr>\n",
              "      <th>84</th>\n",
              "      <td>귀호강</td>\n",
              "      <td>0</td>\n",
              "      <td>0</td>\n",
              "    </tr>\n",
              "    <tr>\n",
              "      <th>83</th>\n",
              "      <td>izm</td>\n",
              "      <td>0</td>\n",
              "      <td>0</td>\n",
              "    </tr>\n",
              "    <tr>\n",
              "      <th>82</th>\n",
              "      <td>동화</td>\n",
              "      <td>0</td>\n",
              "      <td>0</td>\n",
              "    </tr>\n",
              "    <tr>\n",
              "      <th>79</th>\n",
              "      <td>전곡듣기</td>\n",
              "      <td>0</td>\n",
              "      <td>0</td>\n",
              "    </tr>\n",
              "    <tr>\n",
              "      <th>80</th>\n",
              "      <td>개취</td>\n",
              "      <td>0</td>\n",
              "      <td>0</td>\n",
              "    </tr>\n",
              "    <tr>\n",
              "      <th>91</th>\n",
              "      <td>가사좋은노래</td>\n",
              "      <td>0</td>\n",
              "      <td>0</td>\n",
              "    </tr>\n",
              "    <tr>\n",
              "      <th>78</th>\n",
              "      <td>로우파이</td>\n",
              "      <td>0</td>\n",
              "      <td>0</td>\n",
              "    </tr>\n",
              "    <tr>\n",
              "      <th>77</th>\n",
              "      <td>계절</td>\n",
              "      <td>0</td>\n",
              "      <td>0</td>\n",
              "    </tr>\n",
              "    <tr>\n",
              "      <th>76</th>\n",
              "      <td>낭만적인</td>\n",
              "      <td>0</td>\n",
              "      <td>0</td>\n",
              "    </tr>\n",
              "    <tr>\n",
              "      <th>75</th>\n",
              "      <td>포근</td>\n",
              "      <td>0</td>\n",
              "      <td>0</td>\n",
              "    </tr>\n",
              "    <tr>\n",
              "      <th>74</th>\n",
              "      <td>하이틴</td>\n",
              "      <td>0</td>\n",
              "      <td>0</td>\n",
              "    </tr>\n",
              "    <tr>\n",
              "      <th>73</th>\n",
              "      <td>팝발라드</td>\n",
              "      <td>0</td>\n",
              "      <td>0</td>\n",
              "    </tr>\n",
              "    <tr>\n",
              "      <th>72</th>\n",
              "      <td>레스토랑</td>\n",
              "      <td>0</td>\n",
              "      <td>0</td>\n",
              "    </tr>\n",
              "  </tbody>\n",
              "</table>\n",
              "</div>"
            ],
            "text/plain": [
              "          0          1     2\n",
              "29       기도          1  0.02\n",
              "51       취저          1  0.02\n",
              "43       명절       0.75  0.06\n",
              "39     감성충전   0.333333  0.02\n",
              "98     추천음악   0.333333  0.02\n",
              "64      부모님   0.333333  0.02\n",
              "21     2016       0.25  0.02\n",
              "6       자존감   0.166667  0.02\n",
              "25      좋아요      0.125  0.02\n",
              "3        보컬     0.0625  0.02\n",
              "2        노래  0.0222222  0.02\n",
              "88    이지리스닝          0     0\n",
              "87       용기          0     0\n",
              "86  크리스마스이브          0     0\n",
              "81      우아한          0     0\n",
              "89      힘든날          0     0\n",
              "85       쌀쌀          0     0\n",
              "84      귀호강          0     0\n",
              "83      izm          0     0\n",
              "82       동화          0     0\n",
              "79     전곡듣기          0     0\n",
              "80       개취          0     0\n",
              "91   가사좋은노래          0     0\n",
              "78     로우파이          0     0\n",
              "77       계절          0     0\n",
              "76     낭만적인          0     0\n",
              "75       포근          0     0\n",
              "74      하이틴          0     0\n",
              "73     팝발라드          0     0\n",
              "72     레스토랑          0     0"
            ]
          },
          "metadata": {
            "tags": []
          },
          "execution_count": 113
        }
      ]
    },
    {
      "cell_type": "code",
      "metadata": {
        "colab": {
          "base_uri": "https://localhost:8080/"
        },
        "id": "_w6FKyyRznFZ",
        "outputId": "531250bb-c66a-4d3c-a8e3-43e352080e32"
      },
      "source": [
        "recall_sum / 15"
      ],
      "execution_count": null,
      "outputs": [
        {
          "output_type": "execute_result",
          "data": {
            "text/plain": [
              "0.11516413414726107"
            ]
          },
          "metadata": {
            "tags": []
          },
          "execution_count": 104
        }
      ]
    },
    {
      "cell_type": "code",
      "metadata": {
        "colab": {
          "base_uri": "https://localhost:8080/"
        },
        "id": "BhroQ6SMvX9B",
        "outputId": "cdeda916-e795-40de-c8bc-a3a1fd9ef18d"
      },
      "source": [
        "%timeit predicted = Clusters[0].predict('성탄절')"
      ],
      "execution_count": null,
      "outputs": [
        {
          "output_type": "stream",
          "text": [
            "1 loop, best of 3: 204 ms per loop\n"
          ],
          "name": "stdout"
        }
      ]
    },
    {
      "cell_type": "code",
      "metadata": {
        "colab": {
          "base_uri": "https://localhost:8080/"
        },
        "id": "svtS1x6-wECv",
        "outputId": "8312ccbc-9654-48ba-a1a4-f87853bb32b1"
      },
      "source": [
        "%timeit predicted = Clusters[1].predict('성탄절')"
      ],
      "execution_count": null,
      "outputs": [
        {
          "output_type": "stream",
          "text": [
            "10 loops, best of 3: 118 ms per loop\n"
          ],
          "name": "stdout"
        }
      ]
    },
    {
      "cell_type": "code",
      "metadata": {
        "colab": {
          "base_uri": "https://localhost:8080/"
        },
        "id": "qz7tFDsCwD_z",
        "outputId": "ff7f8d3d-8915-4147-ec69-09391a747b09"
      },
      "source": [
        "%timeit predicted = Clusters[2].predict('성탄절')"
      ],
      "execution_count": null,
      "outputs": [
        {
          "output_type": "stream",
          "text": [
            "10 loops, best of 3: 111 ms per loop\n"
          ],
          "name": "stdout"
        }
      ]
    },
    {
      "cell_type": "code",
      "metadata": {
        "colab": {
          "base_uri": "https://localhost:8080/"
        },
        "id": "3WAyxyBawD9N",
        "outputId": "3cd1ad24-4b2b-4442-a2d3-a15248ae22c1"
      },
      "source": [
        "%timeit predicted = Clusters[3].predict('성탄절')"
      ],
      "execution_count": null,
      "outputs": [
        {
          "output_type": "stream",
          "text": [
            "10 loops, best of 3: 43.4 ms per loop\n"
          ],
          "name": "stdout"
        }
      ]
    },
    {
      "cell_type": "code",
      "metadata": {
        "colab": {
          "base_uri": "https://localhost:8080/"
        },
        "id": "md0Mgv9YwD6c",
        "outputId": "c1791b31-7483-4955-ce78-db0723b8688f"
      },
      "source": [
        "%timeit predicted = Clusters[4].predict('성탄절')"
      ],
      "execution_count": null,
      "outputs": [
        {
          "output_type": "stream",
          "text": [
            "10 loops, best of 3: 192 ms per loop\n"
          ],
          "name": "stdout"
        }
      ]
    },
    {
      "cell_type": "code",
      "metadata": {
        "colab": {
          "base_uri": "https://localhost:8080/"
        },
        "id": "-ADwy1tQwD37",
        "outputId": "36d36df1-7683-4350-975c-7a089059ae8f"
      },
      "source": [
        "%timeit predicted = Clusters[5].predict('성탄절')"
      ],
      "execution_count": null,
      "outputs": [
        {
          "output_type": "stream",
          "text": [
            "1 loop, best of 3: 253 ms per loop\n"
          ],
          "name": "stdout"
        }
      ]
    },
    {
      "cell_type": "code",
      "metadata": {
        "colab": {
          "base_uri": "https://localhost:8080/"
        },
        "id": "A5aeCmM4wD1B",
        "outputId": "de4eafe4-be25-4ce7-c2fd-68117a9f1599"
      },
      "source": [
        "%timeit predicted = Clusters[6].predict('성탄절')"
      ],
      "execution_count": null,
      "outputs": [
        {
          "output_type": "stream",
          "text": [
            "1 loop, best of 3: 431 ms per loop\n"
          ],
          "name": "stdout"
        }
      ]
    },
    {
      "cell_type": "code",
      "metadata": {
        "colab": {
          "base_uri": "https://localhost:8080/"
        },
        "id": "3ZcwHDzNwDyz",
        "outputId": "22b8aa5a-d177-451f-f52d-3491842138e8"
      },
      "source": [
        "%timeit predicted = Clusters[7].predict('성탄절')"
      ],
      "execution_count": null,
      "outputs": [
        {
          "output_type": "stream",
          "text": [
            "1 loop, best of 3: 261 ms per loop\n"
          ],
          "name": "stdout"
        }
      ]
    },
    {
      "cell_type": "code",
      "metadata": {
        "colab": {
          "base_uri": "https://localhost:8080/"
        },
        "id": "V6bFbGTcwDwB",
        "outputId": "00e82b29-6c8f-4617-98b7-be81560cdf0f"
      },
      "source": [
        "%timeit predicted = Clusters[8].predict('성탄절')"
      ],
      "execution_count": null,
      "outputs": [
        {
          "output_type": "stream",
          "text": [
            "10 loops, best of 3: 127 ms per loop\n"
          ],
          "name": "stdout"
        }
      ]
    },
    {
      "cell_type": "code",
      "metadata": {
        "colab": {
          "base_uri": "https://localhost:8080/"
        },
        "id": "6vcdT7OdwDuW",
        "outputId": "cd4149be-15ea-4648-bd9a-9ef7965ef003"
      },
      "source": [
        "%timeit predicted = Clusters[9].predict('성탄절')"
      ],
      "execution_count": null,
      "outputs": [
        {
          "output_type": "stream",
          "text": [
            "1 loop, best of 3: 901 ms per loop\n"
          ],
          "name": "stdout"
        }
      ]
    },
    {
      "cell_type": "code",
      "metadata": {
        "colab": {
          "base_uri": "https://localhost:8080/"
        },
        "id": "jICJjpnlwDq-",
        "outputId": "c088751f-13ca-4050-dec0-180d23bcc611"
      },
      "source": [
        "%timeit predicted = Clusters[10].predict('성탄절')"
      ],
      "execution_count": null,
      "outputs": [
        {
          "output_type": "stream",
          "text": [
            "1 loop, best of 3: 338 ms per loop\n"
          ],
          "name": "stdout"
        }
      ]
    },
    {
      "cell_type": "code",
      "metadata": {
        "colab": {
          "base_uri": "https://localhost:8080/"
        },
        "id": "K1UNY4VDwDo_",
        "outputId": "ee568840-fc61-412d-f589-fb4428c24a1d"
      },
      "source": [
        "%timeit predicted = Clusters[11].predict('성탄절')"
      ],
      "execution_count": null,
      "outputs": [
        {
          "output_type": "stream",
          "text": [
            "1 loop, best of 3: 486 ms per loop\n"
          ],
          "name": "stdout"
        }
      ]
    },
    {
      "cell_type": "code",
      "metadata": {
        "colab": {
          "base_uri": "https://localhost:8080/"
        },
        "id": "XFuc41ZGwDmD",
        "outputId": "694d2e8b-4b3e-4bf1-c7f5-434d0b8ae0ed"
      },
      "source": [
        "%timeit predicted = Clusters[12].predict('성탄절')"
      ],
      "execution_count": null,
      "outputs": [
        {
          "output_type": "stream",
          "text": [
            "10 loops, best of 3: 37 ms per loop\n"
          ],
          "name": "stdout"
        }
      ]
    },
    {
      "cell_type": "code",
      "metadata": {
        "colab": {
          "base_uri": "https://localhost:8080/"
        },
        "id": "63fshuZpwDj0",
        "outputId": "3e7925dc-e618-4b5e-a1c8-66522fdda64b"
      },
      "source": [
        "%timeit predicted = Clusters[13].predict('성탄절')"
      ],
      "execution_count": null,
      "outputs": [
        {
          "output_type": "stream",
          "text": [
            "1 loop, best of 3: 281 ms per loop\n"
          ],
          "name": "stdout"
        }
      ]
    },
    {
      "cell_type": "code",
      "metadata": {
        "colab": {
          "base_uri": "https://localhost:8080/"
        },
        "id": "RCYeuKV9wDg7",
        "outputId": "ff148f10-9db1-478e-ada7-8c515ebc6077"
      },
      "source": [
        "%timeit predicted = Clusters[14].predict('성탄절')"
      ],
      "execution_count": null,
      "outputs": [
        {
          "output_type": "stream",
          "text": [
            "10 loops, best of 3: 173 ms per loop\n"
          ],
          "name": "stdout"
        }
      ]
    },
    {
      "cell_type": "code",
      "metadata": {
        "colab": {
          "base_uri": "https://localhost:8080/"
        },
        "id": "Jb-z4hKXwDeH",
        "outputId": "fdf3e7c4-6957-40bd-b8ab-3779ae6e7a24"
      },
      "source": [
        "204+118+111+43.4+192+253+431+261+127+901+338+486+37+281+173"
      ],
      "execution_count": null,
      "outputs": [
        {
          "output_type": "execute_result",
          "data": {
            "text/plain": [
              "3956.4"
            ]
          },
          "metadata": {
            "tags": []
          },
          "execution_count": 101
        }
      ]
    },
    {
      "cell_type": "code",
      "metadata": {
        "colab": {
          "base_uri": "https://localhost:8080/"
        },
        "id": "3fY1IDNkwDbl",
        "outputId": "c242caf0-1801-4027-e67e-5648999e9201"
      },
      "source": [
        "(3956.4) / 15"
      ],
      "execution_count": null,
      "outputs": [
        {
          "output_type": "execute_result",
          "data": {
            "text/plain": [
              "263.76"
            ]
          },
          "metadata": {
            "tags": []
          },
          "execution_count": 102
        }
      ]
    },
    {
      "cell_type": "code",
      "metadata": {
        "id": "BZLHfcoOvX6B"
      },
      "source": [
        ""
      ],
      "execution_count": null,
      "outputs": []
    },
    {
      "cell_type": "code",
      "metadata": {
        "id": "ClSVF6wYDoeW"
      },
      "source": [
        "train_tags = train_clusters[0].tag_id.unique()"
      ],
      "execution_count": null,
      "outputs": []
    },
    {
      "cell_type": "code",
      "metadata": {
        "id": "BpIoNuP_CIpO"
      },
      "source": [
        "df_result['tag_id'] = df_result[0].map(lambda x: tag2idx.get(x))"
      ],
      "execution_count": null,
      "outputs": []
    },
    {
      "cell_type": "code",
      "metadata": {
        "colab": {
          "base_uri": "https://localhost:8080/",
          "height": 347
        },
        "id": "-UJa5nZuv3NZ",
        "outputId": "b11e77dd-051d-4588-cbff-1a24fc766a0e"
      },
      "source": [
        "df_result.sort_values(2, ascending=False).head(10)"
      ],
      "execution_count": null,
      "outputs": [
        {
          "output_type": "execute_result",
          "data": {
            "text/html": [
              "<div>\n",
              "<style scoped>\n",
              "    .dataframe tbody tr th:only-of-type {\n",
              "        vertical-align: middle;\n",
              "    }\n",
              "\n",
              "    .dataframe tbody tr th {\n",
              "        vertical-align: top;\n",
              "    }\n",
              "\n",
              "    .dataframe thead th {\n",
              "        text-align: right;\n",
              "    }\n",
              "</style>\n",
              "<table border=\"1\" class=\"dataframe\">\n",
              "  <thead>\n",
              "    <tr style=\"text-align: right;\">\n",
              "      <th></th>\n",
              "      <th>0</th>\n",
              "      <th>1</th>\n",
              "      <th>2</th>\n",
              "      <th>tag_id</th>\n",
              "    </tr>\n",
              "  </thead>\n",
              "  <tbody>\n",
              "    <tr>\n",
              "      <th>3</th>\n",
              "      <td>아침</td>\n",
              "      <td>0.0228311</td>\n",
              "      <td>0.1</td>\n",
              "      <td>1052</td>\n",
              "    </tr>\n",
              "    <tr>\n",
              "      <th>24</th>\n",
              "      <td>시작</td>\n",
              "      <td>0.0689655</td>\n",
              "      <td>0.08</td>\n",
              "      <td>658</td>\n",
              "    </tr>\n",
              "    <tr>\n",
              "      <th>5</th>\n",
              "      <td>불금</td>\n",
              "      <td>0.0784314</td>\n",
              "      <td>0.08</td>\n",
              "      <td>215</td>\n",
              "    </tr>\n",
              "    <tr>\n",
              "      <th>21</th>\n",
              "      <td>힘내요</td>\n",
              "      <td>0.5</td>\n",
              "      <td>0.08</td>\n",
              "      <td>182</td>\n",
              "    </tr>\n",
              "    <tr>\n",
              "      <th>20</th>\n",
              "      <td>일상</td>\n",
              "      <td>0.0307692</td>\n",
              "      <td>0.08</td>\n",
              "      <td>1378</td>\n",
              "    </tr>\n",
              "    <tr>\n",
              "      <th>18</th>\n",
              "      <td>힘</td>\n",
              "      <td>0.333333</td>\n",
              "      <td>0.08</td>\n",
              "      <td>53</td>\n",
              "    </tr>\n",
              "    <tr>\n",
              "      <th>14</th>\n",
              "      <td>노동요</td>\n",
              "      <td>0.0652174</td>\n",
              "      <td>0.06</td>\n",
              "      <td>242</td>\n",
              "    </tr>\n",
              "    <tr>\n",
              "      <th>2</th>\n",
              "      <td>퇴근길</td>\n",
              "      <td>0.026087</td>\n",
              "      <td>0.06</td>\n",
              "      <td>1243</td>\n",
              "    </tr>\n",
              "    <tr>\n",
              "      <th>4</th>\n",
              "      <td>고속도로</td>\n",
              "      <td>0.25</td>\n",
              "      <td>0.06</td>\n",
              "      <td>180</td>\n",
              "    </tr>\n",
              "    <tr>\n",
              "      <th>7</th>\n",
              "      <td>출근길</td>\n",
              "      <td>0.0178571</td>\n",
              "      <td>0.06</td>\n",
              "      <td>1066</td>\n",
              "    </tr>\n",
              "  </tbody>\n",
              "</table>\n",
              "</div>"
            ],
            "text/plain": [
              "       0          1     2  tag_id\n",
              "3     아침  0.0228311   0.1    1052\n",
              "24    시작  0.0689655  0.08     658\n",
              "5     불금  0.0784314  0.08     215\n",
              "21   힘내요        0.5  0.08     182\n",
              "20    일상  0.0307692  0.08    1378\n",
              "18     힘   0.333333  0.08      53\n",
              "14   노동요  0.0652174  0.06     242\n",
              "2    퇴근길   0.026087  0.06    1243\n",
              "4   고속도로       0.25  0.06     180\n",
              "7    출근길  0.0178571  0.06    1066"
            ]
          },
          "metadata": {
            "tags": []
          },
          "execution_count": 51
        }
      ]
    },
    {
      "cell_type": "code",
      "metadata": {
        "colab": {
          "base_uri": "https://localhost:8080/"
        },
        "id": "Qrk7mceIvzWo",
        "outputId": "ee2cd95a-f2bb-40db-bbcb-348a589d5c39"
      },
      "source": [
        "%time predicted = Clusters[0].predict('불금')"
      ],
      "execution_count": null,
      "outputs": [
        {
          "output_type": "stream",
          "text": [
            "CPU times: user 456 ms, sys: 32.2 ms, total: 488 ms\n",
            "Wall time: 354 ms\n"
          ],
          "name": "stdout"
        }
      ]
    },
    {
      "cell_type": "code",
      "metadata": {
        "colab": {
          "base_uri": "https://localhost:8080/",
          "height": 1000
        },
        "id": "FEjmCUYHCUk9",
        "outputId": "6bd667b6-1dfa-4ae7-8970-298b337a89c5"
      },
      "source": [
        "df_meta[df_meta.id.isin(predicted)]"
      ],
      "execution_count": null,
      "outputs": [
        {
          "output_type": "execute_result",
          "data": {
            "text/html": [
              "<div>\n",
              "<style scoped>\n",
              "    .dataframe tbody tr th:only-of-type {\n",
              "        vertical-align: middle;\n",
              "    }\n",
              "\n",
              "    .dataframe tbody tr th {\n",
              "        vertical-align: top;\n",
              "    }\n",
              "\n",
              "    .dataframe thead th {\n",
              "        text-align: right;\n",
              "    }\n",
              "</style>\n",
              "<table border=\"1\" class=\"dataframe\">\n",
              "  <thead>\n",
              "    <tr style=\"text-align: right;\">\n",
              "      <th></th>\n",
              "      <th>song_gn_dtl_gnr_basket</th>\n",
              "      <th>issue_date</th>\n",
              "      <th>album_name</th>\n",
              "      <th>album_id</th>\n",
              "      <th>artist_id_basket</th>\n",
              "      <th>song_name</th>\n",
              "      <th>song_gn_gnr_basket</th>\n",
              "      <th>artist_name_basket</th>\n",
              "      <th>id</th>\n",
              "      <th>gnrs</th>\n",
              "      <th>new_id</th>\n",
              "    </tr>\n",
              "  </thead>\n",
              "  <tbody>\n",
              "    <tr>\n",
              "      <th>1395</th>\n",
              "      <td>['GN1801']</td>\n",
              "      <td>20170106</td>\n",
              "      <td>아침이 밝아올 때</td>\n",
              "      <td>10028806</td>\n",
              "      <td>[1381999]</td>\n",
              "      <td>아침이 밝아올 때</td>\n",
              "      <td>['GN1800']</td>\n",
              "      <td>['Morning Dream']</td>\n",
              "      <td>13896</td>\n",
              "      <td>['뉴에이지']</td>\n",
              "      <td>8308</td>\n",
              "    </tr>\n",
              "    <tr>\n",
              "      <th>2344</th>\n",
              "      <td>['GN0702', 'GN0708', 'GN0701']</td>\n",
              "      <td>20190308</td>\n",
              "      <td>Lots of Love</td>\n",
              "      <td>10259010</td>\n",
              "      <td>[418700]</td>\n",
              "      <td>오늘 밤에</td>\n",
              "      <td>['GN0700']</td>\n",
              "      <td>['홍진영']</td>\n",
              "      <td>23443</td>\n",
              "      <td>['성인가요']</td>\n",
              "      <td>13946</td>\n",
              "    </tr>\n",
              "    <tr>\n",
              "      <th>3145</th>\n",
              "      <td>['GN1102', 'GN1101']</td>\n",
              "      <td>20150213</td>\n",
              "      <td>Samsara (Feat. Emila) (Single)</td>\n",
              "      <td>2305442</td>\n",
              "      <td>[838364]</td>\n",
              "      <td>Samsara (Feat. Emila)</td>\n",
              "      <td>['GN1100']</td>\n",
              "      <td>['Tungevaag &amp; Raaban']</td>\n",
              "      <td>31529</td>\n",
              "      <td>['일렉트로니카']</td>\n",
              "      <td>18749</td>\n",
              "    </tr>\n",
              "    <tr>\n",
              "      <th>3234</th>\n",
              "      <td>['GN0805', 'GN0509', 'GN0502', 'GN0801', 'GN05...</td>\n",
              "      <td>20160524</td>\n",
              "      <td>When I Begin</td>\n",
              "      <td>2683581</td>\n",
              "      <td>[968452]</td>\n",
              "      <td>오늘</td>\n",
              "      <td>['GN0500', 'GN0800']</td>\n",
              "      <td>['오왠 (O.WHEN)']</td>\n",
              "      <td>32385</td>\n",
              "      <td>['인디음악', '포크/블루스']</td>\n",
              "      <td>19237</td>\n",
              "    </tr>\n",
              "    <tr>\n",
              "      <th>4300</th>\n",
              "      <td>['GN1102', 'GN1101']</td>\n",
              "      <td>20160805</td>\n",
              "      <td>Encore</td>\n",
              "      <td>2645246</td>\n",
              "      <td>[195400]</td>\n",
              "      <td>Let Me Love You (Feat. Justin Bieber)</td>\n",
              "      <td>['GN1100']</td>\n",
              "      <td>['DJ Snake']</td>\n",
              "      <td>43627</td>\n",
              "      <td>['일렉트로니카']</td>\n",
              "      <td>25777</td>\n",
              "    </tr>\n",
              "    <tr>\n",
              "      <th>5463</th>\n",
              "      <td>['GN2601']</td>\n",
              "      <td>20180517</td>\n",
              "      <td>MEGA DRIVE</td>\n",
              "      <td>10167508</td>\n",
              "      <td>[959785]</td>\n",
              "      <td>MEGA DRIVE</td>\n",
              "      <td>['GN2600']</td>\n",
              "      <td>['COLOR LOUNGE']</td>\n",
              "      <td>55570</td>\n",
              "      <td>['일렉트로니카']</td>\n",
              "      <td>32479</td>\n",
              "    </tr>\n",
              "    <tr>\n",
              "      <th>7654</th>\n",
              "      <td>['GN2502', 'GN2501', 'GN0303', 'GN2504', 'GN03...</td>\n",
              "      <td>20151116</td>\n",
              "      <td>WELCOME BACK</td>\n",
              "      <td>2640151</td>\n",
              "      <td>[895741]</td>\n",
              "      <td>취향저격</td>\n",
              "      <td>['GN2500', 'GN0300']</td>\n",
              "      <td>['iKON']</td>\n",
              "      <td>78180</td>\n",
              "      <td>['아이돌', '랩/힙합']</td>\n",
              "      <td>43590</td>\n",
              "    </tr>\n",
              "    <tr>\n",
              "      <th>13653</th>\n",
              "      <td>['GN0105', 'GN1501', 'GN0101', 'GN1504']</td>\n",
              "      <td>20110804</td>\n",
              "      <td>공주의 남자 OST Part.3</td>\n",
              "      <td>2006804</td>\n",
              "      <td>[43806, 39256]</td>\n",
              "      <td>기다릴게</td>\n",
              "      <td>['GN1500', 'GN0100']</td>\n",
              "      <td>['하동균', 'J.Lee']</td>\n",
              "      <td>138586</td>\n",
              "      <td>['OST', '발라드']</td>\n",
              "      <td>4484</td>\n",
              "    </tr>\n",
              "    <tr>\n",
              "      <th>14179</th>\n",
              "      <td>['GN0501', 'GN0101', 'GN0506', 'GN0509']</td>\n",
              "      <td>20110517</td>\n",
              "      <td>Kim Ji Soo 1st Mini Album</td>\n",
              "      <td>1270457</td>\n",
              "      <td>[8806]</td>\n",
              "      <td>Chocolate Drive</td>\n",
              "      <td>['GN0500', 'GN0100']</td>\n",
              "      <td>['김지수']</td>\n",
              "      <td>143718</td>\n",
              "      <td>['인디음악', '발라드']</td>\n",
              "      <td>7592</td>\n",
              "    </tr>\n",
              "    <tr>\n",
              "      <th>14343</th>\n",
              "      <td>['GN0101', 'GN0102']</td>\n",
              "      <td>19880201</td>\n",
              "      <td>나 항상 그대를</td>\n",
              "      <td>326844</td>\n",
              "      <td>[966]</td>\n",
              "      <td>나 항상 그대를</td>\n",
              "      <td>['GN0100']</td>\n",
              "      <td>['이선희']</td>\n",
              "      <td>145390</td>\n",
              "      <td>['발라드']</td>\n",
              "      <td>8559</td>\n",
              "    </tr>\n",
              "    <tr>\n",
              "      <th>14493</th>\n",
              "      <td>['GN0501', 'GN0601', 'GN0503', 'GN0606', 'GN05...</td>\n",
              "      <td>20100615</td>\n",
              "      <td>Wonderland</td>\n",
              "      <td>924553</td>\n",
              "      <td>[197928]</td>\n",
              "      <td>Feel Alright</td>\n",
              "      <td>['GN0500', 'GN0600']</td>\n",
              "      <td>['짙은']</td>\n",
              "      <td>146848</td>\n",
              "      <td>['인디음악', '록/메탈']</td>\n",
              "      <td>9384</td>\n",
              "    </tr>\n",
              "    <tr>\n",
              "      <th>15360</th>\n",
              "      <td>['GN0703', 'GN0708', 'GN0701']</td>\n",
              "      <td>20170717</td>\n",
              "      <td>Dream Again</td>\n",
              "      <td>10079853</td>\n",
              "      <td>[1]</td>\n",
              "      <td>男子의 人生 (남자의 인생)</td>\n",
              "      <td>['GN0700']</td>\n",
              "      <td>['나훈아']</td>\n",
              "      <td>156052</td>\n",
              "      <td>['성인가요']</td>\n",
              "      <td>14871</td>\n",
              "    </tr>\n",
              "    <tr>\n",
              "      <th>18525</th>\n",
              "      <td>['GN0105', 'GN0101']</td>\n",
              "      <td>20120222</td>\n",
              "      <td>Knock</td>\n",
              "      <td>2083726</td>\n",
              "      <td>[28772]</td>\n",
              "      <td>Falling</td>\n",
              "      <td>['GN0100']</td>\n",
              "      <td>['존박']</td>\n",
              "      <td>188215</td>\n",
              "      <td>['발라드']</td>\n",
              "      <td>33234</td>\n",
              "    </tr>\n",
              "    <tr>\n",
              "      <th>19310</th>\n",
              "      <td>['GN0105', 'GN0101']</td>\n",
              "      <td>20190220</td>\n",
              "      <td>안녕 내사랑</td>\n",
              "      <td>10252753</td>\n",
              "      <td>[2401708]</td>\n",
              "      <td>안녕 내사랑</td>\n",
              "      <td>['GN0100']</td>\n",
              "      <td>['이원']</td>\n",
              "      <td>196405</td>\n",
              "      <td>['발라드']</td>\n",
              "      <td>37221</td>\n",
              "    </tr>\n",
              "    <tr>\n",
              "      <th>20043</th>\n",
              "      <td>['GN0702', 'GN0708', 'GN0701']</td>\n",
              "      <td>20200117</td>\n",
              "      <td>내일은 미스터트롯 예선곡 베스트</td>\n",
              "      <td>10377157</td>\n",
              "      <td>[720018]</td>\n",
              "      <td>태클을 걸지마</td>\n",
              "      <td>['GN0700']</td>\n",
              "      <td>['김호중']</td>\n",
              "      <td>203619</td>\n",
              "      <td>['성인가요']</td>\n",
              "      <td>40822</td>\n",
              "    </tr>\n",
              "    <tr>\n",
              "      <th>21478</th>\n",
              "      <td>['GN2502', 'GN0105', 'GN2501', 'GN0101', 'GN25...</td>\n",
              "      <td>20130213</td>\n",
              "      <td>THE SECOND MINI ALBUM `여보세요`</td>\n",
              "      <td>2175137</td>\n",
              "      <td>[640891]</td>\n",
              "      <td>여보세요</td>\n",
              "      <td>['GN2500', 'GN0100']</td>\n",
              "      <td>['뉴이스트']</td>\n",
              "      <td>217719</td>\n",
              "      <td>['아이돌', '발라드']</td>\n",
              "      <td>47820</td>\n",
              "    </tr>\n",
              "    <tr>\n",
              "      <th>22308</th>\n",
              "      <td>['GN1806', 'GN1801']</td>\n",
              "      <td>20150910</td>\n",
              "      <td>Suddenly</td>\n",
              "      <td>2639510</td>\n",
              "      <td>[744783]</td>\n",
              "      <td>Suddenly</td>\n",
              "      <td>['GN1800']</td>\n",
              "      <td>['제이 리']</td>\n",
              "      <td>226156</td>\n",
              "      <td>['뉴에이지']</td>\n",
              "      <td>51987</td>\n",
              "    </tr>\n",
              "    <tr>\n",
              "      <th>24779</th>\n",
              "      <td>['GN2503', 'GN0205', 'GN2501', 'GN2506', 'GN02...</td>\n",
              "      <td>20150303</td>\n",
              "      <td>Hi~</td>\n",
              "      <td>2306957</td>\n",
              "      <td>[789331]</td>\n",
              "      <td>안녕 (Hi~)</td>\n",
              "      <td>['GN2500', 'GN0200']</td>\n",
              "      <td>['러블리즈']</td>\n",
              "      <td>251375</td>\n",
              "      <td>['아이돌', '댄스']</td>\n",
              "      <td>64449</td>\n",
              "    </tr>\n",
              "    <tr>\n",
              "      <th>26748</th>\n",
              "      <td>['GN2502', 'GN2501', 'GN2506', 'GN0201']</td>\n",
              "      <td>20180117</td>\n",
              "      <td>True Colors</td>\n",
              "      <td>10130117</td>\n",
              "      <td>[1910321]</td>\n",
              "      <td>Wonderful Day</td>\n",
              "      <td>['GN2500', 'GN0200']</td>\n",
              "      <td>['JBJ']</td>\n",
              "      <td>270330</td>\n",
              "      <td>['아이돌', '댄스']</td>\n",
              "      <td>4870</td>\n",
              "    </tr>\n",
              "    <tr>\n",
              "      <th>30434</th>\n",
              "      <td>['GN1102', 'GN1101']</td>\n",
              "      <td>20160318</td>\n",
              "      <td>The Daze (Feat. Madame Buttons)</td>\n",
              "      <td>2673696</td>\n",
              "      <td>[749141]</td>\n",
              "      <td>The Daze (Feat. Madame Buttons)</td>\n",
              "      <td>['GN1100']</td>\n",
              "      <td>['Syn Cole']</td>\n",
              "      <td>307672</td>\n",
              "      <td>['일렉트로니카']</td>\n",
              "      <td>26884</td>\n",
              "    </tr>\n",
              "    <tr>\n",
              "      <th>30709</th>\n",
              "      <td>['GN0703', 'GN0701']</td>\n",
              "      <td>19890320</td>\n",
              "      <td>골든 힛트곡 모음집 (사랑만은 않겠어요)</td>\n",
              "      <td>357541</td>\n",
              "      <td>[32]</td>\n",
              "      <td>아파트</td>\n",
              "      <td>['GN0700']</td>\n",
              "      <td>['윤수일']</td>\n",
              "      <td>310582</td>\n",
              "      <td>['성인가요']</td>\n",
              "      <td>28584</td>\n",
              "    </tr>\n",
              "    <tr>\n",
              "      <th>33055</th>\n",
              "      <td>[]</td>\n",
              "      <td>20191104</td>\n",
              "      <td>송가인 1st ALBUM &amp;#39;佳人&amp;#39;</td>\n",
              "      <td>10346934</td>\n",
              "      <td>[1701869]</td>\n",
              "      <td>서울의 달</td>\n",
              "      <td>['GN0700']</td>\n",
              "      <td>['송가인']</td>\n",
              "      <td>334372</td>\n",
              "      <td>['성인가요']</td>\n",
              "      <td>40647</td>\n",
              "    </tr>\n",
              "    <tr>\n",
              "      <th>35546</th>\n",
              "      <td>['GN0509', 'GN0101', 'GN0506', 'GN0501']</td>\n",
              "      <td>20170706</td>\n",
              "      <td>SPF 50 PA+++</td>\n",
              "      <td>10077259</td>\n",
              "      <td>[728044]</td>\n",
              "      <td>니가 미치도록 사랑스러운건지</td>\n",
              "      <td>['GN0500', 'GN0100']</td>\n",
              "      <td>['빌리어코스티']</td>\n",
              "      <td>359758</td>\n",
              "      <td>['인디음악', '발라드']</td>\n",
              "      <td>53224</td>\n",
              "    </tr>\n",
              "    <tr>\n",
              "      <th>36175</th>\n",
              "      <td>['GN0702', 'GN0708', 'GN0701']</td>\n",
              "      <td>20200313</td>\n",
              "      <td>내일은 미스터트롯 결승전 베스트</td>\n",
              "      <td>10402513</td>\n",
              "      <td>[753762]</td>\n",
              "      <td>찐이야</td>\n",
              "      <td>['GN0700']</td>\n",
              "      <td>['영탁']</td>\n",
              "      <td>365895</td>\n",
              "      <td>['성인가요']</td>\n",
              "      <td>56381</td>\n",
              "    </tr>\n",
              "    <tr>\n",
              "      <th>37290</th>\n",
              "      <td>['GN0701']</td>\n",
              "      <td>20020518</td>\n",
              "      <td>나미 골든히트 Vol. 1</td>\n",
              "      <td>23027</td>\n",
              "      <td>[5761]</td>\n",
              "      <td>영원한 친구</td>\n",
              "      <td>['GN0700']</td>\n",
              "      <td>['나미']</td>\n",
              "      <td>377018</td>\n",
              "      <td>['성인가요']</td>\n",
              "      <td>61799</td>\n",
              "    </tr>\n",
              "    <tr>\n",
              "      <th>38037</th>\n",
              "      <td>['GN0105', 'GN0101']</td>\n",
              "      <td>20171018</td>\n",
              "      <td>니가 없다</td>\n",
              "      <td>10103184</td>\n",
              "      <td>[1702678]</td>\n",
              "      <td>니가 없다</td>\n",
              "      <td>['GN0100']</td>\n",
              "      <td>['브이홀릭']</td>\n",
              "      <td>384848</td>\n",
              "      <td>['발라드']</td>\n",
              "      <td>65640</td>\n",
              "    </tr>\n",
              "    <tr>\n",
              "      <th>38137</th>\n",
              "      <td>['GN1806', 'GN1801']</td>\n",
              "      <td>20131213</td>\n",
              "      <td>Moment</td>\n",
              "      <td>2221194</td>\n",
              "      <td>[467880]</td>\n",
              "      <td>사랑한다는 말</td>\n",
              "      <td>['GN1800']</td>\n",
              "      <td>['스탠딩 에그']</td>\n",
              "      <td>385726</td>\n",
              "      <td>['뉴에이지']</td>\n",
              "      <td>66078</td>\n",
              "    </tr>\n",
              "    <tr>\n",
              "      <th>38981</th>\n",
              "      <td>['GN0805', 'GN0501', 'GN0502', 'GN0801', 'GN05...</td>\n",
              "      <td>20180511</td>\n",
              "      <td>소확행</td>\n",
              "      <td>10166144</td>\n",
              "      <td>[467880]</td>\n",
              "      <td>소확행</td>\n",
              "      <td>['GN0500', 'GN0800']</td>\n",
              "      <td>['스탠딩 에그']</td>\n",
              "      <td>393567</td>\n",
              "      <td>['인디음악', '포크/블루스']</td>\n",
              "      <td>215</td>\n",
              "    </tr>\n",
              "    <tr>\n",
              "      <th>39972</th>\n",
              "      <td>['GN0509', 'GN0101', 'GN0506', 'GN0501']</td>\n",
              "      <td>20180703</td>\n",
              "      <td>The Fairy Tale</td>\n",
              "      <td>10181438</td>\n",
              "      <td>[839732]</td>\n",
              "      <td>동화</td>\n",
              "      <td>['GN0500', 'GN0100']</td>\n",
              "      <td>['멜로망스']</td>\n",
              "      <td>403472</td>\n",
              "      <td>['인디음악', '발라드']</td>\n",
              "      <td>6126</td>\n",
              "    </tr>\n",
              "    <tr>\n",
              "      <th>41356</th>\n",
              "      <td>['GN0401', 'GN2502', 'GN0403', 'GN2501']</td>\n",
              "      <td>20180730</td>\n",
              "      <td>SoulMate</td>\n",
              "      <td>10189402</td>\n",
              "      <td>[602056]</td>\n",
              "      <td>SoulMate (Feat. 아이유)</td>\n",
              "      <td>['GN0400', 'GN2500']</td>\n",
              "      <td>['지코 (ZICO)']</td>\n",
              "      <td>417744</td>\n",
              "      <td>['R&amp;B/Soul', '아이돌']</td>\n",
              "      <td>14605</td>\n",
              "    </tr>\n",
              "    <tr>\n",
              "      <th>44231</th>\n",
              "      <td>['GN0401', 'GN0403']</td>\n",
              "      <td>20151130</td>\n",
              "      <td>FRANK</td>\n",
              "      <td>2653573</td>\n",
              "      <td>[698776]</td>\n",
              "      <td>우주를 건너</td>\n",
              "      <td>['GN0400']</td>\n",
              "      <td>['백예린']</td>\n",
              "      <td>446812</td>\n",
              "      <td>['R&amp;B/Soul']</td>\n",
              "      <td>31462</td>\n",
              "    </tr>\n",
              "    <tr>\n",
              "      <th>47143</th>\n",
              "      <td>['GN0702', 'GN0708', 'GN0701']</td>\n",
              "      <td>20200117</td>\n",
              "      <td>내일은 미스터트롯 예선곡 베스트</td>\n",
              "      <td>10377157</td>\n",
              "      <td>[2763924]</td>\n",
              "      <td>진또배기</td>\n",
              "      <td>['GN0700']</td>\n",
              "      <td>['이찬원']</td>\n",
              "      <td>476485</td>\n",
              "      <td>['성인가요']</td>\n",
              "      <td>46125</td>\n",
              "    </tr>\n",
              "    <tr>\n",
              "      <th>47871</th>\n",
              "      <td>['GN2503', 'GN0205', 'GN2501', 'GN2506', 'GN02...</td>\n",
              "      <td>20180626</td>\n",
              "      <td>Fun to The World</td>\n",
              "      <td>10179169</td>\n",
              "      <td>[1221596]</td>\n",
              "      <td>BAAM</td>\n",
              "      <td>['GN2500', 'GN0200']</td>\n",
              "      <td>['모모랜드 (MOMOLAND)']</td>\n",
              "      <td>483764</td>\n",
              "      <td>['아이돌', '댄스']</td>\n",
              "      <td>49704</td>\n",
              "    </tr>\n",
              "    <tr>\n",
              "      <th>48742</th>\n",
              "      <td>['GN1701', 'GN1703', 'GN1702']</td>\n",
              "      <td>20151106</td>\n",
              "      <td>Action</td>\n",
              "      <td>2649346</td>\n",
              "      <td>[428460]</td>\n",
              "      <td>Act</td>\n",
              "      <td>['GN1700']</td>\n",
              "      <td>['Master Class']</td>\n",
              "      <td>492730</td>\n",
              "      <td>['재즈']</td>\n",
              "      <td>54234</td>\n",
              "    </tr>\n",
              "    <tr>\n",
              "      <th>51042</th>\n",
              "      <td>['GN0105', 'GN0101']</td>\n",
              "      <td>20161117</td>\n",
              "      <td>1/24</td>\n",
              "      <td>10016012</td>\n",
              "      <td>[41499]</td>\n",
              "      <td>노력</td>\n",
              "      <td>['GN0100']</td>\n",
              "      <td>['박원']</td>\n",
              "      <td>516653</td>\n",
              "      <td>['발라드']</td>\n",
              "      <td>66003</td>\n",
              "    </tr>\n",
              "    <tr>\n",
              "      <th>53199</th>\n",
              "      <td>['GN0508', 'GN0501', 'GN0601', 'GN0503', 'GN06...</td>\n",
              "      <td>20091217</td>\n",
              "      <td>Sounds Good!</td>\n",
              "      <td>746051</td>\n",
              "      <td>[108707]</td>\n",
              "      <td>공원여행</td>\n",
              "      <td>['GN0500', 'GN0600']</td>\n",
              "      <td>['페퍼톤스 (Peppertones)']</td>\n",
              "      <td>538777</td>\n",
              "      <td>['인디음악', '록/메탈']</td>\n",
              "      <td>8660</td>\n",
              "    </tr>\n",
              "    <tr>\n",
              "      <th>54438</th>\n",
              "      <td>['GN1801']</td>\n",
              "      <td>20181112</td>\n",
              "      <td>별이 될게...</td>\n",
              "      <td>10220940</td>\n",
              "      <td>[945594]</td>\n",
              "      <td>Am 2:00</td>\n",
              "      <td>['GN1800']</td>\n",
              "      <td>['미리별']</td>\n",
              "      <td>551296</td>\n",
              "      <td>['뉴에이지']</td>\n",
              "      <td>16058</td>\n",
              "    </tr>\n",
              "    <tr>\n",
              "      <th>54982</th>\n",
              "      <td>['GN2601', 'GN2602']</td>\n",
              "      <td>20170125</td>\n",
              "      <td>Red Eye</td>\n",
              "      <td>10033647</td>\n",
              "      <td>[857361]</td>\n",
              "      <td>Red Eye</td>\n",
              "      <td>['GN2600']</td>\n",
              "      <td>['Red Heart']</td>\n",
              "      <td>556933</td>\n",
              "      <td>['일렉트로니카']</td>\n",
              "      <td>19391</td>\n",
              "    </tr>\n",
              "    <tr>\n",
              "      <th>55751</th>\n",
              "      <td>['GN0303', 'GN0301']</td>\n",
              "      <td>20171023</td>\n",
              "      <td>WE`VE DONE SOMETHING WONDERFUL</td>\n",
              "      <td>10105030</td>\n",
              "      <td>[108356]</td>\n",
              "      <td>빈차 (Feat. 오혁)</td>\n",
              "      <td>['GN0300']</td>\n",
              "      <td>['에픽하이 (EPIK HIGH)']</td>\n",
              "      <td>564640</td>\n",
              "      <td>['랩/힙합']</td>\n",
              "      <td>23834</td>\n",
              "    </tr>\n",
              "    <tr>\n",
              "      <th>57443</th>\n",
              "      <td>['GN2704', 'GN1102', 'GN1101']</td>\n",
              "      <td>20161105</td>\n",
              "      <td>Collage EP</td>\n",
              "      <td>2700553</td>\n",
              "      <td>[713297]</td>\n",
              "      <td>Closer (Feat. Halsey)</td>\n",
              "      <td>['GN2700', 'GN1100']</td>\n",
              "      <td>['The Chainsmokers']</td>\n",
              "      <td>581799</td>\n",
              "      <td>['EDM', '일렉트로니카']</td>\n",
              "      <td>33393</td>\n",
              "    </tr>\n",
              "    <tr>\n",
              "      <th>59963</th>\n",
              "      <td>['GN0702', 'GN0708', 'GN0701']</td>\n",
              "      <td>20200117</td>\n",
              "      <td>내일은 미스터트롯 예선곡 베스트</td>\n",
              "      <td>10377157</td>\n",
              "      <td>[2749421]</td>\n",
              "      <td>보릿고개</td>\n",
              "      <td>['GN0700']</td>\n",
              "      <td>['정동원']</td>\n",
              "      <td>607315</td>\n",
              "      <td>['성인가요']</td>\n",
              "      <td>46013</td>\n",
              "    </tr>\n",
              "    <tr>\n",
              "      <th>60075</th>\n",
              "      <td>['GN0501', 'GN0101', 'GN0506', 'GN0509']</td>\n",
              "      <td>20120907</td>\n",
              "      <td>우리가 있던 시간</td>\n",
              "      <td>2149428</td>\n",
              "      <td>[681456]</td>\n",
              "      <td>우리가 있던 시간</td>\n",
              "      <td>['GN0500', 'GN0100']</td>\n",
              "      <td>['스웨덴세탁소']</td>\n",
              "      <td>608386</td>\n",
              "      <td>['인디음악', '발라드']</td>\n",
              "      <td>46536</td>\n",
              "    </tr>\n",
              "    <tr>\n",
              "      <th>61738</th>\n",
              "      <td>['GN1003', 'GN1013', 'GN1001']</td>\n",
              "      <td>20080616</td>\n",
              "      <td>Viva La Vida Or Death And All His Friends</td>\n",
              "      <td>385861</td>\n",
              "      <td>[100260]</td>\n",
              "      <td>Viva La Vida</td>\n",
              "      <td>['GN1000']</td>\n",
              "      <td>['Coldplay']</td>\n",
              "      <td>624673</td>\n",
              "      <td>['록/메탈']</td>\n",
              "      <td>54676</td>\n",
              "    </tr>\n",
              "    <tr>\n",
              "      <th>63456</th>\n",
              "      <td>['GN0702', 'GN0708', 'GN0701']</td>\n",
              "      <td>20200313</td>\n",
              "      <td>내일은 미스터트롯 결승전 베스트</td>\n",
              "      <td>10402513</td>\n",
              "      <td>[720018]</td>\n",
              "      <td>고맙소</td>\n",
              "      <td>['GN0700']</td>\n",
              "      <td>['김호중']</td>\n",
              "      <td>642084</td>\n",
              "      <td>['성인가요']</td>\n",
              "      <td>63213</td>\n",
              "    </tr>\n",
              "    <tr>\n",
              "      <th>63567</th>\n",
              "      <td>['GN0105', 'GN0101']</td>\n",
              "      <td>20170611</td>\n",
              "      <td>어마어마한 라이브 STAGE 2</td>\n",
              "      <td>10070173</td>\n",
              "      <td>[655051]</td>\n",
              "      <td>잘해준 것 밖에 없는데</td>\n",
              "      <td>['GN0100']</td>\n",
              "      <td>['벤']</td>\n",
              "      <td>643082</td>\n",
              "      <td>['발라드']</td>\n",
              "      <td>63701</td>\n",
              "    </tr>\n",
              "    <tr>\n",
              "      <th>65745</th>\n",
              "      <td>['GN0702', 'GN0708', 'GN0701']</td>\n",
              "      <td>20181021</td>\n",
              "      <td>니가 왜 거기서 나와</td>\n",
              "      <td>10214084</td>\n",
              "      <td>[753762]</td>\n",
              "      <td>니가 왜 거기서 나와 (Narr. 고은아)</td>\n",
              "      <td>['GN0700']</td>\n",
              "      <td>['영탁']</td>\n",
              "      <td>665256</td>\n",
              "      <td>['성인가요']</td>\n",
              "      <td>5911</td>\n",
              "    </tr>\n",
              "    <tr>\n",
              "      <th>65874</th>\n",
              "      <td>['GN0205', 'GN0201']</td>\n",
              "      <td>20150327</td>\n",
              "      <td>봄처녀</td>\n",
              "      <td>2311232</td>\n",
              "      <td>[184910]</td>\n",
              "      <td>봄처녀</td>\n",
              "      <td>['GN0200']</td>\n",
              "      <td>['선우정아']</td>\n",
              "      <td>666577</td>\n",
              "      <td>['댄스']</td>\n",
              "      <td>6704</td>\n",
              "    </tr>\n",
              "    <tr>\n",
              "      <th>67428</th>\n",
              "      <td>['GN0303', 'GN0301']</td>\n",
              "      <td>20170826</td>\n",
              "      <td>쇼미더머니 6 Episode 4</td>\n",
              "      <td>10091285</td>\n",
              "      <td>[340669]</td>\n",
              "      <td>Red Sun (Feat. ZICO, Swings)</td>\n",
              "      <td>['GN0300']</td>\n",
              "      <td>['행주']</td>\n",
              "      <td>682116</td>\n",
              "      <td>['랩/힙합']</td>\n",
              "      <td>15919</td>\n",
              "    </tr>\n",
              "    <tr>\n",
              "      <th>69175</th>\n",
              "      <td>['GN0702', 'GN0708', 'GN0701']</td>\n",
              "      <td>20160324</td>\n",
              "      <td>화양연화 (花樣年華)</td>\n",
              "      <td>2675039</td>\n",
              "      <td>[418700]</td>\n",
              "      <td>엄지 척</td>\n",
              "      <td>['GN0700']</td>\n",
              "      <td>['홍진영']</td>\n",
              "      <td>700552</td>\n",
              "      <td>['성인가요']</td>\n",
              "      <td>26705</td>\n",
              "    </tr>\n",
              "    <tr>\n",
              "      <th>69609</th>\n",
              "      <td>['GN1701']</td>\n",
              "      <td>20100907</td>\n",
              "      <td>Dreams</td>\n",
              "      <td>1013651</td>\n",
              "      <td>[180128]</td>\n",
              "      <td>Fresh Morning</td>\n",
              "      <td>['GN1700']</td>\n",
              "      <td>['젠틀레인 (Gentle Rain)']</td>\n",
              "      <td>704882</td>\n",
              "      <td>['재즈']</td>\n",
              "      <td>29210</td>\n",
              "    </tr>\n",
              "  </tbody>\n",
              "</table>\n",
              "</div>"
            ],
            "text/plain": [
              "                                  song_gn_dtl_gnr_basket  ...  new_id\n",
              "1395                                          ['GN1801']  ...    8308\n",
              "2344                      ['GN0702', 'GN0708', 'GN0701']  ...   13946\n",
              "3145                                ['GN1102', 'GN1101']  ...   18749\n",
              "3234   ['GN0805', 'GN0509', 'GN0502', 'GN0801', 'GN05...  ...   19237\n",
              "4300                                ['GN1102', 'GN1101']  ...   25777\n",
              "5463                                          ['GN2601']  ...   32479\n",
              "7654   ['GN2502', 'GN2501', 'GN0303', 'GN2504', 'GN03...  ...   43590\n",
              "13653           ['GN0105', 'GN1501', 'GN0101', 'GN1504']  ...    4484\n",
              "14179           ['GN0501', 'GN0101', 'GN0506', 'GN0509']  ...    7592\n",
              "14343                               ['GN0101', 'GN0102']  ...    8559\n",
              "14493  ['GN0501', 'GN0601', 'GN0503', 'GN0606', 'GN05...  ...    9384\n",
              "15360                     ['GN0703', 'GN0708', 'GN0701']  ...   14871\n",
              "18525                               ['GN0105', 'GN0101']  ...   33234\n",
              "19310                               ['GN0105', 'GN0101']  ...   37221\n",
              "20043                     ['GN0702', 'GN0708', 'GN0701']  ...   40822\n",
              "21478  ['GN2502', 'GN0105', 'GN2501', 'GN0101', 'GN25...  ...   47820\n",
              "22308                               ['GN1806', 'GN1801']  ...   51987\n",
              "24779  ['GN2503', 'GN0205', 'GN2501', 'GN2506', 'GN02...  ...   64449\n",
              "26748           ['GN2502', 'GN2501', 'GN2506', 'GN0201']  ...    4870\n",
              "30434                               ['GN1102', 'GN1101']  ...   26884\n",
              "30709                               ['GN0703', 'GN0701']  ...   28584\n",
              "33055                                                 []  ...   40647\n",
              "35546           ['GN0509', 'GN0101', 'GN0506', 'GN0501']  ...   53224\n",
              "36175                     ['GN0702', 'GN0708', 'GN0701']  ...   56381\n",
              "37290                                         ['GN0701']  ...   61799\n",
              "38037                               ['GN0105', 'GN0101']  ...   65640\n",
              "38137                               ['GN1806', 'GN1801']  ...   66078\n",
              "38981  ['GN0805', 'GN0501', 'GN0502', 'GN0801', 'GN05...  ...     215\n",
              "39972           ['GN0509', 'GN0101', 'GN0506', 'GN0501']  ...    6126\n",
              "41356           ['GN0401', 'GN2502', 'GN0403', 'GN2501']  ...   14605\n",
              "44231                               ['GN0401', 'GN0403']  ...   31462\n",
              "47143                     ['GN0702', 'GN0708', 'GN0701']  ...   46125\n",
              "47871  ['GN2503', 'GN0205', 'GN2501', 'GN2506', 'GN02...  ...   49704\n",
              "48742                     ['GN1701', 'GN1703', 'GN1702']  ...   54234\n",
              "51042                               ['GN0105', 'GN0101']  ...   66003\n",
              "53199  ['GN0508', 'GN0501', 'GN0601', 'GN0503', 'GN06...  ...    8660\n",
              "54438                                         ['GN1801']  ...   16058\n",
              "54982                               ['GN2601', 'GN2602']  ...   19391\n",
              "55751                               ['GN0303', 'GN0301']  ...   23834\n",
              "57443                     ['GN2704', 'GN1102', 'GN1101']  ...   33393\n",
              "59963                     ['GN0702', 'GN0708', 'GN0701']  ...   46013\n",
              "60075           ['GN0501', 'GN0101', 'GN0506', 'GN0509']  ...   46536\n",
              "61738                     ['GN1003', 'GN1013', 'GN1001']  ...   54676\n",
              "63456                     ['GN0702', 'GN0708', 'GN0701']  ...   63213\n",
              "63567                               ['GN0105', 'GN0101']  ...   63701\n",
              "65745                     ['GN0702', 'GN0708', 'GN0701']  ...    5911\n",
              "65874                               ['GN0205', 'GN0201']  ...    6704\n",
              "67428                               ['GN0303', 'GN0301']  ...   15919\n",
              "69175                     ['GN0702', 'GN0708', 'GN0701']  ...   26705\n",
              "69609                                         ['GN1701']  ...   29210\n",
              "\n",
              "[50 rows x 11 columns]"
            ]
          },
          "metadata": {
            "tags": []
          },
          "execution_count": 56
        }
      ]
    },
    {
      "cell_type": "code",
      "metadata": {
        "id": "7L-k2xkHDyaR"
      },
      "source": [
        ""
      ],
      "execution_count": null,
      "outputs": []
    },
    {
      "cell_type": "code",
      "metadata": {
        "id": "7KtnTqrwDyXu"
      },
      "source": [
        ""
      ],
      "execution_count": null,
      "outputs": []
    },
    {
      "cell_type": "code",
      "metadata": {
        "id": "2NufsJ9hDyVZ"
      },
      "source": [
        ""
      ],
      "execution_count": null,
      "outputs": []
    },
    {
      "cell_type": "code",
      "metadata": {
        "id": "r9dDt1DADySZ"
      },
      "source": [
        ""
      ],
      "execution_count": null,
      "outputs": []
    },
    {
      "cell_type": "code",
      "metadata": {
        "id": "5E-zQWNXDyPk"
      },
      "source": [
        ""
      ],
      "execution_count": null,
      "outputs": []
    }
  ]
}